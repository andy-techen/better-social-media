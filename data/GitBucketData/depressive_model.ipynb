{
 "cells": [
  {
   "cell_type": "code",
   "metadata": {
    "tags": [],
    "cell_id": "00000-429209b9-e7d9-4ed6-825e-ae2b6fafc351",
    "deepnote_to_be_reexecuted": false,
    "source_hash": "f70e2e18",
    "execution_start": 1639177442776,
    "execution_millis": 19949,
    "deepnote_cell_type": "code"
   },
   "source": "!pip install gensim\n!pip install textblob",
   "execution_count": null,
   "outputs": [
    {
     "name": "stdout",
     "text": "Collecting gensim\n  Downloading gensim-4.1.2-cp37-cp37m-manylinux_2_12_x86_64.manylinux2010_x86_64.whl (24.1 MB)\n\u001b[K     |████████████████████████████████| 24.1 MB 26.1 MB/s \n\u001b[?25hRequirement already satisfied: numpy>=1.17.0 in /shared-libs/python3.7/py/lib/python3.7/site-packages (from gensim) (1.19.5)\nRequirement already satisfied: scipy>=0.18.1 in /shared-libs/python3.7/py/lib/python3.7/site-packages (from gensim) (1.7.2)\nRequirement already satisfied: smart-open>=1.8.1 in /shared-libs/python3.7/py/lib/python3.7/site-packages (from gensim) (5.2.1)\nInstalling collected packages: gensim\nSuccessfully installed gensim-4.1.2\n\u001b[33mWARNING: You are using pip version 20.1.1; however, version 21.3.1 is available.\nYou should consider upgrading via the '/root/venv/bin/python -m pip install --upgrade pip' command.\u001b[0m\nRequirement already satisfied: textblob in /shared-libs/python3.7/py/lib/python3.7/site-packages (0.17.1)\nRequirement already satisfied: nltk>=3.1; python_version >= \"3\" in /shared-libs/python3.7/py/lib/python3.7/site-packages (from textblob) (3.6.5)\nRequirement already satisfied: regex>=2021.8.3 in /shared-libs/python3.7/py/lib/python3.7/site-packages (from nltk>=3.1; python_version >= \"3\"->textblob) (2021.11.10)\nRequirement already satisfied: joblib in /shared-libs/python3.7/py/lib/python3.7/site-packages (from nltk>=3.1; python_version >= \"3\"->textblob) (1.1.0)\nRequirement already satisfied: click in /shared-libs/python3.7/py/lib/python3.7/site-packages (from nltk>=3.1; python_version >= \"3\"->textblob) (8.0.3)\nRequirement already satisfied: tqdm in /shared-libs/python3.7/py/lib/python3.7/site-packages (from nltk>=3.1; python_version >= \"3\"->textblob) (4.62.3)\nRequirement already satisfied: importlib-metadata; python_version < \"3.8\" in /shared-libs/python3.7/py-core/lib/python3.7/site-packages (from click->nltk>=3.1; python_version >= \"3\"->textblob) (4.8.2)\nRequirement already satisfied: zipp>=0.5 in /shared-libs/python3.7/py-core/lib/python3.7/site-packages (from importlib-metadata; python_version < \"3.8\"->click->nltk>=3.1; python_version >= \"3\"->textblob) (3.6.0)\nRequirement already satisfied: typing-extensions>=3.6.4; python_version < \"3.8\" in /shared-libs/python3.7/py-core/lib/python3.7/site-packages (from importlib-metadata; python_version < \"3.8\"->click->nltk>=3.1; python_version >= \"3\"->textblob) (3.10.0.2)\n\u001b[33mWARNING: You are using pip version 20.1.1; however, version 21.3.1 is available.\nYou should consider upgrading via the '/root/venv/bin/python -m pip install --upgrade pip' command.\u001b[0m\n",
     "output_type": "stream"
    }
   ]
  },
  {
   "cell_type": "code",
   "metadata": {
    "tags": [],
    "cell_id": "00001-ff7438c4-30bd-43b4-af71-0f2c64521f84",
    "deepnote_cell_type": "code"
   },
   "source": "!pip install langdetect",
   "execution_count": null,
   "outputs": []
  },
  {
   "cell_type": "code",
   "metadata": {
    "tags": [],
    "cell_id": "00002-c2e098df-a973-4d30-a892-9ece21895048",
    "deepnote_to_be_reexecuted": false,
    "source_hash": "251a5a23",
    "execution_start": 1639177486950,
    "execution_millis": 2879,
    "deepnote_cell_type": "code"
   },
   "source": "import pandas as pd\nimport numpy as np\nimport re\nfrom tqdm import tqdm\nfrom sklearn.svm import SVC\nfrom gensim.models import Word2Vec\nfrom nltk.tokenize import word_tokenize\nfrom nltk.corpus import stopwords\nfrom sklearn.metrics import accuracy_score\nimport nltk\nfrom textblob import TextBlob\nfrom langdetect import detect\nimport requests",
   "execution_count": null,
   "outputs": []
  },
  {
   "cell_type": "code",
   "metadata": {
    "tags": [],
    "cell_id": "00002-f6ddb226-7ced-4f4a-ada3-296961720ece",
    "deepnote_to_be_reexecuted": false,
    "source_hash": "a6d607b8",
    "execution_start": 1639177493140,
    "execution_millis": 811,
    "deepnote_output_heights": [
     null,
     21.1875
    ],
    "deepnote_cell_type": "code"
   },
   "source": "nltk.download('punkt')\nnltk.download('stopwords')",
   "execution_count": null,
   "outputs": [
    {
     "name": "stderr",
     "text": "[nltk_data] Downloading package punkt to /root/nltk_data...\n[nltk_data]   Unzipping tokenizers/punkt.zip.\n[nltk_data] Downloading package stopwords to /root/nltk_data...\n[nltk_data]   Unzipping corpora/stopwords.zip.\n",
     "output_type": "stream"
    },
    {
     "output_type": "execute_result",
     "execution_count": 4,
     "data": {
      "text/plain": "True"
     },
     "metadata": {}
    }
   ]
  },
  {
   "cell_type": "code",
   "metadata": {
    "tags": [],
    "cell_id": "00003-87adefa0-2157-41b7-a4e2-cf20be15d72f",
    "deepnote_to_be_reexecuted": false,
    "source_hash": "95b41733",
    "execution_start": 1639178987565,
    "execution_millis": 255,
    "deepnote_cell_type": "code"
   },
   "source": "random_train_data = pd.read_csv(\"/datasets/datd/DATD+Rand_training.csv\")\ntrain_data = pd.read_csv(\"/datasets/datd/DATD_training.csv\") #already annotated. Will be used for new models\ntest_data = pd.read_csv(\"/datasets/datd/DATD_and_DATD+Rand_test.csv\")\ntwint_depressed_tweets = pd.read_csv('twint_depressed_tweets.csv') #Need 1500 of these tweets for annotation\nregular_tweets = pd.read_csv('regular_tweets.csv')",
   "execution_count": null,
   "outputs": []
  },
  {
   "cell_type": "code",
   "metadata": {
    "tags": [],
    "cell_id": "00004-746dfe97-1fc3-4ff1-a1d1-6b37a26646c9",
    "deepnote_to_be_reexecuted": false,
    "source_hash": "55634be3",
    "execution_start": 1638666441717,
    "execution_millis": 7951,
    "deepnote_output_heights": [
     230
    ],
    "deepnote_cell_type": "code"
   },
   "source": "def get_polarity(text):\n    return TextBlob(text).sentiment.polarity\n\ntwint_depressed_tweets['sentiment'] = twint_depressed_tweets['tweet'].apply(get_polarity)",
   "execution_count": null,
   "outputs": []
  },
  {
   "cell_type": "code",
   "metadata": {
    "tags": [],
    "cell_id": "00005-a1a35ad1-177f-4fb9-a610-e013faad55f7",
    "deepnote_to_be_reexecuted": false,
    "source_hash": "6012c36d",
    "execution_start": 1639178897538,
    "execution_millis": 60,
    "deepnote_cell_type": "code"
   },
   "source": "depressive_annotated = pd.read_csv(\"depressive_annotated.csv\")",
   "execution_count": null,
   "outputs": []
  },
  {
   "cell_type": "code",
   "metadata": {
    "tags": [],
    "cell_id": "00004-cc90c4b9-e212-46fc-bb6e-a25375173433",
    "deepnote_to_be_reexecuted": false,
    "source_hash": "ca237f85",
    "execution_start": 1639178900225,
    "execution_millis": 44,
    "deepnote_output_heights": [
     21
    ],
    "deepnote_cell_type": "code"
   },
   "source": "depressive_annotated.head()",
   "execution_count": null,
   "outputs": [
    {
     "output_type": "execute_result",
     "execution_count": 20,
     "data": {
      "application/vnd.deepnote.dataframe.v2+json": {
       "row_count": 5,
       "column_count": 3,
       "columns": [
        {
         "name": "tweet",
         "dtype": "object",
         "stats": {
          "unique_count": 5,
          "nan_count": 0,
          "categories": [
           {
            "name": "I sont know who this is.  I should feel awful.   Grimes claims she removed part of her eyeball to 'cure seasonal depression'   https://twitter.com/i/events/1151147174912122880 …",
            "count": 1
           },
           {
            "name": "Why does depression always hit at the worst times.....",
            "count": 1
           },
           {
            "name": "3 others",
            "count": 3
           }
          ]
         }
        },
        {
         "name": "sentiment",
         "dtype": "float64",
         "stats": {
          "unique_count": 1,
          "nan_count": 0,
          "min": "-1.0",
          "max": "-1.0",
          "histogram": [
           {
            "bin_start": -1.5,
            "bin_end": -1.4,
            "count": 0
           },
           {
            "bin_start": -1.4,
            "bin_end": -1.3,
            "count": 0
           },
           {
            "bin_start": -1.3,
            "bin_end": -1.2,
            "count": 0
           },
           {
            "bin_start": -1.2,
            "bin_end": -1.1,
            "count": 0
           },
           {
            "bin_start": -1.1,
            "bin_end": -1,
            "count": 0
           },
           {
            "bin_start": -1,
            "bin_end": -0.8999999999999999,
            "count": 5
           },
           {
            "bin_start": -0.8999999999999999,
            "bin_end": -0.7999999999999999,
            "count": 0
           },
           {
            "bin_start": -0.7999999999999999,
            "bin_end": -0.7,
            "count": 0
           },
           {
            "bin_start": -0.7,
            "bin_end": -0.6,
            "count": 0
           },
           {
            "bin_start": -0.6,
            "bin_end": -0.5,
            "count": 0
           }
          ]
         }
        },
        {
         "name": "annotation",
         "dtype": "float64",
         "stats": {
          "unique_count": 1,
          "nan_count": 0,
          "min": "1.0",
          "max": "1.0",
          "histogram": [
           {
            "bin_start": 0.5,
            "bin_end": 0.6,
            "count": 0
           },
           {
            "bin_start": 0.6,
            "bin_end": 0.7,
            "count": 0
           },
           {
            "bin_start": 0.7,
            "bin_end": 0.8,
            "count": 0
           },
           {
            "bin_start": 0.8,
            "bin_end": 0.9,
            "count": 0
           },
           {
            "bin_start": 0.9,
            "bin_end": 1,
            "count": 0
           },
           {
            "bin_start": 1,
            "bin_end": 1.1,
            "count": 5
           },
           {
            "bin_start": 1.1,
            "bin_end": 1.2000000000000002,
            "count": 0
           },
           {
            "bin_start": 1.2000000000000002,
            "bin_end": 1.3,
            "count": 0
           },
           {
            "bin_start": 1.3,
            "bin_end": 1.4,
            "count": 0
           },
           {
            "bin_start": 1.4,
            "bin_end": 1.5,
            "count": 0
           }
          ]
         }
        },
        {
         "name": "_deepnote_index_column",
         "dtype": "int64"
        }
       ],
       "rows_top": [
        {
         "tweet": "I sont know who this is.  I should feel awful.   Grimes claims she removed part of her eyeball to '…",
         "sentiment": -1,
         "annotation": 1,
         "_deepnote_index_column": 0
        },
        {
         "tweet": "Why does depression always hit at the worst times.....",
         "sentiment": -1,
         "annotation": 1,
         "_deepnote_index_column": 1
        },
        {
         "tweet": "i see @thegreatkhalid on friday and i already know it’s gonna be THE WORST post concert depression …",
         "sentiment": -1,
         "annotation": 1,
         "_deepnote_index_column": 2
        },
        {
         "tweet": "what's the worst depression meal you've ever made ? lmk i wanna make it",
         "sentiment": -1,
         "annotation": 1,
         "_deepnote_index_column": 3
        },
        {
         "tweet": "dear ppl who r trying 2 save me, srsly, think about it a bit, \"saving\" some1 to keep living in a wo…",
         "sentiment": -1,
         "annotation": 1,
         "_deepnote_index_column": 4
        }
       ],
       "rows_bottom": null
      },
      "text/plain": "                                               tweet  sentiment  annotation\n0  I sont know who this is.  I should feel awful....       -1.0         1.0\n1  Why does depression always hit at the worst ti...       -1.0         1.0\n2  i see @thegreatkhalid on friday and i already ...       -1.0         1.0\n3  what's the worst depression meal you've ever m...       -1.0         1.0\n4  dear ppl who r trying 2 save me, srsly, think ...       -1.0         1.0",
      "text/html": "<div>\n<style scoped>\n    .dataframe tbody tr th:only-of-type {\n        vertical-align: middle;\n    }\n\n    .dataframe tbody tr th {\n        vertical-align: top;\n    }\n\n    .dataframe thead th {\n        text-align: right;\n    }\n</style>\n<table border=\"1\" class=\"dataframe\">\n  <thead>\n    <tr style=\"text-align: right;\">\n      <th></th>\n      <th>tweet</th>\n      <th>sentiment</th>\n      <th>annotation</th>\n    </tr>\n  </thead>\n  <tbody>\n    <tr>\n      <th>0</th>\n      <td>I sont know who this is.  I should feel awful....</td>\n      <td>-1.0</td>\n      <td>1.0</td>\n    </tr>\n    <tr>\n      <th>1</th>\n      <td>Why does depression always hit at the worst ti...</td>\n      <td>-1.0</td>\n      <td>1.0</td>\n    </tr>\n    <tr>\n      <th>2</th>\n      <td>i see @thegreatkhalid on friday and i already ...</td>\n      <td>-1.0</td>\n      <td>1.0</td>\n    </tr>\n    <tr>\n      <th>3</th>\n      <td>what's the worst depression meal you've ever m...</td>\n      <td>-1.0</td>\n      <td>1.0</td>\n    </tr>\n    <tr>\n      <th>4</th>\n      <td>dear ppl who r trying 2 save me, srsly, think ...</td>\n      <td>-1.0</td>\n      <td>1.0</td>\n    </tr>\n  </tbody>\n</table>\n</div>"
     },
     "metadata": {}
    }
   ]
  },
  {
   "cell_type": "code",
   "metadata": {
    "tags": [],
    "cell_id": "00008-e8ff83b8-007a-48fe-abcf-91eef4561a26",
    "deepnote_to_be_reexecuted": false,
    "source_hash": "534a61ef",
    "execution_start": 1639178902835,
    "execution_millis": 48,
    "deepnote_cell_type": "code"
   },
   "source": "depressive_annotated.dropna(subset=['tweet'], inplace=True)",
   "execution_count": null,
   "outputs": []
  },
  {
   "cell_type": "code",
   "metadata": {
    "tags": [],
    "cell_id": "00010-5b607f1d-5022-467b-9f84-4c80670077c4",
    "deepnote_to_be_reexecuted": false,
    "source_hash": "437c324b",
    "execution_start": 1639178904722,
    "execution_millis": 6,
    "deepnote_cell_type": "code"
   },
   "source": "def detectEn(tweet):\n    if len(tweet) > 10:\n        return detect(tweet)\n    else:\n        return True",
   "execution_count": null,
   "outputs": []
  },
  {
   "cell_type": "code",
   "metadata": {
    "tags": [],
    "cell_id": "00007-01633f94-48e2-4586-b61d-52e51dc26664",
    "deepnote_to_be_reexecuted": false,
    "source_hash": "4a848c9b",
    "execution_start": 1639178906772,
    "execution_millis": 43641,
    "deepnote_output_heights": [
     21
    ],
    "deepnote_cell_type": "code"
   },
   "source": "depressive_annotated_en = depressive_annotated[depressive_annotated['tweet'].apply(detectEn).eq('en')]",
   "execution_count": null,
   "outputs": []
  },
  {
   "cell_type": "code",
   "metadata": {
    "tags": [],
    "cell_id": "00012-9107d1fc-12d4-4340-9a27-cc83c18086bd",
    "deepnote_to_be_reexecuted": false,
    "source_hash": "fac55ed7",
    "execution_start": 1639178953516,
    "execution_millis": 167,
    "deepnote_cell_type": "code"
   },
   "source": "depressive_annotated_en",
   "execution_count": null,
   "outputs": [
    {
     "output_type": "execute_result",
     "execution_count": 24,
     "data": {
      "application/vnd.deepnote.dataframe.v2+json": {
       "row_count": 2634,
       "column_count": 3,
       "columns": [
        {
         "name": "tweet",
         "dtype": "object",
         "stats": {
          "unique_count": 2589,
          "nan_count": 0,
          "categories": [
           {
            "name": "\"Grimes claims she removed part of her eyeball to 'cure seasonal depression'\"   https://twitter.com/i/events/1151147174912122880 …",
            "count": 11
           },
           {
            "name": "⚡️ “Grimes claims she removed part of her eyeball to 'cure seasonal depression'”   https://twitter.com/i/moments/1151147173062615041 …",
            "count": 9
           },
           {
            "name": "2587 others",
            "count": 2614
           }
          ]
         }
        },
        {
         "name": "sentiment",
         "dtype": "float64",
         "stats": {
          "unique_count": 418,
          "nan_count": 0,
          "min": "-1.0",
          "max": "0.033333333",
          "histogram": [
           {
            "bin_start": -1,
            "bin_end": -0.8966666667,
            "count": 10
           },
           {
            "bin_start": -0.8966666667,
            "bin_end": -0.7933333334,
            "count": 12
           },
           {
            "bin_start": -0.7933333334,
            "bin_end": -0.6900000001,
            "count": 30
           },
           {
            "bin_start": -0.6900000001,
            "bin_end": -0.5866666668,
            "count": 49
           },
           {
            "bin_start": -0.5866666668,
            "bin_end": -0.48333333349999996,
            "count": 54
           },
           {
            "bin_start": -0.48333333349999996,
            "bin_end": -0.3800000001999999,
            "count": 89
           },
           {
            "bin_start": -0.3800000001999999,
            "bin_end": -0.27666666689999997,
            "count": 151
           },
           {
            "bin_start": -0.27666666689999997,
            "bin_end": -0.17333333359999992,
            "count": 217
           },
           {
            "bin_start": -0.17333333359999992,
            "bin_end": -0.07000000029999986,
            "count": 331
           },
           {
            "bin_start": -0.07000000029999986,
            "bin_end": 0.033333333,
            "count": 1691
           }
          ]
         }
        },
        {
         "name": "annotation",
         "dtype": "float64",
         "stats": {
          "unique_count": 2,
          "nan_count": 0,
          "min": "0.0",
          "max": "1.0",
          "histogram": [
           {
            "bin_start": 0,
            "bin_end": 0.1,
            "count": 665
           },
           {
            "bin_start": 0.1,
            "bin_end": 0.2,
            "count": 0
           },
           {
            "bin_start": 0.2,
            "bin_end": 0.30000000000000004,
            "count": 0
           },
           {
            "bin_start": 0.30000000000000004,
            "bin_end": 0.4,
            "count": 0
           },
           {
            "bin_start": 0.4,
            "bin_end": 0.5,
            "count": 0
           },
           {
            "bin_start": 0.5,
            "bin_end": 0.6000000000000001,
            "count": 0
           },
           {
            "bin_start": 0.6000000000000001,
            "bin_end": 0.7000000000000001,
            "count": 0
           },
           {
            "bin_start": 0.7000000000000001,
            "bin_end": 0.8,
            "count": 0
           },
           {
            "bin_start": 0.8,
            "bin_end": 0.9,
            "count": 0
           },
           {
            "bin_start": 0.9,
            "bin_end": 1,
            "count": 1969
           }
          ]
         }
        },
        {
         "name": "_deepnote_index_column",
         "dtype": "int64"
        }
       ],
       "rows_top": [
        {
         "tweet": "I sont know who this is.  I should feel awful.   Grimes claims she removed part of her eyeball to '…",
         "sentiment": -1,
         "annotation": 1,
         "_deepnote_index_column": 0
        },
        {
         "tweet": "Why does depression always hit at the worst times.....",
         "sentiment": -1,
         "annotation": 1,
         "_deepnote_index_column": 1
        },
        {
         "tweet": "i see @thegreatkhalid on friday and i already know it’s gonna be THE WORST post concert depression …",
         "sentiment": -1,
         "annotation": 1,
         "_deepnote_index_column": 2
        },
        {
         "tweet": "what's the worst depression meal you've ever made ? lmk i wanna make it",
         "sentiment": -1,
         "annotation": 1,
         "_deepnote_index_column": 3
        },
        {
         "tweet": "dear ppl who r trying 2 save me, srsly, think about it a bit, \"saving\" some1 to keep living in a wo…",
         "sentiment": -1,
         "annotation": 1,
         "_deepnote_index_column": 4
        },
        {
         "tweet": "I've talked about living with #depression, but living with #OCD (diagnosed) is one of the worst gif…",
         "sentiment": -1,
         "annotation": 1,
         "_deepnote_index_column": 5
        },
        {
         "tweet": "Depression is one of the worst things to have to deal with",
         "sentiment": -1,
         "annotation": 1,
         "_deepnote_index_column": 6
        },
        {
         "tweet": "When I asked around it turns out she has been screwing people for tickets and stuff like that.  She…",
         "sentiment": -1,
         "annotation": 1,
         "_deepnote_index_column": 7
        },
        {
         "tweet": "This attitude is the reason why depression and suicide are in the worst position in our history.",
         "sentiment": -1,
         "annotation": 1,
         "_deepnote_index_column": 8
        },
        {
         "tweet": "People has a story up about some girl getting part of her eye removed to relieve “seasonal depressi…",
         "sentiment": -1,
         "annotation": 1,
         "_deepnote_index_column": 9
        },
        {
         "tweet": "y’all don’t know depression or stress so please stop complaining on the socials ab irrelevant ass p…",
         "sentiment": -0.87890625,
         "annotation": 1,
         "_deepnote_index_column": 11
        },
        {
         "tweet": "was about to watch it, I hate depression guess I wont xd",
         "sentiment": -0.8,
         "annotation": 1,
         "_deepnote_index_column": 12
        },
        {
         "tweet": "I really hate that today my depression got on me.  People just don't understand when you suffer dep…",
         "sentiment": -0.8,
         "annotation": 1,
         "_deepnote_index_column": 13
        },
        {
         "tweet": "Hate depression and anxiety.",
         "sentiment": -0.8,
         "annotation": 1,
         "_deepnote_index_column": 15
        },
        {
         "tweet": "tbh do u want to rank up anyway its like asking for depression with no benefits",
         "sentiment": -0.8,
         "annotation": 1,
         "_deepnote_index_column": 16
        },
        {
         "tweet": "They never made his depression or ptsd into humor, y’all are so annoying tryna be hurt by everythin…",
         "sentiment": -0.8,
         "annotation": 1,
         "_deepnote_index_column": 18
        },
        {
         "tweet": "I hate the days where you just feel lost, even when you know what you are doing. #depression #thegr…",
         "sentiment": -0.8,
         "annotation": 1,
         "_deepnote_index_column": 21
        },
        {
         "tweet": "I hate when my anxiety/depression sneaks up on me while I’m at work, like can you wait till we’re h…",
         "sentiment": -0.8,
         "annotation": 1,
         "_deepnote_index_column": 22
        },
        {
         "tweet": "I don't want to do something stupid offline, but I just don't care about the consequences of my act…",
         "sentiment": -0.8,
         "annotation": 1,
         "_deepnote_index_column": 23
        },
        {
         "tweet": "Making stupid songs to cure my seasonal depression.  pic.twitter.com/Lx89kxntOz",
         "sentiment": -0.8,
         "annotation": 1,
         "_deepnote_index_column": 24
        },
        {
         "tweet": "I'm too stupid to get depression",
         "sentiment": -0.8,
         "annotation": 1,
         "_deepnote_index_column": 25
        },
        {
         "tweet": "Depression is so stupid",
         "sentiment": -0.8,
         "annotation": 1,
         "_deepnote_index_column": 26
        },
        {
         "tweet": "\"I don't believe you're mentally ill because everyone says they have depression nowadays!!' is some…",
         "sentiment": -0.78125,
         "annotation": 1,
         "_deepnote_index_column": 27
        },
        {
         "tweet": "Don’t you hate when you can feel your self hate and depression getting bad again? Cuz I do",
         "sentiment": -0.766666667,
         "annotation": 1,
         "_deepnote_index_column": 28
        },
        {
         "tweet": "//Depression creeping up on me like:  ((If y'all need me imma be on Discord))  pic.twitter.com/ZByD…",
         "sentiment": -0.75,
         "annotation": 1,
         "_deepnote_index_column": 29
        },
        {
         "tweet": "this is why suicide awareness should be a thing!!! depression hits any age :(  https://twitter.com/…",
         "sentiment": -0.75,
         "annotation": 1,
         "_deepnote_index_column": 30
        },
        {
         "tweet": "Nalulungkot nanaman ako, another case of suicide because of depression. :(  https://twitter.com/Sid…",
         "sentiment": -0.75,
         "annotation": 1,
         "_deepnote_index_column": 31
        },
        {
         "tweet": "Whoever is wondering about removing part of your eye to cure seasonal depression, DONT FUCKING DO I…",
         "sentiment": -0.75,
         "annotation": 1,
         "_deepnote_index_column": 34
        },
        {
         "tweet": "My bf says “you just choose to be miserable and sad all the time” when I bring up my depression 😶",
         "sentiment": -0.75,
         "annotation": 1,
         "_deepnote_index_column": 35
        },
        {
         "tweet": "I suffer panic attacks! I believe U! Is the worst shit, and in my case add depression! The worst co…",
         "sentiment": -0.75,
         "annotation": 1,
         "_deepnote_index_column": 36
        },
        {
         "tweet": "#Bitcoin went from basically being ignored by US government to a 'National Security Risk'. Remember…",
         "sentiment": -0.733333333,
         "annotation": 0,
         "_deepnote_index_column": 37
        },
        {
         "tweet": "So upset I won’t be in Europe this summer I’m having sick fomo and severe depression.",
         "sentiment": -0.714285714,
         "annotation": 1,
         "_deepnote_index_column": 38
        },
        {
         "tweet": "being sick is so wack it makes me go into depression☹️",
         "sentiment": -0.714285714,
         "annotation": 1,
         "_deepnote_index_column": 39
        },
        {
         "tweet": "can this depression go away already? im so sick of feeling like this.🥺😭😔",
         "sentiment": -0.714285714,
         "annotation": 1,
         "_deepnote_index_column": 40
        },
        {
         "tweet": "no, it’s disrespectful to all people who have felt with suicide to show a scene that can trigger so…",
         "sentiment": -0.707142857,
         "annotation": 1,
         "_deepnote_index_column": 41
        },
        {
         "tweet": "Depression is a stank ugly bitch",
         "sentiment": -0.7,
         "annotation": 1,
         "_deepnote_index_column": 42
        },
        {
         "tweet": "Depression is anger without enthusiasm. - Steven C",
         "sentiment": -0.7,
         "annotation": 1,
         "_deepnote_index_column": 44
        },
        {
         "tweet": "I'm exhausted. Depression and anxiety are horrible",
         "sentiment": -0.7,
         "annotation": 1,
         "_deepnote_index_column": 45
        },
        {
         "tweet": "Tired of everyone telling me what I can and cannot do. I think my depression is turning into anger …",
         "sentiment": -0.7,
         "annotation": 1,
         "_deepnote_index_column": 46
        },
        {
         "tweet": "Post note: I was there in the 90's, bad depression.  Not too bad now.",
         "sentiment": -0.7,
         "annotation": 1,
         "_deepnote_index_column": 47
        },
        {
         "tweet": "It depends on what its caused by. Could be diet , activity level, a chemical imbalance like depress…",
         "sentiment": -0.7,
         "annotation": 0,
         "_deepnote_index_column": 48
        },
        {
         "tweet": "The Dementors in Harry Potter were meant to symbolize J.K. Rowling's depression. Too bad my patronu…",
         "sentiment": -0.7,
         "annotation": 0,
         "_deepnote_index_column": 49
        },
        {
         "tweet": "Lost almost 10lbs this week so I guess depression isn’t all that bad  pic.twitter.com/8uRJNacXYO",
         "sentiment": -0.7,
         "annotation": 1,
         "_deepnote_index_column": 50
        },
        {
         "tweet": "i was just telling her why anon said skz made jokes about depression ...... i didn’t say anything b…",
         "sentiment": -0.7,
         "annotation": 1,
         "_deepnote_index_column": 51
        },
        {
         "tweet": "I've got pre birthday depression BAD",
         "sentiment": -0.7,
         "annotation": 1,
         "_deepnote_index_column": 52
        },
        {
         "tweet": "History shows Americans who speak out against the \"way things are\" are attempting to make things be…",
         "sentiment": -0.7,
         "annotation": 0,
         "_deepnote_index_column": 53
        },
        {
         "tweet": "I’m not the one who has depression a lot. But man when I get it forget how bad it is. I never wish …",
         "sentiment": -0.7,
         "annotation": 1,
         "_deepnote_index_column": 54
        },
        {
         "tweet": "My coworker was dragging people with depression and saying medication doesn't work and I wanna quit…",
         "sentiment": -0.7,
         "annotation": 1,
         "_deepnote_index_column": 55
        },
        {
         "tweet": "Is my period gonna start soon or is my depression getting bad again",
         "sentiment": -0.7,
         "annotation": 1,
         "_deepnote_index_column": 56
        },
        {
         "tweet": "someone should,,,,talk to me,,,,bc my depression just SPIKED badly",
         "sentiment": -0.7,
         "annotation": 1,
         "_deepnote_index_column": 57
        },
        {
         "tweet": "Depression or Chronic Fatigue syndrome. Either way both are bad  pic.twitter.com/cJPQfCLJ2H",
         "sentiment": -0.7,
         "annotation": 1,
         "_deepnote_index_column": 58
        },
        {
         "tweet": "Kana gets to call me bad words and Corrin just scolds her, I say bad words and I give my dad depres…",
         "sentiment": -0.7,
         "annotation": 1,
         "_deepnote_index_column": 59
        },
        {
         "tweet": "Impossible when you have anxiety and depression 💁‍♀️",
         "sentiment": -0.666666667,
         "annotation": 1,
         "_deepnote_index_column": 61
        },
        {
         "tweet": "“There is a lot of truth in depression; life is very difficult for all of us.”",
         "sentiment": -0.65,
         "annotation": 1,
         "_deepnote_index_column": 62
        },
        {
         "tweet": "I have a weird depression and like im worthless and stuff hanging over me",
         "sentiment": -0.65,
         "annotation": 1,
         "_deepnote_index_column": 63
        },
        {
         "tweet": "My depression has made me so selfish and unlovable, I hate that. Why do I do this to myself",
         "sentiment": -0.65,
         "annotation": 1,
         "_deepnote_index_column": 64
        },
        {
         "tweet": "Depression would be the worst transmitted disease, cuz at least for me it makes me isolate myself 😂",
         "sentiment": -0.65,
         "annotation": 1,
         "_deepnote_index_column": 65
        },
        {
         "tweet": "I have also thought this before, during my worst moments. One of the very worst things about depres…",
         "sentiment": -0.64,
         "annotation": 1,
         "_deepnote_index_column": 66
        },
        {
         "tweet": "Poor girl cut part of her eye to cure her depression! She could have just got cognitive behaviour t…",
         "sentiment": -0.625,
         "annotation": 1,
         "_deepnote_index_column": 67
        },
        {
         "tweet": "the secret to losing weight is depression ladies!!",
         "sentiment": -0.625,
         "annotation": 1,
         "_deepnote_index_column": 68
        },
        {
         "tweet": "If you’re hungry and cold with no roof over your head and no place to sleep, depression would not e…",
         "sentiment": -0.6,
         "annotation": 1,
         "_deepnote_index_column": 70
        },
        {
         "tweet": "I will prevail and hold together.  #nevergiveup #depression #animeart #iwontgiveup #art #digitalart…",
         "sentiment": -0.6,
         "annotation": 1,
         "_deepnote_index_column": 71
        },
        {
         "tweet": "Feelsbadman depression is a fucking whore",
         "sentiment": -0.6,
         "annotation": 1,
         "_deepnote_index_column": 72
        },
        {
         "tweet": "Like these nowadays are claiming depression at the age of 12 it’s crazy 😂😂😂",
         "sentiment": -0.6,
         "annotation": 1,
         "_deepnote_index_column": 73
        },
        {
         "tweet": "kinda tw// depression  SOMEONE MADE A FUCKING DEPRESSIVE MEME WITH TOM AND JERRY BYE  pic.twitter.c…",
         "sentiment": -0.6,
         "annotation": 1,
         "_deepnote_index_column": 74
        },
        {
         "tweet": "damn..nobody in family believes that i have depression, and that made me start to think that i was …",
         "sentiment": -0.6,
         "annotation": 1,
         "_deepnote_index_column": 75
        },
        {
         "tweet": "Grimes removed part of her eyeball to combat seasonal depression. I'm thinking about getting a lobo…",
         "sentiment": -0.6,
         "annotation": 1,
         "_deepnote_index_column": 76
        },
        {
         "tweet": "books would always save me, crazy how depression devours you",
         "sentiment": -0.6,
         "annotation": 1,
         "_deepnote_index_column": 77
        },
        {
         "tweet": "the worst part isi. Dont know why im so tired. is it my meds? is my depression worse than i thought…",
         "sentiment": -0.6,
         "annotation": 1,
         "_deepnote_index_column": 78
        },
        {
         "tweet": "i don’t think that’s the case i think today’s society deals with a lot of anger and depression from…",
         "sentiment": -0.6,
         "annotation": 1,
         "_deepnote_index_column": 79
        },
        {
         "tweet": "I’m at the bottom of a depression wave rn and it’s fucking me up 👍",
         "sentiment": -0.6,
         "annotation": 1,
         "_deepnote_index_column": 80
        },
        {
         "tweet": "How swimming in cold water could treat depression  http://bit.ly/2GsgBZB  pic.twitter.com/fSXBSohtwc",
         "sentiment": -0.6,
         "annotation": 1,
         "_deepnote_index_column": 81
        },
        {
         "tweet": "Bubba got me at bdubs and I smell the depression and steroids in the chicken",
         "sentiment": -0.6,
         "annotation": 1,
         "_deepnote_index_column": 82
        },
        {
         "tweet": "I need help. Or I afraid of that I will end my life I had depression since preparing for entrance e…",
         "sentiment": -0.6,
         "annotation": 1,
         "_deepnote_index_column": 83
        },
        {
         "tweet": "taco bell decided to put chicken in my quesadilla and ruin my depression meal  pic.twitter.com/peKE…",
         "sentiment": -0.6,
         "annotation": 1,
         "_deepnote_index_column": 84
        },
        {
         "tweet": "Is laughing hysterically while crying a sign of depression? Asking for a friend.",
         "sentiment": -0.6,
         "annotation": 1,
         "_deepnote_index_column": 85
        },
        {
         "tweet": "This the sweetest thing I seen somebody do for somebody that suffers from depression  https://twitt…",
         "sentiment": -0.6,
         "annotation": 1,
         "_deepnote_index_column": 86
        },
        {
         "tweet": "he literally just fucking said it doesnt justify murder he just pointing it out.",
         "sentiment": -0.6,
         "annotation": 0,
         "_deepnote_index_column": 87
        },
        {
         "tweet": "Crazy how @TremblerHTX cured my depression, diabetes, and osteoporosis all in one night",
         "sentiment": -0.6,
         "annotation": 1,
         "_deepnote_index_column": 88
        },
        {
         "tweet": "Did you know that each coffee cup you drink, you have an 8% chance of not developing depression   I…",
         "sentiment": -0.6,
         "annotation": 1,
         "_deepnote_index_column": 89
        },
        {
         "tweet": "my superpower: i wear sandals and everyone within a 20 foot radius is overcome with inexplicable de…",
         "sentiment": -0.6,
         "annotation": 0,
         "_deepnote_index_column": 90
        },
        {
         "tweet": "Remember when you didn’t know what depression was? Now it’s all I can think about and how I feel nu…",
         "sentiment": -0.6,
         "annotation": 1,
         "_deepnote_index_column": 91
        },
        {
         "tweet": "Ion ever feel depression bruh I just feel fucking insanity",
         "sentiment": -0.6,
         "annotation": 1,
         "_deepnote_index_column": 92
        },
        {
         "tweet": "I need to move out of cold ass winter having Canada. I’m already getting seasonal depression thinki…",
         "sentiment": -0.6,
         "annotation": 1,
         "_deepnote_index_column": 93
        },
        {
         "tweet": "Depression fucking sucks...no energy no motivation no passion",
         "sentiment": -0.6,
         "annotation": 1,
         "_deepnote_index_column": 94
        },
        {
         "tweet": "Things that would cure my depression: if I didn’t have a fucking Harry Potter scar on my mother fuc…",
         "sentiment": -0.6,
         "annotation": 1,
         "_deepnote_index_column": 95
        },
        {
         "tweet": "So fucking depression",
         "sentiment": -0.6,
         "annotation": 1,
         "_deepnote_index_column": 96
        },
        {
         "tweet": "why am i fucking depressed  go away depression",
         "sentiment": -0.6,
         "annotation": 1,
         "_deepnote_index_column": 98
        },
        {
         "tweet": "also gives me a distraction from crippling fucking depression so yay me.",
         "sentiment": -0.6,
         "annotation": 1,
         "_deepnote_index_column": 99
        },
        {
         "tweet": "I know the feeling, it's not depression but a heavy and grudging acceptance of boring normality",
         "sentiment": -0.6,
         "annotation": 1,
         "_deepnote_index_column": 100
        },
        {
         "tweet": "once i broke up with a therapist because she kept asking me why i wa so angry and i came to realize…",
         "sentiment": -0.6,
         "annotation": 1,
         "_deepnote_index_column": 101
        },
        {
         "tweet": "Grimes had fucking eye surgery for her seasonal depression  pic.twitter.com/DTi9L7EKbM",
         "sentiment": -0.6,
         "annotation": 1,
         "_deepnote_index_column": 102
        },
        {
         "tweet": "Ya my fucking depression  pic.twitter.com/cQCste0cxz",
         "sentiment": -0.6,
         "annotation": 1,
         "_deepnote_index_column": 103
        },
        {
         "tweet": "Thank you, Ms Nicholson! I have always thought this. As someone who suffers with chronic depression…",
         "sentiment": -0.6,
         "annotation": 1,
         "_deepnote_index_column": 104
        },
        {
         "tweet": "Manic depression got me fucked up",
         "sentiment": -0.6,
         "annotation": 1,
         "_deepnote_index_column": 107
        },
        {
         "tweet": "This depression episode is really fucked up",
         "sentiment": -0.6,
         "annotation": 1,
         "_deepnote_index_column": 108
        },
        {
         "tweet": "As someone who suffers from bouts of depression, I'll leave this here for anyone else who may benef…",
         "sentiment": -0.6,
         "annotation": 1,
         "_deepnote_index_column": 109
        },
        {
         "tweet": "Your tweet is over simplified and potentially dangerous to those suffering with depression. To sugg…",
         "sentiment": -0.6,
         "annotation": 1,
         "_deepnote_index_column": 110
        },
        {
         "tweet": "Eating a cold chicken breast + pickle relish for dinner. #thisiswhatdepressionlookslike #depression",
         "sentiment": -0.6,
         "annotation": 1,
         "_deepnote_index_column": 111
        },
        {
         "tweet": "depression some days be like.... bad .... u feel me? *sad clown honk*",
         "sentiment": -0.6,
         "annotation": 1,
         "_deepnote_index_column": 112
        },
        {
         "tweet": "I’m sorry ): i was just having a bad day w depression",
         "sentiment": -0.6,
         "annotation": 1,
         "_deepnote_index_column": 113
        },
        {
         "tweet": "my depression is hitting especially hard tonight boys",
         "sentiment": -0.583333333,
         "annotation": 1,
         "_deepnote_index_column": 114
        },
        {
         "tweet": "My hopeless depression and anxiety have been turned into furious anger and spite. Is it progress? W…",
         "sentiment": -0.55,
         "annotation": 1,
         "_deepnote_index_column": 115
        },
        {
         "tweet": "Feeling unbelievably overwhelmed with grief, depression and anxiety. I can’t see past it. #grief #d…",
         "sentiment": -0.525,
         "annotation": 1,
         "_deepnote_index_column": 116
        },
        {
         "tweet": "depression sucks. if all i ever do is talk about how sad i am and how much i hate myself, all my fr…",
         "sentiment": -0.525,
         "annotation": 1,
         "_deepnote_index_column": 117
        },
        {
         "tweet": "You aren't that bad, your depression is just mean.",
         "sentiment": -0.50625,
         "annotation": 1,
         "_deepnote_index_column": 118
        },
        {
         "tweet": "Sadness, anger, depression, all have negative effects on your insulin levels. Keep them stable and …",
         "sentiment": -0.5,
         "annotation": 1,
         "_deepnote_index_column": 119
        },
        {
         "tweet": "why is depression a thing, i’m sad",
         "sentiment": -0.5,
         "annotation": 1,
         "_deepnote_index_column": 120
        },
        {
         "tweet": "me: takes quizzes because i am bored quizzes: you suffer from severe depression we advise that you …",
         "sentiment": -0.5,
         "annotation": 1,
         "_deepnote_index_column": 121
        },
        {
         "tweet": "Big difference between “suffering from” and “living with” depression. Both are terrible.",
         "sentiment": -0.5,
         "annotation": 1,
         "_deepnote_index_column": 122
        },
        {
         "tweet": "i wish I never started taking antidepressants. they’ve done nothing to help but coming off of them …",
         "sentiment": -0.5,
         "annotation": 1,
         "_deepnote_index_column": 123
        },
        {
         "tweet": "whenever I’m sad I just think “appa yip yip” and then depression=cured",
         "sentiment": -0.5,
         "annotation": 1,
         "_deepnote_index_column": 125
        },
        {
         "tweet": "Thats the problem. Depression is not an illness. Its a fake illness to get you to take drugs and be…",
         "sentiment": -0.5,
         "annotation": 1,
         "_deepnote_index_column": 126
        },
        {
         "tweet": "Dealing with anxiety and depression is horrible enough on its own....but when your life is falling …",
         "sentiment": -0.5,
         "annotation": 1,
         "_deepnote_index_column": 128
        },
        {
         "tweet": "how y’all look defending 13rw and it’s blatant disregard to portraying depression & suicide  pic.tw…",
         "sentiment": -0.5,
         "annotation": 1,
         "_deepnote_index_column": 129
        },
        {
         "tweet": "I agree. This causes embarrassment now he goes to school viral for the wrong thing. Leads into depr…",
         "sentiment": -0.5,
         "annotation": 1,
         "_deepnote_index_column": 130
        },
        {
         "tweet": "Depression is on the rise among Gen Z — and teen girls are experiencing the worst of it  http://dlv…",
         "sentiment": -0.5,
         "annotation": 1,
         "_deepnote_index_column": 131
        },
        {
         "tweet": "You don't ever have to be sorry. Depression is a bastard of a thing.",
         "sentiment": -0.5,
         "annotation": 1,
         "_deepnote_index_column": 132
        },
        {
         "tweet": "tw// removing a body part??  if all i had to do to cure my depression is remove a piece of my eyeba…",
         "sentiment": -0.5,
         "annotation": 1,
         "_deepnote_index_column": 133
        },
        {
         "tweet": "Wtf is seasonal depression?",
         "sentiment": -0.5,
         "annotation": 1,
         "_deepnote_index_column": 134
        },
        {
         "tweet": "Sorry you're going through a difficult time.  Depression, anxiety, or writer's block?  pic.twitter.…",
         "sentiment": -0.5,
         "annotation": 1,
         "_deepnote_index_column": 135
        },
        {
         "tweet": "Depression randomly kicked in.",
         "sentiment": -0.5,
         "annotation": 1,
         "_deepnote_index_column": 136
        },
        {
         "tweet": "literally everything is putting me on the verge of tears like i see a tweet that prob isn’t sad to …",
         "sentiment": -0.5,
         "annotation": 1,
         "_deepnote_index_column": 137
        },
        {
         "tweet": "tw suicide/depression etc  I HaVe A dEgReE iN PsYcHoLoGy aNd SuIcIdAl ThOuGhTs AnD BeHaViOuRs ArE r…",
         "sentiment": -0.5,
         "annotation": 1,
         "_deepnote_index_column": 138
        },
        {
         "tweet": "This isn’t some depression stuff either like I’m just 🥺🥺🥺 it’s sad bitch hours for me I guess 🥺🥺🥺",
         "sentiment": -0.5,
         "annotation": 1,
         "_deepnote_index_column": 139
        },
        {
         "tweet": "A bitch do me wrong and I’m running her into the deepest depression",
         "sentiment": -0.5,
         "annotation": 1,
         "_deepnote_index_column": 140
        },
        {
         "tweet": "FRANK’S DEPRESSION  —Whisky & Robots  by Bucky Sinister (Gorsky Press Pocket Poetry)  pic.twitter.c…",
         "sentiment": -0.5,
         "annotation": 0,
         "_deepnote_index_column": 141
        },
        {
         "tweet": "@anne_theriault @undersiegexo While I get sad at times I can't imagine what someone suffering from …",
         "sentiment": -0.5,
         "annotation": 1,
         "_deepnote_index_column": 142
        },
        {
         "tweet": "The content y’all followed me for: astrology memes The content y’all got: depression tweets and sad…",
         "sentiment": -0.5,
         "annotation": 1,
         "_deepnote_index_column": 143
        },
        {
         "tweet": "ppl with depression be like omg im still here because of my fried they supported me and I was so sh…",
         "sentiment": -0.5,
         "annotation": 1,
         "_deepnote_index_column": 144
        },
        {
         "tweet": "I find it interesting that all the tech bro oligarchs in the spotlight are endorsing batshit insane…",
         "sentiment": -0.5,
         "annotation": 1,
         "_deepnote_index_column": 145
        },
        {
         "tweet": "Read our advice at  http://www.AskDrM.org  on these topics: friends who became bullies, a parent co…",
         "sentiment": -0.5,
         "annotation": 1,
         "_deepnote_index_column": 147
        },
        {
         "tweet": "my dick game is atrocious, but depression game is ferocious",
         "sentiment": -0.5,
         "annotation": 1,
         "_deepnote_index_column": 148
        },
        {
         "tweet": "Depression are there and I'm bored 🤔hmmm",
         "sentiment": -0.5,
         "annotation": 1,
         "_deepnote_index_column": 149
        },
        {
         "tweet": "Depressed people don't lay in bed because they are sad, they lay in bed because there is nowhere el…",
         "sentiment": -0.5,
         "annotation": 1,
         "_deepnote_index_column": 150
        },
        {
         "tweet": "I’ve been inconveniently sad for two days. Must be depression",
         "sentiment": -0.5,
         "annotation": 1,
         "_deepnote_index_column": 151
        },
        {
         "tweet": "I'm sad now but just wait till I hear milly or lin talking about promotions.. THAT will be my peak …",
         "sentiment": -0.5,
         "annotation": 1,
         "_deepnote_index_column": 152
        },
        {
         "tweet": "You. Are. Not. Alone. You got this and even if u think it's gonna be forever until death, you're wr…",
         "sentiment": -0.5,
         "annotation": 1,
         "_deepnote_index_column": 153
        },
        {
         "tweet": "Depression will literally blind you from acknowledging all of the blessing in front of you. God for…",
         "sentiment": -0.5,
         "annotation": 1,
         "_deepnote_index_column": 154
        },
        {
         "tweet": "What a sad news to wake up to.. Lord pls forgive my cousin😢 Depression isn’t a joke 😪",
         "sentiment": -0.5,
         "annotation": 1,
         "_deepnote_index_column": 155
        },
        {
         "tweet": "Depression: Coping with particularly difficult mornings  http://bit.ly/2viMBvQ  Mentalhealth pic.tw…",
         "sentiment": -0.5,
         "annotation": 1,
         "_deepnote_index_column": 156
        },
        {
         "tweet": "weird that the concert depression still hasn't hit me",
         "sentiment": -0.5,
         "annotation": 1,
         "_deepnote_index_column": 157
        },
        {
         "tweet": "She said why you sad that’s just depression",
         "sentiment": -0.5,
         "annotation": 1,
         "_deepnote_index_column": 158
        },
        {
         "tweet": "Maybe i read the article wrong but there’s an article saying this chick removed part of her eye to …",
         "sentiment": -0.5,
         "annotation": 1,
         "_deepnote_index_column": 159
        },
        {
         "tweet": "Depression is so weird ,,  gained 30lbs in 8 months for over eating ,, now I wont even eat 🙃",
         "sentiment": -0.5,
         "annotation": 1,
         "_deepnote_index_column": 160
        },
        {
         "tweet": "Level of depression: picked up lint roller but was too sad to roll.",
         "sentiment": -0.5,
         "annotation": 1,
         "_deepnote_index_column": 161
        },
        {
         "tweet": "listening to my depression playlist when i ain’t even sad  pic.twitter.com/0QE24ZRMmR",
         "sentiment": -0.5,
         "annotation": 1,
         "_deepnote_index_column": 162
        },
        {
         "tweet": "well if you watched druck you've seen matteo had some type of internalized homophobia and depressio…",
         "sentiment": -0.5,
         "annotation": 1,
         "_deepnote_index_column": 163
        },
        {
         "tweet": "Como sea fake I will kiss kiss fall into depression",
         "sentiment": -0.5,
         "annotation": 1,
         "_deepnote_index_column": 164
        },
        {
         "tweet": "I do scared that people will bored of me because I have a severe depression for like once in two mo…",
         "sentiment": -0.5,
         "annotation": 1,
         "_deepnote_index_column": 165
        },
        {
         "tweet": "Me on the daily🤷‍♂️🥴😶 #twitch #twitchaffiliate #TwitchStreamers #sad #depression  pic.twitter.com/x…",
         "sentiment": -0.5,
         "annotation": 1,
         "_deepnote_index_column": 166
        },
        {
         "tweet": "Its so sad that we are living in an era that is plagued with depression.",
         "sentiment": -0.5,
         "annotation": 1,
         "_deepnote_index_column": 167
        },
        {
         "tweet": "depression is bad lately gg",
         "sentiment": -0.5,
         "annotation": 1,
         "_deepnote_index_column": 168
        },
        {
         "tweet": "im the bad guy... dad: no sister: no bro: no girlfriend: no Taehyung: NO my depression: no FBI: no …",
         "sentiment": -0.5,
         "annotation": 1,
         "_deepnote_index_column": 169
        },
        {
         "tweet": "When you’re trying so hard to pretend your depression isn’t triggered so badly.",
         "sentiment": -0.495833333,
         "annotation": 1,
         "_deepnote_index_column": 170
        },
        {
         "tweet": "So I’m not the only person with seasonal depression. That’s actually crazy cause I absolutely hate …",
         "sentiment": -0.466666667,
         "annotation": 1,
         "_deepnote_index_column": 171
        },
        {
         "tweet": "Fuck a bitch named anxiety. And her fake ass friend depression too.",
         "sentiment": -0.45,
         "annotation": 1,
         "_deepnote_index_column": 172
        },
        {
         "tweet": "During my time in Orlando I was having the time of my life but once I got off & went back to my apa…",
         "sentiment": -0.45,
         "annotation": 1,
         "_deepnote_index_column": 173
        },
        {
         "tweet": "Worst depression snack by far is roasted seaweed and chocolate syrup",
         "sentiment": -0.45,
         "annotation": 1,
         "_deepnote_index_column": 174
        },
        {
         "tweet": "the amount of money i spent for impulsive depression purchases in the past months is insane",
         "sentiment": -0.45,
         "annotation": 1,
         "_deepnote_index_column": 175
        },
        {
         "tweet": "Sigh I feel like a depression is coming this week ☹️ I feel really sad and tired  pic.twitter.com/o…",
         "sentiment": -0.45,
         "annotation": 1,
         "_deepnote_index_column": 176
        },
        {
         "tweet": "Fuck depression im goin blind this winter   https://twitter.com/i/events/1151147174912122880 …",
         "sentiment": -0.45,
         "annotation": 1,
         "_deepnote_index_column": 177
        },
        {
         "tweet": "Then they shouldn't watch it. That's the point of the warning.  Not everything can be catered to a …",
         "sentiment": -0.45,
         "annotation": 1,
         "_deepnote_index_column": 178
        },
        {
         "tweet": "Wow seasonal depression. Yeah that's insulting. Just think about it.",
         "sentiment": -0.45,
         "annotation": 1,
         "_deepnote_index_column": 179
        },
        {
         "tweet": "Every year ever since I could remember I hate the feeling in the summer. Always makes me feel sick …",
         "sentiment": -0.438095238,
         "annotation": 1,
         "_deepnote_index_column": 180
        },
        {
         "tweet": "I talk about depression and ptsd and anger and rape and violence. I feel small, smaller, rage and h…",
         "sentiment": -0.4375,
         "annotation": 1,
         "_deepnote_index_column": 181
        }
       ],
       "rows_bottom": [
        {
         "tweet": "seasonal depression but it’s always in season",
         "sentiment": 0,
         "annotation": 1,
         "_deepnote_index_column": 2917
        },
        {
         "tweet": "“The same consumerist culture that once shunned mention of depression now also seeks to cannibalize…",
         "sentiment": 0,
         "annotation": 0,
         "_deepnote_index_column": 2918
        },
        {
         "tweet": "Hi Kitt. Did you design it yourself? This one is my note to self to keep fighting depression  pic.t…",
         "sentiment": 0,
         "annotation": 0,
         "_deepnote_index_column": 2919
        },
        {
         "tweet": "#RT @bonappetit: \"My life as an entrepreneur left no space for me to confront my depression.\"  http…",
         "sentiment": 0,
         "annotation": 0,
         "_deepnote_index_column": 2920
        },
        {
         "tweet": "Not when depression hits, no.",
         "sentiment": 0,
         "annotation": 1,
         "_deepnote_index_column": 2923
        },
        {
         "tweet": "In my state of depression 😭",
         "sentiment": 0,
         "annotation": 1,
         "_deepnote_index_column": 2924
        },
        {
         "tweet": "#RT @bonappetit: \"My life as an entrepreneur left no space for me to confront my depression.\"  http…",
         "sentiment": 0,
         "annotation": 0,
         "_deepnote_index_column": 2925
        },
        {
         "tweet": "Evidence on benefit of ultra-low dose #opioid treatment of severe #depression with #suicidality  ht…",
         "sentiment": 0,
         "annotation": 0,
         "_deepnote_index_column": 2926
        },
        {
         "tweet": "meee i’m tryna cure my summer depression rn",
         "sentiment": 0,
         "annotation": 1,
         "_deepnote_index_column": 2929
        },
        {
         "tweet": "Just realized I’m trying to create an entire career out of self-diss tracks. 🤷‍♂️ #depression – at …",
         "sentiment": 0,
         "annotation": 1,
         "_deepnote_index_column": 2930
        },
        {
         "tweet": "Grimes claims she removed part of her eyeball to 'cure seasonal depression'   https://twitter.com/i…",
         "sentiment": 0,
         "annotation": 0,
         "_deepnote_index_column": 2931
        },
        {
         "tweet": "i got referred to councilling but had a fight with my bestfriend.  i thought everything was okay bu…",
         "sentiment": 0,
         "annotation": 1,
         "_deepnote_index_column": 2932
        },
        {
         "tweet": "Me: depression  Me when I'm in Florida: tropical depression",
         "sentiment": 0,
         "annotation": 1,
         "_deepnote_index_column": 2933
        },
        {
         "tweet": "Shoot the damn dog: A memoir of depression",
         "sentiment": 0,
         "annotation": 1,
         "_deepnote_index_column": 2935
        },
        {
         "tweet": "Grimes claims she removed part of her eyeball to 'cure seasonal depression'   https://twitter.com/i…",
         "sentiment": 0,
         "annotation": 0,
         "_deepnote_index_column": 2936
        },
        {
         "tweet": "And her ass still depressed... Grimes claims she removed part of her eyeball to 'cure seasonal depr…",
         "sentiment": 0,
         "annotation": 0,
         "_deepnote_index_column": 2937
        },
        {
         "tweet": "Fuck this funk and depression state I’m in because guess what. I’m a badass lil boy, fun and I’m he…",
         "sentiment": 0,
         "annotation": 1,
         "_deepnote_index_column": 2938
        },
        {
         "tweet": "Did she obtain shinigami eyes before or after her surgery to remove film from her eyes in an attemp…",
         "sentiment": 0,
         "annotation": 1,
         "_deepnote_index_column": 2939
        },
        {
         "tweet": "Krause should know effect of using global depression versus Canadian economy but political affiliat…",
         "sentiment": 0,
         "annotation": 0,
         "_deepnote_index_column": 2940
        },
        {
         "tweet": "The self-professed “Fabian Society of Canada” was set up in the height of the Depression by five Rh…",
         "sentiment": 0,
         "annotation": 0,
         "_deepnote_index_column": 2942
        },
        {
         "tweet": "\"Creep you look like shit.\"  Thanks, it's the depression.  pic.twitter.com/XcN2td8rBF",
         "sentiment": 0,
         "annotation": 1,
         "_deepnote_index_column": 2943
        },
        {
         "tweet": "thank u animal crossing: pocket camp for curing my depression",
         "sentiment": 0,
         "annotation": 0,
         "_deepnote_index_column": 2944
        },
        {
         "tweet": "Oh here comes the crippling depression",
         "sentiment": 0,
         "annotation": 1,
         "_deepnote_index_column": 2946
        },
        {
         "tweet": "this brought back my depression",
         "sentiment": 0,
         "annotation": 1,
         "_deepnote_index_column": 2947
        },
        {
         "tweet": "Depression and Diet: Why the Food You Eat Matters  http://bit.ly/2ulXRXw?4MiwF ",
         "sentiment": 0,
         "annotation": 0,
         "_deepnote_index_column": 2948
        },
        {
         "tweet": "Like do I depression watch Vampire Diaries for the fifth time???",
         "sentiment": 0,
         "annotation": 1,
         "_deepnote_index_column": 2949
        },
        {
         "tweet": "Every time I remember I’m the oldest daughter in an African household a wave of depression hits me",
         "sentiment": 0,
         "annotation": 1,
         "_deepnote_index_column": 2951
        },
        {
         "tweet": "<<<<<< angel of depression",
         "sentiment": 0,
         "annotation": 1,
         "_deepnote_index_column": 2952
        },
        {
         "tweet": "You ever heard of depression",
         "sentiment": 0,
         "annotation": 1,
         "_deepnote_index_column": 2954
        },
        {
         "tweet": "Grimes claims she removed part of her eyeball to 'cure seasonal depression'  https://twitter.com/i/…",
         "sentiment": 0,
         "annotation": 0,
         "_deepnote_index_column": 2955
        },
        {
         "tweet": "🤔   Grimes claims she removed part of her eyeball to 'cure seasonal depression'   https://twitter.c…",
         "sentiment": 0,
         "annotation": 0,
         "_deepnote_index_column": 2956
        },
        {
         "tweet": "Remember the compliments you receive. Forget the insults. #mentalhealth #mentalhealthawareness #anx…",
         "sentiment": 0,
         "annotation": 0,
         "_deepnote_index_column": 2957
        },
        {
         "tweet": "Could Autism, Depression Be Rooted in Our Brain’s Ability to Pay Attention?  http://www.bu.edu/arti…",
         "sentiment": 0,
         "annotation": 0,
         "_deepnote_index_column": 2959
        },
        {
         "tweet": "that transition cured my depression",
         "sentiment": 0,
         "annotation": 0,
         "_deepnote_index_column": 2960
        },
        {
         "tweet": "Depression is...making yourself eat dinner even though you have zero appetite at all. Words hurt. P…",
         "sentiment": 0,
         "annotation": 1,
         "_deepnote_index_column": 2961
        },
        {
         "tweet": "My favourite story of 2019 - Grimes claims she removed part of her eyeball to 'cure seasonal depres…",
         "sentiment": 0,
         "annotation": 0,
         "_deepnote_index_column": 2962
        },
        {
         "tweet": "He’s gonna hop back in the fence soon enough, blame it on his depression and such",
         "sentiment": 0,
         "annotation": 1,
         "_deepnote_index_column": 2963
        },
        {
         "tweet": "This is my deepest fear - that I’ve become a bore because my depression is ruining my life.  https:…",
         "sentiment": 0,
         "annotation": 1,
         "_deepnote_index_column": 2965
        },
        {
         "tweet": "angle of depression",
         "sentiment": 0,
         "annotation": 1,
         "_deepnote_index_column": 2966
        },
        {
         "tweet": "doldrums; a period of stagnation or slump; a period of depression; 침체기, 부진, 침울, 우울",
         "sentiment": 0,
         "annotation": 0,
         "_deepnote_index_column": 2967
        },
        {
         "tweet": "is this meant to hint seasonal depression?  https://twitter.com/mxmtoon/status/1151221825650561025 …",
         "sentiment": 0,
         "annotation": 1,
         "_deepnote_index_column": 2968
        },
        {
         "tweet": "depression literally is hit you out of nowhere bey",
         "sentiment": 0,
         "annotation": 1,
         "_deepnote_index_column": 2971
        },
        {
         "tweet": "Mental Audits are necessary. Worry, Doubt, stress, and depression all hog space. Clear some space. …",
         "sentiment": 4.63e-18,
         "annotation": 0,
         "_deepnote_index_column": 2973
        },
        {
         "tweet": "Your red states DEPENDENT ON PUBLIC ASISTANCE is socialism You should learn how socialism lifted Am…",
         "sentiment": 2.22e-17,
         "annotation": 0,
         "_deepnote_index_column": 2974
        },
        {
         "tweet": "whenever i tweet this much randomness is ‘cause my depression is particularly bad that day. same wi…",
         "sentiment": 2.78e-17,
         "annotation": 1,
         "_deepnote_index_column": 2975
        },
        {
         "tweet": "I'll never forget how the depression and loneliness felt good and bad at the same time. Still does.…",
         "sentiment": 3.7e-17,
         "annotation": 1,
         "_deepnote_index_column": 2976
        },
        {
         "tweet": "The depression hit you and you go from feeling great to inadequate in the blink of an eye. Shit cra…",
         "sentiment": 3.7e-17,
         "annotation": 1,
         "_deepnote_index_column": 2977
        },
        {
         "tweet": "yep can’t break it to em now! oh but they. have work and stuff and my dad’s having really bad depre…",
         "sentiment": 5.55e-17,
         "annotation": 1,
         "_deepnote_index_column": 2978
        },
        {
         "tweet": "person and how they are going to react on it. Some might end up having depression.   But as I said,…",
         "sentiment": 5.55e-17,
         "annotation": 1,
         "_deepnote_index_column": 2979
        },
        {
         "tweet": "my anxiety and depression are so bad today pls send me good vibes",
         "sentiment": 5.55e-17,
         "annotation": 1,
         "_deepnote_index_column": 2980
        },
        {
         "tweet": "I LOVE doing my makeup!! My depression really almost made me give up my last passion!! Fuck you!!!!",
         "sentiment": 0.001171875,
         "annotation": 1,
         "_deepnote_index_column": 2981
        },
        {
         "tweet": "I mean it especially annoys me cuz like they have no idea how crippling it actually is when u have …",
         "sentiment": 0.002083333,
         "annotation": 1,
         "_deepnote_index_column": 2982
        },
        {
         "tweet": "Every time I think I’m getting better this depression shit hits hard",
         "sentiment": 0.002777778,
         "annotation": 1,
         "_deepnote_index_column": 2984
        },
        {
         "tweet": "wow this depression & anxiety of mine are really hitting hard today. WHEW.",
         "sentiment": 0.002777778,
         "annotation": 1,
         "_deepnote_index_column": 2985
        },
        {
         "tweet": "It's crazy how an animated show can tackle alot of these serious issues like depression and lack of…",
         "sentiment": 0.003333333,
         "annotation": 0,
         "_deepnote_index_column": 2986
        },
        {
         "tweet": "An Australia gone completely insane. How to kill off all passion all support fine folk for being en…",
         "sentiment": 0.003333333,
         "annotation": 1,
         "_deepnote_index_column": 2987
        },
        {
         "tweet": "Before, I was kinda a positive person and I was living everyday like tomorrow doesn't exist, now I …",
         "sentiment": 0.004545455,
         "annotation": 1,
         "_deepnote_index_column": 2988
        },
        {
         "tweet": "Depression is certainly an oppression doesn’t matter who you are with it, where you or how wealthy.…",
         "sentiment": 0.004761905,
         "annotation": 1,
         "_deepnote_index_column": 2989
        },
        {
         "tweet": "This is my friend whose name is also Cory. Married and a father of 3. Early yesterday morning decid…",
         "sentiment": 0.005,
         "annotation": 1,
         "_deepnote_index_column": 2990
        },
        {
         "tweet": "props to my amazing bf of 5yrs for buying me plan b so i dont have to take 8 birth control pills (a…",
         "sentiment": 0.005555556,
         "annotation": 0,
         "_deepnote_index_column": 2991
        },
        {
         "tweet": "I can smell something, it smells a little like an encroaching economic depression.",
         "sentiment": 0.00625,
         "annotation": 0,
         "_deepnote_index_column": 2992
        },
        {
         "tweet": "I be strong for so long and once i break down I BREAK TF DOWN ! Depression is really deep!",
         "sentiment": 0.006666667,
         "annotation": 1,
         "_deepnote_index_column": 2993
        },
        {
         "tweet": "Don't forget that was also causing Miona's depression, knowing that her position slowly downgrading…",
         "sentiment": 0.007142857,
         "annotation": 0,
         "_deepnote_index_column": 2994
        },
        {
         "tweet": "kinda just wanna take another break and go hiatus but i don’t wanna seem like that one twitter pers…",
         "sentiment": 0.008333333,
         "annotation": 1,
         "_deepnote_index_column": 2995
        },
        {
         "tweet": "I’ve been a highly toxic person online lately due to my depression. Sorry. I’m feeling a lot better…",
         "sentiment": 0.00875,
         "annotation": 1,
         "_deepnote_index_column": 2996
        },
        {
         "tweet": "Bro last semester had my depression seeping back in, I’m not ready for a new school year😭😭😭😭  https…",
         "sentiment": 0.009090909,
         "annotation": 1,
         "_deepnote_index_column": 2997
        },
        {
         "tweet": "The sixth track off @CrownTheEmpire's new album is called MZRY. Depression plays a huge role in CTE…",
         "sentiment": 0.009090909,
         "annotation": 0,
         "_deepnote_index_column": 2998
        },
        {
         "tweet": "Like your father's and Ws stellar policies?  You mean those that nearly took us into depression and…",
         "sentiment": 0.009375,
         "annotation": 0,
         "_deepnote_index_column": 2999
        },
        {
         "tweet": "Breathing exercises is step one. Helps me center myself from the anxiety/depression I feel.  Next i…",
         "sentiment": 0.00952381,
         "annotation": 0,
         "_deepnote_index_column": 3000
        },
        {
         "tweet": "I'm going to be really honest here and say...  I had difficulty watching this scene. BUT... The who…",
         "sentiment": 0.009722222,
         "annotation": 0,
         "_deepnote_index_column": 3001
        },
        {
         "tweet": "You know you work in entertainment when half your timeline is Emmy humblebrags and the other half i…",
         "sentiment": 0.010416667,
         "annotation": 1,
         "_deepnote_index_column": 3002
        },
        {
         "tweet": "There are about 500,000 children in foster care right now. Post partum depression is a real and dan…",
         "sentiment": 0.010714286,
         "annotation": 0,
         "_deepnote_index_column": 3003
        },
        {
         "tweet": "Depression really went and shut down my entire brain after that one short argument with my mom huh.…",
         "sentiment": 0.011111111,
         "annotation": 1,
         "_deepnote_index_column": 3004
        },
        {
         "tweet": "Study finds link between social ... -  https://bestinau.com.au/study-finds-link-between-social-medi…",
         "sentiment": 0.011111111,
         "annotation": 0,
         "_deepnote_index_column": 3005
        },
        {
         "tweet": "Exactly! It makes it harder to believe people who are actually depressed, and makes depression seem…",
         "sentiment": 0.011458333,
         "annotation": 1,
         "_deepnote_index_column": 3006
        },
        {
         "tweet": "I feel all of these side effects with my bipolar meds and with Wellbutrin I feel anxious and on edg…",
         "sentiment": 0.011904762,
         "annotation": 1,
         "_deepnote_index_column": 3007
        },
        {
         "tweet": "This walking out of family itself is breaking society thought. Unless I am aiming for loka Kalyan. …",
         "sentiment": 0.012121212,
         "annotation": 1,
         "_deepnote_index_column": 3008
        },
        {
         "tweet": "For some of you it will be allergies, asthma, weight gain, depression. For those who have my genes,…",
         "sentiment": 0.0125,
         "annotation": 1,
         "_deepnote_index_column": 3009
        },
        {
         "tweet": "I've been going through bouts of depression lately and I've thought of  a really cool art piece to …",
         "sentiment": 0.0125,
         "annotation": 0,
         "_deepnote_index_column": 3010
        },
        {
         "tweet": "I think about how i had to drag myself outta my depression myself with small methods like this.  Ku…",
         "sentiment": 0.0125,
         "annotation": 1,
         "_deepnote_index_column": 3011
        },
        {
         "tweet": "Like do you know how triggering it is to tell someone who suffers from depression that you want to …",
         "sentiment": 0.0125,
         "annotation": 1,
         "_deepnote_index_column": 3012
        },
        {
         "tweet": "wow im extremely depressed and my tutor kept joking about suicide and depression with me and it mad…",
         "sentiment": 0.0125,
         "annotation": 1,
         "_deepnote_index_column": 3013
        },
        {
         "tweet": "No one can convince me otherwise that depression isn’t a real thing. It can really mess with someon…",
         "sentiment": 0.0125,
         "annotation": 1,
         "_deepnote_index_column": 3014
        },
        {
         "tweet": "my depression has been more active the past 3 days than it has in a very long time and I am uhhh no…",
         "sentiment": 0.012916667,
         "annotation": 1,
         "_deepnote_index_column": 3015
        },
        {
         "tweet": "I feel like this is hitting me so hard because I battle with Depression, I battle with anxiety and …",
         "sentiment": 0.013888889,
         "annotation": 1,
         "_deepnote_index_column": 3016
        },
        {
         "tweet": "I love the STEVEN UNIVERSE eps where Onion makes Steven join a death cult, Steven's forced to coddl…",
         "sentiment": 0.014814815,
         "annotation": 0,
         "_deepnote_index_column": 3017
        },
        {
         "tweet": "Fighting #depression is tough. It's easy to let it take over you. But the only way out is to Never.…",
         "sentiment": 0.014814815,
         "annotation": 0,
         "_deepnote_index_column": 3018
        },
        {
         "tweet": "it’s about fucking time. this show could be incredibly triggering to anyone with a past of suicide,…",
         "sentiment": 0.016666667,
         "annotation": 1,
         "_deepnote_index_column": 3019
        },
        {
         "tweet": "been a bit preoccupied w moving cross country, a touch of sun poisoning, and general depression-fue…",
         "sentiment": 0.016666667,
         "annotation": 1,
         "_deepnote_index_column": 3020
        },
        {
         "tweet": "I have a history of anxiety, which often leads to depression. I've been dealing pretty well with it…",
         "sentiment": 0.016666667,
         "annotation": 1,
         "_deepnote_index_column": 3021
        },
        {
         "tweet": "Social media, not video games, linked to increase in teen depression  https://www.15minutenews.com/…",
         "sentiment": 0.016666667,
         "annotation": 0,
         "_deepnote_index_column": 3022
        },
        {
         "tweet": "Study finds link between social media and increased teenage depression  https://bestinau.com.au/stu…",
         "sentiment": 0.016666667,
         "annotation": 0,
         "_deepnote_index_column": 3023
        },
        {
         "tweet": "Study: Social Media Usage Linked to Teen Depression | Breitbart  http://bit.ly/2lCqQmg  via @Breitb…",
         "sentiment": 0.016666667,
         "annotation": 0,
         "_deepnote_index_column": 3024
        },
        {
         "tweet": "Butter, jasmine rice, butter, brown sugar, butter. You have to stare at the half a stick of butter …",
         "sentiment": 0.016666667,
         "annotation": 0,
         "_deepnote_index_column": 3025
        },
        {
         "tweet": "Study: Social Media Usage Linked to Teen Depression  https://www.breitbart.com/tech/2019/07/16/stud…",
         "sentiment": 0.016666667,
         "annotation": 0,
         "_deepnote_index_column": 3026
        },
        {
         "tweet": "Study finds link between social media and increased teenage depression #SocialMedia #instagram #twi…",
         "sentiment": 0.016666667,
         "annotation": 0,
         "_deepnote_index_column": 3027
        },
        {
         "tweet": "Study finds link between social media and increased teenage depression #SocialMedia #instagram #twi…",
         "sentiment": 0.016666667,
         "annotation": 0,
         "_deepnote_index_column": 3028
        },
        {
         "tweet": "Dark and deep depression now. Thanks brain.",
         "sentiment": 0.016666667,
         "annotation": 1,
         "_deepnote_index_column": 3029
        },
        {
         "tweet": "Social media, not video games, linked to increase in teen depression – Study  https://1stnews.com/s…",
         "sentiment": 0.016666667,
         "annotation": 0,
         "_deepnote_index_column": 3030
        },
        {
         "tweet": "Study finds link between social media and increased teenage depression #SocialMedia #instagram #twi…",
         "sentiment": 0.016666667,
         "annotation": 0,
         "_deepnote_index_column": 3031
        },
        {
         "tweet": "Study: Social Media Usage Linked to Teen Depression – Breitbart  http://dlvr.it/R8XyKQ  pic.twitter…",
         "sentiment": 0.016666667,
         "annotation": 0,
         "_deepnote_index_column": 3032
        },
        {
         "tweet": "Lack of sun can manipulate dopamine and serotonin levels that can cause depression. Its not that de…",
         "sentiment": 0.016666667,
         "annotation": 1,
         "_deepnote_index_column": 3033
        },
        {
         "tweet": "Bc once it’s over Istg it’s over for you for the first few months, loss of appetite, depression, lo…",
         "sentiment": 0.016666667,
         "annotation": 1,
         "_deepnote_index_column": 3034
        },
        {
         "tweet": "Only a n00b would think videogames lead to depression. Source: am gamer, have been depressed. ---  …",
         "sentiment": 0.016666667,
         "annotation": 1,
         "_deepnote_index_column": 3035
        },
        {
         "tweet": "https://buff.ly/2JBK9pB   Check out this article regarding social media and television leading to i…",
         "sentiment": 0.016666667,
         "annotation": 0,
         "_deepnote_index_column": 3036
        },
        {
         "tweet": "Social media, not video games, linked to increase in teen depression  https://www.slashgear.com/soc…",
         "sentiment": 0.016666667,
         "annotation": 0,
         "_deepnote_index_column": 3037
        },
        {
         "tweet": "Violence as a child at school left me with -   PTSD  Social Anxiety  OCD Depression  At 42, I have …",
         "sentiment": 0.016666667,
         "annotation": 0,
         "_deepnote_index_column": 3038
        },
        {
         "tweet": "Social media, not video games, linked to increase in teen depression - SlashGear:  https://www.slas…",
         "sentiment": 0.016666667,
         "annotation": 0,
         "_deepnote_index_column": 3039
        },
        {
         "tweet": "Social media, not video games, linked to increase in teen depression  https://www.slashgear.com/soc…",
         "sentiment": 0.016666667,
         "annotation": 0,
         "_deepnote_index_column": 3040
        },
        {
         "tweet": "Social media, not video games, linked to increase in teen depression #SlashGear  http://smpt.co/a02…",
         "sentiment": 0.016666667,
         "annotation": 0,
         "_deepnote_index_column": 3041
        },
        {
         "tweet": "Depression who? Abandonment Issues huh? Social Anxiety what??? I only know Puppy Interview!!!!",
         "sentiment": 0.016666667,
         "annotation": 1,
         "_deepnote_index_column": 3042
        },
        {
         "tweet": "Depression is a complex mental health condition that causes a person to have low mood and may leave…",
         "sentiment": 0.016666667,
         "annotation": 0,
         "_deepnote_index_column": 3043
        },
        {
         "tweet": "Study: Social Media Usage Linked to Teen Depression – Breitbart  http://dratef.net/?p=365046 ",
         "sentiment": 0.016666667,
         "annotation": 0,
         "_deepnote_index_column": 3044
        },
        {
         "tweet": "Study: Social Media Usage Linked to Teen Depression – Breitbart  http://dratef.net/?p=365046 ",
         "sentiment": 0.016666667,
         "annotation": 0,
         "_deepnote_index_column": 3045
        },
        {
         "tweet": "@ChannonRose I’m a new follower. (Thanks fruit boy)..... Anyway, watching your video I’m so curious…",
         "sentiment": 0.017272727,
         "annotation": 0,
         "_deepnote_index_column": 3046
        },
        {
         "tweet": "Gender: men and women in this generation dealing with high levels of anxiety and depression maybe b…",
         "sentiment": 0.0175,
         "annotation": 1,
         "_deepnote_index_column": 3047
        },
        {
         "tweet": "Not at all what caused the Depression. Buying taxes on Margin, and not having the money when the ma…",
         "sentiment": 0.0175,
         "annotation": 0,
         "_deepnote_index_column": 3048
        },
        {
         "tweet": "I resigned on the 18th Feb this year due to Worldpay refusing to take action against a Worldpay man…",
         "sentiment": 0.01875,
         "annotation": 1,
         "_deepnote_index_column": 3049
        },
        {
         "tweet": "I can just have one fucking day that I feel normal?! No pain, no tiredness, no fucking depression!!",
         "sentiment": 0.01875,
         "annotation": 1,
         "_deepnote_index_column": 3050
        },
        {
         "tweet": "Not same results. Research has shown that beating your children DOESN’T WORK and leads to depressio…",
         "sentiment": 0.02,
         "annotation": 1,
         "_deepnote_index_column": 3051
        },
        {
         "tweet": "Making it past my first major depression. It was a doozy.",
         "sentiment": 0.020833333,
         "annotation": 1,
         "_deepnote_index_column": 3052
        },
        {
         "tweet": "Grimes has removed the part of her eye that sees blue light and replaced it with an orange ultra-fl…",
         "sentiment": 0.021875,
         "annotation": 1,
         "_deepnote_index_column": 3053
        },
        {
         "tweet": "You people are so out of touch. You think no one is capable of hearing things they don't agree with…",
         "sentiment": 0.022222222,
         "annotation": 1,
         "_deepnote_index_column": 3054
        },
        {
         "tweet": "Same. Ive had depression my whole life & a yr ago I lost one of my best friends tragically, then 2 …",
         "sentiment": 0.022222222,
         "annotation": 1,
         "_deepnote_index_column": 3055
        },
        {
         "tweet": "I’ve been w/ my bf for almost 2 years now and sometimes I’ll feel this way but then I realize it’s …",
         "sentiment": 0.022222222,
         "annotation": 0,
         "_deepnote_index_column": 3056
        },
        {
         "tweet": "Right? Weird. We’ve been treating depression and other mental conditions like diseases of the mind/…",
         "sentiment": 0.022619048,
         "annotation": 0,
         "_deepnote_index_column": 3057
        },
        {
         "tweet": "Tired of fake performative activism for the sake of social media clout when you’ll easily drop any …",
         "sentiment": 0.023809524,
         "annotation": 1,
         "_deepnote_index_column": 3058
        },
        {
         "tweet": "Maybe it’s not depression. Maybe you just lack worth ethic and your things are not going anywhere. …",
         "sentiment": 0.025,
         "annotation": 1,
         "_deepnote_index_column": 3059
        },
        {
         "tweet": "\"Many will say that people who are suicidal are looking for attention, or they are cowardly for fee…",
         "sentiment": 0.025,
         "annotation": 0,
         "_deepnote_index_column": 3060
        },
        {
         "tweet": "“********* can also cause symptoms of mental stress, anxiety, and low self-esteem. Depression is al…",
         "sentiment": 0.025,
         "annotation": 1,
         "_deepnote_index_column": 3061
        },
        {
         "tweet": "Hello Twitter. Shout out! My friend suffers with CFS/ME and thinks she may have Autistic features. …",
         "sentiment": 0.025,
         "annotation": 0,
         "_deepnote_index_column": 3062
        },
        {
         "tweet": "what part of this was really harmfult of a lot of people and went against every guideline do you no…",
         "sentiment": 0.025,
         "annotation": 0,
         "_deepnote_index_column": 3063
        },
        {
         "tweet": "Credit expansion can bring about a temporary boom. But such a fictitious prosperity must end in a g…",
         "sentiment": 0.025,
         "annotation": 0,
         "_deepnote_index_column": 3064
        },
        {
         "tweet": "when tay k said your boys deep well lets get to subtracting he was talking about how depression in …",
         "sentiment": 0.025,
         "annotation": 0,
         "_deepnote_index_column": 3065
        },
        {
         "tweet": "Damn I think postpartum depression done hit me I'm so emotional til I cried today idk why.. I barel…",
         "sentiment": 0.025,
         "annotation": 1,
         "_deepnote_index_column": 3066
        },
        {
         "tweet": "@ItsPaigeTurco comes online and suddenly my depression is gone and i don’t know what sleep is appar…",
         "sentiment": 0.025,
         "annotation": 0,
         "_deepnote_index_column": 3067
        },
        {
         "tweet": "Other than at the earth’s poles, night & day take turns. You’re sad sometimes, you’re happy sometim…",
         "sentiment": 0.025,
         "annotation": 0,
         "_deepnote_index_column": 3068
        },
        {
         "tweet": "Ok. So regular oatmeal is warm sadness in a bowl.   Overnight oats are like milky cold semi-sadness…",
         "sentiment": 0.025,
         "annotation": 1,
         "_deepnote_index_column": 3069
        },
        {
         "tweet": "I’m not sure if all of these explains my behaviour. I honestly know myself and I know I respond wei…",
         "sentiment": 0.026190476,
         "annotation": 0,
         "_deepnote_index_column": 3070
        },
        {
         "tweet": "“depression, suicidality, anxiety, social isolation and decreased capacity for intimacy” are the na…",
         "sentiment": 0.027777778,
         "annotation": 1,
         "_deepnote_index_column": 3071
        },
        {
         "tweet": "The small town I was raised in was like this. Mental illness is not a thing. Many people still see …",
         "sentiment": 0.028125,
         "annotation": 1,
         "_deepnote_index_column": 3072
        },
        {
         "tweet": "my go-to used to be blue cheese on anything or marinara and ranch mixed together. eaten with my wri…",
         "sentiment": 0.029166667,
         "annotation": 1,
         "_deepnote_index_column": 3073
        },
        {
         "tweet": "Miss you dol! I'm sorry my depression makes it harder for me to leave a more detailed comment other…",
         "sentiment": 0.029166667,
         "annotation": 0,
         "_deepnote_index_column": 3074
        },
        {
         "tweet": "I'm sorry my depression makes it harder for me to leave a more detailed comment other than my since…",
         "sentiment": 0.029166667,
         "annotation": 0,
         "_deepnote_index_column": 3075
        },
        {
         "tweet": "Thanks man. It really weird - I don’t have as much patience to fiddle with games like I used to. I …",
         "sentiment": 0.029910714,
         "annotation": 0,
         "_deepnote_index_column": 3076
        },
        {
         "tweet": "The depression rates are so high b/c these are men who suffer from body dysmorphia, and no one is t…",
         "sentiment": 0.03,
         "annotation": 0,
         "_deepnote_index_column": 3077
        },
        {
         "tweet": "A gene co-expression network-based analysis of multiple brain tissues reveals novel genes and molec…",
         "sentiment": 0.03125,
         "annotation": 0,
         "_deepnote_index_column": 3078
        },
        {
         "tweet": "Tuesday's Daily Piece: #antidepressant can reduce death in persons with #diabetes and #major #depre…",
         "sentiment": 0.03125,
         "annotation": 0,
         "_deepnote_index_column": 3079
        },
        {
         "tweet": "hey ik no one will see this but i’m trying my luck anyways:   to those diagnosed with depression: w…",
         "sentiment": 0.03125,
         "annotation": 1,
         "_deepnote_index_column": 3080
        },
        {
         "tweet": "Then you find the other 4% and you talk to them and you talk to me and you talk to strangers on hot…",
         "sentiment": 0.03125,
         "annotation": 0,
         "_deepnote_index_column": 3081
        },
        {
         "tweet": "My training is a 360 approach. First I take a handful of pills for depression, urinary and gut heal…",
         "sentiment": 0.031481481,
         "annotation": 0,
         "_deepnote_index_column": 3082
        },
        {
         "tweet": "i was just pickin up some food at the place down the street and the sweet black lady told me my han…",
         "sentiment": 0.031944444,
         "annotation": 0,
         "_deepnote_index_column": 3083
        },
        {
         "tweet": "And to add to my previous tweet I cannot get my disability cause he makes too much I suffer from an…",
         "sentiment": 0.031944444,
         "annotation": 1,
         "_deepnote_index_column": 3084
        },
        {
         "tweet": "Depression; but make it socially approved  pic.twitter.com/idaCzBOweN",
         "sentiment": 0.033333333,
         "annotation": 1,
         "_deepnote_index_column": 3085
        },
        {
         "tweet": "Social media use, not gaming, increases symptoms of depression in teens: research  http://s.einnews…",
         "sentiment": 0.033333333,
         "annotation": 0,
         "_deepnote_index_column": 3086
        },
        {
         "tweet": "I'm only slightly joking cause I love kids I just dont ever want to be physically pregnant and post…",
         "sentiment": 0.033333333,
         "annotation": 0,
         "_deepnote_index_column": 3087
        },
        {
         "tweet": "Tay K is just a child and facing life in prison for murder 😢😔 shit like that really sends me into a…",
         "sentiment": 0.033333333,
         "annotation": 0,
         "_deepnote_index_column": 3088
        },
        {
         "tweet": "Social media, but not video games, linked to depression in teens, according to Montreal study   htt…",
         "sentiment": 0.033333333,
         "annotation": 0,
         "_deepnote_index_column": 3089
        },
        {
         "tweet": "Holy shit, does Aasandha cover experimental eyeball surgery. 😱 I really need to get my depression u…",
         "sentiment": 0.033333333,
         "annotation": 1,
         "_deepnote_index_column": 3090
        },
        {
         "tweet": "Increased use social media linked to symptoms of depression in teens –  http://fox8.com   https://f…",
         "sentiment": 0.033333333,
         "annotation": 0,
         "_deepnote_index_column": 3091
        },
        {
         "tweet": "Increased use social media linked to symptoms of depression in teens  https://ift.tt/2Y9SRDn ",
         "sentiment": 0.033333333,
         "annotation": 0,
         "_deepnote_index_column": 3092
        },
        {
         "tweet": "Social media use linked to depression in teens: study  https://234radio.com/social-media-use-linked…",
         "sentiment": 0.033333333,
         "annotation": 0,
         "_deepnote_index_column": 3093
        },
        {
         "tweet": "Republicans take a shit and expect the Democrats to clean it up...every damn time! Especially when …",
         "sentiment": 0.033333333,
         "annotation": 0,
         "_deepnote_index_column": 3094
        },
        {
         "tweet": "Social Media, But Not Video Games, Linked To Depression In Teens, Says Study  https://games.slashdo…",
         "sentiment": 0.033333333,
         "annotation": 0,
         "_deepnote_index_column": 3095
        },
        {
         "tweet": "@PHOReverIM Yyyeeesss!!! Never be embarrassed of who you are, you're an inspiration to millions who…",
         "sentiment": 0.033333333,
         "annotation": 0,
         "_deepnote_index_column": 3096
        },
        {
         "tweet": "red velvet be like: fuck depression 😠  love hapiness 😌  pic.twitter.com/WL1h9slwL7",
         "sentiment": 0.033333333,
         "annotation": 0,
         "_deepnote_index_column": 3097
        },
        {
         "tweet": "When you know someone who committed suicide for having depression you kind'a feel pity and disappoi…",
         "sentiment": 0.033333333,
         "annotation": 1,
         "_deepnote_index_column": 3098
        }
       ]
      },
      "text/plain": "                                                  tweet  sentiment  annotation\n0     I sont know who this is.  I should feel awful....  -1.000000         1.0\n1     Why does depression always hit at the worst ti...  -1.000000         1.0\n2     i see @thegreatkhalid on friday and i already ...  -1.000000         1.0\n3     what's the worst depression meal you've ever m...  -1.000000         1.0\n4     dear ppl who r trying 2 save me, srsly, think ...  -1.000000         1.0\n...                                                 ...        ...         ...\n3094  Republicans take a shit and expect the Democra...   0.033333         0.0\n3095  Social Media, But Not Video Games, Linked To D...   0.033333         0.0\n3096  @PHOReverIM Yyyeeesss!!! Never be embarrassed ...   0.033333         0.0\n3097  red velvet be like: fuck depression 😠  love ha...   0.033333         0.0\n3098  When you know someone who committed suicide fo...   0.033333         1.0\n\n[2634 rows x 3 columns]",
      "text/html": "<div>\n<style scoped>\n    .dataframe tbody tr th:only-of-type {\n        vertical-align: middle;\n    }\n\n    .dataframe tbody tr th {\n        vertical-align: top;\n    }\n\n    .dataframe thead th {\n        text-align: right;\n    }\n</style>\n<table border=\"1\" class=\"dataframe\">\n  <thead>\n    <tr style=\"text-align: right;\">\n      <th></th>\n      <th>tweet</th>\n      <th>sentiment</th>\n      <th>annotation</th>\n    </tr>\n  </thead>\n  <tbody>\n    <tr>\n      <th>0</th>\n      <td>I sont know who this is.  I should feel awful....</td>\n      <td>-1.000000</td>\n      <td>1.0</td>\n    </tr>\n    <tr>\n      <th>1</th>\n      <td>Why does depression always hit at the worst ti...</td>\n      <td>-1.000000</td>\n      <td>1.0</td>\n    </tr>\n    <tr>\n      <th>2</th>\n      <td>i see @thegreatkhalid on friday and i already ...</td>\n      <td>-1.000000</td>\n      <td>1.0</td>\n    </tr>\n    <tr>\n      <th>3</th>\n      <td>what's the worst depression meal you've ever m...</td>\n      <td>-1.000000</td>\n      <td>1.0</td>\n    </tr>\n    <tr>\n      <th>4</th>\n      <td>dear ppl who r trying 2 save me, srsly, think ...</td>\n      <td>-1.000000</td>\n      <td>1.0</td>\n    </tr>\n    <tr>\n      <th>...</th>\n      <td>...</td>\n      <td>...</td>\n      <td>...</td>\n    </tr>\n    <tr>\n      <th>3094</th>\n      <td>Republicans take a shit and expect the Democra...</td>\n      <td>0.033333</td>\n      <td>0.0</td>\n    </tr>\n    <tr>\n      <th>3095</th>\n      <td>Social Media, But Not Video Games, Linked To D...</td>\n      <td>0.033333</td>\n      <td>0.0</td>\n    </tr>\n    <tr>\n      <th>3096</th>\n      <td>@PHOReverIM Yyyeeesss!!! Never be embarrassed ...</td>\n      <td>0.033333</td>\n      <td>0.0</td>\n    </tr>\n    <tr>\n      <th>3097</th>\n      <td>red velvet be like: fuck depression 😠  love ha...</td>\n      <td>0.033333</td>\n      <td>0.0</td>\n    </tr>\n    <tr>\n      <th>3098</th>\n      <td>When you know someone who committed suicide fo...</td>\n      <td>0.033333</td>\n      <td>1.0</td>\n    </tr>\n  </tbody>\n</table>\n<p>2634 rows × 3 columns</p>\n</div>"
     },
     "metadata": {}
    }
   ]
  },
  {
   "cell_type": "code",
   "metadata": {
    "tags": [],
    "cell_id": "00011-0f9a6e0e-e4d1-491b-ab97-09dc5dc6859a",
    "deepnote_to_be_reexecuted": false,
    "source_hash": "59bdc55f",
    "execution_start": 1639178967079,
    "execution_millis": 34,
    "deepnote_output_heights": [
     59.578125
    ],
    "deepnote_cell_type": "code"
   },
   "source": "depressive_annotated_en['annotation'].value_counts()",
   "execution_count": null,
   "outputs": [
    {
     "output_type": "execute_result",
     "execution_count": 25,
     "data": {
      "text/plain": "1.0    1969\n0.0     665\nName: annotation, dtype: int64"
     },
     "metadata": {}
    }
   ]
  },
  {
   "cell_type": "code",
   "metadata": {
    "tags": [],
    "cell_id": "00012-16d4c2d6-4dca-43ca-a4ba-54046e9e3546",
    "deepnote_to_be_reexecuted": false,
    "source_hash": "36e1b227",
    "execution_start": 1639179047699,
    "execution_millis": 20,
    "deepnote_output_heights": [
     21
    ],
    "deepnote_cell_type": "code"
   },
   "source": "regular_tweets_sample = regular_tweets.sample(2000)",
   "execution_count": null,
   "outputs": []
  },
  {
   "cell_type": "code",
   "metadata": {
    "tags": [],
    "cell_id": "00005-4f44c8ff-6312-41e8-aa29-a9a4242f3a3e",
    "deepnote_to_be_reexecuted": false,
    "source_hash": "85a127fe",
    "execution_start": 1639179049403,
    "execution_millis": 40,
    "deepnote_cell_type": "code"
   },
   "source": "#Regular Tweets\n# regular_tweets = regular_tweets[['message', 'label']]\nregular_tweets_sample = regular_tweets_sample[['message', 'label']]\n# regular_tweets['label'] = 'OTHER'\nregular_tweets_sample['label'] = 0\n# regular_tweets = regular_tweets.rename(columns={\"message\": \"text\"})\nregular_tweets_sample = regular_tweets_sample.rename(columns={\"message\": \"text\"})\n\n#Depression Tweets\n# twint_depressed_tweets = twint_depressed_tweets[['tweet']]\n# twint_depressed_tweets['label'] = 'MENTAL_HEALTH'\n# twint_depressed_tweets = twint_depressed_tweets.rename(columns={'tweet': 'text'})\ndepressive_annotated_en = depressive_annotated_en[['tweet', 'annotation']]\ndepressive_annotated_en = depressive_annotated_en.rename(columns={'tweet': 'text', 'annotation': 'label'})",
   "execution_count": null,
   "outputs": []
  },
  {
   "cell_type": "code",
   "metadata": {
    "tags": [],
    "cell_id": "00018-869da8bf-6837-4cfc-bce6-f037e3be139b",
    "deepnote_to_be_reexecuted": false,
    "source_hash": "2eaa1cfc",
    "execution_start": 1639179012388,
    "execution_millis": 59,
    "deepnote_cell_type": "code"
   },
   "source": "label_map = {'MENTAL_HEALTH':1,\"OTHER\":0}\n\ntrain_data['label'] = [label_map[x] for x in train_data['label']]",
   "execution_count": null,
   "outputs": []
  },
  {
   "cell_type": "code",
   "metadata": {
    "tags": [],
    "cell_id": "00018-91251f28-b247-4e07-837f-b452ab6d106a",
    "deepnote_to_be_reexecuted": false,
    "source_hash": "dc669d3a",
    "execution_start": 1639179015002,
    "execution_millis": 597,
    "deepnote_cell_type": "code"
   },
   "source": "train_data",
   "execution_count": null,
   "outputs": [
    {
     "output_type": "execute_result",
     "execution_count": 28,
     "data": {
      "application/vnd.deepnote.dataframe.v2+json": {
       "row_count": 900,
       "column_count": 2,
       "columns": [
        {
         "name": "text",
         "dtype": "object",
         "stats": {
          "unique_count": 900,
          "nan_count": 0,
          "categories": [
           {
            "name": "@user Me talking to my antidepressants",
            "count": 1
           },
           {
            "name": "going to attempt at least to change this sour mood. It's mainly just a sense of loneliness which results in feelings of depression",
            "count": 1
           },
           {
            "name": "898 others",
            "count": 898
           }
          ]
         }
        },
        {
         "name": "label",
         "dtype": "int64",
         "stats": {
          "unique_count": 2,
          "nan_count": 0,
          "min": "0",
          "max": "1",
          "histogram": [
           {
            "bin_start": 0,
            "bin_end": 0.1,
            "count": 427
           },
           {
            "bin_start": 0.1,
            "bin_end": 0.2,
            "count": 0
           },
           {
            "bin_start": 0.2,
            "bin_end": 0.30000000000000004,
            "count": 0
           },
           {
            "bin_start": 0.30000000000000004,
            "bin_end": 0.4,
            "count": 0
           },
           {
            "bin_start": 0.4,
            "bin_end": 0.5,
            "count": 0
           },
           {
            "bin_start": 0.5,
            "bin_end": 0.6000000000000001,
            "count": 0
           },
           {
            "bin_start": 0.6000000000000001,
            "bin_end": 0.7000000000000001,
            "count": 0
           },
           {
            "bin_start": 0.7000000000000001,
            "bin_end": 0.8,
            "count": 0
           },
           {
            "bin_start": 0.8,
            "bin_end": 0.9,
            "count": 0
           },
           {
            "bin_start": 0.9,
            "bin_end": 1,
            "count": 473
           }
          ]
         }
        },
        {
         "name": "_deepnote_index_column",
         "dtype": "int64"
        }
       ],
       "rows_top": [
        {
         "text": "@user Me talking to my antidepressants",
         "label": 1,
         "_deepnote_index_column": 0
        },
        {
         "text": "going to attempt at least to change this sour mood. It's mainly just a sense of loneliness which re…",
         "label": 1,
         "_deepnote_index_column": 1
        },
        {
         "text": "flighty sag placements make me anxioussss",
         "label": 0,
         "_deepnote_index_column": 2
        },
        {
         "text": "I'm going to buy cream cheese after work and sit in my bathtub and eat it. This is the stage of dep…",
         "label": 1,
         "_deepnote_index_column": 3
        },
        {
         "text": "My anxiety and stress levels for today are actually making me feel physically sick 😭",
         "label": 1,
         "_deepnote_index_column": 4
        },
        {
         "text": "@user autumn here is just,, rain and dirt everywhere and depressing clouds krgrtwrzmzt i like sprin…",
         "label": 0,
         "_deepnote_index_column": 5
        },
        {
         "text": "Facebook is for the depressed people. Get off here with all that sad shit yo.",
         "label": 0,
         "_deepnote_index_column": 6
        },
        {
         "text": "@user I am depression pls do not stalks me",
         "label": 1,
         "_deepnote_index_column": 7
        },
        {
         "text": "#HappyBirthdayChester we miss you!! #MakeChesterProud #FuckDepression",
         "label": 0,
         "_deepnote_index_column": 8
        },
        {
         "text": "I have the body of a former athlete and it's depressing",
         "label": 0,
         "_deepnote_index_column": 9
        },
        {
         "text": "@user Don't conclude fast ! What if he is try to heal from depression",
         "label": 0,
         "_deepnote_index_column": 10
        },
        {
         "text": "summertime depression really do be hittin bout now",
         "label": 1,
         "_deepnote_index_column": 11
        },
        {
         "text": "me vs anxiety, depression, ednos, borderline personailty disorder, bipolar",
         "label": 1,
         "_deepnote_index_column": 12
        },
        {
         "text": "@user im depression",
         "label": 1,
         "_deepnote_index_column": 13
        },
        {
         "text": "ME ENAMORE DE ANXIETY DIOOOOOOOS",
         "label": 0,
         "_deepnote_index_column": 14
        },
        {
         "text": "just wait until my seasonal depression is gone and it's over for u bitches",
         "label": 1,
         "_deepnote_index_column": 15
        },
        {
         "text": "I have the same anxieties about lighting candles as I do about putting stickers on things",
         "label": 0,
         "_deepnote_index_column": 16
        },
        {
         "text": "can we talk about how hard it is to stay positive while also growing up? this shit is just depressi…",
         "label": 0,
         "_deepnote_index_column": 17
        },
        {
         "text": "I have so much anxiety about tomorrow and I dont know why",
         "label": 1,
         "_deepnote_index_column": 18
        },
        {
         "text": "@user Nooo. Dogs don't sweat like us. They'll end up getting extremely stressed out and anxious if …",
         "label": 0,
         "_deepnote_index_column": 19
        },
        {
         "text": "my anxiety and anger issues have calmed down a bit but now I feel depressed haaaaaaaaa",
         "label": 1,
         "_deepnote_index_column": 20
        },
        {
         "text": "i wish i had somewhere that feels like home instead of being in this depression dome",
         "label": 1,
         "_deepnote_index_column": 21
        },
        {
         "text": "This weather makes me sad &amp; depressed:/",
         "label": 1,
         "_deepnote_index_column": 22
        },
        {
         "text": "*anxiously refreshes Patreon*",
         "label": 0,
         "_deepnote_index_column": 23
        },
        {
         "text": "this anxiety shit is so trash fr... wouldn't wish it on my worst enemy",
         "label": 1,
         "_deepnote_index_column": 24
        },
        {
         "text": "When I look at my bank balance I just get anxiety...Lol aiy ja neh",
         "label": 0,
         "_deepnote_index_column": 25
        },
        {
         "text": "anxiety and i sitting in front of my laptop waiting for jintro",
         "label": 0,
         "_deepnote_index_column": 26
        },
        {
         "text": "My ptsd so bad that flashing lights gives me anxiety 😩",
         "label": 1,
         "_deepnote_index_column": 27
        },
        {
         "text": "What are your stress relievers? What do you do to calm anxiety? DM us to be featured in our next bl…",
         "label": 0,
         "_deepnote_index_column": 28
        },
        {
         "text": "i hate random sad days. Having a heavy heart and an anxious mind is the worst",
         "label": 1,
         "_deepnote_index_column": 29
        },
        {
         "text": "anxiety culture is trying to google the phone number that's calling you before the call ends to see…",
         "label": 0,
         "_deepnote_index_column": 30
        },
        {
         "text": "i get so anxious when buying christmas presents for claudia i want to tell her literally the second…",
         "label": 0,
         "_deepnote_index_column": 31
        },
        {
         "text": "They give me anxiety, I work with my hands all day so having nails really disables me",
         "label": 1,
         "_deepnote_index_column": 32
        },
        {
         "text": "anxiety mfuckin again",
         "label": 1,
         "_deepnote_index_column": 33
        },
        {
         "text": "@user @user Anxiety lol",
         "label": 0,
         "_deepnote_index_column": 34
        },
        {
         "text": "Being depressed on Twitter and looking at memes makes you question life.",
         "label": 0,
         "_deepnote_index_column": 35
        },
        {
         "text": "@user I share your anxiety . But I have Easy and fast  workable solutions. Inbox me for more info :…",
         "label": 0,
         "_deepnote_index_column": 36
        },
        {
         "text": "Well would you look at this wave of anxiety hitting me outta no where 😍",
         "label": 1,
         "_deepnote_index_column": 37
        },
        {
         "text": "yo so I stopped smoking, now I'm not depressed. Being sober is wild",
         "label": 0,
         "_deepnote_index_column": 38
        },
        {
         "text": "Turning off my phone for the day cause I'm about to become so depressed that I'm not at higher visi…",
         "label": 0,
         "_deepnote_index_column": 39
        },
        {
         "text": "But being Brazilian these days is equal to be depressed.Ohhh...",
         "label": 0,
         "_deepnote_index_column": 40
        },
        {
         "text": "yoooo i forgot that i'm meeting @user for a second.... my anxiety is back :]",
         "label": 1,
         "_deepnote_index_column": 41
        },
        {
         "text": "@user sending you all the anti anxiety feels Jon &lt;3",
         "label": 0,
         "_deepnote_index_column": 42
        },
        {
         "text": "@user I was still so wired, I had to take half an anti-anxiety pill (apparently this can be chemo-r…",
         "label": 1,
         "_deepnote_index_column": 43
        },
        {
         "text": "Oral quizzes in French 102 are the leading causes my anxiety",
         "label": 1,
         "_deepnote_index_column": 44
        },
        {
         "text": "@user my depression is cured",
         "label": 0,
         "_deepnote_index_column": 45
        },
        {
         "text": "I'd say depressed",
         "label": 0,
         "_deepnote_index_column": 46
        },
        {
         "text": "@user IM SORRY. MAYBE ITS JUST A WEIRD ANXIETY DAY FOR EVERYONE",
         "label": 1,
         "_deepnote_index_column": 47
        },
        {
         "text": "@user Depression Kills",
         "label": 0,
         "_deepnote_index_column": 48
        },
        {
         "text": "having an anxiety attack at 4am is p neat 😫",
         "label": 1,
         "_deepnote_index_column": 49
        },
        {
         "text": "I really want to know the link between anxiety and mornings!? It's always in the mornings like beec…",
         "label": 1,
         "_deepnote_index_column": 50
        },
        {
         "text": "On my way to see my car. I hope its everything I dreamed of. I'm so anxious.",
         "label": 0,
         "_deepnote_index_column": 51
        },
        {
         "text": "wow my supervisor was soooooo chill about my session....... lol i legit had anxiety.",
         "label": 1,
         "_deepnote_index_column": 52
        },
        {
         "text": "@user You can see the guilt anxiety 20 miles away",
         "label": 0,
         "_deepnote_index_column": 53
        },
        {
         "text": "lmao i love depressive episodes",
         "label": 1,
         "_deepnote_index_column": 54
        },
        {
         "text": "@user Take all that anxiety you have, and shove it in a fuck barrel.",
         "label": 0,
         "_deepnote_index_column": 55
        },
        {
         "text": "How does the song link to depression? #SBSEurovision",
         "label": 0,
         "_deepnote_index_column": 56
        },
        {
         "text": "I know it's a constant post. I have anxiety now. It's too much for me physically to deal with.",
         "label": 1,
         "_deepnote_index_column": 57
        },
        {
         "text": "crazy how outkast cured my depression",
         "label": 0,
         "_deepnote_index_column": 58
        },
        {
         "text": "Depression is so real. Life full of unending troubles really makes one think of suicide. I highly r…",
         "label": 1,
         "_deepnote_index_column": 59
        },
        {
         "text": "Challenge negative thinking. Let's end #depression together",
         "label": 0,
         "_deepnote_index_column": 60
        },
        {
         "text": "Not being able to work out until March 1st is giving me anxiety 😩",
         "label": 1,
         "_deepnote_index_column": 61
        },
        {
         "text": "Nothing depresses me like my way by frank sinatra",
         "label": 0,
         "_deepnote_index_column": 62
        },
        {
         "text": "Worst headache ever. Can't sleep. So much anxiety",
         "label": 1,
         "_deepnote_index_column": 63
        },
        {
         "text": "OH BOY OH BOY OH BOY!! WHAT A WONDERFUL DAY TO HAVE DEPRESSION!!end me pls and thank you",
         "label": 1,
         "_deepnote_index_column": 64
        },
        {
         "text": "Bingo gives me anxiety af😭😭😂🤦🏽‍♀️",
         "label": 0,
         "_deepnote_index_column": 65
        },
        {
         "text": "I been feeling really depressed lately, can someone gift me a cold cut platter ?? 😭",
         "label": 1,
         "_deepnote_index_column": 66
        },
        {
         "text": "i am so tired but so anxious so i can't sleep",
         "label": 1,
         "_deepnote_index_column": 67
        },
        {
         "text": "Same rut is not depressed",
         "label": 0,
         "_deepnote_index_column": 68
        },
        {
         "text": "I've been a lot less depressed since I graduated high school and not sure if that's a direct correl…",
         "label": 0,
         "_deepnote_index_column": 69
        },
        {
         "text": "I haven't been this anxious in a minute 😩",
         "label": 1,
         "_deepnote_index_column": 70
        },
        {
         "text": "i'm anxious as fuck",
         "label": 1,
         "_deepnote_index_column": 71
        },
        {
         "text": "anxiety. anxiety. anxiety.",
         "label": 1,
         "_deepnote_index_column": 72
        },
        {
         "text": "this cured my depression for 2.6 seconds",
         "label": 1,
         "_deepnote_index_column": 73
        },
        {
         "text": "Checked ESPN app today and saw cricket highlights.I'm depressed until NBA come back on",
         "label": 0,
         "_deepnote_index_column": 74
        },
        {
         "text": "@user This retrograde has really changed my perspective on my anxiety lol",
         "label": 1,
         "_deepnote_index_column": 75
        },
        {
         "text": "nothing feels better than pulling yourself out of a depressive episode.",
         "label": 1,
         "_deepnote_index_column": 76
        },
        {
         "text": "Oof so apparently this is called anxiety",
         "label": 1,
         "_deepnote_index_column": 77
        },
        {
         "text": "what depression things should i draw",
         "label": 1,
         "_deepnote_index_column": 78
        },
        {
         "text": "@user I take benzodiazepines on a daily basis for anxiety and PTSD. Tell them all to fuck off and d…",
         "label": 1,
         "_deepnote_index_column": 79
        },
        {
         "text": "Putting together this 90s party has my anxiety through the roof 😩",
         "label": 1,
         "_deepnote_index_column": 80
        },
        {
         "text": "@user Yesterday was bad for me.... super depressed feeling. Kinda pulling out of it today, I hope y…",
         "label": 1,
         "_deepnote_index_column": 81
        },
        {
         "text": "Yeah it's called depression",
         "label": 0,
         "_deepnote_index_column": 82
        },
        {
         "text": "my talking to my depression",
         "label": 1,
         "_deepnote_index_column": 83
        },
        {
         "text": "if you're feeling depressed, turn on some lights or open the shades. sitting in the dark will only …",
         "label": 0,
         "_deepnote_index_column": 84
        },
        {
         "text": "Depression doesn't show in pictures,because your friends post nice pictures doesn't mean they're do…",
         "label": 0,
         "_deepnote_index_column": 85
        },
        {
         "text": "@user 10- summer depression#voteBillieEilishVMA",
         "label": 0,
         "_deepnote_index_column": 86
        },
        {
         "text": "jan. 2nd — 'my breakouts really bring out the, uh... depressed bitch who doesn't wash her face.'",
         "label": 0,
         "_deepnote_index_column": 87
        },
        {
         "text": "Shout out to the amazing man who swapped my window seat for his aisle seat because I was freaking o…",
         "label": 0,
         "_deepnote_index_column": 88
        },
        {
         "text": "depression motivates me ina weird way",
         "label": 1,
         "_deepnote_index_column": 89
        },
        {
         "text": "Fuck your anxiety to the hardcore level",
         "label": 0,
         "_deepnote_index_column": 90
        },
        {
         "text": "god waking up having an anxiety attack in an out of body experience i literally thought i was havin…",
         "label": 1,
         "_deepnote_index_column": 91
        },
        {
         "text": "I came to this lecture to learn and came out more mad and depressed Thanks white ppl",
         "label": 1,
         "_deepnote_index_column": 92
        },
        {
         "text": "Lol can't relate because I AM the depressing one in the group",
         "label": 1,
         "_deepnote_index_column": 93
        },
        {
         "text": "Literally I get so much anxiety in movie theaters now",
         "label": 0,
         "_deepnote_index_column": 94
        },
        {
         "text": "SEASON SIX GAVE ME DEPRESSION",
         "label": 1,
         "_deepnote_index_column": 95
        },
        {
         "text": "That feeling when you know God is about to bless you in a major way so you are anxious, nervous, an…",
         "label": 0,
         "_deepnote_index_column": 96
        },
        {
         "text": "Nice guys knew this, but the fact that it's been scientifically proven is depressing😭😭",
         "label": 0,
         "_deepnote_index_column": 97
        },
        {
         "text": "People will pretend to anxiety and/or depression on social media for likes and that's fucking disgu…",
         "label": 0,
         "_deepnote_index_column": 98
        },
        {
         "text": "my therapist swears that i'm depressed but what he doesn't know is i can grab rim if i get a runnin…",
         "label": 0,
         "_deepnote_index_column": 99
        },
        {
         "text": "@user Watch  Tom &amp; Jerry  continue 2 hr 100% your depression finish 👌👍🙂🙂🤗 ager nehi tu paise wa…",
         "label": 0,
         "_deepnote_index_column": 100
        },
        {
         "text": "hello, depression is kicking my ass.",
         "label": 1,
         "_deepnote_index_column": 101
        },
        {
         "text": "@user Depression over Crooked H not get baton passed seamlessly from O'bummer and now hatred over P…",
         "label": 0,
         "_deepnote_index_column": 102
        },
        {
         "text": "So feeling a lil depressed tonight so good vibes would be appreciated 💗",
         "label": 1,
         "_deepnote_index_column": 103
        },
        {
         "text": "that Tom odell song another love still hitting the same we going ✈ depression",
         "label": 1,
         "_deepnote_index_column": 104
        },
        {
         "text": "ugh everything sucks right now #depressed",
         "label": 1,
         "_deepnote_index_column": 105
        },
        {
         "text": "I hope this is the last time that I have to watch Philly this season. Their offense depresses me #T…",
         "label": 0,
         "_deepnote_index_column": 106
        },
        {
         "text": "Lol y'all falsely romanticize depression and mental breakdowns and loneliness like that shit is a c…",
         "label": 0,
         "_deepnote_index_column": 107
        },
        {
         "text": "stressed, depressed and sleep deprived... life is absolutely great (‘:",
         "label": 1,
         "_deepnote_index_column": 108
        },
        {
         "text": "depression is dampening my creativity instead of fueling it... i was lied to many times",
         "label": 1,
         "_deepnote_index_column": 109
        },
        {
         "text": "Being stuck in tk working almost everyday is depressing when everyone around you is traveling 🤦🏾‍♀️",
         "label": 0,
         "_deepnote_index_column": 110
        },
        {
         "text": "I'm really depressed today so I'm gonna do this tomorrow. Sorry",
         "label": 1,
         "_deepnote_index_column": 111
        },
        {
         "text": "As I was uploading today's video I got an email saying I won't be allowed to record BO4 gameplay at…",
         "label": 0,
         "_deepnote_index_column": 112
        },
        {
         "text": "i'm so depressed",
         "label": 1,
         "_deepnote_index_column": 113
        },
        {
         "text": "FUCK ANXIETY. 🖕🖕",
         "label": 1,
         "_deepnote_index_column": 114
        },
        {
         "text": "That Pihu trailer made my anxiety spike",
         "label": 1,
         "_deepnote_index_column": 115
        },
        {
         "text": "Got a very suspicious scam email and now im kinda anxious",
         "label": 0,
         "_deepnote_index_column": 116
        },
        {
         "text": "@user @user This is depressing me",
         "label": 1,
         "_deepnote_index_column": 117
        },
        {
         "text": "// Feeling down about stuffs.Anxiety probably.",
         "label": 1,
         "_deepnote_index_column": 118
        },
        {
         "text": "having anxiety is like being sad for no reasons seconds after u feel happy.",
         "label": 1,
         "_deepnote_index_column": 119
        },
        {
         "text": "anxiety consumes you.",
         "label": 1,
         "_deepnote_index_column": 120
        },
        {
         "text": "@user Damn that shit depressing",
         "label": 0,
         "_deepnote_index_column": 121
        },
        {
         "text": "guess which bitch has major anxiety but made plans to pick someone up from LAX as a power move???? …",
         "label": 1,
         "_deepnote_index_column": 122
        },
        {
         "text": "No one:My friend: your social anxiety is so bad",
         "label": 1,
         "_deepnote_index_column": 123
        },
        {
         "text": "im depressed and want someone to talk to me but im also too depressed to answer messages :(",
         "label": 1,
         "_deepnote_index_column": 124
        },
        {
         "text": "gonna do some depressed asos shopping instead of cleaning my shit state room",
         "label": 1,
         "_deepnote_index_column": 125
        },
        {
         "text": "Why does anxiety have the power to destroy every other emotion you want to feel",
         "label": 1,
         "_deepnote_index_column": 126
        },
        {
         "text": "ugh anxiety hits me rn 😭",
         "label": 1,
         "_deepnote_index_column": 127
        },
        {
         "text": "American politics is depressing.",
         "label": 0,
         "_deepnote_index_column": 128
        },
        {
         "text": "@user i'm having an anxiety attack just thinking about it 😂",
         "label": 0,
         "_deepnote_index_column": 129
        },
        {
         "text": "im so fucking anxious *starts cleaning with a broom* IM SO FUCKING ANXIOUS *saihara-kun comes in* G…",
         "label": 1,
         "_deepnote_index_column": 130
        },
        {
         "text": "Aside from my depression &amp; grief, I had a pretty cool birthday 🤷🏾‍♀️",
         "label": 1,
         "_deepnote_index_column": 131
        },
        {
         "text": "Anxiety has peaked tonight",
         "label": 1,
         "_deepnote_index_column": 132
        },
        {
         "text": "i hate it when people use the term 'nagdedepress-depressan'... can u pls explain to me why i would …",
         "label": 1,
         "_deepnote_index_column": 133
        },
        {
         "text": "Long ass dream about very real inevitability. #Depressing #BootInAss #FML",
         "label": 0,
         "_deepnote_index_column": 134
        },
        {
         "text": "Maybe I'm exhausted, maybe I might be actually depressed. I guess we'll have to see tomorrow morning",
         "label": 0,
         "_deepnote_index_column": 135
        },
        {
         "text": "You obviously don't know anything about social anxiety",
         "label": 1,
         "_deepnote_index_column": 136
        },
        {
         "text": "im going to check the nurse room again. I feel so much pain in my chest, this anxiety needs to leav…",
         "label": 1,
         "_deepnote_index_column": 137
        },
        {
         "text": "i feel so depressed bc of these last two days i dont know how to even be happy anymore :/",
         "label": 1,
         "_deepnote_index_column": 138
        },
        {
         "text": "@user dont worry about it we all have anxiety you'll get it eventually",
         "label": 1,
         "_deepnote_index_column": 139
        },
        {
         "text": "@user Just took me 132.8 minutes to circle Earth. I really did use to love doing this without anxie…",
         "label": 1,
         "_deepnote_index_column": 140
        },
        {
         "text": "My anxiety levels have been one million lately, and I just want to know why",
         "label": 1,
         "_deepnote_index_column": 141
        },
        {
         "text": "mf ain't gone be happy til i'm somewhere dead die to stress &amp; depression .",
         "label": 1,
         "_deepnote_index_column": 142
        },
        {
         "text": "can i stop being a depressed little bitch it's annoying",
         "label": 1,
         "_deepnote_index_column": 143
        },
        {
         "text": "S/o depression naps",
         "label": 1,
         "_deepnote_index_column": 144
        },
        {
         "text": "SKDJDJ ILL REPLACE MY POST II DEPRESSION W PRE II HYPE FOR SG, HK N MUMBAI",
         "label": 0,
         "_deepnote_index_column": 145
        },
        {
         "text": "sunshine, good music + the windows down = goodbye seasonal depression, you won't be missed🌞🌞🚗🎵",
         "label": 1,
         "_deepnote_index_column": 146
        },
        {
         "text": "@user @user @user This cured my depression, thanks boss",
         "label": 1,
         "_deepnote_index_column": 147
        },
        {
         "text": "New uniforms and now apparently a whole new roster. #Indians #Depressing",
         "label": 0,
         "_deepnote_index_column": 148
        },
        {
         "text": "depression is hella real no if ands or buts about it, its unfair to have someone else trying to fix…",
         "label": 1,
         "_deepnote_index_column": 149
        },
        {
         "text": "I have so much dread and anxiety, I'm impressed I haven't vomited. This has been a PSA.",
         "label": 1,
         "_deepnote_index_column": 150
        },
        {
         "text": "Depressive episodes in at 12 am when ur parents r fighting is fun",
         "label": 1,
         "_deepnote_index_column": 151
        },
        {
         "text": "I'm Danny Dyer, and I'm about to meet Britain's most depressed air stewards",
         "label": 0,
         "_deepnote_index_column": 152
        },
        {
         "text": "But the depression and anxiety stay the same",
         "label": 1,
         "_deepnote_index_column": 153
        },
        {
         "text": "i drank half an iced coffee and I went home and have been in bed for two hours because I'm too anxi…",
         "label": 1,
         "_deepnote_index_column": 154
        },
        {
         "text": "My anxiety does not exist at theme parks",
         "label": 1,
         "_deepnote_index_column": 155
        },
        {
         "text": "They all suffer from depression.",
         "label": 0,
         "_deepnote_index_column": 156
        },
        {
         "text": "its 7p on a weds night and im anxious about hippo habitat loss in central Africafuckkkkk",
         "label": 0,
         "_deepnote_index_column": 157
        },
        {
         "text": "I'm depressed af my heart is crying goodnight everyone and goodnight to taylor",
         "label": 1,
         "_deepnote_index_column": 158
        },
        {
         "text": "The more homework that a child receives, the more likely that child is to suffer from depression.",
         "label": 0,
         "_deepnote_index_column": 159
        },
        {
         "text": "Change up your ring and alarm tones to remove the anxiety and hatred of them that builds up over ti…",
         "label": 0,
         "_deepnote_index_column": 160
        },
        {
         "text": "I cannot stand flies. They give me anxiety they need to be extradited right off this planet. N ther…",
         "label": 0,
         "_deepnote_index_column": 161
        },
        {
         "text": "When your Aquarius friend is depressed:",
         "label": 0,
         "_deepnote_index_column": 162
        },
        {
         "text": "that I was on the 'devine diet or depressed' asdfghjkl 😂",
         "label": 0,
         "_deepnote_index_column": 163
        },
        {
         "text": "finally scotty sire has a reason to not be depressed",
         "label": 0,
         "_deepnote_index_column": 164
        },
        {
         "text": "just depression-eating @user thanks",
         "label": 1,
         "_deepnote_index_column": 165
        },
        {
         "text": "I'm gonna be disconnected from the results of game five while heading home and oh god the anxiety 🥺",
         "label": 0,
         "_deepnote_index_column": 166
        },
        {
         "text": "If @user hasn't made a cover of 'The Best' by Bonnie Tyler/Tina Turner, as 'I'm simply depressed', …",
         "label": 1,
         "_deepnote_index_column": 167
        },
        {
         "text": "I'm officially depressed, I forgot my headphones at home",
         "label": 0,
         "_deepnote_index_column": 168
        },
        {
         "text": "fuck your zodiac sign, what anti-depressant are you on?",
         "label": 0,
         "_deepnote_index_column": 169
        },
        {
         "text": "im so happy and depressed at the same time",
         "label": 1,
         "_deepnote_index_column": 170
        },
        {
         "text": "Trust me i used to think hanging out with friends is better in handling my anxiety and stress but n…",
         "label": 1,
         "_deepnote_index_column": 171
        },
        {
         "text": "That's a lot to clean up... I'm getting anxiety already",
         "label": 1,
         "_deepnote_index_column": 172
        },
        {
         "text": "@user Overthinking Nostalgia DepressionFrustration",
         "label": 0,
         "_deepnote_index_column": 173
        },
        {
         "text": "I sleep probably way more than the average person lol depression is a bitch",
         "label": 1,
         "_deepnote_index_column": 174
        },
        {
         "text": "@user i do that with my antidepressants 😬",
         "label": 1,
         "_deepnote_index_column": 175
        },
        {
         "text": "I love that one of my supervisors let's me text her when I need switch shifts. Helps ease my anxiet…",
         "label": 1,
         "_deepnote_index_column": 176
        },
        {
         "text": "Is he stressed? depressed? up to the point wherein 'drugs' is the only way for him to escape realit…",
         "label": 0,
         "_deepnote_index_column": 177
        },
        {
         "text": "Should I continue to grow the depression beard",
         "label": 1,
         "_deepnote_index_column": 178
        },
        {
         "text": "@user @user That's just depressing",
         "label": 0,
         "_deepnote_index_column": 179
        },
        {
         "text": "today is a depressing day",
         "label": 1,
         "_deepnote_index_column": 180
        },
        {
         "text": "Procrastination and depression don't mix. I promise you that. 😰",
         "label": 1,
         "_deepnote_index_column": 181
        },
        {
         "text": "@user Hmm...a clear case of depression...",
         "label": 0,
         "_deepnote_index_column": 182
        },
        {
         "text": "@user I'm struggling with anxiety, loneliness, depression. Finding myself struggling to have that i…",
         "label": 1,
         "_deepnote_index_column": 183
        },
        {
         "text": "so tired of being depressed this shits making me laugh now",
         "label": 1,
         "_deepnote_index_column": 184
        },
        {
         "text": "Sure! I also remember being anxious about being asked about the criminal am nerve of Grassi!",
         "label": 0,
         "_deepnote_index_column": 185
        },
        {
         "text": "wow first day of daylight saving and my seasonal depression has already kicked in :)))",
         "label": 1,
         "_deepnote_index_column": 186
        },
        {
         "text": "and my anxiety is breaking me, it kills mei'm living in a world so fake, I lost touch of the real me",
         "label": 1,
         "_deepnote_index_column": 187
        },
        {
         "text": "I don't know which one is keeping me up at this point ... my depression or my anxiety 😩",
         "label": 1,
         "_deepnote_index_column": 188
        },
        {
         "text": "Stoned and depressed a very scary place to be",
         "label": 1,
         "_deepnote_index_column": 189
        },
        {
         "text": "• Don't focus on the end result and how you think you'll do. This can increase your anxiety and mak…",
         "label": 0,
         "_deepnote_index_column": 190
        },
        {
         "text": "@user at least u make it look less depressing",
         "label": 0,
         "_deepnote_index_column": 191
        },
        {
         "text": "@user 23% of depression doesn't come out of space dave",
         "label": 0,
         "_deepnote_index_column": 192
        },
        {
         "text": "@user 'you better not. I spent too long getting him out of a whole of depression just for the same …",
         "label": 0,
         "_deepnote_index_column": 193
        },
        {
         "text": "@user Yessss . I've been depressed recently and it would nice 💗",
         "label": 1,
         "_deepnote_index_column": 194
        },
        {
         "text": "Update: anxiously sitting in my car kinda want to sleep",
         "label": 1,
         "_deepnote_index_column": 195
        },
        {
         "text": "@user Eeps. Yeah. Plus I have all kinds of anxiety about Drs AND driving so it's been an awesome da…",
         "label": 0,
         "_deepnote_index_column": 196
        },
        {
         "text": "I deal with Anxiety, but you're not gonna see me walking around with a sweatshirt showcasing and pr…",
         "label": 1,
         "_deepnote_index_column": 197
        },
        {
         "text": "does anyone else get an extreme anxiety spike when they hear the siren from the silent hill movie?",
         "label": 0,
         "_deepnote_index_column": 198
        },
        {
         "text": "ok welp it's anxiety hours.",
         "label": 1,
         "_deepnote_index_column": 199
        },
        {
         "text": "@user @user You sound pretty anxious!Let the House Work, baby! 😂🤣😂",
         "label": 0,
         "_deepnote_index_column": 200
        },
        {
         "text": "I knew that Quinn could be idealistic, but I was surprised that he seemed so anxious today while we…",
         "label": 0,
         "_deepnote_index_column": 201
        },
        {
         "text": "Does anyone get like random burst of anxiety cause their brain tell them their bf doesn't like them…",
         "label": 1,
         "_deepnote_index_column": 202
        },
        {
         "text": "anxiety sucks, for real",
         "label": 1,
         "_deepnote_index_column": 203
        },
        {
         "text": "@user same they bully me and i blame them for having depression now and being socially awkward",
         "label": 1,
         "_deepnote_index_column": 204
        },
        {
         "text": "@user So anxious ab thissss",
         "label": 0,
         "_deepnote_index_column": 205
        },
        {
         "text": "@user @user You're to young to know what depression is.",
         "label": 1,
         "_deepnote_index_column": 206
        },
        {
         "text": "Gonns play overdepressed",
         "label": 0,
         "_deepnote_index_column": 207
        },
        {
         "text": "The post good ass weekend depression is real af",
         "label": 1,
         "_deepnote_index_column": 208
        },
        {
         "text": "Anxiety is no joke dude... you literally can't do shit about it",
         "label": 1,
         "_deepnote_index_column": 209
        },
        {
         "text": "@user You depressed?",
         "label": 0,
         "_deepnote_index_column": 210
        },
        {
         "text": "@user anxious to hear",
         "label": 0,
         "_deepnote_index_column": 211
        },
        {
         "text": "Hate waking up to an anxiety attack",
         "label": 1,
         "_deepnote_index_column": 212
        },
        {
         "text": "My pet fishes seem to have separation anxiety from my dad and his loud jamaican voice. Everytime he…",
         "label": 0,
         "_deepnote_index_column": 213
        },
        {
         "text": "@user NO THAT WAS ME I WAS JUST BEING DUMB AND ANXIOUS IT WONT BE THAT BAD IM SORRY SJGJSJF",
         "label": 0,
         "_deepnote_index_column": 214
        },
        {
         "text": "I hate having anxiety",
         "label": 1,
         "_deepnote_index_column": 215
        },
        {
         "text": "Look I'm already depressed there is nO NEED for this. NONE.",
         "label": 1,
         "_deepnote_index_column": 216
        },
        {
         "text": "me: trying to say but just tweeting is making me kind of anxious dsKJSDFH...",
         "label": 0,
         "_deepnote_index_column": 217
        },
        {
         "text": "Anxiety and coffee does not mix well together 😣😣",
         "label": 1,
         "_deepnote_index_column": 218
        },
        {
         "text": "Vibrating with great anxietyMy insides throb at your touchI need to have you like thisFilling Me cl…",
         "label": 1,
         "_deepnote_index_column": 219
        },
        {
         "text": "i call dibs on the stone that absolves my ever-increasing crippling anxiety",
         "label": 1,
         "_deepnote_index_column": 220
        },
        {
         "text": "@user @user Practically every synagogue near me has a security detail. It's so depressing",
         "label": 0,
         "_deepnote_index_column": 221
        },
        {
         "text": "mad how the whole of the uk were pure buzzing in the sun now we're all depressed again lol",
         "label": 0,
         "_deepnote_index_column": 222
        },
        {
         "text": "ok so I'm gonna try to promise myself that i won't get bored and depressed an end the year at least…",
         "label": 0,
         "_deepnote_index_column": 223
        },
        {
         "text": "depression is not something that will magically go away by 'moving on'. u need to get educated",
         "label": 1,
         "_deepnote_index_column": 224
        },
        {
         "text": "28 hours since sleep and I'm feeling very very very very very very anxious",
         "label": 1,
         "_deepnote_index_column": 225
        },
        {
         "text": "F this. I'm about to have an anxiety attack.",
         "label": 1,
         "_deepnote_index_column": 226
        },
        {
         "text": "My anxiety is doing crazy things today.",
         "label": 1,
         "_deepnote_index_column": 227
        },
        {
         "text": "Anxiety attacks are no joke..",
         "label": 1,
         "_deepnote_index_column": 228
        },
        {
         "text": "Taking practice tests for my boards gives me SO much anxiety.",
         "label": 1,
         "_deepnote_index_column": 229
        },
        {
         "text": "Life is depressing but at least there's hentai and coffee.",
         "label": 0,
         "_deepnote_index_column": 230
        },
        {
         "text": "anxiety attack fucks",
         "label": 1,
         "_deepnote_index_column": 231
        },
        {
         "text": "@user @user This country is a mess, read my most recent tweets, its so depressing at how down hill …",
         "label": 0,
         "_deepnote_index_column": 232
        },
        {
         "text": "Depression causes undernutrition, but I've gained weight???? Science is broken.",
         "label": 1,
         "_deepnote_index_column": 233
        },
        {
         "text": "@user Well, I'm anxious.",
         "label": 0,
         "_deepnote_index_column": 234
        },
        {
         "text": "@user @user Then I'm not sure you know what depression is.",
         "label": 0,
         "_deepnote_index_column": 235
        },
        {
         "text": "@user @user @user The implications of that quote are so depressing",
         "label": 0,
         "_deepnote_index_column": 236
        },
        {
         "text": "My anxiety is on EDGE",
         "label": 1,
         "_deepnote_index_column": 237
        },
        {
         "text": "i really need more long term friends, i'm falling deeper into a depressive episode nd it sucks h",
         "label": 1,
         "_deepnote_index_column": 238
        },
        {
         "text": "@user Anxiety labda but anyways ukipata wawili just push the other over here but for the time being…",
         "label": 0,
         "_deepnote_index_column": 239
        },
        {
         "text": "Hello depression. I haven't seen you in awhile.",
         "label": 1,
         "_deepnote_index_column": 240
        },
        {
         "text": "me trying to fight anxiety",
         "label": 1,
         "_deepnote_index_column": 241
        },
        {
         "text": "do u ever feel anxious for no reason? yeah same",
         "label": 0,
         "_deepnote_index_column": 242
        },
        {
         "text": "Too many @user logistics anxieties right now...bout to ride a bike to work off some of this energy …",
         "label": 0,
         "_deepnote_index_column": 243
        },
        {
         "text": "@user depressed bitch 😂😂😂",
         "label": 0,
         "_deepnote_index_column": 244
        },
        {
         "text": "My dream significant other has three eyes, a dog in their tinder bio, and anxiety.",
         "label": 0,
         "_deepnote_index_column": 245
        },
        {
         "text": "going to the bars my dad always went to gives me a whole new kind of anxiety",
         "label": 1,
         "_deepnote_index_column": 246
        },
        {
         "text": "takes two pain meds so i can get knocked tf outalso anxiety turned into headache so theres thatam o…",
         "label": 1,
         "_deepnote_index_column": 247
        },
        {
         "text": "the way my mum guilt trips me into doing things i dont want to do is the reason i have depression a…",
         "label": 1,
         "_deepnote_index_column": 248
        },
        {
         "text": "@user This current administration is the cause of a lot of people I know feeling deeply depressed.",
         "label": 0,
         "_deepnote_index_column": 249
        }
       ],
       "rows_bottom": [
        {
         "text": "Depressed me and the positive changes I made while I was feeling better",
         "label": 0,
         "_deepnote_index_column": 650
        },
        {
         "text": "@user @user @user Or what does liking pics have to with depression....this tweet is dumb",
         "label": 0,
         "_deepnote_index_column": 651
        },
        {
         "text": "My anxiety is through the roof today",
         "label": 1,
         "_deepnote_index_column": 652
        },
        {
         "text": "@user @user @user Depression is a bitch.",
         "label": 1,
         "_deepnote_index_column": 653
        },
        {
         "text": "@user anxiously awaiting for the cans to hit stores",
         "label": 0,
         "_deepnote_index_column": 654
        },
        {
         "text": "Lofl my anxiety ruins my life",
         "label": 1,
         "_deepnote_index_column": 655
        },
        {
         "text": "I've been in a good mood all morning and then BAM depression just hit my in the face lmao",
         "label": 1,
         "_deepnote_index_column": 656
        },
        {
         "text": "@user Anxiety at being stuck in a lift with people where there's no space makes me do it",
         "label": 0,
         "_deepnote_index_column": 657
        },
        {
         "text": "The post PAX withdrawal/depression is damn real. Unplugged can't come soon enough!",
         "label": 0,
         "_deepnote_index_column": 658
        },
        {
         "text": "Chicago traffic gives me fucking anxiety",
         "label": 0,
         "_deepnote_index_column": 659
        },
        {
         "text": "my first foray into writing simon/markus: Simon is a depressed old man and Markus is his manic pixi…",
         "label": 0,
         "_deepnote_index_column": 660
        },
        {
         "text": "I think he's trying to get killed. He's always saying he's depressed so u never know",
         "label": 0,
         "_deepnote_index_column": 661
        },
        {
         "text": "So much for self care and relaxation. Anxiety up the ass 😖",
         "label": 1,
         "_deepnote_index_column": 662
        },
        {
         "text": "its a depressing day to be a madridista im going to bed",
         "label": 0,
         "_deepnote_index_column": 663
        },
        {
         "text": "@user I agree with you. I also use fidgets, they've been invaluable to me in situations when I'm co…",
         "label": 1,
         "_deepnote_index_column": 664
        },
        {
         "text": "Depress your mentions, ain't got to be a bighead",
         "label": 1,
         "_deepnote_index_column": 665
        },
        {
         "text": "Today has been pretty shit but  I did wash my sheets so at least I can be depressed in a nice clean…",
         "label": 0,
         "_deepnote_index_column": 666
        },
        {
         "text": "@user Low key i wish my mom knew she had anxiety and that i inherited it. It could have helped majo…",
         "label": 0,
         "_deepnote_index_column": 667
        },
        {
         "text": "forgot to get veggies on bowl im depressed",
         "label": 0,
         "_deepnote_index_column": 668
        },
        {
         "text": "63 hours of depression and counting 👍🏼",
         "label": 1,
         "_deepnote_index_column": 669
        },
        {
         "text": "Anxiety on 10000",
         "label": 1,
         "_deepnote_index_column": 670
        },
        {
         "text": "19 is just as depressing as18...",
         "label": 0,
         "_deepnote_index_column": 671
        },
        {
         "text": "I wish everyone would understand that when having depression, you can't control your thoughts. Inst…",
         "label": 1,
         "_deepnote_index_column": 672
        },
        {
         "text": "Birthday tomorrow. Only one year until the rather more depressing landmark one! Woo!",
         "label": 0,
         "_deepnote_index_column": 673
        },
        {
         "text": "OH MY GODTELL ME WHO IS THIS PERSONOZKSOKAXOAK I'M CURIOUS AND ANXIOUS ABOUT THAT",
         "label": 0,
         "_deepnote_index_column": 674
        },
        {
         "text": "why did i agree to 8am shifts, my anxiety is so bad every morning i feel like i'm going to puke",
         "label": 1,
         "_deepnote_index_column": 675
        },
        {
         "text": "i just remember i got paid time to dump money to get rid of my depression",
         "label": 1,
         "_deepnote_index_column": 676
        },
        {
         "text": "I just had one of the worst anxiety attacks I've had in a cool min what's uppppp 🤪",
         "label": 1,
         "_deepnote_index_column": 677
        },
        {
         "text": "@user This is so cool!! Thank you for considering those of us with social anxiety, @user love you y…",
         "label": 1,
         "_deepnote_index_column": 678
        },
        {
         "text": "I hate anxiety. Haven't eaten all damn day",
         "label": 1,
         "_deepnote_index_column": 679
        },
        {
         "text": "What cures my depression? Baby Zia's small long hugs and l'amour de ma famille 💕",
         "label": 1,
         "_deepnote_index_column": 680
        },
        {
         "text": "im kinda glad i didnt go to the movie 😳 just from videos im already anxious jfc",
         "label": 0,
         "_deepnote_index_column": 681
        },
        {
         "text": "I absolutely hate not being able to fall asleep... Anxiety drives me insane.",
         "label": 1,
         "_deepnote_index_column": 682
        },
        {
         "text": "@user Oh wow!!! lol that's depressing on this end",
         "label": 0,
         "_deepnote_index_column": 683
        },
        {
         "text": "friend: is depressedme, struggling to help them feel better:",
         "label": 1,
         "_deepnote_index_column": 684
        },
        {
         "text": "my life is just me trying to say something about how depressed and sad i feel all the time while be…",
         "label": 0,
         "_deepnote_index_column": 685
        },
        {
         "text": "Today, woke up to blessings on blessings. It's the small reminder my anxiety needed 👏🏽🙏🏽🙌🏽",
         "label": 0,
         "_deepnote_index_column": 686
        },
        {
         "text": "When they say to use fitness to help with depression",
         "label": 0,
         "_deepnote_index_column": 687
        },
        {
         "text": "Actually parang wala namang rason para maging sad ako but my anxiety casts all the happiness aside.…",
         "label": 0,
         "_deepnote_index_column": 688
        },
        {
         "text": "i get depressed. i buy a DVD on ebay. its the perfect system really!",
         "label": 0,
         "_deepnote_index_column": 689
        },
        {
         "text": "Stressed and depressed x1000 lol",
         "label": 1,
         "_deepnote_index_column": 690
        },
        {
         "text": "depressed - edgy thot",
         "label": 1,
         "_deepnote_index_column": 691
        },
        {
         "text": "did tess have like an episode of anxiety? anxiety attack? #SweetBitter",
         "label": 0,
         "_deepnote_index_column": 692
        },
        {
         "text": "me: himy mom: oh good evening my depressed hoe",
         "label": 0,
         "_deepnote_index_column": 693
        },
        {
         "text": "Anxiety just hit me so hard",
         "label": 1,
         "_deepnote_index_column": 694
        },
        {
         "text": "I'm up super early coz I just had a really depressing dream and I now need yt :(",
         "label": 0,
         "_deepnote_index_column": 695
        },
        {
         "text": "haven't taken my anxiety medicine in like 2 weeks, which is probably why I feel like my life is fal…",
         "label": 1,
         "_deepnote_index_column": 696
        },
        {
         "text": "this is the pdx depression",
         "label": 1,
         "_deepnote_index_column": 697
        },
        {
         "text": "guess who has a bucket load of anxiety on this fine morning",
         "label": 1,
         "_deepnote_index_column": 698
        },
        {
         "text": "Gotta stop letting depression get the best of me.",
         "label": 1,
         "_deepnote_index_column": 699
        },
        {
         "text": "@user Anxiously waiting for his treat:) wondering where it is.",
         "label": 0,
         "_deepnote_index_column": 700
        },
        {
         "text": "that was honestly horrible advice and that just made me more anxious ahshajjaabsnaksnns",
         "label": 0,
         "_deepnote_index_column": 701
        },
        {
         "text": "being a depress person ain't a jk",
         "label": 1,
         "_deepnote_index_column": 702
        },
        {
         "text": "Depression meal is bagel bites with mint chocolate chip ice cream",
         "label": 0,
         "_deepnote_index_column": 703
        },
        {
         "text": "im not happy - in fact i feel miserable, anxious, lonely and horrible. all the time.",
         "label": 1,
         "_deepnote_index_column": 704
        },
        {
         "text": "Loosing everything little by little ... breaking down day after day .. sleeping thru my depression …",
         "label": 1,
         "_deepnote_index_column": 705
        },
        {
         "text": "@user Wow I thought this product would cater towards my 90s nostalgia, not my 2018 depression.",
         "label": 1,
         "_deepnote_index_column": 706
        },
        {
         "text": "@user And I'm stunned and depressed it's that high.",
         "label": 1,
         "_deepnote_index_column": 707
        },
        {
         "text": "Curse you anxiety. Why do you only manifest yourself at night with nausea and disrupt my sleep 😭😭😭",
         "label": 1,
         "_deepnote_index_column": 708
        },
        {
         "text": "Music and love cures my depression",
         "label": 1,
         "_deepnote_index_column": 709
        },
        {
         "text": "At a time when depression &amp; mental illness are so prevalent in our society, we must carefully g…",
         "label": 0,
         "_deepnote_index_column": 710
        },
        {
         "text": "save me from depression cuz my life got no direction",
         "label": 1,
         "_deepnote_index_column": 711
        },
        {
         "text": "@user my dear melancholy but like ... 1029382x more depressing",
         "label": 1,
         "_deepnote_index_column": 712
        },
        {
         "text": "The lack of a stylus with Super Mario Maker 2 is really depressing. Where you at @user",
         "label": 0,
         "_deepnote_index_column": 713
        },
        {
         "text": "Just sitting in my OB's office is making me so anxious. I'm so ready to meet my little nugget!",
         "label": 0,
         "_deepnote_index_column": 714
        },
        {
         "text": "This summer is going to be a lot I can feel it now they already cutting up, and it's the exact reas…",
         "label": 1,
         "_deepnote_index_column": 715
        },
        {
         "text": "@user I hate this cause people say oh well at least you have food. Like that stops depression or fe…",
         "label": 1,
         "_deepnote_index_column": 716
        },
        {
         "text": "@user anxiety&gt; @user anxiety #BattleOfWinterfellDay",
         "label": 0,
         "_deepnote_index_column": 717
        },
        {
         "text": "The reason why ga makes me anxious and why I don't want front row hhhh help",
         "label": 0,
         "_deepnote_index_column": 718
        },
        {
         "text": "Despite what your public school education taught you, the New Deal was not the cure to the great de…",
         "label": 0,
         "_deepnote_index_column": 719
        },
        {
         "text": "@user I'm ok now had a rough night with my anxiety which leads to stomache pain I'm ok 🙂 &lt;3",
         "label": 1,
         "_deepnote_index_column": 720
        },
        {
         "text": "@user Truly am anxious about it lol I will soon though 😂",
         "label": 0,
         "_deepnote_index_column": 721
        },
        {
         "text": "I check the local spca website every day to look at cats and it's so depressing seeing how many bun…",
         "label": 0,
         "_deepnote_index_column": 722
        },
        {
         "text": "i literally feel left out every day im  so depressed",
         "label": 1,
         "_deepnote_index_column": 723
        },
        {
         "text": "@user You nailed it. Actually, I did notice! And that made me supremely more anxious.",
         "label": 0,
         "_deepnote_index_column": 724
        },
        {
         "text": "@user Our athem sounds depressing, but I guess it's pretty cool 🦁🇳🇱",
         "label": 0,
         "_deepnote_index_column": 725
        },
        {
         "text": "Anxiety is so fucking CATCHY but selena's entrance sucks tbh just her entrance tho she killed the r…",
         "label": 0,
         "_deepnote_index_column": 726
        },
        {
         "text": "Someone convince me to go to WrestleMania next year and not let my stupid anxiety get in the way!!!…",
         "label": 0,
         "_deepnote_index_column": 727
        },
        {
         "text": "take care of ur mental health — the really depressed girl",
         "label": 1,
         "_deepnote_index_column": 728
        },
        {
         "text": "me: needs attention also me: gets incredibly anxious when people look at me",
         "label": 1,
         "_deepnote_index_column": 729
        },
        {
         "text": "i'm sorry for so many depressing tweets lately i just feel like i have to put my thoughts somewhere",
         "label": 1,
         "_deepnote_index_column": 730
        },
        {
         "text": "I give myself anxiety",
         "label": 1,
         "_deepnote_index_column": 731
        },
        {
         "text": "Ahhh I'm finally feeling like myself again 😩👏🏾👏🏾 depression you bitch you almost got me 😂",
         "label": 1,
         "_deepnote_index_column": 732
        },
        {
         "text": "im all alone and depressed",
         "label": 1,
         "_deepnote_index_column": 733
        },
        {
         "text": "@user @user yeh, uh, unless you wanna deal with my anxiety ridden self then sure 😆",
         "label": 1,
         "_deepnote_index_column": 734
        },
        {
         "text": "@user Just a wave of normal depression poking through the post concert depression. It's all good th…",
         "label": 1,
         "_deepnote_index_column": 735
        },
        {
         "text": "WHY AM I DEPRESSED?",
         "label": 1,
         "_deepnote_index_column": 736
        },
        {
         "text": "@user aaaa i forgot an expression, tired or depressed would be great, your choice",
         "label": 1,
         "_deepnote_index_column": 737
        },
        {
         "text": "jsjdjdjf i talk as if i haven't been big sad as it is but it's really almost annual hailey depressi…",
         "label": 1,
         "_deepnote_index_column": 738
        },
        {
         "text": "@user another anxiety chat any time soon? 😘🙏🏼",
         "label": 0,
         "_deepnote_index_column": 739
        },
        {
         "text": "@user 🗣I have depression!",
         "label": 1,
         "_deepnote_index_column": 740
        },
        {
         "text": "Driving in this weather with Leo in the car gets my anxiety through the roof 😖",
         "label": 0,
         "_deepnote_index_column": 741
        },
        {
         "text": "I am so anxious right now I can literally feel my whole body tensing up",
         "label": 1,
         "_deepnote_index_column": 742
        },
        {
         "text": "'You're too young to be depressed'",
         "label": 1,
         "_deepnote_index_column": 743
        },
        {
         "text": "i feel like they have an issue with me. or is it just my anxiety?",
         "label": 1,
         "_deepnote_index_column": 744
        },
        {
         "text": "my irl caught me checking cals on a bag of popcorn and my anxiety is thru the roof",
         "label": 1,
         "_deepnote_index_column": 745
        },
        {
         "text": "Sundays suck.Tooo anxious to sleep.Perfect.",
         "label": 1,
         "_deepnote_index_column": 746
        },
        {
         "text": "Do u think if I baked the book Rewriting The Rules into a cake and ate it, my anxiety would disappe…",
         "label": 1,
         "_deepnote_index_column": 747
        },
        {
         "text": "Study shows 30% of teens with T1D have depressive symptoms! This disease is hard on our kids.",
         "label": 0,
         "_deepnote_index_column": 748
        },
        {
         "text": "I wish test anxiety wasn't a thing",
         "label": 1,
         "_deepnote_index_column": 749
        },
        {
         "text": "How I go from feeling so so happy to severe anxiety and panic attacks I will never know",
         "label": 1,
         "_deepnote_index_column": 750
        },
        {
         "text": "I'm depressed they're making a Hulu series and didn't cast @user as Alaska",
         "label": 1,
         "_deepnote_index_column": 751
        },
        {
         "text": "'You look so tired' Is call depression",
         "label": 1,
         "_deepnote_index_column": 752
        },
        {
         "text": "@user I'll be your depression medicine",
         "label": 0,
         "_deepnote_index_column": 753
        },
        {
         "text": "Some of you don't have anxiety, you just have to pooh",
         "label": 0,
         "_deepnote_index_column": 754
        },
        {
         "text": "well fucking joke on u because im already extremely depressed",
         "label": 1,
         "_deepnote_index_column": 755
        },
        {
         "text": "If you watch porn in HD you can literally see the depression on their faces.",
         "label": 0,
         "_deepnote_index_column": 756
        },
        {
         "text": "I'm so horny but I am depressed",
         "label": 1,
         "_deepnote_index_column": 757
        },
        {
         "text": "The streets of England are quiet. This is depressing.",
         "label": 1,
         "_deepnote_index_column": 758
        },
        {
         "text": "Candle feels depress and isolated she hid in a cave.",
         "label": 0,
         "_deepnote_index_column": 759
        },
        {
         "text": "the closer to summer means the closer to a new rick and morty season but also the seasonal depressi…",
         "label": 1,
         "_deepnote_index_column": 760
        },
        {
         "text": "someone: h-me, someone with crippling social anxiety: hï! ωhα†'š ψ⊕ur ƒα∀⊕rï†ε pεïςε ⊕ƒ ƒuηï†urε",
         "label": 0,
         "_deepnote_index_column": 761
        },
        {
         "text": "depression and obsession don't mix well i'm poisoned and my body don't feel well",
         "label": 1,
         "_deepnote_index_column": 762
        },
        {
         "text": "@user Im not depressed 😂💀💀 I was chillin and thought about it",
         "label": 0,
         "_deepnote_index_column": 763
        },
        {
         "text": "My friends are the cause of my anxiety levels going thru the fucking roof",
         "label": 1,
         "_deepnote_index_column": 764
        },
        {
         "text": "ive joined a lot of discords while of been on here and I don't remember who is on all of them and i…",
         "label": 1,
         "_deepnote_index_column": 765
        },
        {
         "text": "I hate anxiety. I have felt so off lately.",
         "label": 1,
         "_deepnote_index_column": 766
        },
        {
         "text": "Good she out here giving niggas ptsd and depression shorty needs to be taken in by the cdc",
         "label": 1,
         "_deepnote_index_column": 767
        },
        {
         "text": "I like to Direk Bobet Vidanes tackles abiut depression",
         "label": 0,
         "_deepnote_index_column": 768
        },
        {
         "text": "target aesthetic is depression and talking about zodiacs",
         "label": 0,
         "_deepnote_index_column": 769
        },
        {
         "text": "'Stressed and depressed'",
         "label": 1,
         "_deepnote_index_column": 770
        },
        {
         "text": "And when you said manic depression's a frustrated mess",
         "label": 1,
         "_deepnote_index_column": 771
        },
        {
         "text": "I had a dream last night that tom holland and I hugged for five minutes straight and now I'm depres…",
         "label": 0,
         "_deepnote_index_column": 772
        },
        {
         "text": "Movies relieve all kinds of anxiety",
         "label": 0,
         "_deepnote_index_column": 773
        },
        {
         "text": "@user @user Transitioning was the only thing that treated my depressionism and anxietheism.",
         "label": 0,
         "_deepnote_index_column": 774
        },
        {
         "text": "Depression and anxiety",
         "label": 1,
         "_deepnote_index_column": 775
        },
        {
         "text": "I go through a whole stage of anxiety before I ask for a simple $5",
         "label": 0,
         "_deepnote_index_column": 776
        },
        {
         "text": "anxious level: extreme",
         "label": 1,
         "_deepnote_index_column": 777
        },
        {
         "text": "@user @user @user @user this looks like another depressing read - thank you for the heads up",
         "label": 0,
         "_deepnote_index_column": 778
        },
        {
         "text": "i just feel so overwhelmed rn i'm super anxious about 50 different things uh",
         "label": 1,
         "_deepnote_index_column": 779
        },
        {
         "text": "@user Not all rich people have depression. :/",
         "label": 0,
         "_deepnote_index_column": 780
        },
        {
         "text": "Cutting back caffeine can help #reduceanxiety and #irritability.",
         "label": 0,
         "_deepnote_index_column": 781
        },
        {
         "text": "A bit of sunshine for anyone who regularly reads my depressing AF twitter feed.",
         "label": 1,
         "_deepnote_index_column": 782
        },
        {
         "text": "another anxiety filled day ugh",
         "label": 1,
         "_deepnote_index_column": 783
        },
        {
         "text": "SHOUTOUT to the hella abusive person who yelled swear words and unhelpful rage at me when I'm alrea…",
         "label": 1,
         "_deepnote_index_column": 784
        },
        {
         "text": "Anxiety at night is the WORST",
         "label": 1,
         "_deepnote_index_column": 785
        },
        {
         "text": "I love overcoming depression and PTSD from losing a loved one traumatically and healing with your f…",
         "label": 1,
         "_deepnote_index_column": 786
        },
        {
         "text": "@user Yep, all of these depressing futures are depressingly possible.",
         "label": 0,
         "_deepnote_index_column": 787
        },
        {
         "text": "@user It's sad and depressing that I'm living 7 hours away by flight from Korea or Japan 😭 It's dif…",
         "label": 0,
         "_deepnote_index_column": 788
        },
        {
         "text": "@user  fam meh depression is out cuz I used up all meh happiness yesterday",
         "label": 0,
         "_deepnote_index_column": 789
        },
        {
         "text": "Damn. I need to find a way to be happy, cause dis depressed shit ain't workin &amp; it ain't for me.",
         "label": 1,
         "_deepnote_index_column": 790
        },
        {
         "text": "I am not a person built for live-streams they make me so anxious if I get behind",
         "label": 1,
         "_deepnote_index_column": 791
        },
        {
         "text": "omg thank god i can start my midnight pacing soon i was getting so mf anxious djdjjdjk god i'm so g…",
         "label": 1,
         "_deepnote_index_column": 792
        },
        {
         "text": "I dont like wearing foundation.I let people see my flaws, insecurities, and depression up my surfac…",
         "label": 1,
         "_deepnote_index_column": 793
        },
        {
         "text": "@user @user @user Anxiously waiting!",
         "label": 0,
         "_deepnote_index_column": 794
        },
        {
         "text": "My dad said to me that I don't seem depressed but ohhhohohoh boy if I only had the courage to tell …",
         "label": 1,
         "_deepnote_index_column": 795
        },
        {
         "text": "#WATCRY is @user depressed or something?",
         "label": 0,
         "_deepnote_index_column": 796
        },
        {
         "text": "@user AND THEN SHE ALWAYS PULLS THE 🌫🖤☁️ luv u guys sorry i'm so depressed LIKE SHUT TF UP",
         "label": 0,
         "_deepnote_index_column": 797
        },
        {
         "text": "everything is manageable until a depressive episode and pms hit at the exact same time",
         "label": 0,
         "_deepnote_index_column": 798
        },
        {
         "text": "depression at its finest",
         "label": 1,
         "_deepnote_index_column": 799
        },
        {
         "text": "I woke up and was depressed that whole day",
         "label": 1,
         "_deepnote_index_column": 800
        },
        {
         "text": "After break up one moves on a new relationship..and other in depression!",
         "label": 0,
         "_deepnote_index_column": 801
        },
        {
         "text": "Does anyone else's get summer depression. This heat actually makes me miserable",
         "label": 0,
         "_deepnote_index_column": 802
        },
        {
         "text": "Depression is more tiring than work 😩😢😭",
         "label": 1,
         "_deepnote_index_column": 803
        },
        {
         "text": "@user omg ty queen i dont have depression anymore",
         "label": 0,
         "_deepnote_index_column": 804
        },
        {
         "text": "When someone you havent seen or talked to in years and were close to move in a few houses away... h…",
         "label": 0,
         "_deepnote_index_column": 805
        },
        {
         "text": "will I ever have a job that doesn't fill me with massive anxiety lol",
         "label": 0,
         "_deepnote_index_column": 806
        },
        {
         "text": "ive been chugging caffeine since 4:30 this morning my anxiety is going to be through the roof ! 😬",
         "label": 0,
         "_deepnote_index_column": 807
        },
        {
         "text": "@user So much, yes. I can get almost depressed about it.",
         "label": 0,
         "_deepnote_index_column": 808
        },
        {
         "text": "getting more anxious day by day",
         "label": 1,
         "_deepnote_index_column": 809
        },
        {
         "text": "My oc is supertalented to be horny and depressed at the same time",
         "label": 0,
         "_deepnote_index_column": 810
        },
        {
         "text": "So they're now just 30+ &amp; depressed because of the cultural pressure to marry. Once you go blac…",
         "label": 0,
         "_deepnote_index_column": 811
        },
        {
         "text": "I have a bio test in a few  minutes and my anxiety is just being annoying, can it not... its not th…",
         "label": 0,
         "_deepnote_index_column": 812
        },
        {
         "text": "I got soo much coming up this month  getting anxiety just thinking about it",
         "label": 1,
         "_deepnote_index_column": 813
        },
        {
         "text": "im just kinda sad i quit because depression and then started gaining weight .",
         "label": 1,
         "_deepnote_index_column": 814
        },
        {
         "text": "I still love how much after laughter has helped me with my anxiety and depression god I love paramo…",
         "label": 1,
         "_deepnote_index_column": 815
        },
        {
         "text": "I'm so anxious for tomorrow",
         "label": 1,
         "_deepnote_index_column": 816
        },
        {
         "text": "All of a sudden depression jokes aren't so funny",
         "label": 1,
         "_deepnote_index_column": 817
        },
        {
         "text": "I'm really trying to pray this depression out of my life. Cause I just can't.",
         "label": 1,
         "_deepnote_index_column": 818
        },
        {
         "text": "Anxiety sucks. I know I look hella cute in this outfit, but I still worry about what other people t…",
         "label": 1,
         "_deepnote_index_column": 819
        },
        {
         "text": "I AM NON-RESPONSIVE TO DEMONIC DEPRESSION! ****THOSE WHO DEAL WITH THIS REPEAT IT MORE THAN ONCE!!!",
         "label": 1,
         "_deepnote_index_column": 820
        },
        {
         "text": "my anxiety was pretty bad today should i get another tattoo be honest",
         "label": 1,
         "_deepnote_index_column": 821
        },
        {
         "text": "This is sooo depressing 🙁🙁🥺",
         "label": 1,
         "_deepnote_index_column": 822
        },
        {
         "text": "@user That is extremely depressing",
         "label": 0,
         "_deepnote_index_column": 823
        },
        {
         "text": "I like the way getting a #tattoo feels. If I'm depressed, it's nice to get one and deal with the pa…",
         "label": 0,
         "_deepnote_index_column": 824
        },
        {
         "text": "Why is normal living so hard 😢 #PND #mentalhealth #depression",
         "label": 1,
         "_deepnote_index_column": 825
        },
        {
         "text": "My house is so fucking depressing like I just would rather die. I don't even know where to start it…",
         "label": 1,
         "_deepnote_index_column": 826
        },
        {
         "text": "I will overcome my depression &amp; anxiety...fucking WATCH me.",
         "label": 1,
         "_deepnote_index_column": 827
        },
        {
         "text": "No, I'm in a constant state of depression",
         "label": 1,
         "_deepnote_index_column": 828
        },
        {
         "text": "My anxiety has been sky high this week and honestly I don't know what I'm going to do if it continu…",
         "label": 1,
         "_deepnote_index_column": 829
        },
        {
         "text": "Def been depressed for a month straight.",
         "label": 1,
         "_deepnote_index_column": 830
        },
        {
         "text": "Nothing diminishes anxiety faster than action. —Walter Anderson via @user",
         "label": 0,
         "_deepnote_index_column": 831
        },
        {
         "text": "How do we change the stereotype that depression is an illness that solely effects white people? #Re…",
         "label": 0,
         "_deepnote_index_column": 832
        },
        {
         "text": "i'm depressed, meg",
         "label": 1,
         "_deepnote_index_column": 833
        },
        {
         "text": "jus wanted to say that spamming me makes me rly rly anxious so i would appreciate if u wouldnt do t…",
         "label": 0,
         "_deepnote_index_column": 834
        },
        {
         "text": "@user Well I'm depressed that you haven't been here",
         "label": 1,
         "_deepnote_index_column": 835
        },
        {
         "text": "@user See @user we're everywhere, us phone-anxiety people...",
         "label": 0,
         "_deepnote_index_column": 836
        },
        {
         "text": "Wow I'm having such an awful anxiety attack Rn holy shit",
         "label": 1,
         "_deepnote_index_column": 837
        },
        {
         "text": "Anxiety is fckn killing me rn 😭",
         "label": 1,
         "_deepnote_index_column": 838
        },
        {
         "text": "Anxiety on 1000. Don't bother me.",
         "label": 1,
         "_deepnote_index_column": 839
        },
        {
         "text": "I'm to depressed for this shit",
         "label": 1,
         "_deepnote_index_column": 840
        },
        {
         "text": "@user What do you feel anxious about?",
         "label": 1,
         "_deepnote_index_column": 841
        },
        {
         "text": "ok my mum is going to kill me bc i spent 600+ on shoes this month LOL BUT I finally bought the golf…",
         "label": 0,
         "_deepnote_index_column": 842
        },
        {
         "text": "@user @user ...@zoewhittall I didn't find your book depressing. Just saying!",
         "label": 0,
         "_deepnote_index_column": 843
        },
        {
         "text": "stop rt those rt or else posts on my tl they make me so anxious you guys are the Worst",
         "label": 0,
         "_deepnote_index_column": 844
        },
        {
         "text": "If I smoke while having an anxiety attack would that make it worse. ?",
         "label": 0,
         "_deepnote_index_column": 845
        },
        {
         "text": "Also, the team mate have capacity and have effort than I so I get further depressed .",
         "label": 1,
         "_deepnote_index_column": 846
        },
        {
         "text": "I've the worst anxiety the last 3 days. I think a tattoo would make me feel better. Just sayin 🤷🏼‍♀️",
         "label": 0,
         "_deepnote_index_column": 847
        },
        {
         "text": "Wow im depressed",
         "label": 1,
         "_deepnote_index_column": 848
        },
        {
         "text": "I'm mixed with anxiety and love rn hoo boy",
         "label": 0,
         "_deepnote_index_column": 849
        },
        {
         "text": "@user they give me anxiety now 🙃 totally ruins the concert experience",
         "label": 0,
         "_deepnote_index_column": 850
        },
        {
         "text": "Twitter is just A depression site foh ugly people like me.. :/",
         "label": 0,
         "_deepnote_index_column": 851
        },
        {
         "text": "this gives me anxiety",
         "label": 1,
         "_deepnote_index_column": 852
        },
        {
         "text": "Anxiety is an illusion",
         "label": 0,
         "_deepnote_index_column": 853
        },
        {
         "text": "Your deer daddy is depressed,  how do you cheer him up?",
         "label": 1,
         "_deepnote_index_column": 854
        },
        {
         "text": "Nicolas sparks movies give me depression lmao",
         "label": 0,
         "_deepnote_index_column": 855
        },
        {
         "text": "im depressed is the game fucking DEAD now? Why tf NINTENDO ACTING LIKE ITS OVER FOREVER BITCH STOP …",
         "label": 0,
         "_deepnote_index_column": 856
        },
        {
         "text": "Really enjoyed this game. It felt like a really solid look into an anxiety in a very approachable w…",
         "label": 0,
         "_deepnote_index_column": 857
        },
        {
         "text": "@user The anxiety is real",
         "label": 1,
         "_deepnote_index_column": 858
        },
        {
         "text": "@user I think I'm also just ridden with anxiety because I don't want to look like a fool in the gym…",
         "label": 1,
         "_deepnote_index_column": 859
        },
        {
         "text": "this is depressing. goodnight.",
         "label": 1,
         "_deepnote_index_column": 860
        },
        {
         "text": "What's it like not be constantly plagued by anxiety",
         "label": 1,
         "_deepnote_index_column": 861
        },
        {
         "text": "@user The year just started, and you know the most depressing day. Enough with the trash jor",
         "label": 1,
         "_deepnote_index_column": 862
        },
        {
         "text": "My anxiety has reached a new point where if something I'm watching is going badly, I get stressed o…",
         "label": 1,
         "_deepnote_index_column": 863
        },
        {
         "text": "Of course you should run Asses with soldiers. You should anxious everything with cards.",
         "label": 0,
         "_deepnote_index_column": 864
        },
        {
         "text": "bring back that depression weed",
         "label": 0,
         "_deepnote_index_column": 865
        },
        {
         "text": "*screeching* wHy tHe FuCK!!! do i have anxiety!!! nothing is happening!!!!!!!!!!!!!!!!!!!!!!!!!!!!!…",
         "label": 1,
         "_deepnote_index_column": 866
        },
        {
         "text": "My anxiety! #GameOfThornes - how many tears will i shed ?",
         "label": 0,
         "_deepnote_index_column": 867
        },
        {
         "text": "You know what ? I got depressed, sad but no one's there.",
         "label": 1,
         "_deepnote_index_column": 868
        },
        {
         "text": "@user It's anxiety",
         "label": 1,
         "_deepnote_index_column": 869
        },
        {
         "text": "@user taking antidepressants is bimbofication",
         "label": 1,
         "_deepnote_index_column": 870
        },
        {
         "text": "Why am I so scared to kill myself? I wish I could just bring myself to do it already... 🥀#Depressio…",
         "label": 1,
         "_deepnote_index_column": 871
        },
        {
         "text": "im depressed and sleepy, somebody pls reply with chris pictures",
         "label": 1,
         "_deepnote_index_column": 872
        },
        {
         "text": "@user @user They're building around EliWon't be surprised if Eli gets extended....Holy shit I'm dep…",
         "label": 0,
         "_deepnote_index_column": 873
        },
        {
         "text": "Been sleeping all day. Am I tired or is this depression?",
         "label": 1,
         "_deepnote_index_column": 874
        },
        {
         "text": "Social anxiety + being alone in public....   FOCCCCC",
         "label": 1,
         "_deepnote_index_column": 875
        },
        {
         "text": "i'm really gonna need someone to distract me this weekend and not let me stay home and be depressed",
         "label": 1,
         "_deepnote_index_column": 876
        },
        {
         "text": "me: i have anxietyperson:",
         "label": 1,
         "_deepnote_index_column": 877
        },
        {
         "text": "Im depressed and fed up beyond belief and just want it to end",
         "label": 1,
         "_deepnote_index_column": 878
        },
        {
         "text": "My hair ain't darker stop it y'all are making me depressed, it's literally the same LMAO",
         "label": 0,
         "_deepnote_index_column": 879
        },
        {
         "text": "Okay sorry for being depressing I'm back 😚🤟🏼",
         "label": 0,
         "_deepnote_index_column": 880
        },
        {
         "text": "Me personified in a single tweet. Thank you for seeing my once a week depressive tweet ok bye.",
         "label": 0,
         "_deepnote_index_column": 881
        },
        {
         "text": "Wow it really is depression hours",
         "label": 1,
         "_deepnote_index_column": 882
        },
        {
         "text": "Fun Fact: Anxiety can open up existentialism",
         "label": 0,
         "_deepnote_index_column": 883
        },
        {
         "text": "And im rapping these days. That means im really stressed and anxious. I havent rapped in like month…",
         "label": 1,
         "_deepnote_index_column": 884
        },
        {
         "text": "Depression is so serious, depression killed my fucking father almost a year ago ..",
         "label": 1,
         "_deepnote_index_column": 885
        },
        {
         "text": "Shit makes me hella depressed, but I'll smile and continue my day like it's cool",
         "label": 1,
         "_deepnote_index_column": 886
        },
        {
         "text": "Julia's EP out tomorrow omg i cant wait to hear Selena's part on anxiety . Ma bby is back w a new s…",
         "label": 0,
         "_deepnote_index_column": 887
        },
        {
         "text": "@user Thought you was gonna be less depressing in here? Sheesh",
         "label": 0,
         "_deepnote_index_column": 888
        },
        {
         "text": "obsessed depressed at the same time",
         "label": 1,
         "_deepnote_index_column": 889
        },
        {
         "text": "Boomers have to blame shootings on Video Games because they dont believe that depression is real.",
         "label": 1,
         "_deepnote_index_column": 890
        },
        {
         "text": "*uses caffeine as an antidepressant*",
         "label": 0,
         "_deepnote_index_column": 891
        },
        {
         "text": "if i was depressed i would simply just be happy",
         "label": 1,
         "_deepnote_index_column": 892
        },
        {
         "text": "it's been a very depressing week.",
         "label": 1,
         "_deepnote_index_column": 893
        },
        {
         "text": "depression really fucking sucks",
         "label": 1,
         "_deepnote_index_column": 894
        },
        {
         "text": "Libra culture is using the same nail polish color at the salon 2-3 visits in a row bc trying to pic…",
         "label": 0,
         "_deepnote_index_column": 895
        },
        {
         "text": "anyways, my last year of college starts today whew anxiety!",
         "label": 0,
         "_deepnote_index_column": 896
        },
        {
         "text": "'Dad.. I'm depressed.' 'Hi depressed, I'm Dad.'",
         "label": 0,
         "_deepnote_index_column": 897
        },
        {
         "text": "respiratory depression be my god",
         "label": 0,
         "_deepnote_index_column": 898
        },
        {
         "text": "deactivated my main because not only do i feel invisible, i am also depressed.",
         "label": 0,
         "_deepnote_index_column": 899
        }
       ]
      },
      "text/plain": "                                                  text  label\n0               @user Me talking to my antidepressants      1\n1    going to attempt at least to change this sour ...      1\n2            flighty sag placements make me anxioussss      0\n3    I'm going to buy cream cheese after work and s...      1\n4    My anxiety and stress levels for today are act...      1\n..                                                 ...    ...\n895  Libra culture is using the same nail polish co...      0\n896  anyways, my last year of college starts today ...      0\n897    'Dad.. I'm depressed.' 'Hi depressed, I'm Dad.'      0\n898                   respiratory depression be my god      0\n899  deactivated my main because not only do i feel...      0\n\n[900 rows x 2 columns]",
      "text/html": "<div>\n<style scoped>\n    .dataframe tbody tr th:only-of-type {\n        vertical-align: middle;\n    }\n\n    .dataframe tbody tr th {\n        vertical-align: top;\n    }\n\n    .dataframe thead th {\n        text-align: right;\n    }\n</style>\n<table border=\"1\" class=\"dataframe\">\n  <thead>\n    <tr style=\"text-align: right;\">\n      <th></th>\n      <th>text</th>\n      <th>label</th>\n    </tr>\n  </thead>\n  <tbody>\n    <tr>\n      <th>0</th>\n      <td>@user Me talking to my antidepressants</td>\n      <td>1</td>\n    </tr>\n    <tr>\n      <th>1</th>\n      <td>going to attempt at least to change this sour ...</td>\n      <td>1</td>\n    </tr>\n    <tr>\n      <th>2</th>\n      <td>flighty sag placements make me anxioussss</td>\n      <td>0</td>\n    </tr>\n    <tr>\n      <th>3</th>\n      <td>I'm going to buy cream cheese after work and s...</td>\n      <td>1</td>\n    </tr>\n    <tr>\n      <th>4</th>\n      <td>My anxiety and stress levels for today are act...</td>\n      <td>1</td>\n    </tr>\n    <tr>\n      <th>...</th>\n      <td>...</td>\n      <td>...</td>\n    </tr>\n    <tr>\n      <th>895</th>\n      <td>Libra culture is using the same nail polish co...</td>\n      <td>0</td>\n    </tr>\n    <tr>\n      <th>896</th>\n      <td>anyways, my last year of college starts today ...</td>\n      <td>0</td>\n    </tr>\n    <tr>\n      <th>897</th>\n      <td>'Dad.. I'm depressed.' 'Hi depressed, I'm Dad.'</td>\n      <td>0</td>\n    </tr>\n    <tr>\n      <th>898</th>\n      <td>respiratory depression be my god</td>\n      <td>0</td>\n    </tr>\n    <tr>\n      <th>899</th>\n      <td>deactivated my main because not only do i feel...</td>\n      <td>0</td>\n    </tr>\n  </tbody>\n</table>\n<p>900 rows × 2 columns</p>\n</div>"
     },
     "metadata": {}
    }
   ]
  },
  {
   "cell_type": "code",
   "metadata": {
    "tags": [],
    "cell_id": "00004-91c982a5-f95a-4d39-9564-8dd01435006e",
    "deepnote_to_be_reexecuted": false,
    "source_hash": "95f3488c",
    "execution_start": 1639179053931,
    "execution_millis": 147,
    "deepnote_cell_type": "code"
   },
   "source": "# frames = [regular_tweets, twint_depressed_tweets, train_data]\nframes = [regular_tweets_sample, depressive_annotated_en, train_data]\n\nresult = pd.concat(frames)\nresult",
   "execution_count": null,
   "outputs": [
    {
     "output_type": "execute_result",
     "execution_count": 32,
     "data": {
      "application/vnd.deepnote.dataframe.v2+json": {
       "row_count": 5534,
       "column_count": 2,
       "columns": [
        {
         "name": "text",
         "dtype": "object",
         "stats": {
          "unique_count": 5488,
          "nan_count": 0,
          "categories": [
           {
            "name": "\"Grimes claims she removed part of her eyeball to 'cure seasonal depression'\"   https://twitter.com/i/events/1151147174912122880 …",
            "count": 11
           },
           {
            "name": "⚡️ “Grimes claims she removed part of her eyeball to 'cure seasonal depression'”   https://twitter.com/i/moments/1151147173062615041 …",
            "count": 9
           },
           {
            "name": "5486 others",
            "count": 5514
           }
          ]
         }
        },
        {
         "name": "label",
         "dtype": "float64",
         "stats": {
          "unique_count": 2,
          "nan_count": 0,
          "min": "0.0",
          "max": "1.0",
          "histogram": [
           {
            "bin_start": 0,
            "bin_end": 0.1,
            "count": 3092
           },
           {
            "bin_start": 0.1,
            "bin_end": 0.2,
            "count": 0
           },
           {
            "bin_start": 0.2,
            "bin_end": 0.30000000000000004,
            "count": 0
           },
           {
            "bin_start": 0.30000000000000004,
            "bin_end": 0.4,
            "count": 0
           },
           {
            "bin_start": 0.4,
            "bin_end": 0.5,
            "count": 0
           },
           {
            "bin_start": 0.5,
            "bin_end": 0.6000000000000001,
            "count": 0
           },
           {
            "bin_start": 0.6000000000000001,
            "bin_end": 0.7000000000000001,
            "count": 0
           },
           {
            "bin_start": 0.7000000000000001,
            "bin_end": 0.8,
            "count": 0
           },
           {
            "bin_start": 0.8,
            "bin_end": 0.9,
            "count": 0
           },
           {
            "bin_start": 0.9,
            "bin_end": 1,
            "count": 2442
           }
          ]
         }
        },
        {
         "name": "_deepnote_index_column",
         "dtype": "int64"
        }
       ],
       "rows_top": [
        {
         "text": "@MELindsey lol, he has no shame ",
         "label": 0,
         "_deepnote_index_column": 93
        },
        {
         "text": "@do0dlebugdebz haha. LOL I'm ok with the girl tho  n nitesss I'm heading to Sabah early nxt morning ",
         "label": 0,
         "_deepnote_index_column": 5416
        },
        {
         "text": "@RachaelPhillips we got beaten... but less than they were getting beaten without me ",
         "label": 0,
         "_deepnote_index_column": 298
        },
        {
         "text": "Long weekends are perfect to work on projects ",
         "label": 0,
         "_deepnote_index_column": 1661
        },
        {
         "text": "@VanNessVanWu ??!! can i ask for a prayer request from you V? ",
         "label": 0,
         "_deepnote_index_column": 2520
        },
        {
         "text": "@marketsuccessor that some sweet Google  Page rank on your twitter profile page Now that's skill LO…",
         "label": 0,
         "_deepnote_index_column": 7241
        },
        {
         "text": "I hope you had the time of your life... testing the slide show for swim. I'm proud ",
         "label": 0,
         "_deepnote_index_column": 5631
        },
        {
         "text": "Diggin mah new sweater ",
         "label": 0,
         "_deepnote_index_column": 352
        },
        {
         "text": "@taylorswift13 you are simply the best! I don't know of anyone else who would go around the croud t…",
         "label": 0,
         "_deepnote_index_column": 2445
        },
        {
         "text": "ok im going out now ",
         "label": 0,
         "_deepnote_index_column": 3612
        },
        {
         "text": "has found and bought an awesome book today, entitled: &quot;20 Essays Written by 20 Somethings.&quo…",
         "label": 0,
         "_deepnote_index_column": 3728
        },
        {
         "text": "Well. Saw Inkheart. Quite enjoyed it, really. ",
         "label": 0,
         "_deepnote_index_column": 716
        },
        {
         "text": "Ooo just joined Kara's club  Awesome Karadioguardi.com  xx",
         "label": 0,
         "_deepnote_index_column": 4848
        },
        {
         "text": "good night tonight...my journey on twit ends here until tomorrow  see ya tomorrow",
         "label": 0,
         "_deepnote_index_column": 243
        },
        {
         "text": "thinks that enough tweaking the twitter home page....might be too David Salle. ",
         "label": 0,
         "_deepnote_index_column": 501
        },
        {
         "text": "I have no problem with cell phones, only with loud annoying cell phone ring tones...ever heard of v…",
         "label": 0,
         "_deepnote_index_column": 7421
        },
        {
         "text": "@BrandonBarash present soon in the mail. I promise it will be something nice. I think I found somet…",
         "label": 0,
         "_deepnote_index_column": 7247
        },
        {
         "text": "GoodNight Everyone ",
         "label": 0,
         "_deepnote_index_column": 7473
        },
        {
         "text": "Success! All my plans for today worked out ",
         "label": 0,
         "_deepnote_index_column": 4110
        },
        {
         "text": "@pixie_stique you already have @dririan, silly ",
         "label": 0,
         "_deepnote_index_column": 5721
        },
        {
         "text": "@HANNAHBANANA25 It be hella good too. And im not/cant drink now ",
         "label": 0,
         "_deepnote_index_column": 6382
        },
        {
         "text": "Mark Twain Motivational Poster - a nice twist to a common theme  - http://is.gd/MqNW",
         "label": 0,
         "_deepnote_index_column": 4982
        },
        {
         "text": "For the next 6-months, I'm married to an &quot;older man.&quot;  Happy Birthday, Jeremy!  ",
         "label": 0,
         "_deepnote_index_column": 2120
        },
        {
         "text": "@Yeeeunaholic - HAHAHAHA! Hey! I'm a big big big fan until I name my pet @mileycyrus!  i didnt see …",
         "label": 0,
         "_deepnote_index_column": 4873
        },
        {
         "text": "@MJJNews Curly Hair  luv it",
         "label": 0,
         "_deepnote_index_column": 5841
        },
        {
         "text": "Fixing my Multiply. ",
         "label": 0,
         "_deepnote_index_column": 2425
        },
        {
         "text": "@elizabeth_anna lmfao no thanks, in bed watching harry potter for the night im content  i think ive…",
         "label": 0,
         "_deepnote_index_column": 3918
        },
        {
         "text": "@victoria_6661 i need new music, suggestions? ",
         "label": 0,
         "_deepnote_index_column": 5333
        },
        {
         "text": "@joanne7964 Nice to meet you, you too! ",
         "label": 0,
         "_deepnote_index_column": 3622
        },
        {
         "text": " well i'm going again in early july minus my mother. get jaime to drive ya'll up here",
         "label": 0,
         "_deepnote_index_column": 6993
        },
        {
         "text": "@SuperCori haha, me too...we're awesome. ",
         "label": 0,
         "_deepnote_index_column": 4603
        },
        {
         "text": "Enjoying the nice 64F weather in SF n watching the Angels vs the Giants  I wish I had my camera tho…",
         "label": 0,
         "_deepnote_index_column": 7637
        },
        {
         "text": "has sammy over after being gone for like ... ever. TBH - twitter = gay facebook ",
         "label": 0,
         "_deepnote_index_column": 3200
        },
        {
         "text": "@Rob_Jensen Keep the kids in a sterile room and have them do online classes. That should solve a lo…",
         "label": 0,
         "_deepnote_index_column": 2497
        },
        {
         "text": "i'm listening MUSIC ",
         "label": 0,
         "_deepnote_index_column": 98
        },
        {
         "text": "@Ang118  No way- GOT UP AT 3:00 or maybe 2:30 damn I am like a kid at Christmas  I KNOW- its so BAD",
         "label": 0,
         "_deepnote_index_column": 7058
        },
        {
         "text": "BGT was great last night. DIVERSITY WON ",
         "label": 0,
         "_deepnote_index_column": 3544
        },
        {
         "text": "Golden Girls makes me sooo happy  crazy day now I gotta take it easy..",
         "label": 0,
         "_deepnote_index_column": 7580
        },
        {
         "text": "still waiting for 30 followers, any helpers out there? please ",
         "label": 0,
         "_deepnote_index_column": 841
        },
        {
         "text": "@Wossy Hello from Oz, show was great, as the ozzies say 'you were on fire'. Have really missed your…",
         "label": 0,
         "_deepnote_index_column": 4600
        },
        {
         "text": "@shakeuptheworld Hey ",
         "label": 0,
         "_deepnote_index_column": 6395
        },
        {
         "text": "@NikkiBenz There is a cool scene at the end that ties in with another Comic Book movie. ",
         "label": 0,
         "_deepnote_index_column": 1127
        },
        {
         "text": "@daintyflair was at Bishan just now; is ok la. ",
         "label": 0,
         "_deepnote_index_column": 7216
        },
        {
         "text": "such a goood moood !! ",
         "label": 0,
         "_deepnote_index_column": 6195
        },
        {
         "text": "@monkeyspaw Don't start accusing us of getting it ",
         "label": 0,
         "_deepnote_index_column": 435
        },
        {
         "text": "@teemwilliams nice and quiet here, ",
         "label": 0,
         "_deepnote_index_column": 3897
        },
        {
         "text": "@vh1sCornfed Not yet.  It's on my Netflix list.  I can't wait to see it, though!  ",
         "label": 0,
         "_deepnote_index_column": 2839
        },
        {
         "text": "is off to bed. Ready for cut and colour tomorrow ",
         "label": 0,
         "_deepnote_index_column": 7943
        },
        {
         "text": "@CGigandet I agree! I'm sick of hackers everywhere ",
         "label": 0,
         "_deepnote_index_column": 6190
        },
        {
         "text": "@aplynch either job title would look nice on my resume!  Actually, I will take the salary w/o the t…",
         "label": 0,
         "_deepnote_index_column": 3998
        },
        {
         "text": "#FollowFriday @elocio ==&gt; most generous in giving Friday Love ",
         "label": 0,
         "_deepnote_index_column": 2102
        },
        {
         "text": "@GlowVirtual Yes! I do! Glad to see you can join in  #designchat",
         "label": 0,
         "_deepnote_index_column": 7463
        },
        {
         "text": "@djdimepiece  Ofcourse u do..but work comes 1st...and u gon miss the BIG announcement. ",
         "label": 0,
         "_deepnote_index_column": 4656
        },
        {
         "text": "Beautiful day ",
         "label": 0,
         "_deepnote_index_column": 3807
        },
        {
         "text": "@quantastic yeah...I'm in the market for lamps.  What bulbs do you use?",
         "label": 0,
         "_deepnote_index_column": 1629
        },
        {
         "text": "@Lefreak78 Don't look this way Jimmy   I think I will be the last hold out.  Brad could easily find…",
         "label": 0,
         "_deepnote_index_column": 4275
        },
        {
         "text": "Sunday is starting well I have a chalice of coffee and a bad detective drama on tv ",
         "label": 0,
         "_deepnote_index_column": 6546
        },
        {
         "text": "Off to take a shower and get ready for work. Again...lol Yay! more money to go back to school in Se…",
         "label": 0,
         "_deepnote_index_column": 4966
        },
        {
         "text": "@abbyrosia @gdeberti thanks for sharing those links there ",
         "label": 0,
         "_deepnote_index_column": 2883
        },
        {
         "text": "@LeonBasin I have to remember you have probably been writing professionally longer than I have hehe ",
         "label": 0,
         "_deepnote_index_column": 1331
        },
        {
         "text": "@kriskupn Yay! That was the deal of the century. And @overstock is on Twitter. ",
         "label": 0,
         "_deepnote_index_column": 6782
        },
        {
         "text": "stretches, crunches, leg lifts, pushups, running.  SHOWER TIME.  god I feel good though   I sure mi…",
         "label": 0,
         "_deepnote_index_column": 2033
        },
        {
         "text": "check out these social networking sites that pay for you to play  http://bit.ly/KjeaX",
         "label": 0,
         "_deepnote_index_column": 3415
        },
        {
         "text": "@pubby going to see Bill Bailey In August ",
         "label": 0,
         "_deepnote_index_column": 6464
        },
        {
         "text": "@ismail Yeah. Its 1-0. We're away. The underdogs. Support Kenya ",
         "label": 0,
         "_deepnote_index_column": 6802
        },
        {
         "text": "@curious1966 Not sure, depends on who wants a piece of the Critic. This republican chick almost got…",
         "label": 0,
         "_deepnote_index_column": 4243
        },
        {
         "text": "@Desireeeeee really me to.! ",
         "label": 0,
         "_deepnote_index_column": 6471
        },
        {
         "text": "got married last weekend. Sorry for the absence ",
         "label": 0,
         "_deepnote_index_column": 2074
        },
        {
         "text": "@notoriousAMC91 Tea is good, I enjoy tea ",
         "label": 0,
         "_deepnote_index_column": 7125
        },
        {
         "text": "long naps make me happy ",
         "label": 0,
         "_deepnote_index_column": 6928
        },
        {
         "text": "DobrÃ© rÃ¡no s gameplayem E3 mise The Buzzsaw http://www.mafiagame.cz/index.php?id=231  [R]",
         "label": 0,
         "_deepnote_index_column": 5832
        },
        {
         "text": "Ready for my first long run in a month.  Nothing better than putting in 10+ miles on a saturday mor…",
         "label": 0,
         "_deepnote_index_column": 2935
        },
        {
         "text": "Ashton Kutchner (or however it's spelt) 'tweets' too much - so I'm not following anymore. I couldn'…",
         "label": 0,
         "_deepnote_index_column": 2913
        },
        {
         "text": "Outski, Dunno what I'm doing today. Call me ",
         "label": 0,
         "_deepnote_index_column": 3747
        },
        {
         "text": "@ebunce haha you have the same name as me lol. ",
         "label": 0,
         "_deepnote_index_column": 2764
        },
        {
         "text": "well, goodnyte! tweet again tomorrow! ",
         "label": 0,
         "_deepnote_index_column": 680
        },
        {
         "text": "NJ for the night ",
         "label": 0,
         "_deepnote_index_column": 2558
        },
        {
         "text": "damn i woke up too late now i have 5 mins for coffee  but its my birthday tomorrow  #mcfly",
         "label": 0,
         "_deepnote_index_column": 1341
        },
        {
         "text": "@thewildjoker Alright. Following. Just hope she follows back ",
         "label": 0,
         "_deepnote_index_column": 413
        },
        {
         "text": "@MandiElyse sounds like you have had enough fun to last all year. Perfect. ",
         "label": 0,
         "_deepnote_index_column": 4185
        },
        {
         "text": "Well, my tests are finished, hooray  Up to the next modification.",
         "label": 0,
         "_deepnote_index_column": 7933
        },
        {
         "text": "@QandQ I think I'd go on the run ",
         "label": 0,
         "_deepnote_index_column": 2013
        },
        {
         "text": "@natasya_astri yeaa of course we should lah..hehe,and i will always  nat..,and you should too  ",
         "label": 0,
         "_deepnote_index_column": 7578
        },
        {
         "text": "not much on tv, don't really know what to do right now....oh well i'll listen to music and surf the…",
         "label": 0,
         "_deepnote_index_column": 7460
        },
        {
         "text": "@suziperry i have to agree with you though, 2 weeks of tennis soon, there is no 2 weeks of motorspo…",
         "label": 0,
         "_deepnote_index_column": 3485
        },
        {
         "text": "@adamagee awesome! super stoked for the new album ",
         "label": 0,
         "_deepnote_index_column": 7665
        },
        {
         "text": "Haha not yet, but i can come on aim and multitask ",
         "label": 0,
         "_deepnote_index_column": 4580
        },
        {
         "text": " the ones with the greatest capacity for good, are the ones with the greatest capacity for evil O:",
         "label": 0,
         "_deepnote_index_column": 3386
        },
        {
         "text": "Darwin - Mitsubishi - Pajero 4x4 Dohc  24 V6 3500 - 1997 - $7,999  - new ad received and will be po…",
         "label": 0,
         "_deepnote_index_column": 5861
        },
        {
         "text": "Am home with the family, wet cos of the rain, got a call from dad on the bus cos my mum got worried…",
         "label": 0,
         "_deepnote_index_column": 302
        },
        {
         "text": "We The Kings + Out Of Sight in Nottingham tonight  Gonna be so much fun! ",
         "label": 0,
         "_deepnote_index_column": 3562
        },
        {
         "text": "@dkkauwe I dislike one-way communication. I don't follow many people but I talk with everyone who f…",
         "label": 0,
         "_deepnote_index_column": 5775
        },
        {
         "text": "Mean Girls 2 ",
         "label": 0,
         "_deepnote_index_column": 1622
        },
        {
         "text": "@chocolatebox279 haha...i went red with mine and love it! ",
         "label": 0,
         "_deepnote_index_column": 846
        },
        {
         "text": "jst finished dinner. was watching Spectacular! &amp; Bedtime stories before tht.  oh yes, i have in…",
         "label": 0,
         "_deepnote_index_column": 1857
        },
        {
         "text": "@jeweljk that's so cool!  Go Jewel!  Have always loved your style.   Saw you in Clearwater Beach, F…",
         "label": 0,
         "_deepnote_index_column": 6965
        },
        {
         "text": "Back in SG! Wee! ",
         "label": 0,
         "_deepnote_index_column": 7340
        },
        {
         "text": "Happy 19th Birthday, Chryslyn. ",
         "label": 0,
         "_deepnote_index_column": 1734
        },
        {
         "text": "sat outside in the sun on our swinging garden bench. ",
         "label": 0,
         "_deepnote_index_column": 4950
        },
        {
         "text": "@ospis lol!!!  well u made a fine raw men ramen  and we went to bed after that. DRUNKIE!!!!!!!!!!!",
         "label": 0,
         "_deepnote_index_column": 5401
        },
        {
         "text": "@mileycyrus Congratulations ",
         "label": 0,
         "_deepnote_index_column": 4162
        },
        {
         "text": "@dhlawrencexvii thank you ",
         "label": 0,
         "_deepnote_index_column": 4029
        },
        {
         "text": "@AubreyODay wut u want a shot of ma? ",
         "label": 0,
         "_deepnote_index_column": 1159
        },
        {
         "text": "only 3 MORE STUPID DAYS and schools over. cant wait! ",
         "label": 0,
         "_deepnote_index_column": 4602
        },
        {
         "text": "Yay shopppping ",
         "label": 0,
         "_deepnote_index_column": 3337
        },
        {
         "text": "is thx GOD  http://plurk.com/p/x831s",
         "label": 0,
         "_deepnote_index_column": 3040
        },
        {
         "text": "@Beam mon charnel ",
         "label": 0,
         "_deepnote_index_column": 6128
        },
        {
         "text": "@jennaleaa LMFAOOOO CREAMY ONES? ",
         "label": 0,
         "_deepnote_index_column": 6034
        },
        {
         "text": "@stephenpc My first follow friday - thanks dude ",
         "label": 0,
         "_deepnote_index_column": 2108
        },
        {
         "text": "@shannonpaul - Dig the Jack DeJohnette! You've got great taste in music, Shannon!  ",
         "label": 0,
         "_deepnote_index_column": 1883
        },
        {
         "text": "AJ Colby (WKYC-TV Cleveland) is the heir to Tom Skilling. PS: Dear Cavs, You piss me off. But I sti…",
         "label": 0,
         "_deepnote_index_column": 3370
        },
        {
         "text": "@Naxos I love the Foucault book. . .I read it as his vengeance book ",
         "label": 0,
         "_deepnote_index_column": 4731
        },
        {
         "text": "#mcflyforgermany #mcflyforgermany #mcflyforgermany #mcflyforgermany #mcflyforgermany #mcflyforgerma…",
         "label": 0,
         "_deepnote_index_column": 5496
        },
        {
         "text": "okay.... sunshine wins... great day for a beach session today! ",
         "label": 0,
         "_deepnote_index_column": 7909
        },
        {
         "text": "@robynsykes i half taught myself half actually learned viva la vida by coldplay..epic song ",
         "label": 0,
         "_deepnote_index_column": 209
        },
        {
         "text": "Gonna plant some flowers!! ",
         "label": 0,
         "_deepnote_index_column": 6253
        },
        {
         "text": "@smpfilms yaay! Love your videos Cory  (via @gbfilms)",
         "label": 0,
         "_deepnote_index_column": 4258
        },
        {
         "text": "@djalizay ill walk him 4 you  I love animals!",
         "label": 0,
         "_deepnote_index_column": 703
        },
        {
         "text": "Time for bed... Last day of school tomorrow! ",
         "label": 0,
         "_deepnote_index_column": 7716
        },
        {
         "text": "rubbish day of revision ..  but Take That in 8 days !! ",
         "label": 0,
         "_deepnote_index_column": 3786
        },
        {
         "text": "Feeling sleepy already - it's only 0:40. Gotta finish here and go to bed. Tomorrow is a busy day an…",
         "label": 0,
         "_deepnote_index_column": 7564
        },
        {
         "text": "@bittertwitta oh no, the site is fine -  my addiction to it is the scary part. lol! that'd be great ",
         "label": 0,
         "_deepnote_index_column": 7201
        },
        {
         "text": "@jordanknight so another day of rehearsals just done huh... don't blame us for knowing! Chris told …",
         "label": 0,
         "_deepnote_index_column": 4613
        },
        {
         "text": "@LaTeaDolly So he sews better than you? At least the best thing about it is you both learn together…",
         "label": 0,
         "_deepnote_index_column": 7347
        },
        {
         "text": "Is off to get some dinner ",
         "label": 0,
         "_deepnote_index_column": 994
        },
        {
         "text": "@cindolce awe........thanks sweets!! Thank you for all your advice, I owe you!! ",
         "label": 0,
         "_deepnote_index_column": 7963
        },
        {
         "text": "@DivaWonderGirl I think I'm going to delete my twitter cuz I don't really like twittering.. lol. an…",
         "label": 0,
         "_deepnote_index_column": 5835
        },
        {
         "text": "@Jason_Pollock I think they heard you. ",
         "label": 0,
         "_deepnote_index_column": 2454
        },
        {
         "text": "Recommend  @dcjc Tea Party 2.0  http://tparty2.com/",
         "label": 0,
         "_deepnote_index_column": 927
        },
        {
         "text": "back down to 130 lbs... dieting is perhaps working? fingers crossed! must lose 10 pounds and gain a…",
         "label": 0,
         "_deepnote_index_column": 2349
        },
        {
         "text": "drinky dranky drunk. my bed feels nice.  im listening to kaskade - 4 AM, cuz...well...its 4 AM. gni…",
         "label": 0,
         "_deepnote_index_column": 648
        },
        {
         "text": "@rob_caporetto apart from characters etc., which is cool. my pet hate is knowing something from a l…",
         "label": 0,
         "_deepnote_index_column": 3528
        },
        {
         "text": "Pumped for Ottawa Monday till Thursday! Can't wait to see everyone ",
         "label": 0,
         "_deepnote_index_column": 2395
        },
        {
         "text": "good morning  it's #followfriday! @afinefrenzy, @tfln and @mkald (because she's a twitter virgin)",
         "label": 0,
         "_deepnote_index_column": 2188
        },
        {
         "text": "@MsNessa lol I hear u follow me I'm following u... ",
         "label": 0,
         "_deepnote_index_column": 5079
        },
        {
         "text": "@jmbuckingham Wish u were here, Jeannie! I think u'd be lovin' this!!! ",
         "label": 0,
         "_deepnote_index_column": 1468
        },
        {
         "text": "@bilalhouri LOOOL @Eresse just recommended the same ",
         "label": 0,
         "_deepnote_index_column": 4711
        },
        {
         "text": "@Carolinaxoxo i love it btw , soo cutee. pretty!  &lt;3",
         "label": 0,
         "_deepnote_index_column": 6074
        },
        {
         "text": "@TheFairest aww dont hurt me lol and wow are they done already i love yellow rice send me a pic of …",
         "label": 0,
         "_deepnote_index_column": 3314
        },
        {
         "text": "@ben_mayer I'd like to see a picture of you, Carl and John where everyone can read from your faces …",
         "label": 0,
         "_deepnote_index_column": 1044
        },
        {
         "text": "@zerohitwonder It's okay - all the cartwheels and handstands yesterday sort of make up for it.  ",
         "label": 0,
         "_deepnote_index_column": 7245
        },
        {
         "text": "@hollymcombsbr somehow i cant reply to your message LOL and yes i know  Thank youuu",
         "label": 0,
         "_deepnote_index_column": 1184
        },
        {
         "text": "Off to school. Who knows what to expect? Bring on life and all of it's suprises! ",
         "label": 0,
         "_deepnote_index_column": 1037
        },
        {
         "text": "i am off now, its a loverly day so im going out to sun bathe ",
         "label": 0,
         "_deepnote_index_column": 2875
        },
        {
         "text": "Great two days off!!!  ready for a fabulous day tomorrow!!! Lol ",
         "label": 0,
         "_deepnote_index_column": 2726
        },
        {
         "text": "@Eldirao lucky for some  was like that at the weeked so a shouldnt complain ",
         "label": 0,
         "_deepnote_index_column": 5425
        },
        {
         "text": "@jessicasaid_ thaaaaaaaaaanks ",
         "label": 0,
         "_deepnote_index_column": 7736
        },
        {
         "text": "@vmh_ent2009 Get 100 followers a day using www.tweeterfollow.com Once you add everyone you are on t…",
         "label": 0,
         "_deepnote_index_column": 7498
        },
        {
         "text": "@ADJonesII lol maybe next timeeeeeeeeeeeeee   ) !!!",
         "label": 0,
         "_deepnote_index_column": 1648
        },
        {
         "text": "@caldjr Morning. Was just wondering where you were. Are you all back to normal? 100% fit and health…",
         "label": 0,
         "_deepnote_index_column": 7176
        },
        {
         "text": "Had a cool talk with Woody the roadie who has been hangin out and helping us out, he set up for viv…",
         "label": 0,
         "_deepnote_index_column": 6774
        },
        {
         "text": "@bram85 hope you like it! even if it's not fiction ",
         "label": 0,
         "_deepnote_index_column": 515
        },
        {
         "text": "@jlovesjonas Awwwww  haha thank youuu!",
         "label": 0,
         "_deepnote_index_column": 5050
        },
        {
         "text": "@tommcfly Eclipse is awesome  it's better than new moon",
         "label": 0,
         "_deepnote_index_column": 51
        },
        {
         "text": "On june 25 i'm going to see Metro Station, Katy Perry, All time Low nd others in the Under18 festiv…",
         "label": 0,
         "_deepnote_index_column": 1808
        },
        {
         "text": "Ah! She's Got the Look has a trans gal in competition!  YAY! I think I'm in. The lez girl in the ba…",
         "label": 0,
         "_deepnote_index_column": 7431
        },
        {
         "text": "Jamming at the Grind! Akadi's song of the day &quot;NO MORE CANDY FOR YOU!&quot; PRINCE ",
         "label": 0,
         "_deepnote_index_column": 5589
        },
        {
         "text": "@apryll_lopez Hmm..that's some kind of logical thinking your husband has there! Sounds like somethi…",
         "label": 0,
         "_deepnote_index_column": 3872
        },
        {
         "text": "@barbalicious how are you looking for time for a hairdo for me?  I need a cut and something fun don…",
         "label": 0,
         "_deepnote_index_column": 7502
        },
        {
         "text": "Once again i'm at a crossroads with my hair. What to do, what to do.  should i cut, colour,braid. I…",
         "label": 0,
         "_deepnote_index_column": 979
        },
        {
         "text": "@Emperor_David Hurrah!!  You picked  a good day for it, perfect day for staying in a pub!",
         "label": 0,
         "_deepnote_index_column": 6013
        },
        {
         "text": "Joy~! Your glass chalk is awesome! My truck is all &quot;Fanime&quot;d out now ",
         "label": 0,
         "_deepnote_index_column": 2000
        },
        {
         "text": "just got back from coffee with sian. good times ",
         "label": 0,
         "_deepnote_index_column": 5773
        },
        {
         "text": "I really love reflections and shadows ",
         "label": 0,
         "_deepnote_index_column": 14
        },
        {
         "text": "Pretty awesome day today. Made lots of decisions. Only 12 days till Nationals start ",
         "label": 0,
         "_deepnote_index_column": 1998
        },
        {
         "text": "okay i'm getting off the computer and starting my study weekend at 10:30 and ending at 4:30. that's…",
         "label": 0,
         "_deepnote_index_column": 2634
        },
        {
         "text": "I just dyededed my hair ",
         "label": 0,
         "_deepnote_index_column": 982
        },
        {
         "text": "@starwoodhawaii Hawaii is home to the greatest starwood hotels!! ",
         "label": 0,
         "_deepnote_index_column": 5716
        },
        {
         "text": "@carobuckman Have fun!!! ",
         "label": 0,
         "_deepnote_index_column": 2621
        },
        {
         "text": "@NoToriousTori Love the new pic ",
         "label": 0,
         "_deepnote_index_column": 6229
        },
        {
         "text": "@KeithDNoles ok you travel a lot-why are you in Seattle? Say hi to my friend Rick for me ",
         "label": 0,
         "_deepnote_index_column": 3749
        },
        {
         "text": "@Kath1213 I have enough body hair to qualify. ",
         "label": 0,
         "_deepnote_index_column": 608
        },
        {
         "text": "Corona on my desk.. sun shining.. TGI FRIDAY! ",
         "label": 0,
         "_deepnote_index_column": 2457
        },
        {
         "text": "@pameladetlor I kind of want one, but I have no idea what I'd get, and I have a strong no-pain poli…",
         "label": 0,
         "_deepnote_index_column": 4529
        },
        {
         "text": "StuDYING at my best friend jessicas house, while she's knocked out from the jack we drank earlier. …",
         "label": 0,
         "_deepnote_index_column": 4609
        },
        {
         "text": "With her best mate   very happy  time to start making plans for the weekend lets get the vodka out …",
         "label": 0,
         "_deepnote_index_column": 5510
        },
        {
         "text": "@bostonmerlin I think perhaps the floor would smoke where I walked were I to show up at a microsoft…",
         "label": 0,
         "_deepnote_index_column": 2652
        },
        {
         "text": "16 days until I start moving! ",
         "label": 0,
         "_deepnote_index_column": 1069
        },
        {
         "text": "@HippyDi I'll have a cup of coffee soon, find another bottle to open and sing something happier too ",
         "label": 0,
         "_deepnote_index_column": 6033
        },
        {
         "text": "@_mer_mer yeah u should definitely do it! ",
         "label": 0,
         "_deepnote_index_column": 2406
        },
        {
         "text": "Standing in the rain ",
         "label": 0,
         "_deepnote_index_column": 3169
        },
        {
         "text": "still awake at 5:04 watching @TdashRich ",
         "label": 0,
         "_deepnote_index_column": 1498
        },
        {
         "text": "@detailfreak are you a med student? if you are: YAY!  isn't it just wonderful?",
         "label": 0,
         "_deepnote_index_column": 1380
        },
        {
         "text": "@xxHeyyCourtxx aww hope you feel better. im about to drop so ill talk to you tomorrow  love you loa…",
         "label": 0,
         "_deepnote_index_column": 3590
        },
        {
         "text": "is so excited about my new website coming soon. I'll let you know as soon as it's ready. ",
         "label": 0,
         "_deepnote_index_column": 6850
        },
        {
         "text": "@adsxoxo I just saw the trailer for The Road on ET. I WANT TO WATCH ",
         "label": 0,
         "_deepnote_index_column": 1939
        },
        {
         "text": "another 30 mile bike ride to Mequon and back - took a much more sane route   Lake Drive back into t…",
         "label": 0,
         "_deepnote_index_column": 7638
        },
        {
         "text": "so this lady just asked brad where i got my purse! and he answered!!! lol i didnt hear her ask... f…",
         "label": 0,
         "_deepnote_index_column": 6937
        },
        {
         "text": "But I have my secret weapon. By making fun of myself in a silly way, I make myself smile and be che…",
         "label": 0,
         "_deepnote_index_column": 3656
        },
        {
         "text": "@KarenAlloy Come to England, you can have a nap here  Hows the pregnancy goin? x",
         "label": 0,
         "_deepnote_index_column": 3750
        },
        {
         "text": "@snapviashot yes.im sleeping early.wahahaha.so that i could wake up at quarter to 5am and go online…",
         "label": 0,
         "_deepnote_index_column": 7962
        },
        {
         "text": "@LauraRepetti i tested on an old shirt first, which was good coz they failed, but the two i did pro…",
         "label": 0,
         "_deepnote_index_column": 1140
        },
        {
         "text": "@Corycm  HAHAHAHA You really MUST be cool then or so you think!!     ",
         "label": 0,
         "_deepnote_index_column": 7537
        },
        {
         "text": "@Irish1974 Its Bank Holiday here so day off ",
         "label": 0,
         "_deepnote_index_column": 1005
        },
        {
         "text": "@sanichols were you at Tom Thumb? I think I saw your drunk ass buying more beer ",
         "label": 0,
         "_deepnote_index_column": 2748
        },
        {
         "text": "English Breakfast in the sun  Keep having to remind myself I'm not  on holiday.  Breakfast then bea…",
         "label": 0,
         "_deepnote_index_column": 3550
        },
        {
         "text": "@theotamsmusic Hi Theo ! Will you be stopping in Montreal on your tour ? I'd love to catch one of y…",
         "label": 0,
         "_deepnote_index_column": 3874
        },
        {
         "text": "@SamMen share what ever they give u with me ",
         "label": 0,
         "_deepnote_index_column": 5467
        },
        {
         "text": "@Misikko &amp; @MissBlondie919 are doing a #giveaway. Enter to win a Corioliss flat iron on her blo…",
         "label": 0,
         "_deepnote_index_column": 5091
        },
        {
         "text": "@Koppite4004 *shaking head*No, no, no, NO!! I'm on team Carra on this one! Strong, resiliant and of…",
         "label": 0,
         "_deepnote_index_column": 5900
        },
        {
         "text": "@futbolita About Pique, we're on it! Will get back to you ASAP ",
         "label": 0,
         "_deepnote_index_column": 1413
        },
        {
         "text": "... And now we are in Wyoming. (By the way, TC finally agreed to think about naming one of our kids…",
         "label": 0,
         "_deepnote_index_column": 3254
        },
        {
         "text": "mama mia, here I go again, my my how can i resist you. mama mia, does it show again, my my just how…",
         "label": 0,
         "_deepnote_index_column": 6885
        },
        {
         "text": "@pilucha ok, no more drinking away of the sorrows. Just &quot;be&quot; with the sorrows. We all get…",
         "label": 0,
         "_deepnote_index_column": 2858
        },
        {
         "text": "is so, so very glad summer is here ",
         "label": 0,
         "_deepnote_index_column": 7569
        },
        {
         "text": "#liesgirlstell yea babii i luv u long time ",
         "label": 0,
         "_deepnote_index_column": 2561
        },
        {
         "text": "@cyndicato thannkkk you ",
         "label": 0,
         "_deepnote_index_column": 2901
        },
        {
         "text": "@kcbegreen Cobra Starship's new album. Coming out in August. ",
         "label": 0,
         "_deepnote_index_column": 4537
        },
        {
         "text": "Ooh wee minatures of vodka coming my way for tonight ",
         "label": 0,
         "_deepnote_index_column": 2119
        },
        {
         "text": "i got a wii  *Happigasm*",
         "label": 0,
         "_deepnote_index_column": 2949
        },
        {
         "text": "on a happy note, weddings are awesome, and i'm gonna make sure my wedding has an open bar!   ",
         "label": 0,
         "_deepnote_index_column": 3637
        },
        {
         "text": "@rawrgoesaimee yes ill be back ",
         "label": 0,
         "_deepnote_index_column": 4708
        },
        {
         "text": "@rebeccashearing u should participate on 'bgt... u'r better than the other competitors! ",
         "label": 0,
         "_deepnote_index_column": 3117
        },
        {
         "text": "One can not B loved if one does not love. Just as one can not be respected if one does not first re…",
         "label": 0,
         "_deepnote_index_column": 7284
        },
        {
         "text": "@dj_spinner thanks for the encouragement! ",
         "label": 0,
         "_deepnote_index_column": 6511
        },
        {
         "text": "@MrsSOsbourne Hope Kelly gets better ",
         "label": 0,
         "_deepnote_index_column": 6196
        },
        {
         "text": "@AngelaWilson I have to convince myself to cook them. The Italian food is research for a story ",
         "label": 0,
         "_deepnote_index_column": 1591
        },
        {
         "text": "@ Heinz Field for the Kenny Chesney concert  _ leaving for Nashville tomorrow &lt;3",
         "label": 0,
         "_deepnote_index_column": 5996
        },
        {
         "text": "first day in twitter world.. not completely sure what to do on here  goodnight world",
         "label": 0,
         "_deepnote_index_column": 736
        },
        {
         "text": "@find_hope remember when @deyderz had no idea how to use twitter but now she's a bigger tweeter tha…",
         "label": 0,
         "_deepnote_index_column": 7045
        },
        {
         "text": "It's raining!!! ",
         "label": 0,
         "_deepnote_index_column": 4815
        },
        {
         "text": "yes! the littlest houseguest is going home today. its already turning out to be a great day ",
         "label": 0,
         "_deepnote_index_column": 344
        },
        {
         "text": "@TrustNoOne69 awwwww, you deserve to have this team dedicated to you, cause just simple: You are aw…",
         "label": 0,
         "_deepnote_index_column": 2533
        },
        {
         "text": "Happy Birthday, Ate Judy! Boardmates' Dinner downstairs ",
         "label": 0,
         "_deepnote_index_column": 7916
        },
        {
         "text": "@EtotheZ heyy can I get an invite to #spymaster ?! ",
         "label": 0,
         "_deepnote_index_column": 2483
        },
        {
         "text": "@pastachick  don't know lois, but I am familar with your work I know it helps a lot of peeps so tha…",
         "label": 0,
         "_deepnote_index_column": 1631
        },
        {
         "text": "@TeamCyrus nm do you like my new display pic? someone made it for me  xxxxxxxx",
         "label": 0,
         "_deepnote_index_column": 1613
        },
        {
         "text": "@Pepperfire Is it Friday yet??  How are you baby?  #tweepletuesday #followfriday",
         "label": 0,
         "_deepnote_index_column": 108
        },
        {
         "text": "@KrisWilliams81 Amen to the stuff on their floor...!  ",
         "label": 0,
         "_deepnote_index_column": 4693
        },
        {
         "text": "learning for school now ... ",
         "label": 0,
         "_deepnote_index_column": 1036
        },
        {
         "text": "just go ahead and do it ",
         "label": 0,
         "_deepnote_index_column": 3423
        },
        {
         "text": "@staceeadams I don't know, but I have theories about what u want 2 write. &amp; I've been there (an…",
         "label": 0,
         "_deepnote_index_column": 1634
        },
        {
         "text": "@d0opeb0ii sadly you may be right ",
         "label": 0,
         "_deepnote_index_column": 3270
        },
        {
         "text": "@Lilimich My pleasure! ",
         "label": 0,
         "_deepnote_index_column": 6985
        },
        {
         "text": "Waiting for oldest to go to bed so I can have a scoop (or two) of ice cream in peace. ",
         "label": 0,
         "_deepnote_index_column": 4568
        },
        {
         "text": "Young Money ! ",
         "label": 0,
         "_deepnote_index_column": 3081
        },
        {
         "text": "Moring all. I hope it is hot today!  tweet tweet",
         "label": 0,
         "_deepnote_index_column": 7149
        },
        {
         "text": "Glad to be i=on vacation this week. ",
         "label": 0,
         "_deepnote_index_column": 7356
        },
        {
         "text": "@E_Nicole LOL....Gosh...u are so right!!  ",
         "label": 0,
         "_deepnote_index_column": 6296
        },
        {
         "text": "Oh, okay... So I totally forgot to Tweet this, but... Night At The Museum 2 was AMAZING, just like …",
         "label": 0,
         "_deepnote_index_column": 7234
        },
        {
         "text": "Good Monday morning to all my Twitter friends!! ",
         "label": 0,
         "_deepnote_index_column": 1881
        },
        {
         "text": "@trent_reznor You should be proud.   Well done, sir!",
         "label": 0,
         "_deepnote_index_column": 5767
        },
        {
         "text": "i now have every song Heidi Montag has ever released. ",
         "label": 0,
         "_deepnote_index_column": 2244
        },
        {
         "text": "On my way to work YAY! Love my job!  ",
         "label": 0,
         "_deepnote_index_column": 4505
        },
        {
         "text": "@Momisodes Mine are from zazzle and I love them ",
         "label": 0,
         "_deepnote_index_column": 7626
        },
        {
         "text": "damn, youtube has deleted it . when i do, i'll find tweet it ",
         "label": 0,
         "_deepnote_index_column": 747
        },
        {
         "text": "http://tr.im/mUx9 ï¿½ Denius ? Not Belong Here (Telmo A Remix), ????? ???????? ????, ??????? ??????…",
         "label": 0,
         "_deepnote_index_column": 3175
        },
        {
         "text": "@LisaMarie110 hahaha, idk. but YAY! we're gonna be roomiess ",
         "label": 0,
         "_deepnote_index_column": 2721
        },
        {
         "text": "lol gordon ramsey is such an idiot. ",
         "label": 0,
         "_deepnote_index_column": 6625
        },
        {
         "text": "I just can't get enough of @energeticeft's Family Energetics work! More, please  http://tinyurl.com…",
         "label": 0,
         "_deepnote_index_column": 1424
        }
       ],
       "rows_bottom": [
        {
         "text": "Depressed me and the positive changes I made while I was feeling better",
         "label": 0,
         "_deepnote_index_column": 650
        },
        {
         "text": "@user @user @user Or what does liking pics have to with depression....this tweet is dumb",
         "label": 0,
         "_deepnote_index_column": 651
        },
        {
         "text": "My anxiety is through the roof today",
         "label": 1,
         "_deepnote_index_column": 652
        },
        {
         "text": "@user @user @user Depression is a bitch.",
         "label": 1,
         "_deepnote_index_column": 653
        },
        {
         "text": "@user anxiously awaiting for the cans to hit stores",
         "label": 0,
         "_deepnote_index_column": 654
        },
        {
         "text": "Lofl my anxiety ruins my life",
         "label": 1,
         "_deepnote_index_column": 655
        },
        {
         "text": "I've been in a good mood all morning and then BAM depression just hit my in the face lmao",
         "label": 1,
         "_deepnote_index_column": 656
        },
        {
         "text": "@user Anxiety at being stuck in a lift with people where there's no space makes me do it",
         "label": 0,
         "_deepnote_index_column": 657
        },
        {
         "text": "The post PAX withdrawal/depression is damn real. Unplugged can't come soon enough!",
         "label": 0,
         "_deepnote_index_column": 658
        },
        {
         "text": "Chicago traffic gives me fucking anxiety",
         "label": 0,
         "_deepnote_index_column": 659
        },
        {
         "text": "my first foray into writing simon/markus: Simon is a depressed old man and Markus is his manic pixi…",
         "label": 0,
         "_deepnote_index_column": 660
        },
        {
         "text": "I think he's trying to get killed. He's always saying he's depressed so u never know",
         "label": 0,
         "_deepnote_index_column": 661
        },
        {
         "text": "So much for self care and relaxation. Anxiety up the ass 😖",
         "label": 1,
         "_deepnote_index_column": 662
        },
        {
         "text": "its a depressing day to be a madridista im going to bed",
         "label": 0,
         "_deepnote_index_column": 663
        },
        {
         "text": "@user I agree with you. I also use fidgets, they've been invaluable to me in situations when I'm co…",
         "label": 1,
         "_deepnote_index_column": 664
        },
        {
         "text": "Depress your mentions, ain't got to be a bighead",
         "label": 1,
         "_deepnote_index_column": 665
        },
        {
         "text": "Today has been pretty shit but  I did wash my sheets so at least I can be depressed in a nice clean…",
         "label": 0,
         "_deepnote_index_column": 666
        },
        {
         "text": "@user Low key i wish my mom knew she had anxiety and that i inherited it. It could have helped majo…",
         "label": 0,
         "_deepnote_index_column": 667
        },
        {
         "text": "forgot to get veggies on bowl im depressed",
         "label": 0,
         "_deepnote_index_column": 668
        },
        {
         "text": "63 hours of depression and counting 👍🏼",
         "label": 1,
         "_deepnote_index_column": 669
        },
        {
         "text": "Anxiety on 10000",
         "label": 1,
         "_deepnote_index_column": 670
        },
        {
         "text": "19 is just as depressing as18...",
         "label": 0,
         "_deepnote_index_column": 671
        },
        {
         "text": "I wish everyone would understand that when having depression, you can't control your thoughts. Inst…",
         "label": 1,
         "_deepnote_index_column": 672
        },
        {
         "text": "Birthday tomorrow. Only one year until the rather more depressing landmark one! Woo!",
         "label": 0,
         "_deepnote_index_column": 673
        },
        {
         "text": "OH MY GODTELL ME WHO IS THIS PERSONOZKSOKAXOAK I'M CURIOUS AND ANXIOUS ABOUT THAT",
         "label": 0,
         "_deepnote_index_column": 674
        },
        {
         "text": "why did i agree to 8am shifts, my anxiety is so bad every morning i feel like i'm going to puke",
         "label": 1,
         "_deepnote_index_column": 675
        },
        {
         "text": "i just remember i got paid time to dump money to get rid of my depression",
         "label": 1,
         "_deepnote_index_column": 676
        },
        {
         "text": "I just had one of the worst anxiety attacks I've had in a cool min what's uppppp 🤪",
         "label": 1,
         "_deepnote_index_column": 677
        },
        {
         "text": "@user This is so cool!! Thank you for considering those of us with social anxiety, @user love you y…",
         "label": 1,
         "_deepnote_index_column": 678
        },
        {
         "text": "I hate anxiety. Haven't eaten all damn day",
         "label": 1,
         "_deepnote_index_column": 679
        },
        {
         "text": "What cures my depression? Baby Zia's small long hugs and l'amour de ma famille 💕",
         "label": 1,
         "_deepnote_index_column": 680
        },
        {
         "text": "im kinda glad i didnt go to the movie 😳 just from videos im already anxious jfc",
         "label": 0,
         "_deepnote_index_column": 681
        },
        {
         "text": "I absolutely hate not being able to fall asleep... Anxiety drives me insane.",
         "label": 1,
         "_deepnote_index_column": 682
        },
        {
         "text": "@user Oh wow!!! lol that's depressing on this end",
         "label": 0,
         "_deepnote_index_column": 683
        },
        {
         "text": "friend: is depressedme, struggling to help them feel better:",
         "label": 1,
         "_deepnote_index_column": 684
        },
        {
         "text": "my life is just me trying to say something about how depressed and sad i feel all the time while be…",
         "label": 0,
         "_deepnote_index_column": 685
        },
        {
         "text": "Today, woke up to blessings on blessings. It's the small reminder my anxiety needed 👏🏽🙏🏽🙌🏽",
         "label": 0,
         "_deepnote_index_column": 686
        },
        {
         "text": "When they say to use fitness to help with depression",
         "label": 0,
         "_deepnote_index_column": 687
        },
        {
         "text": "Actually parang wala namang rason para maging sad ako but my anxiety casts all the happiness aside.…",
         "label": 0,
         "_deepnote_index_column": 688
        },
        {
         "text": "i get depressed. i buy a DVD on ebay. its the perfect system really!",
         "label": 0,
         "_deepnote_index_column": 689
        },
        {
         "text": "Stressed and depressed x1000 lol",
         "label": 1,
         "_deepnote_index_column": 690
        },
        {
         "text": "depressed - edgy thot",
         "label": 1,
         "_deepnote_index_column": 691
        },
        {
         "text": "did tess have like an episode of anxiety? anxiety attack? #SweetBitter",
         "label": 0,
         "_deepnote_index_column": 692
        },
        {
         "text": "me: himy mom: oh good evening my depressed hoe",
         "label": 0,
         "_deepnote_index_column": 693
        },
        {
         "text": "Anxiety just hit me so hard",
         "label": 1,
         "_deepnote_index_column": 694
        },
        {
         "text": "I'm up super early coz I just had a really depressing dream and I now need yt :(",
         "label": 0,
         "_deepnote_index_column": 695
        },
        {
         "text": "haven't taken my anxiety medicine in like 2 weeks, which is probably why I feel like my life is fal…",
         "label": 1,
         "_deepnote_index_column": 696
        },
        {
         "text": "this is the pdx depression",
         "label": 1,
         "_deepnote_index_column": 697
        },
        {
         "text": "guess who has a bucket load of anxiety on this fine morning",
         "label": 1,
         "_deepnote_index_column": 698
        },
        {
         "text": "Gotta stop letting depression get the best of me.",
         "label": 1,
         "_deepnote_index_column": 699
        },
        {
         "text": "@user Anxiously waiting for his treat:) wondering where it is.",
         "label": 0,
         "_deepnote_index_column": 700
        },
        {
         "text": "that was honestly horrible advice and that just made me more anxious ahshajjaabsnaksnns",
         "label": 0,
         "_deepnote_index_column": 701
        },
        {
         "text": "being a depress person ain't a jk",
         "label": 1,
         "_deepnote_index_column": 702
        },
        {
         "text": "Depression meal is bagel bites with mint chocolate chip ice cream",
         "label": 0,
         "_deepnote_index_column": 703
        },
        {
         "text": "im not happy - in fact i feel miserable, anxious, lonely and horrible. all the time.",
         "label": 1,
         "_deepnote_index_column": 704
        },
        {
         "text": "Loosing everything little by little ... breaking down day after day .. sleeping thru my depression …",
         "label": 1,
         "_deepnote_index_column": 705
        },
        {
         "text": "@user Wow I thought this product would cater towards my 90s nostalgia, not my 2018 depression.",
         "label": 1,
         "_deepnote_index_column": 706
        },
        {
         "text": "@user And I'm stunned and depressed it's that high.",
         "label": 1,
         "_deepnote_index_column": 707
        },
        {
         "text": "Curse you anxiety. Why do you only manifest yourself at night with nausea and disrupt my sleep 😭😭😭",
         "label": 1,
         "_deepnote_index_column": 708
        },
        {
         "text": "Music and love cures my depression",
         "label": 1,
         "_deepnote_index_column": 709
        },
        {
         "text": "At a time when depression &amp; mental illness are so prevalent in our society, we must carefully g…",
         "label": 0,
         "_deepnote_index_column": 710
        },
        {
         "text": "save me from depression cuz my life got no direction",
         "label": 1,
         "_deepnote_index_column": 711
        },
        {
         "text": "@user my dear melancholy but like ... 1029382x more depressing",
         "label": 1,
         "_deepnote_index_column": 712
        },
        {
         "text": "The lack of a stylus with Super Mario Maker 2 is really depressing. Where you at @user",
         "label": 0,
         "_deepnote_index_column": 713
        },
        {
         "text": "Just sitting in my OB's office is making me so anxious. I'm so ready to meet my little nugget!",
         "label": 0,
         "_deepnote_index_column": 714
        },
        {
         "text": "This summer is going to be a lot I can feel it now they already cutting up, and it's the exact reas…",
         "label": 1,
         "_deepnote_index_column": 715
        },
        {
         "text": "@user I hate this cause people say oh well at least you have food. Like that stops depression or fe…",
         "label": 1,
         "_deepnote_index_column": 716
        },
        {
         "text": "@user anxiety&gt; @user anxiety #BattleOfWinterfellDay",
         "label": 0,
         "_deepnote_index_column": 717
        },
        {
         "text": "The reason why ga makes me anxious and why I don't want front row hhhh help",
         "label": 0,
         "_deepnote_index_column": 718
        },
        {
         "text": "Despite what your public school education taught you, the New Deal was not the cure to the great de…",
         "label": 0,
         "_deepnote_index_column": 719
        },
        {
         "text": "@user I'm ok now had a rough night with my anxiety which leads to stomache pain I'm ok 🙂 &lt;3",
         "label": 1,
         "_deepnote_index_column": 720
        },
        {
         "text": "@user Truly am anxious about it lol I will soon though 😂",
         "label": 0,
         "_deepnote_index_column": 721
        },
        {
         "text": "I check the local spca website every day to look at cats and it's so depressing seeing how many bun…",
         "label": 0,
         "_deepnote_index_column": 722
        },
        {
         "text": "i literally feel left out every day im  so depressed",
         "label": 1,
         "_deepnote_index_column": 723
        },
        {
         "text": "@user You nailed it. Actually, I did notice! And that made me supremely more anxious.",
         "label": 0,
         "_deepnote_index_column": 724
        },
        {
         "text": "@user Our athem sounds depressing, but I guess it's pretty cool 🦁🇳🇱",
         "label": 0,
         "_deepnote_index_column": 725
        },
        {
         "text": "Anxiety is so fucking CATCHY but selena's entrance sucks tbh just her entrance tho she killed the r…",
         "label": 0,
         "_deepnote_index_column": 726
        },
        {
         "text": "Someone convince me to go to WrestleMania next year and not let my stupid anxiety get in the way!!!…",
         "label": 0,
         "_deepnote_index_column": 727
        },
        {
         "text": "take care of ur mental health — the really depressed girl",
         "label": 1,
         "_deepnote_index_column": 728
        },
        {
         "text": "me: needs attention also me: gets incredibly anxious when people look at me",
         "label": 1,
         "_deepnote_index_column": 729
        },
        {
         "text": "i'm sorry for so many depressing tweets lately i just feel like i have to put my thoughts somewhere",
         "label": 1,
         "_deepnote_index_column": 730
        },
        {
         "text": "I give myself anxiety",
         "label": 1,
         "_deepnote_index_column": 731
        },
        {
         "text": "Ahhh I'm finally feeling like myself again 😩👏🏾👏🏾 depression you bitch you almost got me 😂",
         "label": 1,
         "_deepnote_index_column": 732
        },
        {
         "text": "im all alone and depressed",
         "label": 1,
         "_deepnote_index_column": 733
        },
        {
         "text": "@user @user yeh, uh, unless you wanna deal with my anxiety ridden self then sure 😆",
         "label": 1,
         "_deepnote_index_column": 734
        },
        {
         "text": "@user Just a wave of normal depression poking through the post concert depression. It's all good th…",
         "label": 1,
         "_deepnote_index_column": 735
        },
        {
         "text": "WHY AM I DEPRESSED?",
         "label": 1,
         "_deepnote_index_column": 736
        },
        {
         "text": "@user aaaa i forgot an expression, tired or depressed would be great, your choice",
         "label": 1,
         "_deepnote_index_column": 737
        },
        {
         "text": "jsjdjdjf i talk as if i haven't been big sad as it is but it's really almost annual hailey depressi…",
         "label": 1,
         "_deepnote_index_column": 738
        },
        {
         "text": "@user another anxiety chat any time soon? 😘🙏🏼",
         "label": 0,
         "_deepnote_index_column": 739
        },
        {
         "text": "@user 🗣I have depression!",
         "label": 1,
         "_deepnote_index_column": 740
        },
        {
         "text": "Driving in this weather with Leo in the car gets my anxiety through the roof 😖",
         "label": 0,
         "_deepnote_index_column": 741
        },
        {
         "text": "I am so anxious right now I can literally feel my whole body tensing up",
         "label": 1,
         "_deepnote_index_column": 742
        },
        {
         "text": "'You're too young to be depressed'",
         "label": 1,
         "_deepnote_index_column": 743
        },
        {
         "text": "i feel like they have an issue with me. or is it just my anxiety?",
         "label": 1,
         "_deepnote_index_column": 744
        },
        {
         "text": "my irl caught me checking cals on a bag of popcorn and my anxiety is thru the roof",
         "label": 1,
         "_deepnote_index_column": 745
        },
        {
         "text": "Sundays suck.Tooo anxious to sleep.Perfect.",
         "label": 1,
         "_deepnote_index_column": 746
        },
        {
         "text": "Do u think if I baked the book Rewriting The Rules into a cake and ate it, my anxiety would disappe…",
         "label": 1,
         "_deepnote_index_column": 747
        },
        {
         "text": "Study shows 30% of teens with T1D have depressive symptoms! This disease is hard on our kids.",
         "label": 0,
         "_deepnote_index_column": 748
        },
        {
         "text": "I wish test anxiety wasn't a thing",
         "label": 1,
         "_deepnote_index_column": 749
        },
        {
         "text": "How I go from feeling so so happy to severe anxiety and panic attacks I will never know",
         "label": 1,
         "_deepnote_index_column": 750
        },
        {
         "text": "I'm depressed they're making a Hulu series and didn't cast @user as Alaska",
         "label": 1,
         "_deepnote_index_column": 751
        },
        {
         "text": "'You look so tired' Is call depression",
         "label": 1,
         "_deepnote_index_column": 752
        },
        {
         "text": "@user I'll be your depression medicine",
         "label": 0,
         "_deepnote_index_column": 753
        },
        {
         "text": "Some of you don't have anxiety, you just have to pooh",
         "label": 0,
         "_deepnote_index_column": 754
        },
        {
         "text": "well fucking joke on u because im already extremely depressed",
         "label": 1,
         "_deepnote_index_column": 755
        },
        {
         "text": "If you watch porn in HD you can literally see the depression on their faces.",
         "label": 0,
         "_deepnote_index_column": 756
        },
        {
         "text": "I'm so horny but I am depressed",
         "label": 1,
         "_deepnote_index_column": 757
        },
        {
         "text": "The streets of England are quiet. This is depressing.",
         "label": 1,
         "_deepnote_index_column": 758
        },
        {
         "text": "Candle feels depress and isolated she hid in a cave.",
         "label": 0,
         "_deepnote_index_column": 759
        },
        {
         "text": "the closer to summer means the closer to a new rick and morty season but also the seasonal depressi…",
         "label": 1,
         "_deepnote_index_column": 760
        },
        {
         "text": "someone: h-me, someone with crippling social anxiety: hï! ωhα†'š ψ⊕ur ƒα∀⊕rï†ε pεïςε ⊕ƒ ƒuηï†urε",
         "label": 0,
         "_deepnote_index_column": 761
        },
        {
         "text": "depression and obsession don't mix well i'm poisoned and my body don't feel well",
         "label": 1,
         "_deepnote_index_column": 762
        },
        {
         "text": "@user Im not depressed 😂💀💀 I was chillin and thought about it",
         "label": 0,
         "_deepnote_index_column": 763
        },
        {
         "text": "My friends are the cause of my anxiety levels going thru the fucking roof",
         "label": 1,
         "_deepnote_index_column": 764
        },
        {
         "text": "ive joined a lot of discords while of been on here and I don't remember who is on all of them and i…",
         "label": 1,
         "_deepnote_index_column": 765
        },
        {
         "text": "I hate anxiety. I have felt so off lately.",
         "label": 1,
         "_deepnote_index_column": 766
        },
        {
         "text": "Good she out here giving niggas ptsd and depression shorty needs to be taken in by the cdc",
         "label": 1,
         "_deepnote_index_column": 767
        },
        {
         "text": "I like to Direk Bobet Vidanes tackles abiut depression",
         "label": 0,
         "_deepnote_index_column": 768
        },
        {
         "text": "target aesthetic is depression and talking about zodiacs",
         "label": 0,
         "_deepnote_index_column": 769
        },
        {
         "text": "'Stressed and depressed'",
         "label": 1,
         "_deepnote_index_column": 770
        },
        {
         "text": "And when you said manic depression's a frustrated mess",
         "label": 1,
         "_deepnote_index_column": 771
        },
        {
         "text": "I had a dream last night that tom holland and I hugged for five minutes straight and now I'm depres…",
         "label": 0,
         "_deepnote_index_column": 772
        },
        {
         "text": "Movies relieve all kinds of anxiety",
         "label": 0,
         "_deepnote_index_column": 773
        },
        {
         "text": "@user @user Transitioning was the only thing that treated my depressionism and anxietheism.",
         "label": 0,
         "_deepnote_index_column": 774
        },
        {
         "text": "Depression and anxiety",
         "label": 1,
         "_deepnote_index_column": 775
        },
        {
         "text": "I go through a whole stage of anxiety before I ask for a simple $5",
         "label": 0,
         "_deepnote_index_column": 776
        },
        {
         "text": "anxious level: extreme",
         "label": 1,
         "_deepnote_index_column": 777
        },
        {
         "text": "@user @user @user @user this looks like another depressing read - thank you for the heads up",
         "label": 0,
         "_deepnote_index_column": 778
        },
        {
         "text": "i just feel so overwhelmed rn i'm super anxious about 50 different things uh",
         "label": 1,
         "_deepnote_index_column": 779
        },
        {
         "text": "@user Not all rich people have depression. :/",
         "label": 0,
         "_deepnote_index_column": 780
        },
        {
         "text": "Cutting back caffeine can help #reduceanxiety and #irritability.",
         "label": 0,
         "_deepnote_index_column": 781
        },
        {
         "text": "A bit of sunshine for anyone who regularly reads my depressing AF twitter feed.",
         "label": 1,
         "_deepnote_index_column": 782
        },
        {
         "text": "another anxiety filled day ugh",
         "label": 1,
         "_deepnote_index_column": 783
        },
        {
         "text": "SHOUTOUT to the hella abusive person who yelled swear words and unhelpful rage at me when I'm alrea…",
         "label": 1,
         "_deepnote_index_column": 784
        },
        {
         "text": "Anxiety at night is the WORST",
         "label": 1,
         "_deepnote_index_column": 785
        },
        {
         "text": "I love overcoming depression and PTSD from losing a loved one traumatically and healing with your f…",
         "label": 1,
         "_deepnote_index_column": 786
        },
        {
         "text": "@user Yep, all of these depressing futures are depressingly possible.",
         "label": 0,
         "_deepnote_index_column": 787
        },
        {
         "text": "@user It's sad and depressing that I'm living 7 hours away by flight from Korea or Japan 😭 It's dif…",
         "label": 0,
         "_deepnote_index_column": 788
        },
        {
         "text": "@user  fam meh depression is out cuz I used up all meh happiness yesterday",
         "label": 0,
         "_deepnote_index_column": 789
        },
        {
         "text": "Damn. I need to find a way to be happy, cause dis depressed shit ain't workin &amp; it ain't for me.",
         "label": 1,
         "_deepnote_index_column": 790
        },
        {
         "text": "I am not a person built for live-streams they make me so anxious if I get behind",
         "label": 1,
         "_deepnote_index_column": 791
        },
        {
         "text": "omg thank god i can start my midnight pacing soon i was getting so mf anxious djdjjdjk god i'm so g…",
         "label": 1,
         "_deepnote_index_column": 792
        },
        {
         "text": "I dont like wearing foundation.I let people see my flaws, insecurities, and depression up my surfac…",
         "label": 1,
         "_deepnote_index_column": 793
        },
        {
         "text": "@user @user @user Anxiously waiting!",
         "label": 0,
         "_deepnote_index_column": 794
        },
        {
         "text": "My dad said to me that I don't seem depressed but ohhhohohoh boy if I only had the courage to tell …",
         "label": 1,
         "_deepnote_index_column": 795
        },
        {
         "text": "#WATCRY is @user depressed or something?",
         "label": 0,
         "_deepnote_index_column": 796
        },
        {
         "text": "@user AND THEN SHE ALWAYS PULLS THE 🌫🖤☁️ luv u guys sorry i'm so depressed LIKE SHUT TF UP",
         "label": 0,
         "_deepnote_index_column": 797
        },
        {
         "text": "everything is manageable until a depressive episode and pms hit at the exact same time",
         "label": 0,
         "_deepnote_index_column": 798
        },
        {
         "text": "depression at its finest",
         "label": 1,
         "_deepnote_index_column": 799
        },
        {
         "text": "I woke up and was depressed that whole day",
         "label": 1,
         "_deepnote_index_column": 800
        },
        {
         "text": "After break up one moves on a new relationship..and other in depression!",
         "label": 0,
         "_deepnote_index_column": 801
        },
        {
         "text": "Does anyone else's get summer depression. This heat actually makes me miserable",
         "label": 0,
         "_deepnote_index_column": 802
        },
        {
         "text": "Depression is more tiring than work 😩😢😭",
         "label": 1,
         "_deepnote_index_column": 803
        },
        {
         "text": "@user omg ty queen i dont have depression anymore",
         "label": 0,
         "_deepnote_index_column": 804
        },
        {
         "text": "When someone you havent seen or talked to in years and were close to move in a few houses away... h…",
         "label": 0,
         "_deepnote_index_column": 805
        },
        {
         "text": "will I ever have a job that doesn't fill me with massive anxiety lol",
         "label": 0,
         "_deepnote_index_column": 806
        },
        {
         "text": "ive been chugging caffeine since 4:30 this morning my anxiety is going to be through the roof ! 😬",
         "label": 0,
         "_deepnote_index_column": 807
        },
        {
         "text": "@user So much, yes. I can get almost depressed about it.",
         "label": 0,
         "_deepnote_index_column": 808
        },
        {
         "text": "getting more anxious day by day",
         "label": 1,
         "_deepnote_index_column": 809
        },
        {
         "text": "My oc is supertalented to be horny and depressed at the same time",
         "label": 0,
         "_deepnote_index_column": 810
        },
        {
         "text": "So they're now just 30+ &amp; depressed because of the cultural pressure to marry. Once you go blac…",
         "label": 0,
         "_deepnote_index_column": 811
        },
        {
         "text": "I have a bio test in a few  minutes and my anxiety is just being annoying, can it not... its not th…",
         "label": 0,
         "_deepnote_index_column": 812
        },
        {
         "text": "I got soo much coming up this month  getting anxiety just thinking about it",
         "label": 1,
         "_deepnote_index_column": 813
        },
        {
         "text": "im just kinda sad i quit because depression and then started gaining weight .",
         "label": 1,
         "_deepnote_index_column": 814
        },
        {
         "text": "I still love how much after laughter has helped me with my anxiety and depression god I love paramo…",
         "label": 1,
         "_deepnote_index_column": 815
        },
        {
         "text": "I'm so anxious for tomorrow",
         "label": 1,
         "_deepnote_index_column": 816
        },
        {
         "text": "All of a sudden depression jokes aren't so funny",
         "label": 1,
         "_deepnote_index_column": 817
        },
        {
         "text": "I'm really trying to pray this depression out of my life. Cause I just can't.",
         "label": 1,
         "_deepnote_index_column": 818
        },
        {
         "text": "Anxiety sucks. I know I look hella cute in this outfit, but I still worry about what other people t…",
         "label": 1,
         "_deepnote_index_column": 819
        },
        {
         "text": "I AM NON-RESPONSIVE TO DEMONIC DEPRESSION! ****THOSE WHO DEAL WITH THIS REPEAT IT MORE THAN ONCE!!!",
         "label": 1,
         "_deepnote_index_column": 820
        },
        {
         "text": "my anxiety was pretty bad today should i get another tattoo be honest",
         "label": 1,
         "_deepnote_index_column": 821
        },
        {
         "text": "This is sooo depressing 🙁🙁🥺",
         "label": 1,
         "_deepnote_index_column": 822
        },
        {
         "text": "@user That is extremely depressing",
         "label": 0,
         "_deepnote_index_column": 823
        },
        {
         "text": "I like the way getting a #tattoo feels. If I'm depressed, it's nice to get one and deal with the pa…",
         "label": 0,
         "_deepnote_index_column": 824
        },
        {
         "text": "Why is normal living so hard 😢 #PND #mentalhealth #depression",
         "label": 1,
         "_deepnote_index_column": 825
        },
        {
         "text": "My house is so fucking depressing like I just would rather die. I don't even know where to start it…",
         "label": 1,
         "_deepnote_index_column": 826
        },
        {
         "text": "I will overcome my depression &amp; anxiety...fucking WATCH me.",
         "label": 1,
         "_deepnote_index_column": 827
        },
        {
         "text": "No, I'm in a constant state of depression",
         "label": 1,
         "_deepnote_index_column": 828
        },
        {
         "text": "My anxiety has been sky high this week and honestly I don't know what I'm going to do if it continu…",
         "label": 1,
         "_deepnote_index_column": 829
        },
        {
         "text": "Def been depressed for a month straight.",
         "label": 1,
         "_deepnote_index_column": 830
        },
        {
         "text": "Nothing diminishes anxiety faster than action. —Walter Anderson via @user",
         "label": 0,
         "_deepnote_index_column": 831
        },
        {
         "text": "How do we change the stereotype that depression is an illness that solely effects white people? #Re…",
         "label": 0,
         "_deepnote_index_column": 832
        },
        {
         "text": "i'm depressed, meg",
         "label": 1,
         "_deepnote_index_column": 833
        },
        {
         "text": "jus wanted to say that spamming me makes me rly rly anxious so i would appreciate if u wouldnt do t…",
         "label": 0,
         "_deepnote_index_column": 834
        },
        {
         "text": "@user Well I'm depressed that you haven't been here",
         "label": 1,
         "_deepnote_index_column": 835
        },
        {
         "text": "@user See @user we're everywhere, us phone-anxiety people...",
         "label": 0,
         "_deepnote_index_column": 836
        },
        {
         "text": "Wow I'm having such an awful anxiety attack Rn holy shit",
         "label": 1,
         "_deepnote_index_column": 837
        },
        {
         "text": "Anxiety is fckn killing me rn 😭",
         "label": 1,
         "_deepnote_index_column": 838
        },
        {
         "text": "Anxiety on 1000. Don't bother me.",
         "label": 1,
         "_deepnote_index_column": 839
        },
        {
         "text": "I'm to depressed for this shit",
         "label": 1,
         "_deepnote_index_column": 840
        },
        {
         "text": "@user What do you feel anxious about?",
         "label": 1,
         "_deepnote_index_column": 841
        },
        {
         "text": "ok my mum is going to kill me bc i spent 600+ on shoes this month LOL BUT I finally bought the golf…",
         "label": 0,
         "_deepnote_index_column": 842
        },
        {
         "text": "@user @user ...@zoewhittall I didn't find your book depressing. Just saying!",
         "label": 0,
         "_deepnote_index_column": 843
        },
        {
         "text": "stop rt those rt or else posts on my tl they make me so anxious you guys are the Worst",
         "label": 0,
         "_deepnote_index_column": 844
        },
        {
         "text": "If I smoke while having an anxiety attack would that make it worse. ?",
         "label": 0,
         "_deepnote_index_column": 845
        },
        {
         "text": "Also, the team mate have capacity and have effort than I so I get further depressed .",
         "label": 1,
         "_deepnote_index_column": 846
        },
        {
         "text": "I've the worst anxiety the last 3 days. I think a tattoo would make me feel better. Just sayin 🤷🏼‍♀️",
         "label": 0,
         "_deepnote_index_column": 847
        },
        {
         "text": "Wow im depressed",
         "label": 1,
         "_deepnote_index_column": 848
        },
        {
         "text": "I'm mixed with anxiety and love rn hoo boy",
         "label": 0,
         "_deepnote_index_column": 849
        },
        {
         "text": "@user they give me anxiety now 🙃 totally ruins the concert experience",
         "label": 0,
         "_deepnote_index_column": 850
        },
        {
         "text": "Twitter is just A depression site foh ugly people like me.. :/",
         "label": 0,
         "_deepnote_index_column": 851
        },
        {
         "text": "this gives me anxiety",
         "label": 1,
         "_deepnote_index_column": 852
        },
        {
         "text": "Anxiety is an illusion",
         "label": 0,
         "_deepnote_index_column": 853
        },
        {
         "text": "Your deer daddy is depressed,  how do you cheer him up?",
         "label": 1,
         "_deepnote_index_column": 854
        },
        {
         "text": "Nicolas sparks movies give me depression lmao",
         "label": 0,
         "_deepnote_index_column": 855
        },
        {
         "text": "im depressed is the game fucking DEAD now? Why tf NINTENDO ACTING LIKE ITS OVER FOREVER BITCH STOP …",
         "label": 0,
         "_deepnote_index_column": 856
        },
        {
         "text": "Really enjoyed this game. It felt like a really solid look into an anxiety in a very approachable w…",
         "label": 0,
         "_deepnote_index_column": 857
        },
        {
         "text": "@user The anxiety is real",
         "label": 1,
         "_deepnote_index_column": 858
        },
        {
         "text": "@user I think I'm also just ridden with anxiety because I don't want to look like a fool in the gym…",
         "label": 1,
         "_deepnote_index_column": 859
        },
        {
         "text": "this is depressing. goodnight.",
         "label": 1,
         "_deepnote_index_column": 860
        },
        {
         "text": "What's it like not be constantly plagued by anxiety",
         "label": 1,
         "_deepnote_index_column": 861
        },
        {
         "text": "@user The year just started, and you know the most depressing day. Enough with the trash jor",
         "label": 1,
         "_deepnote_index_column": 862
        },
        {
         "text": "My anxiety has reached a new point where if something I'm watching is going badly, I get stressed o…",
         "label": 1,
         "_deepnote_index_column": 863
        },
        {
         "text": "Of course you should run Asses with soldiers. You should anxious everything with cards.",
         "label": 0,
         "_deepnote_index_column": 864
        },
        {
         "text": "bring back that depression weed",
         "label": 0,
         "_deepnote_index_column": 865
        },
        {
         "text": "*screeching* wHy tHe FuCK!!! do i have anxiety!!! nothing is happening!!!!!!!!!!!!!!!!!!!!!!!!!!!!!…",
         "label": 1,
         "_deepnote_index_column": 866
        },
        {
         "text": "My anxiety! #GameOfThornes - how many tears will i shed ?",
         "label": 0,
         "_deepnote_index_column": 867
        },
        {
         "text": "You know what ? I got depressed, sad but no one's there.",
         "label": 1,
         "_deepnote_index_column": 868
        },
        {
         "text": "@user It's anxiety",
         "label": 1,
         "_deepnote_index_column": 869
        },
        {
         "text": "@user taking antidepressants is bimbofication",
         "label": 1,
         "_deepnote_index_column": 870
        },
        {
         "text": "Why am I so scared to kill myself? I wish I could just bring myself to do it already... 🥀#Depressio…",
         "label": 1,
         "_deepnote_index_column": 871
        },
        {
         "text": "im depressed and sleepy, somebody pls reply with chris pictures",
         "label": 1,
         "_deepnote_index_column": 872
        },
        {
         "text": "@user @user They're building around EliWon't be surprised if Eli gets extended....Holy shit I'm dep…",
         "label": 0,
         "_deepnote_index_column": 873
        },
        {
         "text": "Been sleeping all day. Am I tired or is this depression?",
         "label": 1,
         "_deepnote_index_column": 874
        },
        {
         "text": "Social anxiety + being alone in public....   FOCCCCC",
         "label": 1,
         "_deepnote_index_column": 875
        },
        {
         "text": "i'm really gonna need someone to distract me this weekend and not let me stay home and be depressed",
         "label": 1,
         "_deepnote_index_column": 876
        },
        {
         "text": "me: i have anxietyperson:",
         "label": 1,
         "_deepnote_index_column": 877
        },
        {
         "text": "Im depressed and fed up beyond belief and just want it to end",
         "label": 1,
         "_deepnote_index_column": 878
        },
        {
         "text": "My hair ain't darker stop it y'all are making me depressed, it's literally the same LMAO",
         "label": 0,
         "_deepnote_index_column": 879
        },
        {
         "text": "Okay sorry for being depressing I'm back 😚🤟🏼",
         "label": 0,
         "_deepnote_index_column": 880
        },
        {
         "text": "Me personified in a single tweet. Thank you for seeing my once a week depressive tweet ok bye.",
         "label": 0,
         "_deepnote_index_column": 881
        },
        {
         "text": "Wow it really is depression hours",
         "label": 1,
         "_deepnote_index_column": 882
        },
        {
         "text": "Fun Fact: Anxiety can open up existentialism",
         "label": 0,
         "_deepnote_index_column": 883
        },
        {
         "text": "And im rapping these days. That means im really stressed and anxious. I havent rapped in like month…",
         "label": 1,
         "_deepnote_index_column": 884
        },
        {
         "text": "Depression is so serious, depression killed my fucking father almost a year ago ..",
         "label": 1,
         "_deepnote_index_column": 885
        },
        {
         "text": "Shit makes me hella depressed, but I'll smile and continue my day like it's cool",
         "label": 1,
         "_deepnote_index_column": 886
        },
        {
         "text": "Julia's EP out tomorrow omg i cant wait to hear Selena's part on anxiety . Ma bby is back w a new s…",
         "label": 0,
         "_deepnote_index_column": 887
        },
        {
         "text": "@user Thought you was gonna be less depressing in here? Sheesh",
         "label": 0,
         "_deepnote_index_column": 888
        },
        {
         "text": "obsessed depressed at the same time",
         "label": 1,
         "_deepnote_index_column": 889
        },
        {
         "text": "Boomers have to blame shootings on Video Games because they dont believe that depression is real.",
         "label": 1,
         "_deepnote_index_column": 890
        },
        {
         "text": "*uses caffeine as an antidepressant*",
         "label": 0,
         "_deepnote_index_column": 891
        },
        {
         "text": "if i was depressed i would simply just be happy",
         "label": 1,
         "_deepnote_index_column": 892
        },
        {
         "text": "it's been a very depressing week.",
         "label": 1,
         "_deepnote_index_column": 893
        },
        {
         "text": "depression really fucking sucks",
         "label": 1,
         "_deepnote_index_column": 894
        },
        {
         "text": "Libra culture is using the same nail polish color at the salon 2-3 visits in a row bc trying to pic…",
         "label": 0,
         "_deepnote_index_column": 895
        },
        {
         "text": "anyways, my last year of college starts today whew anxiety!",
         "label": 0,
         "_deepnote_index_column": 896
        },
        {
         "text": "'Dad.. I'm depressed.' 'Hi depressed, I'm Dad.'",
         "label": 0,
         "_deepnote_index_column": 897
        },
        {
         "text": "respiratory depression be my god",
         "label": 0,
         "_deepnote_index_column": 898
        },
        {
         "text": "deactivated my main because not only do i feel invisible, i am also depressed.",
         "label": 0,
         "_deepnote_index_column": 899
        }
       ]
      },
      "text/plain": "                                                   text  label\n93                     @MELindsey lol, he has no shame     0.0\n5416  @do0dlebugdebz haha. LOL I'm ok with the girl ...    0.0\n298   @RachaelPhillips we got beaten... but less tha...    0.0\n1661     Long weekends are perfect to work on projects     0.0\n2520  @VanNessVanWu ??!! can i ask for a prayer requ...    0.0\n...                                                 ...    ...\n895   Libra culture is using the same nail polish co...    0.0\n896   anyways, my last year of college starts today ...    0.0\n897     'Dad.. I'm depressed.' 'Hi depressed, I'm Dad.'    0.0\n898                    respiratory depression be my god    0.0\n899   deactivated my main because not only do i feel...    0.0\n\n[5534 rows x 2 columns]",
      "text/html": "<div>\n<style scoped>\n    .dataframe tbody tr th:only-of-type {\n        vertical-align: middle;\n    }\n\n    .dataframe tbody tr th {\n        vertical-align: top;\n    }\n\n    .dataframe thead th {\n        text-align: right;\n    }\n</style>\n<table border=\"1\" class=\"dataframe\">\n  <thead>\n    <tr style=\"text-align: right;\">\n      <th></th>\n      <th>text</th>\n      <th>label</th>\n    </tr>\n  </thead>\n  <tbody>\n    <tr>\n      <th>93</th>\n      <td>@MELindsey lol, he has no shame</td>\n      <td>0.0</td>\n    </tr>\n    <tr>\n      <th>5416</th>\n      <td>@do0dlebugdebz haha. LOL I'm ok with the girl ...</td>\n      <td>0.0</td>\n    </tr>\n    <tr>\n      <th>298</th>\n      <td>@RachaelPhillips we got beaten... but less tha...</td>\n      <td>0.0</td>\n    </tr>\n    <tr>\n      <th>1661</th>\n      <td>Long weekends are perfect to work on projects</td>\n      <td>0.0</td>\n    </tr>\n    <tr>\n      <th>2520</th>\n      <td>@VanNessVanWu ??!! can i ask for a prayer requ...</td>\n      <td>0.0</td>\n    </tr>\n    <tr>\n      <th>...</th>\n      <td>...</td>\n      <td>...</td>\n    </tr>\n    <tr>\n      <th>895</th>\n      <td>Libra culture is using the same nail polish co...</td>\n      <td>0.0</td>\n    </tr>\n    <tr>\n      <th>896</th>\n      <td>anyways, my last year of college starts today ...</td>\n      <td>0.0</td>\n    </tr>\n    <tr>\n      <th>897</th>\n      <td>'Dad.. I'm depressed.' 'Hi depressed, I'm Dad.'</td>\n      <td>0.0</td>\n    </tr>\n    <tr>\n      <th>898</th>\n      <td>respiratory depression be my god</td>\n      <td>0.0</td>\n    </tr>\n    <tr>\n      <th>899</th>\n      <td>deactivated my main because not only do i feel...</td>\n      <td>0.0</td>\n    </tr>\n  </tbody>\n</table>\n<p>5534 rows × 2 columns</p>\n</div>"
     },
     "metadata": {}
    }
   ]
  },
  {
   "cell_type": "markdown",
   "source": "## Preprocessing",
   "metadata": {
    "tags": [],
    "cell_id": "00007-772d2eaa-3a2e-41bc-9f24-96dd2d6aa006",
    "deepnote_cell_type": "markdown"
   }
  },
  {
   "cell_type": "code",
   "metadata": {
    "tags": [],
    "cell_id": "00008-a5c7e5d2-8d2c-4bb3-97d9-08b12b8154aa",
    "deepnote_to_be_reexecuted": false,
    "source_hash": "84bbb54c",
    "execution_start": 1639179077202,
    "execution_millis": 0,
    "deepnote_cell_type": "code"
   },
   "source": "import re\n\ndef remove_URL(text):\n    \"\"\"Remove URLs from a text string\"\"\"\n    return re.sub(r\"http\\S+\", \"\", text)",
   "execution_count": null,
   "outputs": []
  },
  {
   "cell_type": "code",
   "metadata": {
    "tags": [],
    "cell_id": "00019-e16e71e2-5fde-445e-ab35-69d701fa1101",
    "deepnote_to_be_reexecuted": false,
    "source_hash": "e574a9c6",
    "execution_start": 1639179079056,
    "execution_millis": 511672250,
    "deepnote_cell_type": "code"
   },
   "source": "from gensim.parsing.porter import PorterStemmer\np = PorterStemmer()",
   "execution_count": null,
   "outputs": []
  },
  {
   "cell_type": "code",
   "metadata": {
    "tags": [],
    "cell_id": "00022-2afb8bac-ea94-48b4-9280-7e7be7f10688",
    "deepnote_cell_type": "code"
   },
   "source": "tweet = 'this is a depressive tweet'\nprocessed_punc = re.sub(r'[^@a-zA-Z ]', '', tweet)\nprocessed = re.sub('https:\\S+|@\\S+|\\b\\w{,1}\\b', '', processed_punc)\ntokens = word_tokenize(processed)\ntokens_sw = [token for token in tokens if not token in stopwords.words()]\nsentence = ' '.join(tokens_sw)\nstemmed_sentence = p.stem_sentence(sentence)\nx_train_tokenized = vectorizer.transform([stemmed_sentence])",
   "execution_count": null,
   "outputs": []
  },
  {
   "cell_type": "code",
   "metadata": {
    "tags": [],
    "cell_id": "00008-acaf915e-28ba-4b2d-a590-00a57da7906d",
    "deepnote_to_be_reexecuted": false,
    "source_hash": "1fa1cc93",
    "execution_start": 1639179086797,
    "execution_millis": 30,
    "deepnote_cell_type": "code"
   },
   "source": "def preprocessing(tweets_array):\n    \n    \"\"\"\n    Take in an array of tweets, and return the processed tweets.\n    remove stopwords, usernames, punctuation, and words with length of 1\n    \"\"\"\n    \n    processed_array = []\n    \n    for tweet in tqdm(tweets_array):\n        processed_punc = re.sub('[^@a-zA-Z ]', '', tweet)  # remove punctuation\n        processed = re.sub('https\\S+|@\\S+|\\b\\w{,1}\\b', '', processed_punc)  # remove https, usernames, len(word) < 1\n        # keep only alphabets, whitespaces, and @ (to remove usernames)\n        # processed = re.sub('[^@a-zA-Z ]', '', tweet)\n        # #print(processed)\n        # no_urls = remove_URL(processed)\n        # #print(no_urls)\n\n        # # usernames (anything that begins with \"@\")\n        # no_usernames = \" \".join([x for x in no_urls.split() if x[0] != '@'])\n        # no_usernames = \" \".join([x for x in processed.split() if x[0] != '@'])\n        #print(no_usernames)\n\n        words = word_tokenize(processed)\n\n        # stopwords\n        tokens_without_sw = [word for word in words if not word in stopwords.words()]\n        sentence = ' '.join(tokens_without_sw)\n        stemmed_sentence = p.stem_sentence(sentence)\n        \n        # remove words with length of 1\n        processed_array.append(stemmed_sentence)\n    \n    return processed_array",
   "execution_count": null,
   "outputs": []
  },
  {
   "cell_type": "code",
   "metadata": {
    "tags": [],
    "cell_id": "00021-a96b424e-11aa-4f91-9d6c-d1f4c90ebaab",
    "deepnote_to_be_reexecuted": false,
    "source_hash": "3d80e05d",
    "execution_start": 1638461364273,
    "execution_millis": 1,
    "deepnote_cell_type": "code"
   },
   "source": "tweet = \"@daniesq I know you're always up early but why https://abc.com\"\nprocessed_punc = re.sub('[^@a-zA-Z ]', '', tweet)  # remove punctuation\nprocessed = re.sub('https\\S+|@\\S+|\\b\\w{,1}\\b', '', processed_punc)\nstemmed_sentence = p.stem_sentence(processed)\nwords = word_tokenize(stemmed_sentence)\ntokens_without_sw = [word for word in words if not word in stopwords.words()]",
   "execution_count": null,
   "outputs": []
  },
  {
   "cell_type": "code",
   "metadata": {
    "tags": [],
    "cell_id": "00009-31c06f0a-31ff-4b2c-addf-fd21544374a8",
    "deepnote_to_be_reexecuted": false,
    "source_hash": "47a245b0",
    "execution_start": 1639179093311,
    "execution_millis": 733018,
    "deepnote_output_heights": [
     null,
     607
    ],
    "deepnote_cell_type": "code"
   },
   "source": "result['processed'] = preprocessing(result['text'])",
   "execution_count": null,
   "outputs": [
    {
     "name": "stderr",
     "text": "100%|██████████| 5534/5534 [12:12<00:00,  7.55it/s]\n",
     "output_type": "stream"
    }
   ]
  },
  {
   "cell_type": "code",
   "metadata": {
    "tags": [],
    "cell_id": "00024-a02ac0ff-ff77-45df-8db4-05ab1fb191a7",
    "deepnote_to_be_reexecuted": false,
    "source_hash": "2e6a3522",
    "execution_start": 1638463465097,
    "execution_millis": 3,
    "deepnote_output_heights": [
     21.1875
    ],
    "deepnote_cell_type": "code"
   },
   "source": "pd.DataFrame({\"tweet\": \"text\"}, index=[0])['tweet'].to_numpy()",
   "execution_count": null,
   "outputs": [
    {
     "output_type": "execute_result",
     "execution_count": 67,
     "data": {
      "text/plain": "array(['text'], dtype=object)"
     },
     "metadata": {}
    }
   ]
  },
  {
   "cell_type": "code",
   "metadata": {
    "tags": [],
    "cell_id": "00025-1ff04214-8293-4663-b704-79cd5afc3fcf",
    "deepnote_to_be_reexecuted": false,
    "source_hash": "163aed4c",
    "execution_start": 1638463526278,
    "execution_millis": 4,
    "deepnote_output_heights": [
     21.1875
    ],
    "deepnote_cell_type": "code"
   },
   "source": "np.asarray('text')",
   "execution_count": null,
   "outputs": [
    {
     "output_type": "execute_result",
     "execution_count": 78,
     "data": {
      "text/plain": "array('text', dtype='<U4')"
     },
     "metadata": {}
    }
   ]
  },
  {
   "cell_type": "code",
   "metadata": {
    "tags": [],
    "cell_id": "00022-1eb43358-e4d0-4ab2-b506-923dc80c3294",
    "deepnote_to_be_reexecuted": false,
    "source_hash": "ea7c3379",
    "execution_start": 1639180177438,
    "execution_millis": 3,
    "deepnote_output_heights": [
     232.34375
    ],
    "deepnote_cell_type": "code"
   },
   "source": "result['processed']",
   "execution_count": null,
   "outputs": [
    {
     "output_type": "execute_result",
     "execution_count": 38,
     "data": {
      "text/plain": "93                                              lol shame\n5416    haha lol im ok girl tho nitesss im head sabah ...\n298                    got beaten less get beaten without\n1661                    long weekend perfect work project\n2520                                 ask prayer request v\n                              ...                        \n895     libra cultur us nail polish color salon visit ...\n896      anywai last year colleg start todai whew anxieti\n897                      dad im depress hi depress im dad\n898                               respiratori depress god\n899                       deactiv main feel invis depress\nName: processed, Length: 5534, dtype: object"
     },
     "metadata": {}
    }
   ]
  },
  {
   "cell_type": "code",
   "metadata": {
    "tags": [],
    "cell_id": "00010-eb4ac706-fa5d-4070-9c24-494f856e3421",
    "deepnote_to_be_reexecuted": false,
    "source_hash": "a1ad7e08",
    "execution_start": 1639180351529,
    "execution_millis": 16,
    "deepnote_cell_type": "code"
   },
   "source": "result.dropna(subset=['processed'], inplace=True)",
   "execution_count": null,
   "outputs": []
  },
  {
   "cell_type": "code",
   "metadata": {
    "tags": [],
    "cell_id": "00026-11bb1f9d-a272-4953-8e3a-110d6b30da56",
    "deepnote_to_be_reexecuted": false,
    "source_hash": "22814f72",
    "execution_start": 1639180353290,
    "execution_millis": 4,
    "deepnote_output_heights": [
     232.34375
    ],
    "deepnote_cell_type": "code"
   },
   "source": "result['processed'].value_counts()",
   "execution_count": null,
   "outputs": [
    {
     "output_type": "execute_result",
     "execution_count": 40,
     "data": {
      "text/plain": "grime claim remov part eyebal cure season depress                              38\ndepress                                                                         8\nthank                                                                           8\n                                                                                7\ndepress bitch                                                                   7\n                                                                               ..\narlington spelt wrong give anxieti                                              1\ni think i need quottweet peopl watchingquot seem like work lobbi air condit     1\neither job titl would look nice resum actual i salari titl                      1\nbedd peace                                                                      1\nhonestli lucki best mate i go depress listen i need                             1\nName: processed, Length: 5422, dtype: int64"
     },
     "metadata": {}
    }
   ]
  },
  {
   "cell_type": "code",
   "metadata": {
    "tags": [],
    "cell_id": "00029-590567ea-66fe-413f-9616-0f05b538fdcf",
    "deepnote_to_be_reexecuted": false,
    "source_hash": "bae0e1b5",
    "execution_start": 1638661052165,
    "execution_millis": 75,
    "deepnote_cell_type": "code"
   },
   "source": "result",
   "execution_count": null,
   "outputs": [
    {
     "output_type": "execute_result",
     "execution_count": 23,
     "data": {
      "application/vnd.deepnote.dataframe.v2+json": {
       "row_count": 4639,
       "column_count": 3,
       "columns": [
        {
         "name": "text",
         "dtype": "object",
         "stats": {
          "unique_count": 4594,
          "nan_count": 0,
          "categories": [
           {
            "name": "\"Grimes claims she removed part of her eyeball to 'cure seasonal depression'\"   https://twitter.com/i/events/1151147174912122880 …",
            "count": 11
           },
           {
            "name": "⚡️ “Grimes claims she removed part of her eyeball to 'cure seasonal depression'”   https://twitter.com/i/moments/1151147173062615041 …",
            "count": 9
           },
           {
            "name": "4592 others",
            "count": 4619
           }
          ]
         }
        },
        {
         "name": "label",
         "dtype": "float64",
         "stats": {
          "unique_count": 2,
          "nan_count": 0,
          "min": "0.0",
          "max": "1.0",
          "histogram": [
           {
            "bin_start": 0,
            "bin_end": 0.1,
            "count": 2670
           },
           {
            "bin_start": 0.1,
            "bin_end": 0.2,
            "count": 0
           },
           {
            "bin_start": 0.2,
            "bin_end": 0.30000000000000004,
            "count": 0
           },
           {
            "bin_start": 0.30000000000000004,
            "bin_end": 0.4,
            "count": 0
           },
           {
            "bin_start": 0.4,
            "bin_end": 0.5,
            "count": 0
           },
           {
            "bin_start": 0.5,
            "bin_end": 0.6000000000000001,
            "count": 0
           },
           {
            "bin_start": 0.6000000000000001,
            "bin_end": 0.7000000000000001,
            "count": 0
           },
           {
            "bin_start": 0.7000000000000001,
            "bin_end": 0.8,
            "count": 0
           },
           {
            "bin_start": 0.8,
            "bin_end": 0.9,
            "count": 0
           },
           {
            "bin_start": 0.9,
            "bin_end": 1,
            "count": 1969
           }
          ]
         }
        },
        {
         "name": "processed",
         "dtype": "object",
         "stats": {
          "unique_count": 4533,
          "nan_count": 0,
          "categories": [
           {
            "name": "grime claim remov part eyebal cure season depress",
            "count": 38
           },
           {
            "name": "",
            "count": 10
           },
           {
            "name": "4531 others",
            "count": 4591
           }
          ]
         }
        },
        {
         "name": "_deepnote_index_column",
         "dtype": "int64"
        }
       ],
       "rows_top": [
        {
         "text": "@xwidep that's exactly what I had for dinner, except I had an onion bhaji with it too  nom!",
         "label": 0,
         "processed": "that exactli i dinner except i onion bhaji nom",
         "_deepnote_index_column": 4462
        },
        {
         "text": "tired of wondering if you will ever come around here again. cali misses you baby. but simply put, f…",
         "label": 0,
         "processed": "tire wonder ever around cali miss babi simpli put florida keep",
         "_deepnote_index_column": 2347
        },
        {
         "text": "@sterrarim Potato head!?? hahaha *ahem* sorry but clearly you are rice! ",
         "label": 0,
         "processed": "potato head hahaha ahem sorri clearli rice",
         "_deepnote_index_column": 4905
        },
        {
         "text": "@CrysAnGeL77 wow I didn't know lol yes I'm out already. Well have a gnite ttys ",
         "label": 0,
         "processed": "wow i didnt know lol ye im alreadi well gnite tty",
         "_deepnote_index_column": 5786
        },
        {
         "text": "#FollowFriday @catdog03 @babyrabies @NoPasaNada because they all make me laugh ",
         "label": 0,
         "processed": "followfridai make laugh",
         "_deepnote_index_column": 2624
        },
        {
         "text": "Just walked past the Sanderson Hotel in Soho. Looks like such a great place to stay. Busy bar too. …",
         "label": 0,
         "processed": "just walk past sanderson hotel soho look like great place stai busi bar fun httpbitlyvqzvm",
         "_deepnote_index_column": 4387
        },
        {
         "text": "@Rotmush no.. I think it was Ori ",
         "label": 0,
         "processed": "i think ori",
         "_deepnote_index_column": 7908
        },
        {
         "text": "Just been to see Night At The Museum 2. It was a really good  I'd recommendd ",
         "label": 0,
         "processed": "just see night at the museum it realli good id recommendd",
         "_deepnote_index_column": 2603
        },
        {
         "text": "going  for a lng bikeride today more training for wales though very difficult in the fens,, oh well…",
         "label": 0,
         "processed": "go lng bikerid todai train wale though difficult fen oh well count still i guess",
         "_deepnote_index_column": 1806
        },
        {
         "text": "http://bit.ly/18mdyM  tech is changing the way we FARM!!! AWESOME ",
         "label": 0,
         "processed": "httpbitlymdym tech chang wai farm awesom",
         "_deepnote_index_column": 3440
        },
        {
         "text": "@ehmperor &quot;uh? rockwell ba kamo? we know it like the back of our hands&quot; nyehehe...that or…",
         "label": 0,
         "processed": "quotuh rockwel kamo know like back handsquot nyehehethat let ask dant",
         "_deepnote_index_column": 2393
        },
        {
         "text": "With Brii ",
         "label": 0,
         "processed": "with brii",
         "_deepnote_index_column": 7097
        },
        {
         "text": "@thefeeling see you later!!  xx",
         "label": 0,
         "processed": "see later xx",
         "_deepnote_index_column": 6644
        },
        {
         "text": "@tinatubs HAHA, you win that one  x",
         "label": 0,
         "processed": "haha win x",
         "_deepnote_index_column": 6275
        },
        {
         "text": "and 1 for the road gang. i once made an entire pack of wolves howl. frightening but yes its true. g…",
         "label": 0,
         "processed": "road gang made entir pack wolv howl frighten ye true good nite see manana",
         "_deepnote_index_column": 2030
        },
        {
         "text": "@imogenheap Rosin!!  Yes.  I hadn't thought of that. Maybe I need to use that every day so I won't …",
         "label": 0,
         "processed": "rosin ye i hadnt thought mayb i need us everi dai i wont butter finger thank",
         "_deepnote_index_column": 2131
        },
        {
         "text": "@henriqoliv182 You can't say anything more than that. Great song  ? http://blip.fm/~5isvn",
         "label": 0,
         "processed": "you cant sai anyth great song httpblipfmisvn",
         "_deepnote_index_column": 925
        },
        {
         "text": "http://twitpic.com/6ant0 - GUESS WHO IS WHOOOO  ahahaha",
         "label": 0,
         "processed": "httptwitpiccom guess who is whoooo ahahaha",
         "_deepnote_index_column": 3266
        },
        {
         "text": "@malayb I'll be there July 8th and head home July 9th. It'll be a fucking party that whole night ",
         "label": 0,
         "processed": "ill juli th head home juli th itll fuck parti whole night",
         "_deepnote_index_column": 4390
        },
        {
         "text": "@rachmurrayX lolz ;) i need to get money, have none atm. if i can get some we should go on monday ",
         "label": 0,
         "processed": "lolz need get monei none atm get go mondai",
         "_deepnote_index_column": 3162
        },
        {
         "text": "Roger Federer's jump to victory!  http://tinyurl.com/l8jrt4",
         "label": 0,
         "processed": "roger feder jump victori httptinyurlcomljrt",
         "_deepnote_index_column": 4352
        },
        {
         "text": "@rocketman528 have a super day! ",
         "label": 0,
         "processed": "super dai",
         "_deepnote_index_column": 2920
        },
        {
         "text": "@smpfilms yaay! Love your videos Cory  (via @gbfilms)",
         "label": 0,
         "processed": "yaai love video cori via",
         "_deepnote_index_column": 4258
        },
        {
         "text": "@hethfen Great thank you  Have you been making music goodness today? ",
         "label": 0,
         "processed": "great thank have make music good todai",
         "_deepnote_index_column": 306
        },
        {
         "text": "the song &quot;Evie&quot; relaxes me  I think I can sleep now",
         "label": 0,
         "processed": "song quoteviequot relax i think i sleep",
         "_deepnote_index_column": 7825
        },
        {
         "text": "is talking to Kath and Johann about going to Vegas.  http://plurk.com/p/xcr4y",
         "label": 0,
         "processed": "talk kath johann go vega httpplurkcompxcri",
         "_deepnote_index_column": 3512
        },
        {
         "text": "@vmh_ent2009 Get 100 followers a day using www.tweeterfollow.com Once you add everyone you are on t…",
         "label": 0,
         "processed": "get follow dai us wwwtweeterfollowcom onc add everyon train pai vip",
         "_deepnote_index_column": 7498
        },
        {
         "text": "@dangitstiarex3, I'm with @thatgirrllauren's house, and we both miss you! ",
         "label": 0,
         "processed": "im hous miss",
         "_deepnote_index_column": 3970
        },
        {
         "text": "@kelsol24 You are a very bright and confident woman, Kelsey, you will be fine.  ",
         "label": 0,
         "processed": "you bright confid woman kelsei fine",
         "_deepnote_index_column": 3854
        },
        {
         "text": "@lindbergh_skies Awe. Thanks for your faith in us.  &lt;3",
         "label": 0,
         "processed": "aw thank faith us lt",
         "_deepnote_index_column": 7362
        },
        {
         "text": "@grahamwalmsley No, only good deeds today ",
         "label": 0,
         "processed": "no good deed todai",
         "_deepnote_index_column": 1690
        },
        {
         "text": "right now, new york is where i wanna be. ",
         "label": 0,
         "processed": "right new york wan",
         "_deepnote_index_column": 1743
        },
        {
         "text": "Am taking advantage of the sunshine and am going to take the dog on the beach for a walk...no work …",
         "label": 0,
         "processed": "am take advantag sunshin go beach walkno work daysyipeeee",
         "_deepnote_index_column": 109
        },
        {
         "text": "@MihaiDragan wow! nu stiam ca citesti amdoar18ani.ro ",
         "label": 0,
         "processed": "wow stiam citesti amdoaraniro",
         "_deepnote_index_column": 2479
        },
        {
         "text": "OK, the inevitable happened - T-Rex led to Bowie. Spotify has an aboslutely massive Bowie collectio…",
         "label": 0,
         "processed": "ok inevit happen trex led bowi spotifi aboslut massiv bowi collect that sort dai",
         "_deepnote_index_column": 4926
        },
        {
         "text": "On the trampoline with bj ",
         "label": 0,
         "processed": "on trampolin bj",
         "_deepnote_index_column": 3357
        },
        {
         "text": "@loisyoung92 i think i may have just passed history ",
         "label": 0,
         "processed": "think mai pass histori",
         "_deepnote_index_column": 4844
        },
        {
         "text": "@TwilightEarth Daybreak is my favorite time of day. ",
         "label": 0,
         "processed": "daybreak favorit time dai",
         "_deepnote_index_column": 2974
        },
        {
         "text": "woooot Paranoid on disney 5 seconds ago ",
         "label": 0,
         "processed": "woooot paranoid disnei second ago",
         "_deepnote_index_column": 2712
        },
        {
         "text": "I suffer from the white girl shape BIG boobz and NO Booty lmao I got a lil one ha ha so I find out …",
         "label": 0,
         "processed": "i suffer white girl shape big boobz no booti lmao i got lil i find pink pantz make bigger",
         "_deepnote_index_column": 4964
        },
        {
         "text": "good day out with my parents! woo hoo. epic chinese and an amazing time out with my little brother. ",
         "label": 0,
         "processed": "good dai parent woo hoo epic chines amaz time littl brother",
         "_deepnote_index_column": 3147
        },
        {
         "text": "@mayhemstudios thank you so much ",
         "label": 0,
         "processed": "thank much",
         "_deepnote_index_column": 7434
        },
        {
         "text": "Good Sunday Morning! It's raining again so I'm going to make some potato soup for dinner and the re…",
         "label": 0,
         "processed": "good sundai morn it rain im go make potato soup dinner rest dai lazi dai",
         "_deepnote_index_column": 874
        },
        {
         "text": "@flake86 Thanks! ... only 23 more days ",
         "label": 0,
         "processed": "thank dai",
         "_deepnote_index_column": 3080
        },
        {
         "text": "@TMobile_Chris I just mean I had a few too many  owww... my head.",
         "label": 0,
         "processed": "i mean i mani owww head",
         "_deepnote_index_column": 6987
        },
        {
         "text": "laying in bed with sugar!  &lt;3",
         "label": 0,
         "processed": "lai bed sugar lt",
         "_deepnote_index_column": 1463
        },
        {
         "text": "Last minute wine change! We ran out of the David Bruce, so we are substituting the 2006 Ancien Pino…",
         "label": 0,
         "processed": "last minut wine chang we ran david bruce substitut ancien pinot noir russian river same price",
         "_deepnote_index_column": 6347
        },
        {
         "text": "5 more days of work till SUMMER VACATION!!  One of only a few perks to being a teacher!!  ",
         "label": 0,
         "processed": "dai work summer vacat on perk teacher",
         "_deepnote_index_column": 1592
        },
        {
         "text": "If you're wit Double S bring sum grub n a grill... If you ain't, bugger off ",
         "label": 0,
         "processed": "if your wit doubl s bring sum grub grill if aint bugger",
         "_deepnote_index_column": 3102
        },
        {
         "text": "@fairiesworld Beautiful art, Myrea!  ",
         "label": 0,
         "processed": "beauti art myrea",
         "_deepnote_index_column": 1334
        },
        {
         "text": "@kristinburbey Hey new friend.... what is up?  ",
         "label": 0,
         "processed": "hei new friend",
         "_deepnote_index_column": 1441
        },
        {
         "text": "@HilaryNghtmare yess  I know  Omg I can't wait till you come back  I laaa you",
         "label": 0,
         "processed": "yess i know omg i cant wait back i laaa",
         "_deepnote_index_column": 967
        },
        {
         "text": "@TheRealJordin UP is an amazing Movie. I love that movie. I plan on going to see it again! I love R…",
         "label": 0,
         "processed": "up amaz movi i love movi i plan go see i love russel",
         "_deepnote_index_column": 7038
        },
        {
         "text": "@marcostartari thank you ",
         "label": 0,
         "processed": "thank",
         "_deepnote_index_column": 5788
        },
        {
         "text": "on my way to marbella, spain  see u guys later!",
         "label": 0,
         "processed": "wai marbella spain see gui later",
         "_deepnote_index_column": 592
        },
        {
         "text": "@xLoveableFreakx NOOO you listen! its J-A-Z-E-L JAAZEEL    got thtt? xD iluusm",
         "label": 0,
         "processed": "nooo listen jazel jaazeel got thtt xd iluusm",
         "_deepnote_index_column": 6879
        },
        {
         "text": " I'm happy and content",
         "label": 0,
         "processed": "im happi content",
         "_deepnote_index_column": 961
        },
        {
         "text": "is so relieved to have internet again ",
         "label": 0,
         "processed": "reliev internet",
         "_deepnote_index_column": 4736
        },
        {
         "text": "Twittering- Like the rest of you birds. ",
         "label": 0,
         "processed": "twitter like rest bird",
         "_deepnote_index_column": 6564
        },
        {
         "text": "sau saal jiyo tum jaan meri  http://bit.ly/Pj27i  the lovely voice of Dilraj Kaur, sounds so much l…",
         "label": 0,
         "processed": "saal jiyo tum jaan meri httpbitlypji love voic dilraj kaur sound much like ashaji",
         "_deepnote_index_column": 3050
        },
        {
         "text": "@missymiss1978 i was done after that...he rarely talks back to us lol so i felt speacial  its so me…",
         "label": 0,
         "processed": "done thath rare talk back us lol felt speacial meant lmao",
         "_deepnote_index_column": 4694
        },
        {
         "text": "Wow, my Web Stats are up today  ... smiles takes a bow http://theguitars.net &amp; http://acousticg…",
         "label": 0,
         "processed": "wow web stat todai smile take bow httptheguitarsnet amp httpacousticguitaristsnet toni hogan",
         "_deepnote_index_column": 6294
        },
        {
         "text": "@mensdomain Glad to hear it sweetie  Been a rough few days but I'm feeling much better thank you!!",
         "label": 0,
         "processed": "glad hear sweeti been rough dai im feel much better thank",
         "_deepnote_index_column": 529
        },
        {
         "text": "Enjoying the nice 64F weather in SF n watching the Angels vs the Giants  I wish I had my camera tho…",
         "label": 0,
         "processed": "enjoi nice f weather sf watch angel vs giant i wish i camera tho httptwitpiccomikx",
         "_deepnote_index_column": 7637
        },
        {
         "text": "Goodbye oppressed town of Colorado, Hello HAPPY town!  Not going to let it bring me down!",
         "label": 0,
         "processed": "goodby oppress town colorado hello happi town not go let bring",
         "_deepnote_index_column": 5034
        },
        {
         "text": "@khaled74 hater  You're done so soon, you should enjoy your last time here hah",
         "label": 0,
         "processed": "hater your done soon enjoi last time hah",
         "_deepnote_index_column": 402
        },
        {
         "text": "twitting for the first time.Ahhh. Why am I still at my desk? It's friday.  Need some booze then the…",
         "label": 0,
         "processed": "twit first timeahhh why i still desk it fridai need booz funl",
         "_deepnote_index_column": 2635
        },
        {
         "text": "And Flo Rider (Sugar) using Eiffel 65's Blue?? Seriously now, I want some unique music please! ",
         "label": 0,
         "processed": "and flo rider sugar us eiffel blue serious i uniqu music pleas",
         "_deepnote_index_column": 5435
        },
        {
         "text": "@ScottAllen C u use Tweetdeck Now if only I could use it w/my Sprint Wireless &quot;unlimited&quot;…",
         "label": 0,
         "processed": "c us tweetdeck now i could us wmy sprint wireless quotunlimitedquot acct cap @ gbmo",
         "_deepnote_index_column": 2228
        },
        {
         "text": "tweeting with eli. ",
         "label": 0,
         "processed": "tweet eli",
         "_deepnote_index_column": 5436
        },
        {
         "text": "@thebossyyankee Definitely, let's plan something. The show is gonna be up for a while. ",
         "label": 0,
         "processed": "definit let plan someth the show gon",
         "_deepnote_index_column": 5727
        },
        {
         "text": "@gordonamy I'm envious of all the web events you get to attend in NY. Absolutely nothing like that …",
         "label": 0,
         "processed": "im enviou web event get attend ny absolut noth like halifax",
         "_deepnote_index_column": 3722
        },
        {
         "text": "thank you @deinha_ny, @noellhyman, @LifeByChocolate and @veganism for the recipe spreading love!  m…",
         "label": 0,
         "processed": "thank recip spread love made dai",
         "_deepnote_index_column": 4959
        },
        {
         "text": "@mrjb3  wow 7 years, you would need to like it after that. Stress is good in short bursts keeps you…",
         "label": 0,
         "processed": "wow year would need like stress good short burst keep aliv",
         "_deepnote_index_column": 1351
        },
        {
         "text": "hate the weeks before holidays! but I managed physics and.. it was'nt that bad... I hope ",
         "label": 0,
         "processed": "hate week holidai i manag physic wasnt bad i hope",
         "_deepnote_index_column": 2283
        },
        {
         "text": "@jessiegirlleap well my knee should be healed by next week ",
         "label": 0,
         "processed": "well knee heal next week",
         "_deepnote_index_column": 2190
        },
        {
         "text": "Back in Greenville. Going to passout for a few days. So happy to be back!! ",
         "label": 0,
         "processed": "back greenvil go passout dai so happi back",
         "_deepnote_index_column": 7019
        },
        {
         "text": "@annasmama0702 thanks for tweeted my ARBONNE FC5 eye creme giveaway  Have a great day!",
         "label": 0,
         "processed": "thank tweet arbonn fc ey creme giveawai have great dai",
         "_deepnote_index_column": 3004
        },
        {
         "text": "24 hours from now I will be a homeowner!  ",
         "label": 0,
         "processed": "hour i homeown",
         "_deepnote_index_column": 3806
        },
        {
         "text": "@_Oodledoodle s'all good we want ahealthy sized group goin with us ",
         "label": 0,
         "processed": "sall good ahealthi size group goin us",
         "_deepnote_index_column": 4867
        },
        {
         "text": "just gone done swimming wif my mom and my aunt!!!! ",
         "label": 0,
         "processed": "gone done swim wif mom aunt",
         "_deepnote_index_column": 6227
        },
        {
         "text": "in UK getting ready 4 several buZZiness meetings... sUnnY ",
         "label": 0,
         "processed": "uk get readi sever buzzi meet sunni",
         "_deepnote_index_column": 7887
        },
        {
         "text": "@TimCAD Good god man, are your hands ok?? ",
         "label": 0,
         "processed": "good god hand ok",
         "_deepnote_index_column": 2611
        },
        {
         "text": "uhh? three more days left  oh hot damn",
         "label": 0,
         "processed": "uhh three dai left oh hot damn",
         "_deepnote_index_column": 4593
        },
        {
         "text": "@dannymcfly  I watched FaustÃ£o and I really love your laugh, makes anyone laugh too! haha say to H…",
         "label": 0,
         "processed": "i watch fausto i realli love laugh make anyon laugh haha sai harri miss",
         "_deepnote_index_column": 3975
        },
        {
         "text": "is enjoying a nice glass of red ",
         "label": 0,
         "processed": "enjoi nice glass red",
         "_deepnote_index_column": 4795
        },
        {
         "text": "i was using the wrong email app. ",
         "label": 0,
         "processed": "us wrong email app",
         "_deepnote_index_column": 7743
        },
        {
         "text": "Going to work hungover is awesome! Lol good thing there coffee and swiss rolls ",
         "label": 0,
         "processed": "go work hungov awesom lol good thing coffe swiss roll",
         "_deepnote_index_column": 3038
        },
        {
         "text": "so tired from life guarding...nothing heals muscle soreness then a good bowl of birthday cake ice c…",
         "label": 0,
         "processed": "tire life guardingnoth heal muscl sore good bowl birthdai cake ic cream",
         "_deepnote_index_column": 7538
        },
        {
         "text": "Jerry is so sweet  @mariemontano chimy changas lmao.",
         "label": 0,
         "processed": "jerri sweet chimi changa lmao",
         "_deepnote_index_column": 7425
        },
        {
         "text": "is about to go out for a run  31 days until i go on vacation haha ;D 11 days without parents yay xD",
         "label": 0,
         "processed": "go run dai go vacat haha d dai without parent yai xd",
         "_deepnote_index_column": 3475
        },
        {
         "text": "Hanging with the girlies. Missed this. ",
         "label": 0,
         "processed": "hang girli miss",
         "_deepnote_index_column": 3362
        },
        {
         "text": "Coming up around 7:30pm CST, photos from the Crookston, MN high school graduation ceremony!!!! I kn…",
         "label": 0,
         "processed": "come around pm cst photo crookston mn high school graduat ceremoni i know youll wait",
         "_deepnote_index_column": 2601
        },
        {
         "text": "night twittz! Jus came home from partying  loved it ..hella tired Allergic to cats ew! All irritated",
         "label": 0,
         "processed": "night twittz ju came home parti love hella tire allerg cat ew all irrit",
         "_deepnote_index_column": 245
        },
        {
         "text": "@TheReju Yup!it was in response to the smelly visual I got from your comment LOL.I want 2 come 2 th…",
         "label": 0,
         "processed": "yupit respons smelli visual i got comment loli uk soonthrow parti dj dhol",
         "_deepnote_index_column": 1655
        },
        {
         "text": "New City Focus for Round Rock came out today: http://tinyurl.com/lxd9kd The story on Summer Safety …",
         "label": 0,
         "processed": "new citi focu round rock came todai httptinyurlcomlxdkd the stori summer safeti tip came realli gre…",
         "_deepnote_index_column": 4370
        },
        {
         "text": "@rickylacy on the other hand, a man is as young as the woman he feels... ",
         "label": 0,
         "processed": "hand young woman feel",
         "_deepnote_index_column": 5072
        },
        {
         "text": "Ouch! I'm not studying but playing internet ",
         "label": 0,
         "processed": "ouch im studi plai internet",
         "_deepnote_index_column": 4211
        },
        {
         "text": "@evregirl That's my fav too!  #starwars #returnofthejedi",
         "label": 0,
         "processed": "that fav starwar returnofthejedi",
         "_deepnote_index_column": 7147
        },
        {
         "text": "Hangin out with my family ",
         "label": 0,
         "processed": "hangin famili",
         "_deepnote_index_column": 6370
        },
        {
         "text": "Truck. Music. Ice cream. Nostalgia. ",
         "label": 0,
         "processed": "truck music ic cream nostalgia",
         "_deepnote_index_column": 6954
        },
        {
         "text": "@caramelflavored hahah the powers of dana ",
         "label": 0,
         "processed": "hahah power dana",
         "_deepnote_index_column": 4317
        },
        {
         "text": "thank you to everyone whose following me, once i get to a PC ill follow u ",
         "label": 0,
         "processed": "thank everyon whose follow get pc follow",
         "_deepnote_index_column": 6913
        },
        {
         "text": "@shiplu LOL the DP avatar is created from yahoo on 2006 ",
         "label": 0,
         "processed": "lol dp avatar creat yahoo",
         "_deepnote_index_column": 1911
        },
        {
         "text": "I should be asleep; its 4 AM ",
         "label": 0,
         "processed": "i asleep am",
         "_deepnote_index_column": 406
        },
        {
         "text": "@nyneofuturists Thinkin' bout it. I've got a friend in town and need to check with him first... ",
         "label": 0,
         "processed": "thinkin bout iv got friend town need check first",
         "_deepnote_index_column": 3142
        },
        {
         "text": "@SuzanneEvans You poor girl, I do feel for you! ",
         "label": 0,
         "processed": "you poor girl i feel",
         "_deepnote_index_column": 5046
        },
        {
         "text": "@metaphoricxeyes hmm let's see if it work! Yaks! Yaks are cool! Yaks are called water Bison in Asia…",
         "label": 0,
         "processed": "hmm let see work yak yak cool yak call water bison asia momo fly bison avatar",
         "_deepnote_index_column": 968
        },
        {
         "text": "goiing to reedbox to get some moviies ",
         "label": 0,
         "processed": "goi reedbox get movii",
         "_deepnote_index_column": 186
        },
        {
         "text": "@unknownfilms Back in Missouri? It's a long drive back from GA! ",
         "label": 0,
         "processed": "back missouri it long drive back ga",
         "_deepnote_index_column": 4611
        },
        {
         "text": "@tommcfly hey, just wanted to ask which songs you're goin to cover the next time? ",
         "label": 0,
         "processed": "hei want ask song your goin cover next time",
         "_deepnote_index_column": 4116
        },
        {
         "text": "@LexiStarGirl i am amazing hahahah thank you! couldnt believe it when i saw it, it was really sweet…",
         "label": 0,
         "processed": "amaz hahahah thank couldnt believ saw realli sweet yess song",
         "_deepnote_index_column": 821
        },
        {
         "text": "@darklajid Out of interest, why would you want a US one?  You live in Germany?! ",
         "label": 0,
         "processed": "out interest would us you live germani",
         "_deepnote_index_column": 1995
        },
        {
         "text": "@ Heinz Field for the Kenny Chesney concert  _ leaving for Nashville tomorrow &lt;3",
         "label": 0,
         "processed": "@ heinz field kenni chesnei concert leav nashvil tomorrow lt",
         "_deepnote_index_column": 5996
        },
        {
         "text": "Learing for History. Only 7 weeks left ",
         "label": 0,
         "processed": "lear histori onli week left",
         "_deepnote_index_column": 7348
        },
        {
         "text": "forging passports is better than attacking  re: http://ff.im/3t3E4",
         "label": 0,
         "processed": "forg passport better attack httpffimt",
         "_deepnote_index_column": 4359
        },
        {
         "text": "@_JadeLakeasha What Happened To Their Account On Youtube? And Hey! ",
         "label": 0,
         "processed": "what happen to their account on youtub and hei",
         "_deepnote_index_column": 6309
        },
        {
         "text": "Yay shopppping ",
         "label": 0,
         "processed": "yai shoppp",
         "_deepnote_index_column": 3337
        },
        {
         "text": "http://twitpic.com/6topt - @prettycool32 yeah  hmm.. i think so, i've never been there before but i…",
         "label": 0,
         "processed": "httptwitpiccomtopt yeah hmm think iv never like caravan haha",
         "_deepnote_index_column": 6763
        },
        {
         "text": "Mulching my yard wih dime piece. Wendy's party and GAME SIX laterrrr ",
         "label": 0,
         "processed": "mulch yard wih dime piec wendi parti game six laterrrr",
         "_deepnote_index_column": 2986
        },
        {
         "text": "@scodal haha thanks  and yeah! me either!  hey do me a favor- follow @landonaustin",
         "label": 0,
         "processed": "haha thank yeah either hei favor follow",
         "_deepnote_index_column": 7108
        },
        {
         "text": "Had fun tonight, even if the show kinda sucked.. Now I'm laying in bed watching stepbrothers. ",
         "label": 0,
         "processed": "had fun tonight even show kinda suck now im lai bed watch stepbroth",
         "_deepnote_index_column": 7732
        },
        {
         "text": "@devilishdelish enjoy B  ",
         "label": 0,
         "processed": "enjoi b",
         "_deepnote_index_column": 6262
        },
        {
         "text": "@urbanfantasygrl Read both @katiemacalister 's &quot;sex, lies &amp; vampires&quot; AND @lilithsain…",
         "label": 0,
         "processed": "read quotsex li amp vampiresquot and quotdant valentinequot seri",
         "_deepnote_index_column": 5506
        },
        {
         "text": "It's been an eventful day with some real quality time...now making dinner with Amelia and maybe a m…",
         "label": 0,
         "processed": "it event dai real qualiti timenow make dinner amelia mayb movi who even know",
         "_deepnote_index_column": 5675
        },
        {
         "text": "had super duper fun last night. swervin off that vodka, ate pizza. went swimming on the rooftop tod…",
         "label": 0,
         "processed": "super duper fun last night swervin vodka at pizza went swim rooftop todai",
         "_deepnote_index_column": 7006
        },
        {
         "text": "i think julie andrews is still amazing.. ",
         "label": 0,
         "processed": "think juli andrew still amaz",
         "_deepnote_index_column": 3500
        },
        {
         "text": "@stefaniemaqz Oh. Fuck bars. Whatever hahah thanks. Trace gets the point. ",
         "label": 0,
         "processed": "oh fuck bar whatev hahah thank trace get point",
         "_deepnote_index_column": 6157
        },
        {
         "text": "@BellsCullen1901 hey i may not be right. dont blow charlie off spend the night with him. things wil…",
         "label": 0,
         "processed": "hei mai right dont blow charli spend night thing work hope",
         "_deepnote_index_column": 1494
        },
        {
         "text": "homeee from livie's sweet which wass fuckingg awesomee . ",
         "label": 0,
         "processed": "homee livi sweet wass fuckingg awesome",
         "_deepnote_index_column": 7080
        },
        {
         "text": "Good Morning!  The Sun is shining  Can't wait to get to the pool for swim lessons this afternoon",
         "label": 0,
         "processed": "good morn the sun shine cant wait get pool swim lesson afternoon",
         "_deepnote_index_column": 7255
        },
        {
         "text": "has sammy over after being gone for like ... ever. TBH - twitter = gay facebook ",
         "label": 0,
         "processed": "sammi gone like ever tbh twitter gai facebook",
         "_deepnote_index_column": 3200
        },
        {
         "text": "@Koolaye Call it the Kool Word! Or The Kool shall inherit the earth. Or The Kool Kid says. Of maybe…",
         "label": 0,
         "processed": "call kool word or the kool shall inherit earth or the kool kid sai of mayb the state kool just idea",
         "_deepnote_index_column": 6999
        },
        {
         "text": "@MyManJBone I'll try ",
         "label": 0,
         "processed": "ill try",
         "_deepnote_index_column": 5067
        },
        {
         "text": "A girl at work just pulled out a bible in the breakroom and it is now the topic of conversation. My…",
         "label": 0,
         "processed": "a girl work pull bibl breakroom topic convers my heart smile he awesom",
         "_deepnote_index_column": 5566
        },
        {
         "text": "@exoticmaya Yeah, go on sexy! ",
         "label": 0,
         "processed": "yeah go sexi",
         "_deepnote_index_column": 2738
        },
        {
         "text": "is awake and ready for the day!! ",
         "label": 0,
         "processed": "awak readi dai",
         "_deepnote_index_column": 631
        },
        {
         "text": "@Pink follow ",
         "label": 0,
         "processed": "follow",
         "_deepnote_index_column": 5945
        },
        {
         "text": "@tnhuckaby Do U ever upload 2 WordMP3? Kinda an MP3 sermon collective. My Pastor back home runs thi…",
         "label": 0,
         "processed": "do u ever upload wordmp kinda mp sermon collect my pastor back home run site amp i listen japan",
         "_deepnote_index_column": 7065
        },
        {
         "text": "Back home just in time for Willy Wonka and the Chocolate Factory on ABC Family!  #oneofmyfavoritemo…",
         "label": 0,
         "processed": "back home time willi wonka chocol factori abc famili oneofmyfavoritemovi",
         "_deepnote_index_column": 7055
        },
        {
         "text": "I borrowed this from George  ? http://blip.fm/~4kpxr",
         "label": 0,
         "processed": "i borrow georg httpblipfmkpxr",
         "_deepnote_index_column": 275
        },
        {
         "text": "Shouldn't I be sleeping 9 hours before a race? ",
         "label": 0,
         "processed": "shouldnt i sleep hour race",
         "_deepnote_index_column": 2746
        },
        {
         "text": "ICU EDWARD CULLEN WEARING TENTH DOCTORS BLUE SUIT!  ",
         "label": 0,
         "processed": "icu edward cullen wear tenth doctor blue suit",
         "_deepnote_index_column": 3991
        },
        {
         "text": "Apparently in the 32nd century people will be saying &quot;Hang in There Brother &quot;. ",
         "label": 0,
         "processed": "appar nd centuri peopl sai quothang there brother quot",
         "_deepnote_index_column": 4655
        },
        {
         "text": "had so much fun today altho it was raining  i want to be with you more &lt;3",
         "label": 0,
         "processed": "much fun todai altho rain lt",
         "_deepnote_index_column": 2327
        },
        {
         "text": "@cultvines Ohhhh, I am sorry I missed all of the fun but working in FL isn't too bad either.  Orlan…",
         "label": 0,
         "processed": "ohhhh i sorri i miss fun work fl isnt bad either orlando west coast fl",
         "_deepnote_index_column": 884
        },
        {
         "text": "#whoremembers who loves orange soda, kel lovs orange soda. i do i do i doooo lol ",
         "label": 0,
         "processed": "whorememb love orang soda kel lov orang soda doooo lol",
         "_deepnote_index_column": 7465
        },
        {
         "text": "@sammoran sounds like it was a good day ",
         "label": 0,
         "processed": "sound like good dai",
         "_deepnote_index_column": 5798
        },
        {
         "text": "take a deep breath...pyuuhhh...whatta a shocking news...but i'm happy ",
         "label": 0,
         "processed": "deep breathpyuuhhhwhatta shock newsbut happi",
         "_deepnote_index_column": 5278
        },
        {
         "text": "@officialTila Sent the questions 10 minutes ago so yay. Hope to hear back with replies and all soon…",
         "label": 0,
         "processed": "sent question minut ago yai hope hear back repli soon hopefulli think fake",
         "_deepnote_index_column": 1432
        },
        {
         "text": "@daisyrjordan awww thanks haha  added you xx",
         "label": 0,
         "processed": "awww thank haha ad xx",
         "_deepnote_index_column": 3585
        },
        {
         "text": "@ddlovato im soo excited for you ..lol . i know its going to be great ",
         "label": 0,
         "processed": "soo excit lol know go great",
         "_deepnote_index_column": 6406
        },
        {
         "text": "@Umatter2ChtrG I can't dm you unless you follow me back ",
         "label": 0,
         "processed": "i cant dm unless follow back",
         "_deepnote_index_column": 7603
        },
        {
         "text": "I am hungry!! ",
         "label": 0,
         "processed": "i hungri",
         "_deepnote_index_column": 5221
        },
        {
         "text": "going to make a thai red curry this week as well.   i looove thai red curry.",
         "label": 0,
         "processed": "go make thai red curri week well looov thai red curri",
         "_deepnote_index_column": 1779
        },
        {
         "text": "@gemmab45 I'm watching Mamma Mia.. have you seen it?  Love it!     It's so funny! Hmmm but I think …",
         "label": 0,
         "processed": "im watch mamma mia seen love it funni hmmm i think rest movi wait",
         "_deepnote_index_column": 4971
        },
        {
         "text": "@emilyoftexas Oh, I'll be following along on your blog.  I like it.  ",
         "label": 0,
         "processed": "oh ill follow along blog i like",
         "_deepnote_index_column": 1408
        },
        {
         "text": "@kidstube You might want to look into getting something like http://www.electronicwarranty.com/ the…",
         "label": 0,
         "processed": "you might look get someth like httpwwwelectronicwarrantycom next time around",
         "_deepnote_index_column": 2705
        },
        {
         "text": "@badbadgirlx good luck with everything. it was great having you around ",
         "label": 0,
         "processed": "good luck everyth great around",
         "_deepnote_index_column": 357
        },
        {
         "text": "@Sarahies haha I guess so! Not sure, Im not going out. May have a wander over to a friend's house l…",
         "label": 0,
         "processed": "haha i guess not sure im go mai wander friend hous later",
         "_deepnote_index_column": 6139
        },
        {
         "text": "@Simplicity2202 Love it Bo! You sing it so well. Damn you you talented bastard! ",
         "label": 0,
         "processed": "love bo you sing well damn talent bastard",
         "_deepnote_index_column": 3957
        },
        {
         "text": "@Monica2112 Oh don't worry, I don't mind if you are.    I'm just happy u want to meet me!",
         "label": 0,
         "processed": "oh dont worri i dont mind im happi meet",
         "_deepnote_index_column": 7145
        },
        {
         "text": "@hypermuser i know  but i have an xbox 360, dun want a wii. i like the controllers :c",
         "label": 0,
         "processed": "know xbox dun wii like control",
         "_deepnote_index_column": 5359
        },
        {
         "text": "@LTLline can ii come ? ",
         "label": 0,
         "processed": "",
         "_deepnote_index_column": 1293
        },
        {
         "text": "todd = saviour. Goodnight Facebook  ",
         "label": 0,
         "processed": "todd saviour goodnight facebook",
         "_deepnote_index_column": 279
        },
        {
         "text": "@joleneees KRIS ALLEN!!! hes the best, but i hope adam wins so he has to pay simon 40% of his profi…",
         "label": 0,
         "processed": "kri allen he best hope adam win pai simon profit",
         "_deepnote_index_column": 1405
        }
       ],
       "rows_bottom": [
        {
         "text": "seasonal depression but it’s always in season",
         "label": 1,
         "processed": "season depress alwai season",
         "_deepnote_index_column": 2917
        },
        {
         "text": "“The same consumerist culture that once shunned mention of depression now also seeks to cannibalize…",
         "label": 0,
         "processed": "the consumerist cultur shun mention depress seek cannib languag us advertis media",
         "_deepnote_index_column": 2918
        },
        {
         "text": "Hi Kitt. Did you design it yourself? This one is my note to self to keep fighting depression  pic.t…",
         "label": 0,
         "processed": "hi kitt did design thi note self keep fight depress pictwittercomwetnacsl",
         "_deepnote_index_column": 2919
        },
        {
         "text": "#RT @bonappetit: \"My life as an entrepreneur left no space for me to confront my depression.\"  http…",
         "label": 0,
         "processed": "rt my life entrepreneur left space confront depress httpbonapitbvmjht",
         "_deepnote_index_column": 2920
        },
        {
         "text": "Not when depression hits, no.",
         "label": 1,
         "processed": "not depress hit",
         "_deepnote_index_column": 2923
        },
        {
         "text": "In my state of depression 😭",
         "label": 1,
         "processed": "in state depress",
         "_deepnote_index_column": 2924
        },
        {
         "text": "#RT @bonappetit: \"My life as an entrepreneur left no space for me to confront my depression.\"  http…",
         "label": 0,
         "processed": "rt my life entrepreneur left space confront depress httpbonapitbvmjht",
         "_deepnote_index_column": 2925
        },
        {
         "text": "Evidence on benefit of ultra-low dose #opioid treatment of severe #depression with #suicidality  ht…",
         "label": 0,
         "processed": "evid benefit ultralow dose opioid treatment sever depress suicid httpwbmdnzlhfutmcampaignmeetedgaru…",
         "_deepnote_index_column": 2926
        },
        {
         "text": "meee i’m tryna cure my summer depression rn",
         "label": 1,
         "processed": "meee tryna cure summer depress rn",
         "_deepnote_index_column": 2929
        },
        {
         "text": "Just realized I’m trying to create an entire career out of self-diss tracks. 🤷‍♂️ #depression – at …",
         "label": 1,
         "processed": "just realiz im try creat entir career selfdiss track depress crippen mortuari",
         "_deepnote_index_column": 2930
        },
        {
         "text": "Grimes claims she removed part of her eyeball to 'cure seasonal depression'   https://twitter.com/i…",
         "label": 0,
         "processed": "grime claim remov part eyebal cure season depress",
         "_deepnote_index_column": 2931
        },
        {
         "text": "i got referred to councilling but had a fight with my bestfriend.  i thought everything was okay bu…",
         "label": 1,
         "processed": "got refer council fight bestfriend thought everyth okai whole cycl self harm depress suicid thought…",
         "_deepnote_index_column": 2932
        },
        {
         "text": "Me: depression  Me when I'm in Florida: tropical depression",
         "label": 1,
         "processed": "me depress me im florida tropic depress",
         "_deepnote_index_column": 2933
        },
        {
         "text": "Shoot the damn dog: A memoir of depression",
         "label": 1,
         "processed": "shoot damn a memoir depress",
         "_deepnote_index_column": 2935
        },
        {
         "text": "Grimes claims she removed part of her eyeball to 'cure seasonal depression'   https://twitter.com/i…",
         "label": 0,
         "processed": "grime claim remov part eyebal cure season depress",
         "_deepnote_index_column": 2936
        },
        {
         "text": "And her ass still depressed... Grimes claims she removed part of her eyeball to 'cure seasonal depr…",
         "label": 0,
         "processed": "and ass still depress grime claim remov part eyebal cure season depress",
         "_deepnote_index_column": 2937
        },
        {
         "text": "Fuck this funk and depression state I’m in because guess what. I’m a badass lil boy, fun and I’m he…",
         "label": 1,
         "processed": "fuck funk depress state im guess im badass lil boi fun im healthi aliv goodby sad ksleez wont miss",
         "_deepnote_index_column": 2938
        },
        {
         "text": "Did she obtain shinigami eyes before or after her surgery to remove film from her eyes in an attemp…",
         "label": 1,
         "processed": "did obtain shinigami ey surgeri remov film ey attempt cure depress",
         "_deepnote_index_column": 2939
        },
        {
         "text": "Krause should know effect of using global depression versus Canadian economy but political affiliat…",
         "label": 0,
         "processed": "kraus know effect us global depress versu canadian economi polit affili get wai realiti",
         "_deepnote_index_column": 2940
        },
        {
         "text": "The self-professed “Fabian Society of Canada” was set up in the height of the Depression by five Rh…",
         "label": 0,
         "processed": "the selfprofess fabian societi canada set height depress five rhode scholar order creat canadian fa…",
         "_deepnote_index_column": 2942
        },
        {
         "text": "\"Creep you look like shit.\"  Thanks, it's the depression.  pic.twitter.com/XcN2td8rBF",
         "label": 1,
         "processed": "creep look like shit thank depress pictwittercomxcntdrbf",
         "_deepnote_index_column": 2943
        },
        {
         "text": "thank u animal crossing: pocket camp for curing my depression",
         "label": 0,
         "processed": "thank anim cross pocket camp cure depress",
         "_deepnote_index_column": 2944
        },
        {
         "text": "Oh here comes the crippling depression",
         "label": 1,
         "processed": "oh come crippl depress",
         "_deepnote_index_column": 2946
        },
        {
         "text": "this brought back my depression",
         "label": 1,
         "processed": "brought back depress",
         "_deepnote_index_column": 2947
        },
        {
         "text": "Depression and Diet: Why the Food You Eat Matters  http://bit.ly/2ulXRXw?4MiwF ",
         "label": 0,
         "processed": "depress diet why food you eat matter httpbitlyulxrxwmiwf",
         "_deepnote_index_column": 2948
        },
        {
         "text": "Like do I depression watch Vampire Diaries for the fifth time???",
         "label": 1,
         "processed": "like i depress watch vampir diari fifth time",
         "_deepnote_index_column": 2949
        },
        {
         "text": "Every time I remember I’m the oldest daughter in an African household a wave of depression hits me",
         "label": 1,
         "processed": "everi time i rememb im oldest daughter african household wave depress hit",
         "_deepnote_index_column": 2951
        },
        {
         "text": "<<<<<< angel of depression",
         "label": 1,
         "processed": "angel depress",
         "_deepnote_index_column": 2952
        },
        {
         "text": "You ever heard of depression",
         "label": 1,
         "processed": "you ever heard depress",
         "_deepnote_index_column": 2954
        },
        {
         "text": "Grimes claims she removed part of her eyeball to 'cure seasonal depression'  https://twitter.com/i/…",
         "label": 0,
         "processed": "grime claim remov part eyebal cure season depress",
         "_deepnote_index_column": 2955
        },
        {
         "text": "🤔   Grimes claims she removed part of her eyeball to 'cure seasonal depression'   https://twitter.c…",
         "label": 0,
         "processed": "grime claim remov part eyebal cure season depress",
         "_deepnote_index_column": 2956
        },
        {
         "text": "Remember the compliments you receive. Forget the insults. #mentalhealth #mentalhealthawareness #anx…",
         "label": 0,
         "processed": "rememb compliment receiv forget insult mentalhealth mentalhealthawar anxieti depress selfcar selflo…",
         "_deepnote_index_column": 2957
        },
        {
         "text": "Could Autism, Depression Be Rooted in Our Brain’s Ability to Pay Attention?  http://www.bu.edu/arti…",
         "label": 0,
         "processed": "could autism depress be root our brain abil pai attent httpwwwbueduarticlesautismdepressionabilityt…",
         "_deepnote_index_column": 2959
        },
        {
         "text": "that transition cured my depression",
         "label": 0,
         "processed": "transit cure depress",
         "_deepnote_index_column": 2960
        },
        {
         "text": "Depression is...making yourself eat dinner even though you have zero appetite at all. Words hurt. P…",
         "label": 1,
         "processed": "depress ismak eat dinner even though zero appetit word hurt pleas rememb",
         "_deepnote_index_column": 2961
        },
        {
         "text": "My favourite story of 2019 - Grimes claims she removed part of her eyeball to 'cure seasonal depres…",
         "label": 0,
         "processed": "my favourit stori grime claim remov part eyebal cure season depress",
         "_deepnote_index_column": 2962
        },
        {
         "text": "He’s gonna hop back in the fence soon enough, blame it on his depression and such",
         "label": 1,
         "processed": "he gon hop back fenc soon enough blame depress",
         "_deepnote_index_column": 2963
        },
        {
         "text": "This is my deepest fear - that I’ve become a bore because my depression is ruining my life.  https:…",
         "label": 1,
         "processed": "thi deepest fear iv becom bore depress ruin life",
         "_deepnote_index_column": 2965
        },
        {
         "text": "angle of depression",
         "label": 1,
         "processed": "angl depress",
         "_deepnote_index_column": 2966
        },
        {
         "text": "doldrums; a period of stagnation or slump; a period of depression; 침체기, 부진, 침울, 우울",
         "label": 0,
         "processed": "doldrum period stagnat slump period depress",
         "_deepnote_index_column": 2967
        },
        {
         "text": "is this meant to hint seasonal depression?  https://twitter.com/mxmtoon/status/1151221825650561025 …",
         "label": 1,
         "processed": "meant hint season depress",
         "_deepnote_index_column": 2968
        },
        {
         "text": "depression literally is hit you out of nowhere bey",
         "label": 1,
         "processed": "depress liter hit nowher bei",
         "_deepnote_index_column": 2971
        },
        {
         "text": "Mental Audits are necessary. Worry, Doubt, stress, and depression all hog space. Clear some space. …",
         "label": 0,
         "processed": "mental audit necessari worri doubt stress depress hog space clear space youd surpris god",
         "_deepnote_index_column": 2973
        },
        {
         "text": "Your red states DEPENDENT ON PUBLIC ASISTANCE is socialism You should learn how socialism lifted Am…",
         "label": 0,
         "processed": "your red state depend on public asist social you learn social lift american great depress trump aid…",
         "_deepnote_index_column": 2974
        },
        {
         "text": "whenever i tweet this much randomness is ‘cause my depression is particularly bad that day. same wi…",
         "label": 1,
         "processed": "whenev tweet much random caus depress particularli bad dai talk start talk lot differ subject short…",
         "_deepnote_index_column": 2975
        },
        {
         "text": "I'll never forget how the depression and loneliness felt good and bad at the same time. Still does.…",
         "label": 1,
         "processed": "ill never forget depress loneli felt good bad time still henri rollin",
         "_deepnote_index_column": 2976
        },
        {
         "text": "The depression hit you and you go from feeling great to inadequate in the blink of an eye. Shit cra…",
         "label": 1,
         "processed": "the depress hit go feel great inadequ blink ey shit crazi",
         "_deepnote_index_column": 2977
        },
        {
         "text": "yep can’t break it to em now! oh but they. have work and stuff and my dad’s having really bad depre…",
         "label": 1,
         "processed": "yep cant break oh work stuff dad realli bad depress anxieti dont bother mom spend everi moment isnt…",
         "_deepnote_index_column": 2978
        },
        {
         "text": "person and how they are going to react on it. Some might end up having depression.   But as I said,…",
         "label": 1,
         "processed": "person go react some might depress but i said thing said wouldnt good attitud solo perform bad sing…",
         "_deepnote_index_column": 2979
        },
        {
         "text": "my anxiety and depression are so bad today pls send me good vibes",
         "label": 1,
         "processed": "anxieti depress bad todai pl send good vibe",
         "_deepnote_index_column": 2980
        },
        {
         "text": "I LOVE doing my makeup!! My depression really almost made me give up my last passion!! Fuck you!!!!",
         "label": 1,
         "processed": "i love makeup my depress realli almost made give last passion fuck",
         "_deepnote_index_column": 2981
        },
        {
         "text": "I mean it especially annoys me cuz like they have no idea how crippling it actually is when u have …",
         "label": 1,
         "processed": "i mean especi annoi cuz like idea crippl actual season depress top depress like i mess winter i sta…",
         "_deepnote_index_column": 2982
        },
        {
         "text": "Every time I think I’m getting better this depression shit hits hard",
         "label": 1,
         "processed": "everi time i think im get better depress shit hit hard",
         "_deepnote_index_column": 2984
        },
        {
         "text": "wow this depression & anxiety of mine are really hitting hard today. WHEW.",
         "label": 1,
         "processed": "wow depress anxieti realli hit hard todai whew",
         "_deepnote_index_column": 2985
        },
        {
         "text": "It's crazy how an animated show can tackle alot of these serious issues like depression and lack of…",
         "label": 0,
         "processed": "it crazi anim show tackl alot seriou issu like depress lack self fulfil better real tv drama all st…",
         "_deepnote_index_column": 2986
        },
        {
         "text": "An Australia gone completely insane. How to kill off all passion all support fine folk for being en…",
         "label": 1,
         "processed": "an australia gone complet insan how kill passion support fine folk enthusiast australia anti freedo…",
         "_deepnote_index_column": 2987
        },
        {
         "text": "Before, I was kinda a positive person and I was living everyday like tomorrow doesn't exist, now I …",
         "label": 1,
         "processed": "befor i kinda posit person i live everydai like tomorrow doesnt exist i bare smile i fake time like…",
         "_deepnote_index_column": 2988
        },
        {
         "text": "Depression is certainly an oppression doesn’t matter who you are with it, where you or how wealthy.…",
         "label": 1,
         "processed": "depress certainli oppress doesnt matter wealthi it take singl statement action back absolut sick",
         "_deepnote_index_column": 2989
        },
        {
         "text": "This is my friend whose name is also Cory. Married and a father of 3. Early yesterday morning decid…",
         "label": 1,
         "processed": "thi friend whose cori marri father earli yesterdai morn decid deal depress parkinson diseas pain wo…",
         "_deepnote_index_column": 2990
        },
        {
         "text": "props to my amazing bf of 5yrs for buying me plan b so i dont have to take 8 birth control pills (a…",
         "label": 0,
         "processed": "prop amaz bf yr bui plan b dont birth control pill accord chart onlin least shit freak happen sudde…",
         "_deepnote_index_column": 2991
        },
        {
         "text": "I can smell something, it smells a little like an encroaching economic depression.",
         "label": 0,
         "processed": "i smell someth smell littl like encroach econom depress",
         "_deepnote_index_column": 2992
        },
        {
         "text": "I be strong for so long and once i break down I BREAK TF DOWN ! Depression is really deep!",
         "label": 1,
         "processed": "i strong long break i break tf down depress realli deep",
         "_deepnote_index_column": 2993
        },
        {
         "text": "Don't forget that was also causing Miona's depression, knowing that her position slowly downgrading…",
         "label": 0,
         "processed": "dont forget caus miona depress know posit slowli downgrad ever sinc kick senbatsu th singl fortun m…",
         "_deepnote_index_column": 2994
        },
        {
         "text": "kinda just wanna take another break and go hiatus but i don’t wanna seem like that one twitter pers…",
         "label": 1,
         "processed": "kinda wan anoth break go hiatu dont wan seem like twitter person problem never activ us emot depres…",
         "_deepnote_index_column": 2995
        },
        {
         "text": "I’ve been a highly toxic person online lately due to my depression. Sorry. I’m feeling a lot better…",
         "label": 1,
         "processed": "iv highli toxic person onlin late due depress sorri im feel lot better though",
         "_deepnote_index_column": 2996
        },
        {
         "text": "Bro last semester had my depression seeping back in, I’m not ready for a new school year😭😭😭😭  https…",
         "label": 1,
         "processed": "bro last semest depress seep back im readi new school year",
         "_deepnote_index_column": 2997
        },
        {
         "text": "The sixth track off @CrownTheEmpire's new album is called MZRY. Depression plays a huge role in CTE…",
         "label": 0,
         "processed": "the sixth track new album call mzry depress plai huge role cte live submerg lifestyl stabil it beco…",
         "_deepnote_index_column": 2998
        },
        {
         "text": "Like your father's and Ws stellar policies?  You mean those that nearly took us into depression and…",
         "label": 0,
         "processed": "like father ws stellar polici you mean nearli took us depress reck middl east you joke",
         "_deepnote_index_column": 2999
        },
        {
         "text": "Breathing exercises is step one. Helps me center myself from the anxiety/depression I feel.  Next i…",
         "label": 0,
         "processed": "breath exercis step help center anxietydepress i feel next comedi tv showsmovi hilari dont get seri…",
         "_deepnote_index_column": 3000
        },
        {
         "text": "I'm going to be really honest here and say...  I had difficulty watching this scene. BUT... The who…",
         "label": 0,
         "processed": "im go realli honest sai i difficulti watch scene but the whole point show peopl happen depress hit …",
         "_deepnote_index_column": 3001
        },
        {
         "text": "You know you work in entertainment when half your timeline is Emmy humblebrags and the other half i…",
         "label": 1,
         "processed": "you know work entertain half timelin emmi humblebrag half sexi joke depress",
         "_deepnote_index_column": 3002
        },
        {
         "text": "There are about 500,000 children in foster care right now. Post partum depression is a real and dan…",
         "label": 0,
         "processed": "there children foster right post partum depress real danger possibl poor peopl becom poor stai welf…",
         "_deepnote_index_column": 3003
        },
        {
         "text": "Depression really went and shut down my entire brain after that one short argument with my mom huh.…",
         "label": 1,
         "processed": "depress realli went shut entir brain short argument mom huh i dont even wan like plai bloodborn lik…",
         "_deepnote_index_column": 3004
        },
        {
         "text": "Study finds link between social ... -  https://bestinau.com.au/study-finds-link-between-social-medi…",
         "label": 0,
         "processed": "studi find link social socialmedia instagram twitter facebook tech technolog innov android smartpho…",
         "_deepnote_index_column": 3005
        },
        {
         "text": "Exactly! It makes it harder to believe people who are actually depressed, and makes depression seem…",
         "label": 1,
         "processed": "exactli it make harder believ peopl actual depress make depress seem less sever",
         "_deepnote_index_column": 3006
        },
        {
         "text": "I feel all of these side effects with my bipolar meds and with Wellbutrin I feel anxious and on edg…",
         "label": 1,
         "processed": "i feel side effect bipolar med wellbutrin i feel anxiou edg help depressioni dont know ar current m…",
         "_deepnote_index_column": 3007
        },
        {
         "text": "This walking out of family itself is breaking society thought. Unless I am aiming for loka Kalyan. …",
         "label": 1,
         "processed": "thi walk famili break societi thought unless i aim loka kalyan individu mean selfish live idea lead…",
         "_deepnote_index_column": 3008
        },
        {
         "text": "For some of you it will be allergies, asthma, weight gain, depression. For those who have my genes,…",
         "label": 1,
         "processed": "for allergi asthma weight gain depress for gene mean hospit lose massiv amount weight excruci neuro…",
         "_deepnote_index_column": 3009
        },
        {
         "text": "I've been going through bouts of depression lately and I've thought of  a really cool art piece to …",
         "label": 0,
         "processed": "iv go bout depress late iv thought realli cool art piec repres iv feel check later next week",
         "_deepnote_index_column": 3010
        },
        {
         "text": "I think about how i had to drag myself outta my depression myself with small methods like this.  Ku…",
         "label": 1,
         "processed": "i think drag outta depress small method like kudo gf got learn manag shit she cant write note forev…",
         "_deepnote_index_column": 3011
        },
        {
         "text": "Like do you know how triggering it is to tell someone who suffers from depression that you want to …",
         "label": 1,
         "processed": "like know trigger tell someon suffer depress ky theyr work sai im ok like",
         "_deepnote_index_column": 3012
        },
        {
         "text": "wow im extremely depressed and my tutor kept joking about suicide and depression with me and it mad…",
         "label": 1,
         "processed": "wow extrem depress tutor kept joke suicid depress made feel like complet utter shit haha",
         "_deepnote_index_column": 3013
        },
        {
         "text": "No one can convince me otherwise that depression isn’t a real thing. It can really mess with someon…",
         "label": 1,
         "processed": "no convinc otherwis depress isnt real thing it realli mess someon peopl believ",
         "_deepnote_index_column": 3014
        },
        {
         "text": "my depression has been more active the past 3 days than it has in a very long time and I am uhhh no…",
         "label": 1,
         "processed": "depress activ past dai long time i uhhh well",
         "_deepnote_index_column": 3015
        },
        {
         "text": "I feel like this is hitting me so hard because I battle with Depression, I battle with anxiety and …",
         "label": 1,
         "processed": "i feel like hit hard i battl depress i battl anxieti mental health god made tad bit stronger caus c…",
         "_deepnote_index_column": 3016
        },
        {
         "text": "I love the STEVEN UNIVERSE eps where Onion makes Steven join a death cult, Steven's forced to coddl…",
         "label": 0,
         "processed": "i love steven univers ep onion make steven join death cult steven forc coddl bigot uncl steven goe …",
         "_deepnote_index_column": 3017
        },
        {
         "text": "Fighting #depression is tough. It's easy to let it take over you. But the only way out is to Never.…",
         "label": 0,
         "processed": "fight depress tough it easi let but wai never give up push even everi bone bodi scream stai bed you…",
         "_deepnote_index_column": 3018
        },
        {
         "text": "it’s about fucking time. this show could be incredibly triggering to anyone with a past of suicide,…",
         "label": 1,
         "processed": "fuck time show could incred trigger anyon past suicid depress self harm etc",
         "_deepnote_index_column": 3019
        },
        {
         "text": "been a bit preoccupied w moving cross country, a touch of sun poisoning, and general depression-fue…",
         "label": 1,
         "processed": "bit preoccupi w move cross countri touch sun poison gener depressionfuel fatigu bit scarc next mont…",
         "_deepnote_index_column": 3020
        },
        {
         "text": "I have a history of anxiety, which often leads to depression. I've been dealing pretty well with it…",
         "label": 1,
         "processed": "i histori anxieti often lead depress iv deal pretti well late crept birthdai bc i old weigh",
         "_deepnote_index_column": 3021
        },
        {
         "text": "Social media, not video games, linked to increase in teen depression  https://www.15minutenews.com/…",
         "label": 0,
         "processed": "social media video game link increas teen depress gadget",
         "_deepnote_index_column": 3022
        },
        {
         "text": "Study finds link between social media and increased teenage depression  https://bestinau.com.au/stu…",
         "label": 0,
         "processed": "studi find link social media increas teenag depress pictwittercomstygmhlzh",
         "_deepnote_index_column": 3023
        },
        {
         "text": "Study: Social Media Usage Linked to Teen Depression | Breitbart  http://bit.ly/2lCqQmg  via @Breitb…",
         "label": 0,
         "processed": "studi social media usag link teen depress breitbart httpbitlylcqqmg via",
         "_deepnote_index_column": 3024
        },
        {
         "text": "Butter, jasmine rice, butter, brown sugar, butter. You have to stare at the half a stick of butter …",
         "label": 0,
         "processed": "butter jasmin rice butter brown sugar butter you stare half stick butter didnt eat cup rice butter …",
         "_deepnote_index_column": 3025
        },
        {
         "text": "Study: Social Media Usage Linked to Teen Depression  https://www.breitbart.com/tech/2019/07/16/stud…",
         "label": 0,
         "processed": "studi social media usag link teen depress",
         "_deepnote_index_column": 3026
        },
        {
         "text": "Study finds link between social media and increased teenage depression #SocialMedia #instagram #twi…",
         "label": 0,
         "processed": "studi find link social media increas teenag depress socialmedia instagram twitter",
         "_deepnote_index_column": 3027
        },
        {
         "text": "Study finds link between social media and increased teenage depression #SocialMedia #instagram #twi…",
         "label": 0,
         "processed": "studi find link social media increas teenag depress socialmedia instagram twitter",
         "_deepnote_index_column": 3028
        },
        {
         "text": "Dark and deep depression now. Thanks brain.",
         "label": 1,
         "processed": "dark deep depress thank brain",
         "_deepnote_index_column": 3029
        },
        {
         "text": "Social media, not video games, linked to increase in teen depression – Study  https://1stnews.com/s…",
         "label": 0,
         "processed": "social media video game link increas teen depress studi pictwittercomejccrnj",
         "_deepnote_index_column": 3030
        },
        {
         "text": "Study finds link between social media and increased teenage depression #SocialMedia #instagram #twi…",
         "label": 0,
         "processed": "studi find link social media increas teenag depress socialmedia instagram twitter",
         "_deepnote_index_column": 3031
        },
        {
         "text": "Study: Social Media Usage Linked to Teen Depression – Breitbart  http://dlvr.it/R8XyKQ  pic.twitter…",
         "label": 0,
         "processed": "studi social media usag link teen depress breitbart httpdlvritrxykq pictwittercomhfjylw",
         "_deepnote_index_column": 3032
        },
        {
         "text": "Lack of sun can manipulate dopamine and serotonin levels that can cause depression. Its not that de…",
         "label": 1,
         "processed": "lack sun manipul dopamin serotonin level caus depress it deep a full moon mercuri isnt go dictat wh…",
         "_deepnote_index_column": 3033
        },
        {
         "text": "Bc once it’s over Istg it’s over for you for the first few months, loss of appetite, depression, lo…",
         "label": 1,
         "processed": "bc istg first month loss appetit depress loneli sort actual deep pain",
         "_deepnote_index_column": 3034
        },
        {
         "text": "Only a n00b would think videogames lead to depression. Source: am gamer, have been depressed. ---  …",
         "label": 1,
         "processed": "onli nb would think videogam lead depress sourc gamer depress social media video game link depress …",
         "_deepnote_index_column": 3035
        },
        {
         "text": "https://buff.ly/2JBK9pB   Check out this article regarding social media and television leading to i…",
         "label": 0,
         "processed": "check articl regard social media televis lead increas teen depress socialmedia tv depress teendepre…",
         "_deepnote_index_column": 3036
        },
        {
         "text": "Social media, not video games, linked to increase in teen depression  https://www.slashgear.com/soc…",
         "label": 0,
         "processed": "social media video game link increas teen depress",
         "_deepnote_index_column": 3037
        },
        {
         "text": "Violence as a child at school left me with -   PTSD  Social Anxiety  OCD Depression  At 42, I have …",
         "label": 0,
         "processed": "violenc child school left ptsd social anxieti ocd depress at i recov i try us experi help other ple…",
         "_deepnote_index_column": 3038
        },
        {
         "text": "Social media, not video games, linked to increase in teen depression - SlashGear:  https://www.slas…",
         "label": 0,
         "processed": "social media video game link increas teen depress slashgear",
         "_deepnote_index_column": 3039
        },
        {
         "text": "Social media, not video games, linked to increase in teen depression  https://www.slashgear.com/soc…",
         "label": 0,
         "processed": "social media video game link increas teendepress pictwittercomsggkjvtsm",
         "_deepnote_index_column": 3040
        },
        {
         "text": "Social media, not video games, linked to increase in teen depression #SlashGear  http://smpt.co/a02…",
         "label": 0,
         "processed": "social media video game link increas teen depress slashgear pictwittercomllkgesb",
         "_deepnote_index_column": 3041
        },
        {
         "text": "Depression who? Abandonment Issues huh? Social Anxiety what??? I only know Puppy Interview!!!!",
         "label": 1,
         "processed": "depress abandon issu huh social anxieti i know puppi interview",
         "_deepnote_index_column": 3042
        },
        {
         "text": "Depression is a complex mental health condition that causes a person to have low mood and may leave…",
         "label": 0,
         "processed": "depress complex mental health condit caus person low mood mai leav feel persist sad hopeless the sy…",
         "_deepnote_index_column": 3043
        },
        {
         "text": "Study: Social Media Usage Linked to Teen Depression – Breitbart  http://dratef.net/?p=365046 ",
         "label": 0,
         "processed": "studi social media usag link teen depress breitbart httpdratefnetp",
         "_deepnote_index_column": 3044
        },
        {
         "text": "Study: Social Media Usage Linked to Teen Depression – Breitbart  http://dratef.net/?p=365046 ",
         "label": 0,
         "processed": "studi social media usag link teen depress breitbart httpdratefnetp",
         "_deepnote_index_column": 3045
        },
        {
         "text": "@ChannonRose I’m a new follower. (Thanks fruit boy)..... Anyway, watching your video I’m so curious…",
         "label": 0,
         "processed": "im new follow thank fruit boi anywai watch video im curiou someon els suffer anxieti did becom vega…",
         "_deepnote_index_column": 3046
        },
        {
         "text": "Gender: men and women in this generation dealing with high levels of anxiety and depression maybe b…",
         "label": 1,
         "processed": "gender women gener deal high level anxieti depress mayb bc chose compet anoth rather compliment",
         "_deepnote_index_column": 3047
        },
        {
         "text": "Not at all what caused the Depression. Buying taxes on Margin, and not having the money when the ma…",
         "label": 0,
         "processed": "not caus depress bui tax margin monei margin call caus that high tariff foreign good",
         "_deepnote_index_column": 3048
        },
        {
         "text": "I resigned on the 18th Feb this year due to Worldpay refusing to take action against a Worldpay man…",
         "label": 1,
         "processed": "i resign th feb year due worldpai refus action worldpai manag fals accus sexual harass so im need t…",
         "_deepnote_index_column": 3049
        },
        {
         "text": "I can just have one fucking day that I feel normal?! No pain, no tiredness, no fucking depression!!",
         "label": 1,
         "processed": "i fuck dai i feel normal no pain tired fuck depress",
         "_deepnote_index_column": 3050
        },
        {
         "text": "Not same results. Research has shown that beating your children DOESN’T WORK and leads to depressio…",
         "label": 1,
         "processed": "not result research shown beat children doesnt work lead depress aggress oh there high correl bw pp…",
         "_deepnote_index_column": 3051
        },
        {
         "text": "Making it past my first major depression. It was a doozy.",
         "label": 1,
         "processed": "make past first major depress it doozi",
         "_deepnote_index_column": 3052
        },
        {
         "text": "Grimes has removed the part of her eye that sees blue light and replaced it with an orange ultra-fl…",
         "label": 1,
         "processed": "grime remov part ey see blue light replac orang ultraflex polym cure season depress i mean i look s…",
         "_deepnote_index_column": 3053
        },
        {
         "text": "You people are so out of touch. You think no one is capable of hearing things they don't agree with…",
         "label": 1,
         "processed": "you peopl touch you think capabl hear thing dont agre like she gon sai someth post partum depress s…",
         "_deepnote_index_column": 3054
        },
        {
         "text": "Same. Ive had depression my whole life & a yr ago I lost one of my best friends tragically, then 2 …",
         "label": 1,
         "processed": "same iv depress whole life yr ago i lost best friend tragic month ago i lost grandmoth grief top gr…",
         "_deepnote_index_column": 3055
        },
        {
         "text": "I’ve been w/ my bf for almost 2 years now and sometimes I’ll feel this way but then I realize it’s …",
         "label": 0,
         "processed": "iv w bf almost year sometim ill feel wai i realiz depress take try self sabotag my advic talk gui d…",
         "_deepnote_index_column": 3056
        },
        {
         "text": "Right? Weird. We’ve been treating depression and other mental conditions like diseases of the mind/…",
         "label": 0,
         "processed": "right weird weve treat depress mental condit like diseas mindsoul rather bodi eon i think there lot…",
         "_deepnote_index_column": 3057
        },
        {
         "text": "Tired of fake performative activism for the sake of social media clout when you’ll easily drop any …",
         "label": 1,
         "processed": "tire fake perform activ sake social media clout youll easili drop friend dont fit pictur real depre…",
         "_deepnote_index_column": 3058
        },
        {
         "text": "Maybe it’s not depression. Maybe you just lack worth ethic and your things are not going anywhere. …",
         "label": 1,
         "processed": "mayb depress mayb lack worth ethic thing go anywher mayb your lazi breakthrough life expect thing h…",
         "_deepnote_index_column": 3059
        },
        {
         "text": "\"Many will say that people who are suicidal are looking for attention, or they are cowardly for fee…",
         "label": 0,
         "processed": "mani sai peopl suicid look attent cowardli feel wai but depress real shouldnt judg go someth incred…",
         "_deepnote_index_column": 3060
        },
        {
         "text": "“********* can also cause symptoms of mental stress, anxiety, and low self-esteem. Depression is al…",
         "label": 1,
         "processed": "caus symptom ofment stressanxieti andlow selfesteemdepressioni common peopl psoriasi okai am i go h…",
         "_deepnote_index_column": 3061
        },
        {
         "text": "Hello Twitter. Shout out! My friend suffers with CFS/ME and thinks she may have Autistic features. …",
         "label": 0,
         "processed": "hello twitter shout my friend suffer cfsme think mai autist featur she realli suffer moment depress…",
         "_deepnote_index_column": 3062
        },
        {
         "text": "what part of this was really harmfult of a lot of people and went against every guideline do you no…",
         "label": 0,
         "processed": "part realli harmfult lot peopl went everi guidelin understand rw horror show suppos insight depress…",
         "_deepnote_index_column": 3063
        },
        {
         "text": "Credit expansion can bring about a temporary boom. But such a fictitious prosperity must end in a g…",
         "label": 0,
         "processed": "credit expans bring temporari boom but fictiti prosper must gener depress trade slump mise",
         "_deepnote_index_column": 3064
        },
        {
         "text": "when tay k said your boys deep well lets get to subtracting he was talking about how depression in …",
         "label": 0,
         "processed": "tai said boi deep well let get subtract talk depress male commun spoken well enough societi need su…",
         "_deepnote_index_column": 3065
        },
        {
         "text": "Damn I think postpartum depression done hit me I'm so emotional til I cried today idk why.. I barel…",
         "label": 1,
         "processed": "damn i think postpartum depress done hit im emot i cri todai idk i bare at",
         "_deepnote_index_column": 3066
        },
        {
         "text": "@ItsPaigeTurco comes online and suddenly my depression is gone and i don’t know what sleep is appar…",
         "label": 0,
         "processed": "come onlin suddenli depress gone dont know sleep appar",
         "_deepnote_index_column": 3067
        },
        {
         "text": "Other than at the earth’s poles, night & day take turns. You’re sad sometimes, you’re happy sometim…",
         "label": 0,
         "processed": "other earth pole night dai turn your sad sometim your happi sometim depress beast trap place human …",
         "_deepnote_index_column": 3068
        },
        {
         "text": "Ok. So regular oatmeal is warm sadness in a bowl.   Overnight oats are like milky cold semi-sadness…",
         "label": 1,
         "processed": "ok so regular oatmeal warm sad bowl overnight oat like milki cold semisad bowl like regular oatmeal…",
         "_deepnote_index_column": 3069
        },
        {
         "text": "I’m not sure if all of these explains my behaviour. I honestly know myself and I know I respond wei…",
         "label": 0,
         "processed": "im sure explain behaviour i honestli know i know i respond weird sometim ye i anger issu luckili i …",
         "_deepnote_index_column": 3070
        },
        {
         "text": "“depression, suicidality, anxiety, social isolation and decreased capacity for intimacy” are the na…",
         "label": 1,
         "processed": "depress suicid anxieti social isol decreas capac intimaci natur effect gai life it fals construct e…",
         "_deepnote_index_column": 3071
        },
        {
         "text": "The small town I was raised in was like this. Mental illness is not a thing. Many people still see …",
         "label": 1,
         "processed": "the small town i rais like mental ill thing mani peopl still see wai and peopl think anxieti depres…",
         "_deepnote_index_column": 3072
        },
        {
         "text": "my go-to used to be blue cheese on anything or marinara and ranch mixed together. eaten with my wri…",
         "label": 1,
         "processed": "goto us blue chees anyth marinara ranch mix togeth eaten wrinkli depress hand potato chip recent ea…",
         "_deepnote_index_column": 3073
        },
        {
         "text": "Miss you dol! I'm sorry my depression makes it harder for me to leave a more detailed comment other…",
         "label": 0,
         "processed": "miss dol im sorri depress make harder leav detail comment sincerest heartfelt ilysm xoxo",
         "_deepnote_index_column": 3074
        },
        {
         "text": "I'm sorry my depression makes it harder for me to leave a more detailed comment other than my since…",
         "label": 0,
         "processed": "im sorri depress make harder leav detail comment sincerest heartfelt ilysm xoxo",
         "_deepnote_index_column": 3075
        },
        {
         "text": "Thanks man. It really weird - I don’t have as much patience to fiddle with games like I used to. I …",
         "label": 0,
         "processed": "thank it realli weird i dont much patienc fiddl game like i us i dont know depress to fair i tri cr…",
         "_deepnote_index_column": 3076
        },
        {
         "text": "The depression rates are so high b/c these are men who suffer from body dysmorphia, and no one is t…",
         "label": 0,
         "processed": "the depress rate high bc suffer bodi dysmorphia treat mental ill just wouldnt tell person w anorexi…",
         "_deepnote_index_column": 3077
        },
        {
         "text": "A gene co-expression network-based analysis of multiple brain tissues reveals novel genes and molec…",
         "label": 0,
         "processed": "a gene coexpress networkbas analysi multipl brain tissu reveal novel gene molecular pathwai underli…",
         "_deepnote_index_column": 3078
        },
        {
         "text": "Tuesday's Daily Piece: #antidepressant can reduce death in persons with #diabetes and #major #depre…",
         "label": 0,
         "processed": "tuesdai daili piec antidepress reduc death person diabet major depress pleas click link httpreecesp…",
         "_deepnote_index_column": 3079
        },
        {
         "text": "hey ik no one will see this but i’m trying my luck anyways:   to those diagnosed with depression: w…",
         "label": 1,
         "processed": "hei see try luck anywai diagnos depress first start see symptom realiz mayb depress anyon littl voi…",
         "_deepnote_index_column": 3080
        },
        {
         "text": "Then you find the other 4% and you talk to them and you talk to me and you talk to strangers on hot…",
         "label": 0,
         "processed": "then find talk talk talk stranger hotlin call goddam random number talk whoever answer that take lo…",
         "_deepnote_index_column": 3081
        },
        {
         "text": "My training is a 360 approach. First I take a handful of pills for depression, urinary and gut heal…",
         "label": 0,
         "processed": "my train approach first i hand pill depress urinari gut health allergi then i spend two hour sensor…",
         "_deepnote_index_column": 3082
        },
        {
         "text": "i was just pickin up some food at the place down the street and the sweet black lady told me my han…",
         "label": 0,
         "processed": "pickin food place street sweet black ladi told hand soft depress cure",
         "_deepnote_index_column": 3083
        },
        {
         "text": "And to add to my previous tweet I cannot get my disability cause he makes too much I suffer from an…",
         "label": 1,
         "processed": "and add previou tweet i get disabl caus make much i suffer anxieti attack depress major pain doesnt…",
         "_deepnote_index_column": 3084
        },
        {
         "text": "Depression; but make it socially approved  pic.twitter.com/idaCzBOweN",
         "label": 1,
         "processed": "depress make social approv pictwittercomidaczbowen",
         "_deepnote_index_column": 3085
        },
        {
         "text": "Social media use, not gaming, increases symptoms of depression in teens: research  http://s.einnews…",
         "label": 0,
         "processed": "social media us game increas symptom depress teen research",
         "_deepnote_index_column": 3086
        },
        {
         "text": "I'm only slightly joking cause I love kids I just dont ever want to be physically pregnant and post…",
         "label": 0,
         "processed": "im slightli joke caus i love kid i dont ever physic pregnant post partum depress scari",
         "_deepnote_index_column": 3087
        },
        {
         "text": "Tay K is just a child and facing life in prison for murder 😢😔 shit like that really sends me into a…",
         "label": 0,
         "processed": "tai k child face life prison murder shit like realli send depress im prai young frfr",
         "_deepnote_index_column": 3088
        },
        {
         "text": "Social media, but not video games, linked to depression in teens, according to Montreal study   htt…",
         "label": 0,
         "processed": "social media video game link depress teen accord montreal studi",
         "_deepnote_index_column": 3089
        },
        {
         "text": "Holy shit, does Aasandha cover experimental eyeball surgery. 😱 I really need to get my depression u…",
         "label": 1,
         "processed": "holi shit aasandha cover experiment eyebal surgeri i realli need get depress control",
         "_deepnote_index_column": 3090
        },
        {
         "text": "Increased use social media linked to symptoms of depression in teens –  http://fox8.com   https://f…",
         "label": 0,
         "processed": "increas us social media link symptom depress teen httpfoxcom depress somedoc",
         "_deepnote_index_column": 3091
        },
        {
         "text": "Increased use social media linked to symptoms of depression in teens  https://ift.tt/2Y9SRDn ",
         "label": 0,
         "processed": "increas us social media link symptom depress teen",
         "_deepnote_index_column": 3092
        },
        {
         "text": "Social media use linked to depression in teens: study  https://234radio.com/social-media-use-linked…",
         "label": 0,
         "processed": "social media us link depress teensstudi pictwittercomerfvwzeeb",
         "_deepnote_index_column": 3093
        },
        {
         "text": "Republicans take a shit and expect the Democrats to clean it up...every damn time! Especially when …",
         "label": 0,
         "processed": "republican shit expect democrat clean upeveri damn time especi come economi the gop tax cut richest…",
         "_deepnote_index_column": 3094
        },
        {
         "text": "Social Media, But Not Video Games, Linked To Depression In Teens, Says Study  https://games.slashdo…",
         "label": 0,
         "processed": "social media but not video game link to depress in teen sai studi",
         "_deepnote_index_column": 3095
        },
        {
         "text": "@PHOReverIM Yyyeeesss!!! Never be embarrassed of who you are, you're an inspiration to millions who…",
         "label": 0,
         "processed": "yyyeeesss never embarrass your inspir million suffer social anxieti depress kudo",
         "_deepnote_index_column": 3096
        },
        {
         "text": "red velvet be like: fuck depression 😠  love hapiness 😌  pic.twitter.com/WL1h9slwL7",
         "label": 0,
         "processed": "red velvet like fuck depress love hapi pictwittercomwlhslwl",
         "_deepnote_index_column": 3097
        },
        {
         "text": "When you know someone who committed suicide for having depression you kind'a feel pity and disappoi…",
         "label": 1,
         "processed": "when know someon commit suicid depress kinda feel piti disappoint person unsuspect thing kill human…",
         "_deepnote_index_column": 3098
        }
       ]
      },
      "text/plain": "                                                   text  label  \\\n4462  @xwidep that's exactly what I had for dinner, ...    0.0   \n2347  tired of wondering if you will ever come aroun...    0.0   \n4905  @sterrarim Potato head!?? hahaha *ahem* sorry ...    0.0   \n5786  @CrysAnGeL77 wow I didn't know lol yes I'm out...    0.0   \n2624  #FollowFriday @catdog03 @babyrabies @NoPasaNad...    0.0   \n...                                                 ...    ...   \n3094  Republicans take a shit and expect the Democra...    0.0   \n3095  Social Media, But Not Video Games, Linked To D...    0.0   \n3096  @PHOReverIM Yyyeeesss!!! Never be embarrassed ...    0.0   \n3097  red velvet be like: fuck depression 😠  love ha...    0.0   \n3098  When you know someone who committed suicide fo...    1.0   \n\n                                              processed  \n4462     that exactli i dinner except i onion bhaji nom  \n2347  tire wonder ever around cali miss babi simpli ...  \n4905         potato head hahaha ahem sorri clearli rice  \n5786  wow i didnt know lol ye im alreadi well gnite tty  \n2624                            followfridai make laugh  \n...                                                 ...  \n3094  republican shit expect democrat clean upeveri ...  \n3095  social media but not video game link to depres...  \n3096  yyyeeesss never embarrass your inspir million ...  \n3097  red velvet like fuck depress love hapi pictwit...  \n3098  when know someon commit suicid depress kinda f...  \n\n[4639 rows x 3 columns]",
      "text/html": "<div>\n<style scoped>\n    .dataframe tbody tr th:only-of-type {\n        vertical-align: middle;\n    }\n\n    .dataframe tbody tr th {\n        vertical-align: top;\n    }\n\n    .dataframe thead th {\n        text-align: right;\n    }\n</style>\n<table border=\"1\" class=\"dataframe\">\n  <thead>\n    <tr style=\"text-align: right;\">\n      <th></th>\n      <th>text</th>\n      <th>label</th>\n      <th>processed</th>\n    </tr>\n  </thead>\n  <tbody>\n    <tr>\n      <th>4462</th>\n      <td>@xwidep that's exactly what I had for dinner, ...</td>\n      <td>0.0</td>\n      <td>that exactli i dinner except i onion bhaji nom</td>\n    </tr>\n    <tr>\n      <th>2347</th>\n      <td>tired of wondering if you will ever come aroun...</td>\n      <td>0.0</td>\n      <td>tire wonder ever around cali miss babi simpli ...</td>\n    </tr>\n    <tr>\n      <th>4905</th>\n      <td>@sterrarim Potato head!?? hahaha *ahem* sorry ...</td>\n      <td>0.0</td>\n      <td>potato head hahaha ahem sorri clearli rice</td>\n    </tr>\n    <tr>\n      <th>5786</th>\n      <td>@CrysAnGeL77 wow I didn't know lol yes I'm out...</td>\n      <td>0.0</td>\n      <td>wow i didnt know lol ye im alreadi well gnite tty</td>\n    </tr>\n    <tr>\n      <th>2624</th>\n      <td>#FollowFriday @catdog03 @babyrabies @NoPasaNad...</td>\n      <td>0.0</td>\n      <td>followfridai make laugh</td>\n    </tr>\n    <tr>\n      <th>...</th>\n      <td>...</td>\n      <td>...</td>\n      <td>...</td>\n    </tr>\n    <tr>\n      <th>3094</th>\n      <td>Republicans take a shit and expect the Democra...</td>\n      <td>0.0</td>\n      <td>republican shit expect democrat clean upeveri ...</td>\n    </tr>\n    <tr>\n      <th>3095</th>\n      <td>Social Media, But Not Video Games, Linked To D...</td>\n      <td>0.0</td>\n      <td>social media but not video game link to depres...</td>\n    </tr>\n    <tr>\n      <th>3096</th>\n      <td>@PHOReverIM Yyyeeesss!!! Never be embarrassed ...</td>\n      <td>0.0</td>\n      <td>yyyeeesss never embarrass your inspir million ...</td>\n    </tr>\n    <tr>\n      <th>3097</th>\n      <td>red velvet be like: fuck depression 😠  love ha...</td>\n      <td>0.0</td>\n      <td>red velvet like fuck depress love hapi pictwit...</td>\n    </tr>\n    <tr>\n      <th>3098</th>\n      <td>When you know someone who committed suicide fo...</td>\n      <td>1.0</td>\n      <td>when know someon commit suicid depress kinda f...</td>\n    </tr>\n  </tbody>\n</table>\n<p>4639 rows × 3 columns</p>\n</div>"
     },
     "metadata": {}
    }
   ]
  },
  {
   "cell_type": "code",
   "metadata": {
    "tags": [],
    "cell_id": "00016-17077188-ac1c-48b8-89ac-7db48c5d4fb5",
    "deepnote_to_be_reexecuted": false,
    "source_hash": "64c0489e",
    "execution_start": 1639180360714,
    "execution_millis": 24,
    "deepnote_cell_type": "code"
   },
   "source": "from sklearn.model_selection import train_test_split\n\ntrain_data, test_data = train_test_split(result, test_size=0.2, random_state=7)",
   "execution_count": null,
   "outputs": []
  },
  {
   "cell_type": "code",
   "metadata": {
    "tags": [],
    "cell_id": "00017-792fb256-7185-45af-bbb4-9e534e1b2ea2",
    "deepnote_to_be_reexecuted": false,
    "source_hash": "1aac80cc",
    "execution_start": 1639180362641,
    "execution_millis": 103,
    "deepnote_cell_type": "code"
   },
   "source": "train_data.head(2)",
   "execution_count": null,
   "outputs": [
    {
     "output_type": "execute_result",
     "execution_count": 42,
     "data": {
      "application/vnd.deepnote.dataframe.v2+json": {
       "row_count": 2,
       "column_count": 3,
       "columns": [
        {
         "name": "text",
         "dtype": "object",
         "stats": {
          "unique_count": 2,
          "nan_count": 0,
          "categories": [
           {
            "name": "Let me keep it 💯 most of my depression will calm down if I had money 💸💸💸 out the ass ...",
            "count": 1
           },
           {
            "name": "What I like to do when depression hits drink...drink hard.",
            "count": 1
           }
          ]
         }
        },
        {
         "name": "label",
         "dtype": "float64",
         "stats": {
          "unique_count": 1,
          "nan_count": 0,
          "min": "1.0",
          "max": "1.0",
          "histogram": [
           {
            "bin_start": 0.5,
            "bin_end": 0.6,
            "count": 0
           },
           {
            "bin_start": 0.6,
            "bin_end": 0.7,
            "count": 0
           },
           {
            "bin_start": 0.7,
            "bin_end": 0.8,
            "count": 0
           },
           {
            "bin_start": 0.8,
            "bin_end": 0.9,
            "count": 0
           },
           {
            "bin_start": 0.9,
            "bin_end": 1,
            "count": 0
           },
           {
            "bin_start": 1,
            "bin_end": 1.1,
            "count": 2
           },
           {
            "bin_start": 1.1,
            "bin_end": 1.2000000000000002,
            "count": 0
           },
           {
            "bin_start": 1.2000000000000002,
            "bin_end": 1.3,
            "count": 0
           },
           {
            "bin_start": 1.3,
            "bin_end": 1.4,
            "count": 0
           },
           {
            "bin_start": 1.4,
            "bin_end": 1.5,
            "count": 0
           }
          ]
         }
        },
        {
         "name": "processed",
         "dtype": "object",
         "stats": {
          "unique_count": 2,
          "nan_count": 0,
          "categories": [
           {
            "name": "let keep depress calm i monei ass",
            "count": 1
           },
           {
            "name": "what i like depress hit drinkdrink hard",
            "count": 1
           }
          ]
         }
        },
        {
         "name": "_deepnote_index_column",
         "dtype": "int64"
        }
       ],
       "rows_top": [
        {
         "text": "Let me keep it 💯 most of my depression will calm down if I had money 💸💸💸 out the ass ...",
         "label": 1,
         "processed": "let keep depress calm i monei ass",
         "_deepnote_index_column": 599
        },
        {
         "text": "What I like to do when depression hits drink...drink hard.",
         "label": 1,
         "processed": "what i like depress hit drinkdrink hard",
         "_deepnote_index_column": 412
        }
       ],
       "rows_bottom": null
      },
      "text/plain": "                                                  text  label  \\\n599  Let me keep it 💯 most of my depression will ca...    1.0   \n412  What I like to do when depression hits drink.....    1.0   \n\n                                   processed  \n599        let keep depress calm i monei ass  \n412  what i like depress hit drinkdrink hard  ",
      "text/html": "<div>\n<style scoped>\n    .dataframe tbody tr th:only-of-type {\n        vertical-align: middle;\n    }\n\n    .dataframe tbody tr th {\n        vertical-align: top;\n    }\n\n    .dataframe thead th {\n        text-align: right;\n    }\n</style>\n<table border=\"1\" class=\"dataframe\">\n  <thead>\n    <tr style=\"text-align: right;\">\n      <th></th>\n      <th>text</th>\n      <th>label</th>\n      <th>processed</th>\n    </tr>\n  </thead>\n  <tbody>\n    <tr>\n      <th>599</th>\n      <td>Let me keep it 💯 most of my depression will ca...</td>\n      <td>1.0</td>\n      <td>let keep depress calm i monei ass</td>\n    </tr>\n    <tr>\n      <th>412</th>\n      <td>What I like to do when depression hits drink.....</td>\n      <td>1.0</td>\n      <td>what i like depress hit drinkdrink hard</td>\n    </tr>\n  </tbody>\n</table>\n</div>"
     },
     "metadata": {}
    }
   ]
  },
  {
   "cell_type": "code",
   "metadata": {
    "tags": [],
    "cell_id": "00018-dae90b32-0884-43e0-8c2a-0d61ca4f8909",
    "deepnote_to_be_reexecuted": false,
    "source_hash": "2bb65961",
    "execution_start": 1638661060218,
    "execution_millis": 8,
    "deepnote_cell_type": "code"
   },
   "source": "test_data.head(2)",
   "execution_count": null,
   "outputs": [
    {
     "output_type": "execute_result",
     "execution_count": 26,
     "data": {
      "application/vnd.deepnote.dataframe.v2+json": {
       "row_count": 2,
       "column_count": 3,
       "columns": [
        {
         "name": "text",
         "dtype": "object",
         "stats": {
          "unique_count": 2,
          "nan_count": 0,
          "categories": [
           {
            "name": "Why does depression always hit at the worst times.....",
            "count": 1
           },
           {
            "name": "@Monica2112 Oh don't worry, I don't mind if you are.    I'm just happy u want to meet me!",
            "count": 1
           }
          ]
         }
        },
        {
         "name": "label",
         "dtype": "float64",
         "stats": {
          "unique_count": 2,
          "nan_count": 0,
          "min": "0.0",
          "max": "1.0",
          "histogram": [
           {
            "bin_start": 0,
            "bin_end": 0.1,
            "count": 1
           },
           {
            "bin_start": 0.1,
            "bin_end": 0.2,
            "count": 0
           },
           {
            "bin_start": 0.2,
            "bin_end": 0.30000000000000004,
            "count": 0
           },
           {
            "bin_start": 0.30000000000000004,
            "bin_end": 0.4,
            "count": 0
           },
           {
            "bin_start": 0.4,
            "bin_end": 0.5,
            "count": 0
           },
           {
            "bin_start": 0.5,
            "bin_end": 0.6000000000000001,
            "count": 0
           },
           {
            "bin_start": 0.6000000000000001,
            "bin_end": 0.7000000000000001,
            "count": 0
           },
           {
            "bin_start": 0.7000000000000001,
            "bin_end": 0.8,
            "count": 0
           },
           {
            "bin_start": 0.8,
            "bin_end": 0.9,
            "count": 0
           },
           {
            "bin_start": 0.9,
            "bin_end": 1,
            "count": 1
           }
          ]
         }
        },
        {
         "name": "processed",
         "dtype": "object",
         "stats": {
          "unique_count": 2,
          "nan_count": 0,
          "categories": [
           {
            "name": "why depress alwai hit worst time",
            "count": 1
           },
           {
            "name": "oh dont worri i dont mind im happi meet",
            "count": 1
           }
          ]
         }
        },
        {
         "name": "_deepnote_index_column",
         "dtype": "int64"
        }
       ],
       "rows_top": [
        {
         "text": "Why does depression always hit at the worst times.....",
         "label": 1,
         "processed": "why depress alwai hit worst time",
         "_deepnote_index_column": 1
        },
        {
         "text": "@Monica2112 Oh don't worry, I don't mind if you are.    I'm just happy u want to meet me!",
         "label": 0,
         "processed": "oh dont worri i dont mind im happi meet",
         "_deepnote_index_column": 7145
        }
       ],
       "rows_bottom": null
      },
      "text/plain": "                                                   text  label  \\\n1     Why does depression always hit at the worst ti...    1.0   \n7145  @Monica2112 Oh don't worry, I don't mind if yo...    0.0   \n\n                                    processed  \n1            why depress alwai hit worst time  \n7145  oh dont worri i dont mind im happi meet  ",
      "text/html": "<div>\n<style scoped>\n    .dataframe tbody tr th:only-of-type {\n        vertical-align: middle;\n    }\n\n    .dataframe tbody tr th {\n        vertical-align: top;\n    }\n\n    .dataframe thead th {\n        text-align: right;\n    }\n</style>\n<table border=\"1\" class=\"dataframe\">\n  <thead>\n    <tr style=\"text-align: right;\">\n      <th></th>\n      <th>text</th>\n      <th>label</th>\n      <th>processed</th>\n    </tr>\n  </thead>\n  <tbody>\n    <tr>\n      <th>1</th>\n      <td>Why does depression always hit at the worst ti...</td>\n      <td>1.0</td>\n      <td>why depress alwai hit worst time</td>\n    </tr>\n    <tr>\n      <th>7145</th>\n      <td>@Monica2112 Oh don't worry, I don't mind if yo...</td>\n      <td>0.0</td>\n      <td>oh dont worri i dont mind im happi meet</td>\n    </tr>\n  </tbody>\n</table>\n</div>"
     },
     "metadata": {}
    }
   ]
  },
  {
   "cell_type": "code",
   "metadata": {
    "tags": [],
    "cell_id": "00011-7fc57dc3-db8b-41e1-b85a-e4bf0d6180c4",
    "deepnote_to_be_reexecuted": false,
    "source_hash": "f0e5f3fb",
    "execution_start": 1639180367052,
    "execution_millis": 8,
    "deepnote_output_heights": [
     21
    ],
    "deepnote_cell_type": "code"
   },
   "source": "x_train = np.asarray(train_data['processed'])\ny_train = np.asarray(train_data['label'])\n\n# label_map = {cat: index for index, cat in enumerate(np.unique(y_train))}\n# y_prep_train = np.asarray([label_map[l] for l in y_train])\n\n# label_map",
   "execution_count": null,
   "outputs": []
  },
  {
   "cell_type": "code",
   "metadata": {
    "tags": [],
    "cell_id": "00013-5a5c630e-be0f-4d20-87f2-37ec6781be05",
    "deepnote_to_be_reexecuted": true,
    "source_hash": "45ae46cf",
    "execution_start": 1636835931639,
    "execution_millis": 0,
    "deepnote_cell_type": "code"
   },
   "source": "# test_data['processed'] = preprocessing(test_data['text']) #not needed for the new datasets",
   "execution_count": null,
   "outputs": []
  },
  {
   "cell_type": "code",
   "metadata": {
    "tags": [],
    "cell_id": "00017-f3dc759f-dd49-46da-80af-48605bc72a12",
    "deepnote_to_be_reexecuted": true,
    "source_hash": "8f8ccf0e",
    "execution_start": 1636835931639,
    "execution_millis": 33,
    "deepnote_cell_type": "code"
   },
   "source": "# test_data",
   "execution_count": null,
   "outputs": []
  },
  {
   "cell_type": "code",
   "metadata": {
    "tags": [],
    "cell_id": "00014-4a941349-04d0-4154-89cc-b9cacb335428",
    "deepnote_to_be_reexecuted": false,
    "source_hash": "3cdb3a18",
    "execution_start": 1639180369781,
    "execution_millis": 32,
    "deepnote_cell_type": "code"
   },
   "source": "x_test = np.asarray(test_data['processed'])\ny_test = np.asarray(test_data['label'])\n\n# y_prep_test = np.asarray([label_map[l] for l in y_test])",
   "execution_count": null,
   "outputs": []
  },
  {
   "cell_type": "markdown",
   "source": "## TF - IDF",
   "metadata": {
    "tags": [],
    "cell_id": "00014-bd48ec5f-4c42-4296-8157-cce5b7184c4f",
    "deepnote_cell_type": "markdown"
   }
  },
  {
   "cell_type": "code",
   "metadata": {
    "tags": [],
    "cell_id": "00039-a7264ba2-9d92-4f8c-9248-03c08fd81e84",
    "deepnote_to_be_reexecuted": false,
    "source_hash": "fa3f4e90",
    "execution_start": 1638661098800,
    "execution_millis": 10,
    "deepnote_output_heights": [
     21.1875
    ],
    "deepnote_cell_type": "code"
   },
   "source": "len(x_train)",
   "execution_count": null,
   "outputs": [
    {
     "output_type": "execute_result",
     "execution_count": 31,
     "data": {
      "text/plain": "3711"
     },
     "metadata": {}
    }
   ]
  },
  {
   "cell_type": "code",
   "metadata": {
    "tags": [],
    "cell_id": "00022-6515ebca-853e-4113-9907-919118b29fe6",
    "deepnote_to_be_reexecuted": false,
    "source_hash": "e396a278",
    "execution_start": 1638661078469,
    "execution_millis": 5,
    "deepnote_output_heights": [
     97.96875
    ],
    "deepnote_cell_type": "code"
   },
   "source": "x_train",
   "execution_count": null,
   "outputs": [
    {
     "output_type": "execute_result",
     "execution_count": 29,
     "data": {
      "text/plain": "array(['listen neyo closer still good song',\n       'just experienc world largest hershei bar',\n       'lack materialist thing doesnt caus depress believ ill time show',\n       ..., 'for httpblipfmjbp', 'welcom twitter', 'doe depress'],\n      dtype=object)"
     },
     "metadata": {}
    }
   ]
  },
  {
   "cell_type": "code",
   "metadata": {
    "tags": [],
    "cell_id": "00039-e1b18f45-cf6f-4ed8-be2d-2934cc8a5534",
    "deepnote_to_be_reexecuted": false,
    "source_hash": "549066d0",
    "execution_start": 1639180391616,
    "execution_millis": 39,
    "deepnote_cell_type": "code"
   },
   "source": "import pickle",
   "execution_count": null,
   "outputs": []
  },
  {
   "cell_type": "code",
   "metadata": {
    "tags": [],
    "cell_id": "00014-b5e68930-326a-4f96-9ea9-a4494e1fd9bf",
    "deepnote_to_be_reexecuted": false,
    "source_hash": "d858c2d1",
    "execution_start": 1639180374892,
    "execution_millis": 183,
    "deepnote_cell_type": "code"
   },
   "source": "from sklearn.feature_extraction.text import TfidfVectorizer\nvectorizer = TfidfVectorizer()\ntrain_tfidf = vectorizer.fit_transform(x_train)",
   "execution_count": null,
   "outputs": []
  },
  {
   "cell_type": "code",
   "metadata": {
    "tags": [],
    "cell_id": "00034-b6713d60-9c34-4d3a-a266-71fb6909ea6d",
    "deepnote_to_be_reexecuted": false,
    "source_hash": "9ea1c908",
    "execution_start": 1639180394024,
    "execution_millis": 6,
    "deepnote_cell_type": "code"
   },
   "source": "pickle.dump(vectorizer, open(\"vectorizer_DATD.pickle\",\"wb\"))",
   "execution_count": null,
   "outputs": []
  },
  {
   "cell_type": "code",
   "metadata": {
    "tags": [],
    "cell_id": "00015-121a451f-4517-47fd-8274-12f7c0852fe5",
    "deepnote_to_be_reexecuted": false,
    "source_hash": "d4313c",
    "execution_start": 1639180397321,
    "execution_millis": 49,
    "deepnote_cell_type": "code"
   },
   "source": "test_tfidf = vectorizer.transform(x_test)",
   "execution_count": null,
   "outputs": []
  },
  {
   "cell_type": "code",
   "metadata": {
    "tags": [],
    "cell_id": "00044-0a943a59-5ce5-46ef-b91d-f83dd7c3c5c0",
    "deepnote_to_be_reexecuted": false,
    "source_hash": "4ea9727a",
    "execution_start": 1639180399941,
    "execution_millis": 28,
    "deepnote_output_heights": [
     136.375
    ],
    "deepnote_cell_type": "code"
   },
   "source": "x_test",
   "execution_count": null,
   "outputs": [
    {
     "output_type": "execute_result",
     "execution_count": 50,
     "data": {
      "text/plain": "array(['am i think time bed good night twitt',\n       'everyon prealbum depress need watch taylor netflix cheer netflix',\n       'what expect marri someon depress tho cours im cold sometim i dunno i forgiv cheater',\n       ..., 'dark deep depress thank brain',\n       'i put ibuprofenacetaminophen regimen teeth h e l l head last dai i recal someth nsaid exacerb depress im troubl find articlestudi i read comprehend can anyon help',\n       'just heard bootleg remix quotif seek amyquot kiss fm chicago'],\n      dtype=object)"
     },
     "metadata": {}
    }
   ]
  },
  {
   "cell_type": "code",
   "metadata": {
    "tags": [],
    "cell_id": "00018-43e57c79-424f-465b-b9e3-28456b21907a",
    "deepnote_to_be_reexecuted": false,
    "source_hash": "5b482b76",
    "execution_start": 1638463605007,
    "execution_millis": 13,
    "deepnote_cell_type": "code"
   },
   "source": "from sklearn.naive_bayes import MultinomialNB\nmodel = MultinomialNB()\n# train_model = model.fit(train_tfidf, y_prep_train)\ntrain_model = model.fit(train_tfidf, y_train)\npredictions = model.predict(test_tfidf)\n# print('The Accuracy is ', f\"{accuracy_score(predictions,y_prep_test):.2%}\")\nprint('The Accuracy is ', f\"{accuracy_score(predictions,y_test):.2%}\")",
   "execution_count": null,
   "outputs": [
    {
     "name": "stdout",
     "text": "The Accuracy is  80.58%\n",
     "output_type": "stream"
    }
   ]
  },
  {
   "cell_type": "code",
   "metadata": {
    "tags": [],
    "cell_id": "00019-b7a67a9d-2b23-4ba5-baae-63aa2a862068",
    "deepnote_to_be_reexecuted": false,
    "source_hash": "49e398c8",
    "execution_start": 1639180495105,
    "execution_millis": 83,
    "deepnote_cell_type": "code"
   },
   "source": "from sklearn.linear_model import LogisticRegression\nmodel = LogisticRegression()\n# train_model = model.fit(train_tfidf, y_prep_train)\ntrain_model = model.fit(train_tfidf, y_train)\npredictions = model.predict(test_tfidf)\n# print('The Accuracy is ', f\"{accuracy_score(predictions,y_prep_test):.2%}\")\nprint('The Accuracy is ', f\"{accuracy_score(predictions,y_test):.2%}\")",
   "execution_count": null,
   "outputs": [
    {
     "name": "stdout",
     "text": "The Accuracy is  81.21%\n",
     "output_type": "stream"
    }
   ]
  },
  {
   "cell_type": "code",
   "metadata": {
    "tags": [],
    "cell_id": "00047-ed34d647-c739-4fe5-999e-a421bd58ae51",
    "deepnote_to_be_reexecuted": false,
    "source_hash": "d29f5f10",
    "execution_start": 1638466118117,
    "execution_millis": 6,
    "deepnote_output_heights": [
     21.1875
    ],
    "deepnote_cell_type": "code"
   },
   "source": "model.predict(x_train_tokenized)",
   "execution_count": null,
   "outputs": [
    {
     "output_type": "execute_result",
     "execution_count": 133,
     "data": {
      "text/plain": "array([0.])"
     },
     "metadata": {}
    }
   ]
  },
  {
   "cell_type": "code",
   "metadata": {
    "tags": [],
    "cell_id": "00020-8f61969b-cc12-47ac-9e6c-fa4c6b9f0569",
    "deepnote_to_be_reexecuted": false,
    "source_hash": "4d27a39e",
    "execution_start": 1639180503781,
    "execution_millis": 47458,
    "deepnote_cell_type": "code"
   },
   "source": "!pip install xgboost",
   "execution_count": null,
   "outputs": [
    {
     "name": "stdout",
     "text": "Collecting xgboost\n  Downloading xgboost-1.5.1-py3-none-manylinux2014_x86_64.whl (173.5 MB)\n\u001b[K     |████████████████████████████████| 173.5 MB 13 kB/s \n\u001b[?25hRequirement already satisfied: scipy in /shared-libs/python3.7/py/lib/python3.7/site-packages (from xgboost) (1.7.2)\nRequirement already satisfied: numpy in /shared-libs/python3.7/py/lib/python3.7/site-packages (from xgboost) (1.19.5)\nInstalling collected packages: xgboost\nSuccessfully installed xgboost-1.5.1\n\u001b[33mWARNING: You are using pip version 20.1.1; however, version 21.3.1 is available.\nYou should consider upgrading via the '/root/venv/bin/python -m pip install --upgrade pip' command.\u001b[0m\n",
     "output_type": "stream"
    }
   ]
  },
  {
   "cell_type": "code",
   "metadata": {
    "tags": [],
    "cell_id": "00020-0bb58cf2-e58b-458c-a73e-89293bdd3a8a",
    "deepnote_to_be_reexecuted": false,
    "source_hash": "e58c0fd1",
    "execution_start": 1639180599218,
    "execution_millis": 18954,
    "deepnote_cell_type": "code"
   },
   "source": "import xgboost as xgb\n\nxgb_model = xgb.XGBClassifier(objective=\"binary:logistic\", random_state=42)\nxgb_model.fit(train_tfidf, y_train)\n\npredictions = xgb_model.predict(test_tfidf)\n# print('The Accuracy is ', f\"{accuracy_score(predictions,y_prep_test):.2%}\")\nprint('The Accuracy is ', f\"{accuracy_score(predictions,y_test):.2%}\")",
   "execution_count": null,
   "outputs": [
    {
     "name": "stderr",
     "text": "/root/venv/lib/python3.7/site-packages/xgboost/sklearn.py:1224: UserWarning: The use of label encoder in XGBClassifier is deprecated and will be removed in a future release. To remove this warning, do the following: 1) Pass option use_label_encoder=False when constructing XGBClassifier object; and 2) Encode your labels (y) as integers starting with 0, i.e. 0, 1, 2, ..., [num_class - 1].\n  warnings.warn(label_encoder_deprecation_msg, UserWarning)\n[23:56:40] WARNING: ../src/learner.cc:1115: Starting in XGBoost 1.3.0, the default evaluation metric used with the objective 'binary:logistic' was changed from 'error' to 'logloss'. Explicitly set eval_metric if you'd like to restore the old behavior.\nThe Accuracy is  80.94%\n",
     "output_type": "stream"
    }
   ]
  },
  {
   "cell_type": "code",
   "metadata": {
    "tags": [],
    "cell_id": "00051-a24e6f24-56ec-439d-a640-ef367596889a",
    "deepnote_to_be_reexecuted": false,
    "source_hash": "463ff82d",
    "execution_start": 1638661267070,
    "execution_millis": 11,
    "deepnote_output_heights": [
     611
    ],
    "deepnote_cell_type": "code"
   },
   "source": "predictions",
   "execution_count": null,
   "outputs": [
    {
     "output_type": "execute_result",
     "execution_count": 41,
     "data": {
      "text/plain": "array([1., 0., 1., 1., 0., 1., 1., 1., 0., 0., 1., 0., 0., 0., 1., 1., 0.,\n       0., 0., 1., 1., 0., 0., 1., 0., 0., 1., 0., 1., 0., 0., 0., 0., 0.,\n       0., 0., 1., 0., 0., 1., 1., 0., 1., 0., 1., 0., 0., 0., 0., 1., 0.,\n       0., 1., 1., 1., 0., 1., 1., 0., 1., 0., 1., 0., 0., 0., 0., 1., 0.,\n       1., 0., 1., 0., 0., 0., 0., 1., 1., 1., 1., 1., 0., 0., 1., 0., 0.,\n       0., 0., 1., 0., 0., 0., 0., 1., 1., 0., 1., 0., 1., 0., 0., 1., 1.,\n       0., 1., 0., 0., 0., 0., 0., 1., 0., 0., 0., 1., 0., 1., 1., 1., 0.,\n       0., 0., 0., 0., 0., 1., 1., 1., 0., 1., 1., 1., 0., 0., 0., 1., 0.,\n       1., 0., 0., 1., 1., 0., 0., 1., 1., 0., 1., 1., 0., 1., 0., 0., 0.,\n       0., 0., 1., 1., 0., 1., 0., 0., 0., 1., 1., 0., 0., 1., 0., 0., 1.,\n       1., 1., 0., 1., 1., 1., 1., 1., 1., 0., 1., 1., 0., 1., 1., 0., 1.,\n       1., 0., 1., 1., 1., 0., 1., 1., 1., 1., 1., 1., 0., 1., 1., 1., 0.,\n       1., 1., 0., 1., 1., 0., 0., 0., 1., 1., 1., 0., 1., 0., 1., 0., 0.,\n       0., 1., 1., 1., 1., 0., 0., 1., 0., 0., 1., 0., 0., 1., 0., 1., 1.,\n       1., 0., 1., 1., 1., 0., 0., 0., 0., 1., 0., 0., 0., 0., 0., 0., 1.,\n       1., 1., 0., 0., 0., 1., 0., 0., 0., 0., 1., 0., 1., 0., 0., 1., 0.,\n       0., 1., 1., 1., 1., 0., 1., 1., 1., 0., 0., 1., 0., 1., 0., 0., 1.,\n       0., 0., 1., 0., 1., 1., 1., 0., 1., 1., 0., 1., 0., 1., 1., 1., 0.,\n       1., 1., 0., 0., 1., 1., 1., 1., 1., 1., 0., 0., 0., 1., 0., 1., 0.,\n       1., 0., 0., 0., 1., 0., 0., 1., 0., 0., 1., 0., 0., 0., 0., 1., 0.,\n       1., 0., 1., 1., 1., 0., 1., 1., 0., 1., 0., 1., 1., 1., 1., 0., 1.,\n       0., 0., 1., 0., 0., 0., 0., 1., 1., 1., 0., 0., 0., 0., 1., 1., 0.,\n       1., 1., 0., 0., 1., 0., 1., 1., 1., 1., 0., 1., 1., 1., 1., 0., 0.,\n       1., 1., 1., 1., 1., 0., 0., 0., 0., 1., 0., 1., 0., 1., 0., 0., 1.,\n       0., 1., 0., 1., 0., 0., 0., 1., 0., 0., 0., 0., 1., 0., 1., 0., 1.,\n       0., 1., 0., 1., 0., 0., 1., 0., 1., 1., 0., 0., 1., 1., 1., 1., 0.,\n       1., 0., 0., 0., 0., 0., 1., 1., 1., 0., 0., 0., 0., 1., 1., 1., 1.,\n       1., 0., 1., 0., 1., 1., 1., 0., 0., 1., 0., 0., 0., 1., 0., 1., 0.,\n       0., 0., 1., 1., 1., 1., 0., 0., 0., 1., 0., 1., 0., 0., 1., 1., 1.,\n       1., 0., 0., 1., 0., 0., 0., 1., 1., 1., 1., 1., 0., 0., 1., 1., 1.,\n       1., 0., 1., 1., 0., 1., 1., 0., 0., 0., 0., 1., 1., 0., 0., 1., 1.,\n       0., 0., 0., 1., 1., 0., 1., 0., 1., 1., 0., 0., 1., 0., 0., 1., 0.,\n       1., 0., 1., 0., 0., 0., 0., 0., 1., 0., 1., 0., 1., 1., 1., 1., 1.,\n       1., 1., 0., 1., 0., 0., 1., 1., 0., 1., 0., 0., 0., 0., 1., 0., 1.,\n       1., 1., 1., 1., 1., 1., 1., 0., 1., 1., 1., 1., 1., 0., 0., 1., 1.,\n       0., 0., 0., 1., 0., 1., 0., 1., 0., 0., 0., 1., 1., 0., 1., 1., 0.,\n       0., 1., 0., 1., 1., 0., 0., 0., 0., 1., 1., 0., 1., 0., 1., 0., 1.,\n       0., 1., 1., 0., 0., 0., 1., 0., 0., 0., 0., 0., 0., 1., 0., 0., 0.,\n       0., 0., 1., 0., 0., 1., 1., 0., 0., 0., 1., 1., 0., 0., 1., 1., 0.,\n       0., 0., 1., 1., 0., 1., 1., 1., 0., 0., 0., 0., 1., 1., 0., 0., 1.,\n       0., 0., 1., 0., 1., 1., 1., 1., 0., 0., 0., 1., 1., 1., 0., 0., 0.,\n       1., 1., 1., 1., 0., 0., 0., 1., 0., 1., 0., 1., 0., 0., 0., 0., 1.,\n       0., 1., 0., 0., 0., 1., 1., 1., 0., 0., 0., 1., 1., 0., 0., 0., 0.,\n       1., 0., 1., 1., 0., 0., 0., 1., 1., 1., 0., 1., 1., 0., 1., 1., 0.,\n       1., 1., 1., 1., 1., 0., 0., 0., 0., 0., 1., 0., 0., 0., 0., 0., 1.,\n       1., 1., 1., 0., 1., 1., 1., 1., 0., 1., 1., 0., 1., 1., 1., 1., 1.,\n       1., 0., 0., 1., 0., 1., 1., 1., 1., 1., 0., 0., 0., 0., 0., 0., 0.,\n       1., 1., 0., 1., 0., 1., 0., 0., 0., 0., 0., 0., 1., 0., 1., 0., 0.,\n       0., 0., 1., 1., 1., 1., 0., 1., 0., 1., 0., 1., 0., 1., 1., 0., 1.,\n       0., 0., 1., 0., 0., 1., 0., 0., 0., 1., 0., 1., 1., 1., 0., 1., 1.,\n       0., 0., 0., 1., 0., 1., 0., 0., 1., 0., 0., 0., 1., 1., 0., 1., 1.,\n       1., 1., 1., 0., 0., 1., 0., 0., 0., 1., 1., 0., 1., 1., 1., 1., 0.,\n       1., 1., 1., 0., 0., 1., 1., 1., 0., 1., 0., 0., 0., 0., 1., 0., 1.,\n       0., 1., 1., 1., 0., 0., 0., 1., 1., 1., 0., 0., 1., 1., 1., 1., 0.,\n       1., 0., 0., 1., 0., 0., 0., 1., 0., 0.])"
     },
     "metadata": {}
    }
   ]
  },
  {
   "cell_type": "code",
   "metadata": {
    "tags": [],
    "cell_id": "00052-55a3faae-cf60-40a2-86fa-1a97c18eb90d",
    "deepnote_to_be_reexecuted": false,
    "source_hash": "937fb992",
    "execution_start": 1638661378479,
    "execution_millis": 4,
    "deepnote_cell_type": "code"
   },
   "source": "A = pd.DataFrame({'tweet':x_test, 'Label': predictions})\nA.head()",
   "execution_count": null,
   "outputs": [
    {
     "output_type": "execute_result",
     "execution_count": 43,
     "data": {
      "application/vnd.deepnote.dataframe.v2+json": {
       "row_count": 5,
       "column_count": 2,
       "columns": [
        {
         "name": "tweet",
         "dtype": "object",
         "stats": {
          "unique_count": 5,
          "nan_count": 0,
          "categories": [
           {
            "name": "why depress alwai hit worst time",
            "count": 1
           },
           {
            "name": "oh dont worri i dont mind im happi meet",
            "count": 1
           },
           {
            "name": "3 others",
            "count": 3
           }
          ]
         }
        },
        {
         "name": "Label",
         "dtype": "float64",
         "stats": {
          "unique_count": 2,
          "nan_count": 0,
          "min": "0.0",
          "max": "1.0",
          "histogram": [
           {
            "bin_start": 0,
            "bin_end": 0.1,
            "count": 2
           },
           {
            "bin_start": 0.1,
            "bin_end": 0.2,
            "count": 0
           },
           {
            "bin_start": 0.2,
            "bin_end": 0.30000000000000004,
            "count": 0
           },
           {
            "bin_start": 0.30000000000000004,
            "bin_end": 0.4,
            "count": 0
           },
           {
            "bin_start": 0.4,
            "bin_end": 0.5,
            "count": 0
           },
           {
            "bin_start": 0.5,
            "bin_end": 0.6000000000000001,
            "count": 0
           },
           {
            "bin_start": 0.6000000000000001,
            "bin_end": 0.7000000000000001,
            "count": 0
           },
           {
            "bin_start": 0.7000000000000001,
            "bin_end": 0.8,
            "count": 0
           },
           {
            "bin_start": 0.8,
            "bin_end": 0.9,
            "count": 0
           },
           {
            "bin_start": 0.9,
            "bin_end": 1,
            "count": 3
           }
          ]
         }
        },
        {
         "name": "_deepnote_index_column",
         "dtype": "int64"
        }
       ],
       "rows_top": [
        {
         "tweet": "why depress alwai hit worst time",
         "Label": 1,
         "_deepnote_index_column": 0
        },
        {
         "tweet": "oh dont worri i dont mind im happi meet",
         "Label": 0,
         "_deepnote_index_column": 1
        },
        {
         "tweet": "depress hurt stai strong know sorri your depress dont live long prosper",
         "Label": 1,
         "_deepnote_index_column": 2
        },
        {
         "tweet": "i feel depress come",
         "Label": 1,
         "_deepnote_index_column": 3
        },
        {
         "tweet": "just holler habari relat question someon hear",
         "Label": 0,
         "_deepnote_index_column": 4
        }
       ],
       "rows_bottom": null
      },
      "text/plain": "                                               tweet  Label\n0                   why depress alwai hit worst time    1.0\n1            oh dont worri i dont mind im happi meet    0.0\n2  depress hurt stai strong know sorri your depre...    1.0\n3                                i feel depress come    1.0\n4      just holler habari relat question someon hear    0.0",
      "text/html": "<div>\n<style scoped>\n    .dataframe tbody tr th:only-of-type {\n        vertical-align: middle;\n    }\n\n    .dataframe tbody tr th {\n        vertical-align: top;\n    }\n\n    .dataframe thead th {\n        text-align: right;\n    }\n</style>\n<table border=\"1\" class=\"dataframe\">\n  <thead>\n    <tr style=\"text-align: right;\">\n      <th></th>\n      <th>tweet</th>\n      <th>Label</th>\n    </tr>\n  </thead>\n  <tbody>\n    <tr>\n      <th>0</th>\n      <td>why depress alwai hit worst time</td>\n      <td>1.0</td>\n    </tr>\n    <tr>\n      <th>1</th>\n      <td>oh dont worri i dont mind im happi meet</td>\n      <td>0.0</td>\n    </tr>\n    <tr>\n      <th>2</th>\n      <td>depress hurt stai strong know sorri your depre...</td>\n      <td>1.0</td>\n    </tr>\n    <tr>\n      <th>3</th>\n      <td>i feel depress come</td>\n      <td>1.0</td>\n    </tr>\n    <tr>\n      <th>4</th>\n      <td>just holler habari relat question someon hear</td>\n      <td>0.0</td>\n    </tr>\n  </tbody>\n</table>\n</div>"
     },
     "metadata": {}
    }
   ]
  },
  {
   "cell_type": "code",
   "metadata": {
    "tags": [],
    "cell_id": "00051-f6de3354-ce55-431f-87c2-38e5eb07c0d8",
    "deepnote_to_be_reexecuted": false,
    "source_hash": "4ea9727a",
    "execution_start": 1638661255857,
    "execution_millis": 15,
    "deepnote_output_heights": [
     606.421875
    ],
    "deepnote_cell_type": "code"
   },
   "source": "x_test",
   "execution_count": null,
   "outputs": [
    {
     "output_type": "execute_result",
     "execution_count": 40,
     "data": {
      "text/plain": "array(['why depress alwai hit worst time',\n       'oh dont worri i dont mind im happi meet',\n       'depress hurt stai strong know sorri your depress dont live long prosper',\n       'i feel depress come',\n       'just holler habari relat question someon hear',\n       'depress eat soul',\n       'a movi lana parilla ami adam christina hendrick bryce dalla howard sophia bush would awai everi ounc depress',\n       'that exampl i guess usual term us peopl go deep depress also wait mix togeth',\n       'get bedmayb', 'i enough bodi hair qualifi',\n       'thi cookbook sai recip depress turn centuri similar recip stori throughout recip collect',\n       'bahah he stalker got paid go home sweet job dai good beat though go mexican',\n       'no wai got up at mayb damn i like kid christma i know bad',\n       'gon drive drill back',\n       'on biggest fear move countri i dont leav jamaica i comfort go elsewher worst depress alex',\n       'i get sad erika move sundai mooncak decid first time bite wrist make bleed she tryin cure depress hard wai fuck ow',\n       'listen fly love songgg muchhh amazinggg cant wait june th lt',\n       'happi sundai go ride harlei todai',\n       'lolol woorddd lol want wif low',\n       'well object mean there subject mean my purpos live state probabl differ moreov dont i feel depress awai god despit foundat life seem like bogu',\n       'dont hate feel self hate depress get bad cuz i',\n       'wish sun amp derek awak could show burn cd comput made mix cant wait bump',\n       'good morn im earli it sundai todai ill probabl stai home and twitter heheh',\n       'the inventor depress shop an icon a queen',\n       'lol okai mr think i know everyth',\n       'i feel terribl someon depress anxieti it nightmar honestli peopl judg us instead try help i feel realli sad zayn i protect ps if need talk im okai',\n       'when i pregnant anxieti get wors regardless i mention i want see doctor never made around now whole anoth level im back depress i havent bad sinc lose jen',\n       'i forgot twittermi escap',\n       'fibromyalgia mecf cf chronicpain chronicil anxieti depress ib endometriosi costochondr spooni strongertogeth uk notalldisabilitiesarevis fibromyalgiaawar weneedacur',\n       'hahaha i know im uptight thank you handsom xoxoxoxoxoxoxox',\n       'need talk well life pretti good fun stalk',\n       'eeeehhh doubl scoop ic cream lunch todai bliss x dessert bar promot rm',\n       'i alright', 'im readi world',\n       'she freakin ofc she gon b curiou urg normal instead beat educ tell okyto keep danger diseas stuff beat wont good caus buri hate anxietydepress etc',\n       'hui matulog ka hahah cbroom aint done yet take shape',\n       'see friend told depress annoi piss tonight fun',\n       'for god noth shall imposs luke on everybodi know',\n       'well pooh what kyle vote vote huh',\n       'okai cure depress chang life wtf clap back',\n       'season depress work like winter cold weather make depress in summer regular depress make depress',\n       'workkelsei tonight yumm',\n       'mental health fuck game my intens depress stop i capabl',\n       'i love a beauti mess and heal deal sound like alot fun summer right track',\n       'oh come crippl depress', 'i havent tweet i thought i would tweet',\n       'weather updat remnant of hurrican turn tropic depress barri will bring storm downpour to area dailyvoic fairfieldcounti',\n       'be dfw airport suckier vma fortun reward trash hole get pick wife',\n       'okai good knight twitter world hubbi time',\n       'pt clinic chronic major depress i meltdown offic he tri tough love and i wasnt it small world i knew well enough know experienc anyth client patient go',\n       'hahaha time see watch drag hell', 'sound peac beauti',\n       'my grandma live san francisco depress rat problem thei would catch beat sever let go rat commun it would tell rat theyd leav year old school sanfrancisco bai',\n       'smtttttt go week depress bc i wait anoth week ambit',\n       'the worst economi lifetim except great depress hit', 'i xxx',\n       'last year almost give art hate im silent depress anxieti befriend wrong person tht affect work long stori i wan thank listen support help last year',\n       'pple toxic sai thing anoth dont even think abt other r feel see happen brazilian girl depress peopl knew said lot shit ig post end commit suicid',\n       'cant believ alreadi visitor websit sinc',\n       'my bf sai choos miser sad time i bring depress',\n       'coupl thing made think worst experi repli gui on ye plural first alwai jump tweet mental illnessdepress never miss it creep fuck dont',\n       'the differ current democrat socialist germani nationalist socialist parti would economi germani desper w deep depress the usa blowout economywhi would go revers pictwittercomqvxvytck',\n       'love cool air stai exam finish',\n       'no i found heard wwwincompetechcom it quit cool',\n       'mcflyforgermani mcflyforgermani mcflyforgermani mcflyforgermani mcflyforgermani mcflyforgermani mcflyforgermani mcflyforgermani',\n       'surf twitter',\n       'the depress hit hard tonight oof pictwittercomfrcjmfvmr',\n       'love link inspir inspir illustr cheer',\n       'take pain med bodi need be state pain wai live i feel silli rn coz i left pain depress med home',\n       'off radio station nowanoth dai',\n       'if like youv probabl took sever nap throughout dai go night i know other due pain anxieti depress whatev reason least stop thru',\n       'oh ye hip i waist just go straight nightmar bui cloth fit',\n       'yeah love song tho sure like movi yeh jona soon dnt hav foxtel watch youtub',\n       'what yall i made earli night i think ima bout shower chill witcha did i miss anyth',\n       'last night good tire x',\n       'dad might forc go back psychologist whatev cuz anxieti depress pictwittercomkncqzmum',\n       'thank well thing help eas pain help other thing matter better person sick tire depress well sleep better knowin least try make differ matter small better dai come',\n       'thing would cure depress i didnt fuck harri potter scar mother fuck head',\n       'mental ill real within black commun we complain rais broken home famili make fun us suffer depress liter thing no talk humili',\n       'i prai knowledg our lord our god upon us i prai hi wisdom lead us path toward recoveri redempt reconcili thessalonian intercess twinsoul depress opioidcrisi alcohol addict jesu jesussav jesush',\n       'g babi daddi stuff gosh love rai super kewl audio blog',\n       'had yeari actual love blackberri encourag mani bui thembut phone mo def top',\n       'word dai depress',\n       'id love superpow think tht forc natur could hold power i hope',\n       'that sound like viz top tip true',\n       'social media us game increas symptom depress teen research',\n       'there briann us but on fun fridai fact accord httpwwwhowmanyofmecom',\n       'anoth dai anoth excruci hour full noth disappoint depress',\n       'ohhhh i sorri i miss fun work fl isnt bad either orlando west coast fl',\n       'awesom got busi two week uni birthdai melbourn',\n       'lol work born free offer anim adopt membership etc need expand oper lol',\n       'i like still seem surpris see show haha after year i dont think anyth chang',\n       'cant stop think grime sai remov part eyebal friend cure depress haunt forev pictwittercomcbxtfyiaxi',\n       'the depress run deep tonight i need make weekend', 'im depress',\n       'drug drug make depress go awai',\n       'still feel bit jetlaggedlook forward soccer amp pnk concert tomorrow',\n       'i quit smoke cigarett start go gym week depress',\n       'studi find link social media increas teenag depress socialmedia instagram twitter',\n       'hi pleas allow sai lucki do idea wine region promot let us know went',\n       'depress suck normal', 'depress kill obsess thrill',\n       'lol yeah im thinkin i need go hydrat first bloodi hawt todai',\n       'depress thing start hold hate', 'last dai work dai',\n       'astrodud post let know arriv what wwr piec btw',\n       'hi mileeei friend i cant wait spain excit love song great',\n       'll hell noand imma wit caus class',\n       'hair rel orang like wild curlz', 'depress suck', 'anita hi hug',\n       'go skydiv let know next time town',\n       'the race awesom final saw jimmi win person',\n       'he gon hop back fenc soon enough blame depress',\n       'im will entertain offer', 'depress goin boi',\n       'thi tweet cure depress',\n       'i chuckl second and i got depress as usual depress overwhelm i keep get wors everi pass dai and talk prescript crisi i suffer like million other we ar suffer',\n       'didnt i read somewher social media trigger depress hard pass old filter it help',\n       'the quotbr interest friendquot thing im tire off bed', 'anytim',\n       'ill email recip you', 'awwww hope mum cold get much better',\n       'nice weekend saturdai plai capoeira angola @ malcom x festiv atlantanoth like hot weather capoeira peac',\n       'i dead azz cant depress cuz i got work ppl depend depress distract work',\n       'dear ppl r try save srsly think bit save keep live world pain suffer depress miseri diseas violenc unfair greed disabl horribl car accid happen anytim etc get sayin antinat',\n       'i that im pretti confid i sai terribl job portrai decent depress hopeless ultim lead death thi show made depress someth',\n       'luv musicmondai awesom',\n       'evidencebas practic gold standard mental behavior health treatment taryn brannon us cognitivebehavior therapi children teen struggl depress anxieti trauma behavior disord she immedi open',\n       'depress person trait it struggl well eat food shower chang bed sheet you',\n       'if seriou enough land er dy mai fix howev your slowli dy depress heart problem diabet etc your pretti much screw some dumb peopl think medicaid free healthcar not suck',\n       'recov from the long weekend', 'yai', 'wear tall',\n       'depress wave crash pictwittercomguqvmorik',\n       'decid creat new screen super random',\n       'thi isnt depress stuff either like im sad bitch hour i guess',\n       'me my real plan involv cut grass what plan my si week rainbow paradefun',\n       'lol thank ur text messag went friend hous get shower instead',\n       'omg depress spiral isnt',\n       'my gf broke i feel like noth matter anymor depress pain pictwittercomdfnghgilh',\n       'wow your fast enjoi lunch', 'thank',\n       'depress wan live memori regret death scari help suffer depress',\n       'rais think mental health real depress demon',\n       'definit i see everi year music class least differ ss year music ss overcom grief depress anxieti low self esteem develop leadership skill improv cours mark it truli bless wit right nose ocsbart',\n       'faceapp gve depress pictwittercomfcojutath',\n       'do anyth exhaust right get mad i cant spend time wont fuck help research depress grow stop make everyth you',\n       'ohh lol reaction record us see',\n       'to peopl tropic depress format airspac manila taipei call dasan',\n       'grime claim remov part eyebal cure season depress',\n       'i rememb probabl write profession longer i hehe',\n       'me ill try next time', 'and better rememb todai mondai tuesdai',\n       'segment week workplacestress host peter armstrong that radio show sen am stress mentalhealth wellb psycholog anxieti depress well leader employ',\n       'you peopl touch you think capabl hear thing dont agre like she gon sai someth post partum depress someon head gon explod you dont need shut anyon speech',\n       'cure world depress',\n       'thank great advic your right workout cocktail alwai better viceversa',\n       'whenev depress start anxieti get wors occas iv hospit im sai i get piti real',\n       'i dont mean hurt lol',\n       'love antambutstillkindasucess loos curli hair',\n       'ye centshop great morn',\n       'depress adult much differ teen cope hard aw not discount teen depress just feelsdiffer and aw',\n       'anyon els still go deep clinic depress think pemberton year later',\n       'oh allan mai god give strength energi todai esp drive work',\n       'obama steer economi awai certain depress rescu us autom industri clean worst oil spill histori obtain health m peopl nail bin laden all fight gop congress intent destruct but ok',\n       'prop amaz bf yr bui plan b dont birth control pill accord chart onlin least shit freak happen suddenli get sex drive back yr depress miseri dry spell',\n       'on septemb th ill climb floor kg kit help rais improv support servic fund research remov stigma rais awar mental health issu pleas help step fight depress pt pictwittercomgtvpyhl',\n       'watch tv ipodlot fun',\n       'human be requir suffer struggl probabl depress strang common pamper first world',\n       'have depress hit hardest summer suck sun fuck long',\n       'im go realli honest sai i difficulti watch scene but the whole point show peopl happen depress hit show work wonder mental health issu shone light subject brutal',\n       'sleepyheadin airportcomin back nyhow r gui far cnt wait homehei andi cook last nite though',\n       'she hurtssh criesbut cant see depress eyesbecaus smile',\n       'you vid help get depress',\n       'my husband goe deep depress approv look forward drop like stone',\n       'depress tip that everyon need toknow httpgenericcialistccomdepressiontipsthateveryoneneedstoknowhtml',\n       'no wrestl tonight depress suck',\n       'i must admit perspect base latter delai progress of cours thennatur feel unproduct that depress set inhowev im focus proverb',\n       'you im still dev live beij',\n       'i almost wish dark outsid i could justifi go bed pm depress sleep apnea class girl feelin new level exhaust',\n       'rt my life entrepreneur left space confront depress httpbonapitbvmjht',\n       'plan hold ireland', 'i suck depress titti',\n       'my mother call lazi life all i speak experi i wasam depress i depress chronic pain fibromyalgia',\n       'thank feel justifi hear someon els btw love matern photosso beauti awesom set wthe bed',\n       'ya fuck depress pictwittercomcqcstecxz',\n       'ohh hello depress iv miss',\n       'weather updat remnant of hurrican turn tropic depress barri will bring storm downpour to area dailyvoic orangecounti',\n       'yup clinic depress ill feel as flare time time thankfulli case goe awai eventu try fight seem make wors so i longer try often i dont actual feel sad',\n       'you got realiz depress self inflict choos let control think',\n       'me absolut reason sad depress pictwittercomqqpgqqf',\n       'happi todai shoppingdai',\n       'how long trump tweet last impact dull depress pictwittercompvbyfvpbh',\n       'tweet made post vine depress back',\n       'mayb i wasnt sever depress i wouldnt let past revisit let troubl world get easili but who sai past wasnt caus depress then mai due faulti brain whatev hurt',\n       'i depress iv never sought',\n       'tak sekarang ni kalau ada masalah bolrh bagitau tau bagitau jangan pendam sebab kita ni ramai depress ha tu je aku nak cakap tolonglah sedar ya allah apa salah aku ni jadi care babih fuck aku tak bolehlah nak nangi',\n       'depress nap hit differ todai', 'thi dai fantast',\n       'tuesdai tip sign depress men httpicontacjryc',\n       'dont believ depress mental health issu probabl get lick ju call word suicid',\n       'she who fuck disgust thi type peopl think depress anxieti go awai tri pretend like care you dont need you mani behind understand alwai',\n       'depressioninduc hornsomnia', 'depress crash fortnit',\n       'cbt realli much surpris it alreadi us type addict behavior well ocd depress anxieti etc',\n       'bout steppenwolf magic carpet ride',\n       'so sorri your hard time i know live depress anxieti like send good vibe thought wai and need friend talk',\n       'depress joke mai see someon smile insid theyr dy',\n       'yess i know omg i cant wait back i laaa',\n       'i cant believ cocain httpwwwtheisnortcomisnorthtml good i dont iphon could addict',\n       'my like you wave white flag',\n       'idk i feel like depress associ less sleep mayb worst depress oversleep though or peopl alreadi sick sleep longer i definit feel better hour sleep and shouldnt base decis chart',\n       'steep jump dementia patient ed visit ti caregiv depress',\n       'feel like bout slip back depress', 'ga i ever plai trick',\n       'fuck time show could incred trigger anyon past suicid depress self harm etc',\n       'weather updat remnant of hurrican turn tropic depress barri will bring storm downpour to area dailyvoic rockland',\n       'feel like commun better wai beat hell she gon grow angri that depress start kid make mistak ye would upset whoop like isnt gon chang bad choic she make',\n       'lol bui bottl water go think jona cuz joe compar paranoid water bottl xd',\n       'work', 'ohhhhhhhhhhhh mikeeeeeeeeeee',\n       'gon plai video game distract depress',\n       'jungkook voic save depress',\n       'how doe grief affect your immun system grief griev stress sad immunesystem immun lymph depress death lovedon a new review dig exist research connect grief immun system a new review dig httptinyurlcomyxawnb pictwittercomsfaasojn',\n       'who need sleep crippl depress', 'uy hola follow',\n       'is anyon joomlasavvyyi we need lil templat modifyinggg pretti pleas well give cooki',\n       '@ ur depress pictwittercomjluwznfz', 'isnt past bedtim kid',\n       'everyon els share snippet uplift give idea cri depress',\n       'check mckee green depress glass roman arch pepper shaker postwardesign via',\n       'the truth hurt',\n       'try read cook magazin luke try read time least he interest i guess',\n       'found might show convent liter almost start cry happen ag depress',\n       'it astound i know individu claim suffer anxietydepress live rel privileg life sociopath wand claim innoc suffer desper miseri oversea somehow blame plight',\n       'todai therapist ask depress help i liter sat like tf kinda question and i like idk she told help punish i cant forgiv anyth that barrier depress self forgiv',\n       'buzzaldrin battl depress alcoholaddict moon land via',\n       'depress anxieti well',\n       'i bought ft long puzzl last supper i mail i wonder mani piec',\n       'definit agre but possibl depress cry front peopl my anxieti depress make super sensit i break easili i hate',\n       'i think season depress thing except happen everi month i dont give shit sun',\n       'so video sister fight smell like fish refus batheth fishi si go someth around ppl tell go wash si beat ass wash depress seriou',\n       'ill ep artwork tomorrow',\n       'haha thank hmmm i competit figur skater from alabama year',\n       'i got sai far im realli diggin hulu desktop it make hook comput tv',\n       'seen new jb pictur jonaskevin',\n       'im sure explain behaviour i honestli know i know i respond weird sometim ye i anger issu luckili i know flaw i work on whole depress thing like hype thing dai',\n       'bit email you pick thousand entri better good',\n       'steal mother slow cooker best idea iv ag tonight delici dish tomato herb lamb shank',\n       'happi nation dai norwai hipp hipp hurra mai',\n       'welcom work mejl jsem toho omylem nalila horkou vodu cornflak msto hrnku ajem',\n       'twa last dai uni todai anywai relax heatbean tea tommi plai piano',\n       'weather updat remnant of hurrican turn tropic depress barri will bring storm downpour to area dailyvoic westchest',\n       'im remov part big toe cure season depress',\n       'watch depress hit like truck hour later', 'thi dont help depress',\n       'nice talk alex thank', 'i cant go sleep so hyper lol',\n       'listen music',\n       'i depress that i need admit i need i hurt there wai hurt depress realissu mentalhealth depress longnight ijustwannatalk idontwannabeyouanymor',\n       'amen pastor that trueth fulfil come know theyv stretch potenti',\n       'hoorai new batteri',\n       'doe anyon audio last night show big reward if you do',\n       'go bed big dai tomorrow first dai disnei internship program soo excit yet bit nervou goodnight',\n       'then depress',\n       'thx ye dont like summer nyc born juli def fall winter person',\n       'what fuck life said rape ex cure season depress min ago',\n       'if ever struggl depress depressionanxietyandm pleas follow inspir encourag',\n       'veri sad hear when infant i us put cruel crazi beauti world danc around nurseri it bright spot dark dai post partum depress rip johnni clegg',\n       'thi fascin someon suffer depress realli bad noth season like weird think depress follow weather oo',\n       'sorri stream isnt good watch dont us facecam mic depress person bring show i plai game',\n       'littl buzz epoxi paint',\n       'ok so regular oatmeal warm sad bowl overnight oat like milki cold semisad bowl like regular oatmeal clinic depress overnight oat clinic depress see rainbow kinda want enjoi abl',\n       'box depress i refus lose',\n       'i left room todai pee eat is depress someon send help',\n       'blame big littl li soundtrack depress',\n       'kinda bore dai rearrang roomfun huhyep look bigger mom joke still funni get threw thick skull',\n       'i rais cathol anymor priest i still respect last christma post pro palestin stuff also he pretti open depress i dont agre everyth obviosli but he bad on',\n       'is growth is femin is depress',\n       'hasnt feel sad shitti actual kinda okai anxieti depress rn pictwittercomrunnbelfd',\n       'ashton kutchner howev spelt tweet much im follow anymor i couldnt see everyon els',\n       'what militari depress clown bdsm hell',\n       'wai took hour nap idk depress',\n       'im new follow thank fruit boi anywai watch video im curiou someon els suffer anxieti did becom vegan help anxietydepress',\n       'fulli agre depress point',\n       'dont worryi wont forget i go backstag show ill',\n       'hei hei hei us thank see real soon gt did post pic',\n       'is postnat depress depress babi born extrem distressingmani women suffer silenc their friend rel health profession dont know theyr feel postnat depress usual occur two eight week birth',\n       'nice i think ill get sleep ill enough energi enjoi horsei dai',\n       'thank warm comment it made feel better know someon care',\n       'and depress stem seriou ill cant run faster or iti cant push faster i cant bother',\n       'im aw suppos blood work test depressionanxieti med never done',\n       'time travel what year me time travel hmmthat mean havent found cure crippl depress yet me pictwittercomdedguhrn',\n       'it littl thing life keep spiral depress',\n       'clearli said couldv told doctor word sister know throw gender revealbabi shower parti boi yall dont know gender depress real i would mad fuck',\n       'oh chuck ye greatest show earth love haha well good',\n       'i problem side time suffer whole month medic exam final yr i undergon surgeri aw last month month i feel like breath there littl depress left side idk would fill',\n       'littl depress thing know ur enter episod bc start unconsci listen life strang soundtrack',\n       'hooomeee traffic jam',\n       'im less worri about that i just want the depress to be over',\n       'should asleep',\n       'also said weed cure depress whatev i liter like crazi if true almost like a medic work',\n       'my depress made selfish unlov i hate why i',\n       'sublim depress via slai spire gorillascream method',\n       'well i see changel the last king scotland',\n       'so much eyebal remov year round depress',\n       'i understand much my depress got bad i drop hs last year went back i i tri keep contact friend i left tri support first eventu went live i left behind',\n       'mission statement someth like psykoidcom httpbitlylucm',\n       'cant wait blow peopl water new stuff amaz peopl around head tail',\n       'came long wai depress', 'took depress nap woke homi hmu soon',\n       'freshman year depress vibe pictwittercomwqqwjakn',\n       'podcast worri depress via podcast depress depressiontreat product life',\n       'quot some peopl addict anger the wai reliev depress feel aliv creat conflict',\n       'both oversleep undersleep sign depress', 'crazi d',\n       'call kool word or the kool shall inherit earth or the kool kid sai of mayb the state kool just idea',\n       'if your wit doubl s bring sum grub grill if aint bugger',\n       'when depress take feel like arent control it like your drown everi bad memori everi singl thing hurt everi bad thing youv ever done come back grab ankl drag back water',\n       'star trek by mile', 'wake depress nap pictwittercomxgqvaehz',\n       'depress anxieti',\n       'i try figur better wai cope anxieti depress adhd yall time world talk presid neg waypleeeeas give time',\n       'oooth music hair wan watch cantboohop could watch go new york',\n       'the prohibitionist tasti thank final post link',\n       'well knee heal next week',\n       'mayb depress mayb lack worth ethic thing go anywher mayb your lazi breakthrough life expect thing happen like mayb',\n       'lol i dont realli understand twitter quit yet but i just got repli chipotl and that cool',\n       'drum group mai help with depress anxieti on studi find',\n       'depress chronic fatigu syndrom either wai bad pictwittercomcjpqfcljh',\n       'do it',\n       'the drive despair the rock dwayn johnson hi depress decis fire agent paul walker death via',\n       'self medic broken brain spiral depress haha kid unless pictwittercomjykybjsi',\n       'plai the sim',\n       'i recent matrix trilogi sittingthat tire awesom matrix trilogi favorit sci film stori',\n       'got phone babylooovelt', 'im glad gui wonder weekend',\n       'i havent listen bt like two week is depress',\n       'i think documentari watch least year share mani friend possibl httpbitlyhrxp',\n       'post note i bad depress not bad',\n       'enjoi live chat great last week school rehers go',\n       'whoever wonder remov part ey cure season depress dont fuck do it',\n       'the level depress immeasur',\n       'rate depress anxieti suicid addict psycholog disord skyrocket recent year nobodi know',\n       'know xbox dun wii like control',\n       'when sai depress anxieti pictwittercomfqqhqnk',\n       'prayer battl anxieti depress',\n       'the ever patient michael back todai busi usual need call custom servic todai lt',\n       'three camil drag ur fav stan twitter suddenli get diagnos stage depress bipolar disord si deep stan twitter arian drag gaga wors like whatev si',\n       'forg passport better attack httpffimt',\n       'after midnight depress like pictwittercomyjrworapv',\n       'same worn black shirt three dai depress spiral eaten pizza wing never spill wear white shirt two minut build ketchup stain',\n       'take awai romanticis depress get tight teen drama it matur teen drama nonetheless',\n       'i suffer panic attack i believ u is worst shit case add depress the worst combo somebodi could get do yoga pilat help lot anxieti',\n       'on sale jadeit green milk glass cabinet handl drawer pull depress era style vintag decor antiqu furnitur restor hardwar r httptuppunetdc etsi chichimama vintagedecor pictwittercomgxza',\n       'what worst depress food mine either straight whip cream chees',\n       'that sound fun im take brother local home team basebal game sundai afternoon i love basebal game',\n       'px dai it intens kenpo session todai heard floor room',\n       'wtf therapi session hour go like dollar hour depend your us i guess death depress salvat accord us govern unless cours your rich afford therapi',\n       'ok im leav earli todai make come earli i guess d fb',\n       'bipolar bipolar bipolardepress depress keeptalkingmh majordepress mentalhealth mentalhealthawar severedepress sicknotweak pictwittercomgcxavb',\n       'nurs battl wound ampheart', 'doe mean abl fly circl',\n       'depress thing sad',\n       'agre it pathet belittl peopl actual suffer real clinic depress',\n       'clinic depress pleas kill vibe',\n       'i hate anxietydepress sneak im work like wait home act',\n       'who taught aelin fight futur recov depress nehemia di put common sens',\n       'potato head hahaha ahem sorri clearli rice',\n       'thank ill inspir todai test',\n       'curiou mormon whose wife cheat year marriag spend time talk year marriag need tequila educ grandchildren thei kid at least gai depress two ld soldier pretti fun annoi dude',\n       'iv highli toxic person onlin late due depress sorri im feel lot better though',\n       'back abu dhabi back work would rather lighthous gai pare',\n       'depress ruin life',\n       'now i need get world cup final depress pugaula jasto xa',\n       'she tini blond hitler twat cow bag',\n       'drip new orlean ic coffe latt mocha first time go your lucki pop place',\n       'crippl depress someon wheelchair depress',\n       'im guess lai dark room isol isnt go help horribl wave depressionfatigu hit todai guess doin anywai',\n       'thank share experi i learn lot depress hug come wai',\n       'the kept economi go actual depress peopl dont rememb bad and obamacar perfect lot good',\n       'session alu nmbah depress lg lbn sma fuck hahaha',\n       'depress hit hard todai',\n       'so bore i need find game focu easier said done backlog extens itll nice find game focu itll help keep mind thing help curb crippl depress pictwittercomqhvhwmymgj',\n       'depress liter hit nowher bei',\n       'it rough sinc sundai my sister depress issu decid bunch random pill could attent my mom i kid ag husband work my sister toxic hard',\n       'depress make social approv pictwittercomidaczbowen',\n       'shsjfj remiv part ey cure season depress',\n       'happi birthdai take plenti picsvideo youll rememb later',\n       'gender women gener deal high level anxieti depress mayb bc chose compet anoth rather compliment',\n       'anxieti depress aint joke folk',\n       'and anxieti depress list could long',\n       'therapist sai healthi cope mechan make fake stori therapist hide crippl anxieti depress therapist ye and im a velociraptor dinosaur danc sunset',\n       'pleas dont us depress make feel bad call scummi beg peopl monei lmao',\n       'doe ocd depress anxieti count',\n       'brb gon audit agt iv bulli depressionbpdanxieti talent shoein',\n       'haha new littl hous silli dont worri youll get sleep love',\n       'omg heard laker todai ah made dai',\n       'dpression phase sanglant faut lavant draw sketch procreat pictwittercomphdktmhm',\n       'taco bell decid put chicken quesadilla ruin depress meal pictwittercompekeboul',\n       'happi cry',\n       'depress keep try get homi i see block ima beat fuck ass bitch best believ',\n       'sound like good dai', 'depress hurt like buttcheek stick',\n       'love well done',\n       'sorri least netbook cheaper rout you ur netbook appl store us wifi',\n       'fuck season depress weak fuck get depress everydai',\n       'no bud heat blame it dai expect clariti find tangl',\n       'rlly inact huhit depress swear',\n       'go work hungov awesom lol good thing coffe swiss roll',\n       'yeah there noth quit like crippl depress come swipe peopl app',\n       'sammi gone like ever tbh twitter gai facebook',\n       'actual woke decent hour went walk jessica',\n       'maryborough rsl gui electr guitar plai great music sweet home alabama april sun cuba',\n       'just i thought depress done sec beat fuck back ggnore',\n       'im wai videoshoot get try get pmsupport hustl covent garden station',\n       'last night went photograph jazz quotgadjo calomquot terrif band great time todai still tire',\n       'kai win readi go homeeeeeeee actual ill visit i go home mayb',\n       'get follow dai us wwwtweeterfollowcom onc add everyon train pai vip',\n       'why depress keep dark place all life everyon leav father im get divorc like wtf i need shake shit i got better caus els gon give damn',\n       'whoohoo mtv movi award tonight',\n       'yeah there lot ugli truth suicid depress could show anoth wai honestli shouldnt scene',\n       'definit let plan someth the show gon',\n       'around time last year i begin depress i could never explain i thought couldnt get wors unthink would happen',\n       'you like life like novel tangl just write id like read work thought',\n       'yakk sesembaknya keep glorifi romanticis depress anxieti',\n       'i love babi seal',\n       'diet plan meat give carnivorediet try dai see meat help lose what iv lost far pound migran heavi period adult acn bing eat episod joint pain anxieti depress pictwittercomgodrcgki',\n       'done thath rare talk back us lol felt speacial meant lmao',\n       'it like iv awaken',\n       'try eat kind nut nutriti food it help fight depress',\n       'grime claim remov part eyebal cure season depress',\n       'damn made microwav my depress tortilla shook willpow',\n       'microdos ketamin need asx plai depress', 'you ar total awesom',\n       'nice amp quiet offic dai',\n       'me cry listen hozier know fulli well ill never abl see live hug thank make music kept aliv throughout worst depress iv ever far pictwittercombvjbelz',\n       'waiter how everyth me pretti fuck tbhi depress sinc brain doesnt make chemic suppos everyth suck im wait untim death waiter i me oh food it suck',\n       'sorri sorri signific depress cant understand fuck leav',\n       'depress anger without motiv like empti beer bottl throw',\n       'comment previou tweet the car ill never bui unless i chang life sever wai',\n       'your boolshit cost mental depress',\n       'woah nick ur done w school wow @ risk sound weirdsketchi proud u gui r great influenc',\n       'ahk cool agre', 'thank email most us',\n       'drink coffe lt dunkin dounut', 'so readi plai',\n       'i happiest person depress social isol whimsic i alwai hate famili meet i love room thank',\n       'yall look defend rw blatant disregard portrai depress suicid pictwittercomkbjyojnu',\n       'prayer appreci feel weak physic emotion spiritu have done bunch todai made todai tough depress chronicpain chronicil exhaust wellempti',\n       'off bed i simpli fall good night friend', 'pictur post',\n       'wdym how els i suppos fight depress', 'call pace julespac',\n       'me skin break depress act fendi bag got scuf im everyth rn',\n       'shit bought cure everyon depress',\n       'we rly get ey surgeri cure depress',\n       'i know i feel aw grime claim remov part eyebal cure season depress',\n       'i agre that murica give shit mental health stigmat depress disord outsid differ',\n       'stuff pack back airport destin ibiza yihaaaaa blue marlinjockei clubpacha restaurantocean drive hotel be readi',\n       'the georg lincoln rockwel inform liter drove wife i depress dai afterword probabl',\n       'httpbitlymdym tech chang wai farm awesom',\n       'like overthink depress sneak back',\n       'depress head well notadoctor ass',\n       'httpanothermaskanotherblogsimplesitecom blog mentalhealthawar depress itgetsbett life',\n       'song everyon head thank lot have great trip safe tell gui hi stuff look great',\n       'just got homeeee whaaaatsss goodddd',\n       'and dont act like show discuss whenev i bring past sever depress discuss mental health peopl get uncomfort dont talk yet hold show encourag discuss',\n       'sorri issu comput technolog i differ time time i great',\n       'sai bass case xs fast', 'scrabbl adam compet',\n       'like i depress watch vampir diari fifth time',\n       'pictwittercomoamzmwdgn', 'famili stop take depress medicin',\n       'depress anxieti', 'gave much deserv prop',\n       'followfridai make laugh',\n       'zack fox said ima dip ball thousand island dress caus got depress felt',\n       'remov part eyebal cure season depress what fuck anoth celebr add mute list jeebu',\n       'i think actor win bc still act shit charact despit writer ruin show iv rewatch countless time get season now i never rewatch bc result stupid i dont like depress',\n       'nigga us make type joke skinni i i would get hella sad caus weight like fuck depress nigga see like damn got swoll lmao',\n       'hi bethi', 'bed time', 'httptwitpiccomvqk chloe sister new puppi',\n       'take awai depress type beat earcrackchemist avenuebeatsclass beatsworkin pictwittercommjufnayj',\n       'go eat cereal rece piec hm iv never tri',\n       'i feel like social energi late bc summer make depress get fuck bc i feel dysphor time insecur time warm bright i feel noth i feel broken',\n       'order vera bradlei cargo sling bag on mom choos design the know',\n       'fantast meet doc im glad i spoke help cant wait see come',\n       'like know trigger tell someon suffer depress ky theyr work sai im ok like',\n       'eat cold chicken breast pickl relish dinner thisiswhatdepressionlookslik depress',\n       'depress fever death',\n       'depress isnt someth acquir listen specif song',\n       'realli needa find stastic',\n       'pain apart heal proccess the pain help grow stronger person',\n       'my depress gotten wors i dont know anymor im realli tire everyon',\n       'ill email sometim it delish',\n       'your great job i love time repli fan it cool feel get repli',\n       'couldnt better time', 'frustrat world full depress hate',\n       'anyon belong rec depress forum onlin therapi site ask friend pictwittercomakhjqvedd',\n       'gui need watch sport anim that wai i alwai keep depress get wors',\n       'as someon battl depress past current work career i could save peopl would consid death suicid form heroic sacrific rather insult anyon mai di similar circumst',\n       'and said manic depress frustrat mess',\n       'hormon imbal seriou consequ overal health wellb call us asap consult endocrinologist stuart b kramer pleas visit us women men hormon health natur libido weight energi depress pictwittercomcgludpevv',\n       'liter fuck said doesnt justifi murder point',\n       'i mean especi annoi cuz like idea crippl actual season depress top depress like i mess winter i start school even tho technic month spring start',\n       'i abus i turn fine i diagnos depress anxieti ptsd fuck comment abus never okai',\n       'i think i final sent depress',\n       'that goofiest person depress that happiest person depress depress take peopl darkest place could never imagin a place dark that give and start think wai',\n       'on perk unemploi enjoi beauti weather pool',\n       'turn depress subdu live bore place earth',\n       'pleas join prayer love on revel john world hate prai aa step help othersdont hate baitintercess twinsoul depress opioidcrisi alcohol addict jesu jesussav jesush pictwittercomqngzyddfv',\n       'it quit cool easi just visit httpblipfm info',\n       'livingwithchronicil painisourprison cpp ipp chroniclif lupu sle loneli depress',\n       'depress im bore hmmm',\n       'my brother offici slept hour straight still count',\n       'welcom blr last dai dinner todai breakfast even word bredin',\n       'went intens run homi delici breakfast exhaust shower gt work gt fun',\n       'ani sundai dai friend twitter dai thought sole ani lyric beginsnow forgiv us anisundai',\n       'tht depress hit differ summer huh pictwittercomnvqbyyvcx',\n       'let pressur bulli countri take citizen children crimin hr crime hole rape abus drug threat poverti hunger reveng blackmail absent dad depress oppress occup prostitut drunkard homeless',\n       'httptwitpiccomgkxn not bad view consid middl winter sydnei yet still degre',\n       'true enough though i dont push luck far work',\n       'thi need to be said whatshallwedonext michaelfessei depress depress motiv motiv letssticktogeth chaseyourdream pictwittercomsotpcrt',\n       'idk im sad post depress hit late yeah probabl',\n       'thank god weekend', 'moder depress',\n       'bit preoccupi w move cross countri touch sun poison gener depressionfuel fatigu bit scarc next month xoxoxoxo',\n       'also new grime depress caus obes pasti white faux billionair flop second tslaq',\n       'depress weight worst lmao',\n       'joke p and dont forget freak cold put jumper wear short reason',\n       'if us term post concert depress pleas block it insensit i hate much',\n       'maximum depress sprinkl', 'depress got yh',\n       'yup thi post rave depress and know imma go alchemi tour ill worri everyth septemb yadadaaaaa',\n       'bout go bmore school almost time start actin reckless',\n       'welcom new follow',\n       'itd okai joke thing i dont think joke depress someth made light peopl harm joke even cope measur i tire joke no joke',\n       'quotcheck icon so sweetquot cute monkei vomit flower sorri',\n       'awww thank haha ad xx',\n       'watch happen zach broadcast prayer scope freedom demon oppress suicid thought sick depress',\n       'good nite everyon best wish final student amp rest real world try enjoi ur work week p',\n       'i dont believ your mental everyon sai depress nowadai biggest bs iv heard',\n       'yeaj macbook applecar protecion plan',\n       'i agre thi caus embarrass goe school viral wrong thing lead depress get bulli god forbid suicid',\n       'thank good night i good night sleep',\n       'dont feel good get lot done so far todai iv piano practic done pilat clean rabbit',\n       'grime sai remov part ey cure season depress pictwittercomvyjwlxrck',\n       'or mayb connect shite everyon beat',\n       'on wai karaok how fun hope good night xoxo httppickchickcom',\n       'the state countri depress anxieti increas due reduc toler onlin assholeri zero not go wast energi combat racist sexist loser onlin anymor life mean',\n       'iv done bwahaha enjoi feel feel pak nahlohbingung good luck',\n       'yall think vent express feel bad thing realiti that cage w thought caus depress anger sad mani',\n       'grime claim remov part eyebal cure season depress',\n       'thi peopl depress anxieti try get sleep flight pictwittercomjizbuwxmx',\n       'nobecaus bureau labor statist bot obama inherit wors economi sinc great depress see wors econom time american histori republican control u stupid kno again public record bureau labor pictwittercomgsbokrc',\n       'depress black boi begin earlier than you think',\n       'damn get diagnos anxieti and depress',\n       'reggaetn cure summer depress',\n       'i deal depress anxieti fuck job abus boss i live real hell stress cost health there lot peopl deal abus boss nobodi talk afraid lose job i gave best',\n       'the stigma ill cost medic isol depress self piti cant get have quiet sad kid sullen argument talk suicid first signit last',\n       'watch the hand that rock the cradlepsycho nanni type movi ampamp justt took nice hottt showerrrr',\n       'ahh root beer float eas depress',\n       'almost done charg httpyfrogcomyhfj',\n       'twsuicid mayb dont know talk kid mayb dont wait show glamor suicidedepress someth cool edgi talk rw easili worst show ever',\n       'me feel depress creep my brain snack smile back',\n       'my depress actual felt like go awai said sike',\n       'million dollar sure cuz everyon love pick choos wan love',\n       'depress isnt choic', 'nico still irrit hehe got keep calm smooth',\n       'i wireless i realli dont essai studi need the holidai wick though',\n       'shut', 'oliv long get readi',\n       'liter depress cook giant batch garlic butter yesterdai naan bread relat',\n       'just hang mama im make funni cuz i mouth full appl httpyfrogcomdazrj',\n       'lil babi wasnt kick depress cure',\n       'i forev think reason disgust show real doesnt rais awar it glorifi romanticis suicid depress main charact kill reveng plot everyon think done wrong changemymind',\n       'she antivaccin advoc said depress isnt real i dont she try sai she past sai aw thing shouldnt even give time',\n       'yall dont worri littl sister shame follow thru depress hookup',\n       'let see make tiktok cure depress',\n       'so im person season depress that actual crazi caus i absolut hate winter',\n       'depress hard like liter hardest thing i go everydai but somehow i manag overcom thought',\n       'so i follow someon who help tough time dont like mean iv self diagnos self depress haha',\n       'pokemon amp mimi',\n       'yo im work thi summer slack bc depress anxieti move allat get back netwerk circuit we',\n       'im woman provid addit credibl antivaxx believ postpartum depress overcom mental strength danger thi incred disappoint',\n       'least favorit depress thing dont notic fog roll neck yeah youv tire thing harder mayb need nap salad nope time',\n       'i mai sorri and i know i let lot ppl but iv never us anyon if anyth iv sat depress year neglect respons dream and im sorri anyon felt distanc',\n       'you dont need antidepress get rid depress i us binaur beat everydai dai',\n       'that fav starwar returnofthejedi',\n       'and i got see coalesc destroi low ceil and gutair player us sheetrock plai guitar that awesom',\n       'wait fuck cant blame depress season bc todai still wan',\n       'red velvet like fuck depress love hapi pictwittercomwlhslwl',\n       'almost done pack yai i even close bag without jump pretti skill eh',\n       'haha i like milei buuuuut yesh', 'ed westwick hot right',\n       'tai said boi deep well let get subtract talk depress male commun spoken well enough societi need subtract toxic masculin trait lead silenc among male',\n       'irish german there spunk mix', 'mood overthink depress',\n       'and toni what great season let hope anoth great season toni',\n       'fuck you depress for everyth took fuckin mess left fuck im fuck sick',\n       'httptwitpiccompda makapuu beach camera phone awesom captur blue',\n       'derunkahtwitt woooooooo downtown enjoi last bit sunshin',\n       'start step internship mai th see',\n       'mein bhi snapchat stori dekhi hain depress anxieti barai bata rha thaa pata nhi hoskta jhoot hee',\n       'whew sometim surround bring depress',\n       'it alarm scari major respons i got concern side effect birth control depress',\n       'depress anger without enthusiasm steven c',\n       'noth make grow faster six year long depress deal teen girl',\n       'caus symptom ofment stressanxieti andlow selfesteemdepressioni common peopl psoriasi okai am i go hskahskahsa',\n       'got great outfit glamazon tmrw nite', 'ah ye gatewai depress',\n       'that pretti cool',\n       'gui look definit sad depress youll find fiona bar',\n       'dark sun summer antinat depress',\n       'iv live twitter api land long call oauth button httpbitlyyrh',\n       'me', 'oclockguess time drink',\n       'oh real when shown would love check outcongrat get gig',\n       'cancer season increas depress stat like',\n       'woow depress mode kick ahaha', 'found new fav pop band',\n       'season depress summer go',\n       'happen keep push journei enjoi sceneri',\n       'ion ever feel depress bruh i feel fuck insan',\n       'grime claim remov part eyebal cure season depress',\n       'hi everyon result worsen depress suicid ideat iv decid immers stan cultur',\n       'byl',\n       'see im drug it took year final someth anxieti depress iv laugh ga dentist immedi request taken i hate feel like i dont control such weirdo pictwittercomvziumzfvo',\n       'i prevail hold togeth nevergiveup depress animeart iwontgiveup art digitalart digitalpaint instagramart facebookart fallingapart spagooeybutwithartinsta reddyillustrationsfb gore tear crazi darkartwork motiv pictwittercomuussjcghzj',\n       'well alwai write lot start edit easier better becom',\n       'watch jona', 'saw gentlemen honor societi soundcheck',\n       'i cant realli understand your truli i get sens make light seriou complex condit depress',\n       'your sweet sister',\n       'tropic depress dana affect philippin nasa satellit imageri via',\n       'what i put depress next hahag jk unless',\n       'build hous cheap not realli make much monei happi work',\n       'were set last dai cloth showit sure great', 'definit root cubbi',\n       'doe help anxieti depress',\n       'just left gym im feelin good work tomorrow woot',\n       'rex orang counti depress cure',\n       'listen hilari duff jericho old song still veri good',\n       'ill ask result confidenti email ok dont stick w charact',\n       'walk i love anim',\n       'or troll the account follwer if troll truli sad someon thoughtlessli made light depress suicid',\n       'essai limit word my count',\n       'nah haha i mean littl dog cute stuff theyr i like big dog were rott pup soon',\n       'the clown realiz chan wasnt make depress joke talk pcd',\n       'im realli bad moment rn like depress hit hard sudden i alreadi cri wish someth but saw clip bt usual self and sudden felt lighter thank bt',\n       'would easi snap im go', 'copi ksnm made caravaggio', '',\n       'i weird depress like worthless stuff hang',\n       'i said lead depress i didnt sai automat result rule and believ object mean silli believ object overarch truth object overarch truth that bogu',\n       'i give power health trigger i remov situat person matter ptsd anxietyandm depress',\n       'bug got love hope get sort asap',\n       'beach hous spark depress cherri',\n       'while i agre jobless add caus depress i disagre work fix clinic depress trauma there factor like excercis chang behavior thought sometim alter brain chemistri peopl mh problem benefit',\n       'wow that alot water can pretti pleas aceppt request follow',\n       'ok sick date suit thursdai night fridai night sat night think laast night get quick',\n       'and twitterl work oauth the ecompon almost readi releas',\n       'green therapi garden help fight depress societi the guardian',\n       'tell specif begin watch suffer depress suicid thought kept go knew head',\n       'what aint learn lesson what catch us catch what final fold depress what fed watchin flexin what homi fold test',\n       'the cure season depress move place sunni im shock doctor would perform surgeri',\n       'ima avoid tax ima get arrest caus i got depress',\n       'yoooo probabl tmi butwhen i postpartum depress i didnt wan touch i no sex drive',\n       'cool stuff', 'swear perfectli normal loser call best mate',\n       'annoi', 'sorri vote earlieri still bed',\n       'post concert depress miss babi muchhh pictwittercomqzrwt',\n       'all last two dai done remind us distract peopl mindnumb depress',\n       'good night get shake bit though',\n       'increas screen time link growth teenag depress corruptionfreepakistan ptigovern',\n       'fuck depress go awai depress',\n       'juli personnel station led plt carlo mamitag conduct mobil patrol along flood prone area tropic depress falcon pacdaar policeregionalofficeoffici propcrmonthoffici isurppothpcrmc',\n       'spent time new girl old girl leav wow littl bit love uh oh',\n       'depress mean redraw art i like anywai i still like disast dandi pictwittercomtcmmqwiqo',\n       'cool i hope settl ok welcom greenwich mean time',\n       'do it help anxieti depress',\n       'peopl dont talk season depress enough shit cute',\n       'dont talk mental health dont talk depress',\n       'meant hint season depress', 'get phelp',\n       'alyssa with due respect williamson welldocu stanc antivaxx fatsham refus accept postpartum depress legitim medic condit amongst issu negat candidaci complet why legitim',\n       'chat besti',\n       'wonu dai final your older won made love juli do know i alwai hate summer and depress usual act around time but everi sinc last year posit wonu vibe time year pictwittercomasmlafpp',\n       'on todai episod wtf wrong poki is drop depress act',\n       'would look time crippl depress oclock', 'the calvari arriv',\n       'let offic war begin',\n       'what whack algorithm make twitter put column grime claim remov part eyebal cure season depress',\n       'even med i sometim bad brain dai thei go nowher near bad straight anxieti depress anywai im fukkin cranki todai',\n       'ima dip ball thousand island dress caus i got depress',\n       'tell anon said skz made joke depress didnt sai anyth bad either',\n       'those depress anxieti peopl fulli function that think it hidden it us everi thought came mind diagnos come back us unexpectedli have littl heart',\n       'happi weekend great father good morn yet side globe',\n       'i heart dmb fuse tv',\n       'ahhhh drought end amp visit st sex shop lol',\n       'did know coffe cup drink chanc develop depress if depress drink coffe your alreadi fuck but dont depress drink coffe keep awai',\n       'homeexhaustedrid bu tomorrowso better go read bibl go bed',\n       'iv share stori ill share sinc there alwai new follow i major depress late i flunk school move back home parent i drink bottl wine two everi night pack cig daili',\n       'thx ff',\n       'tfw mom facetim pm middl depress nap pictwittercomttwmkhsm',\n       'good night everyon i love craig',\n       'about time content zombilici remix theyr repeat car haha',\n       'manderzz damn love ic cream make laugh',\n       'leav school go kathrynn make omlett breakfast studi hallyummmm',\n       'all presenc suffer sever depress',\n       'the garden yesterdai wet amp windi im better indoor work anywai enjoi',\n       'sniff depress time',\n       'im warrior i beat depressionhowifightdepress',\n       'im lazi phone my bb still novelti httpmylocmepq',\n       'got repli saturdai myspac eep think wasnt who written',\n       'pewd i know wont see i wan let know watch plai highlight dai it calm i depress anxieti watch plai make feel lot happier make feel like i noth els worri so thank pictwittercomseyibok',\n       'other women abl kid doesnt mean feel arent valid gender disappoint real depress and pregnanc real you cant determin type mother base video pregnanc',\n       'got depress shit go smooth late',\n       'yeaaahhh divers britain got talent d amaz nite xxx',\n       'facetim go dip ball island dress alex what what sai repeat alex cu got depress alex concern got depress aint go',\n       'lifetim lmn lifesav sick dai',\n       'would like thank last dai depress sever anxieti make happen pictwittercompbwqyzdj',\n       'not disabl mental ill i hate peopl us pfl suggest i us sai i depress trivial effect daili life i am depress chang wai i sai wont suddenli make better',\n       'stress anxieti depress caus live pleas other pictwittercompkowqlmx',\n       'woke earli wwwfmylifecom checkk',\n       'i wish i virtual memori myspac page pleas sir i httpwwwmyspacecompr',\n       'ever sinc i therapist told i depress i start bui porn there definit correl',\n       'sit depress slump hour',\n       'whywud grime claim remov part eyebal cure season depress',\n       'depress certainli hit right fuck ball tonight cant wait dai plan weekend dont involv anxieti andor depress',\n       'your video inspir makeup artist iv bulli life depress big thing im go i thank make video help hard time you keep',\n       'i dont sai will smith rock back dai', 'dank freu', 'clutch',\n       'import feed gamer girl feet economi we need trickl up depress rn',\n       'depress sneaki littl bitch tbh',\n       'skype therapist manag anxieti depress visit onlinetherapi anxieti depress',\n       'tropic depress bring flood risk philippin taiwan china south korea japan on take storm impact eastern china put area south korea japan risk flood httpdlvritrxnsf',\n       'depress updat i move dish dishwash',\n       'iv inconveni sad two dai must depress', 'off canarywharf mail',\n       'the power depress obes', 'depress hurt',\n       'roger feder jump victori httptinyurlcomljrt',\n       'nasti attitud i broke agenda ok and pleas stop victim mental suicid depress rate soar sole valid seek heterosexu mani stem within gai commun lack self',\n       'peopl winter favourit season dont suffer season depress there said',\n       'close god prai if your religi wellroot spiritu selfhelp book help depress eas anxieti well',\n       'like sarcasm toward injustic stalk harass alcohol cop dui fraud id fraud cashier sign groin game dr amput depress whose golden rule ethnocentr ideat',\n       'season depress hit differ understand reason behind certain action',\n       'im wai houston new teeth haha', 'i take dad',\n       'agre a friend work citrix us work appl confirm well done',\n       'just watch motogp qualifyingsimpli grip great result look forward race tomorrow',\n       'hei dai go well how', 'everyon nap watch youtub video depress',\n       'the show skateboard httptwitpiccomexi',\n       'on wai battl depress give big pharma middl finger guzzl suicid mass murder pill',\n       'i unfollow new account due addit stressanxietydepress caus now i gener polit statement unpolit figur cardi b look forward',\n       'weather updat remnant of hurrican turn tropic depress barri will bring storm downpour to area dailyvoic fairfieldcounti',\n       'thank sundai good luck sat hope weather improv us',\n       'i never felt tweet i need go gym bad depress make lai around',\n       'she said sad that depress',\n       'depress anxieti suicid affect us time regardless cultur background rang factor make harder peopl multicultur commun seek access support httpowlyyijuoyco pictwittercommkkmjknlsq',\n       'malai student bulli chines student hostel thi violenc rude stop given punish it could lead stress depress suicid youngster nowadai pictwittercomendwpgruxn',\n       'the journal backpack wait read',\n       'someon point crippl anxieti depress ahaha pictwittercomsiimayec',\n       'in state depress',\n       'socialmedia benefit could reduc depress anxieti risk in adult medic daili pictwittercomwanofnojh',\n       'guess slept dai like failur instead go work sicknotweak depress',\n       'that sound good',\n       'you ar not alon you got even think gon forev death your wrong it gon stai forev probabl wont trust i proof im fckn depress everyon get dai be patient',\n       'as depress mental health problem i didnt like storylin maxi ignor import dant get help',\n       'good morn',\n       'i got prescrib pill depress let see mind vs last on i',\n       'depress dai like bad feel sad clown honk',\n       'depress hard explain but ill try anywai you see it like diseas it tear apart',\n       'imma dip ball thousand island dress caus i got depress',\n       'been suicid go back least i it come goe but depress alwai linger i cowork heard talk abt depress said i head that real problem it sad peopl ignor abt',\n       'depress meal todai pizza bread',\n       'jpn koto longer amp string carri koto amp taiko part time job',\n       'yesss good good',\n       'it suck battl depress life i go cycl good time bad on for right past three year go divorc singl parent suck',\n       'safe dont know would without major', 'i crippl depress',\n       'garag sale tip a small uv flashlight black light help spot antiqu uranium glass treasur green depress glass vaselin glass glow green light reproduct newer glass gener kristi httpbitlyskvdyf pictwittercomfzvgcdpxc',\n       'im sorri your go alon mental ill isolatingi deal depress anxieti daili basi made easier peopl iv surround i hope find tribe',\n       'mobil game ad game hard give hardcor depress make think suicid constantli sleep night',\n       'depress nap', 'hello first place welcom boston babyi lt',\n       'i dont think minut tv show go show depressionsuicid anxieti look like that realist',\n       'good blue', 'hei portia eat vegemit breakfast wonder',\n       'oh that someth work around dont have associ everyon imagin underwear',\n       'fat yoshi pleas cure depress pleas',\n       'oh snap got kid let get togeth combin kid forc abus welfar system',\n       'chill small restaur marathon cartoon show dai doodl sketchbook bring laptop wan make comfi get hous stai somewher els entir dai help depress episod',\n       'mayb ill try remov part eyebal cure depress like grime lord know noth els work',\n       'alrit thanxx', 'big differ suffer live depress both terribl',\n       'on wai amp hous cuddl buddi time', 'thi depress thing suck',\n       'yai i excit', 'realli',\n       'awww sooo cute make sure hide well caus vip strict good luck',\n       'lol mayb next timeeeeeeeeeeeee',\n       'it good thursdayi miss sundai tho',\n       'from streamer depress anoth i understand iv it scari iv compar hear enemi music game abl see enemi',\n       'ill never forget depress loneli felt good bad time still henri rollin',\n       'fix multipli',\n       'there quit dai i stream week take wife the ppl talk clue drain depress anxieti sorri ppl talk',\n       'look forward see ar plan go back next year',\n       'june th last exam june nd dofe expedit snowdonia',\n       'weather updat remnant of hurrican turn tropic depress barri will bring storm downpour to area dailyvoic dutchess',\n       'stuck us verizon wireless card stupid internet apart work give go bed earli',\n       'tb time last year i tweet ab want fall girl blame season depress',\n       'thank it realli weird i dont much patienc fiddl game like i us i dont know depress to fair i tri creator time im definit give i mean kevin us make doom level ha',\n       'so fuck depress', 'surahduha remedi depress anxieti etc plz read',\n       'almost',\n       'i cant self respect that entir contin least i read selfrespect depress wont touch',\n       'totallysign muna', 'live depress nightmar', 'it good thank you',\n       'depress buprenorphin sharedfact',\n       'anxieti depress take mind dark place unfortun commit suicid someth lot us deal simpli dont know afraid speak',\n       'everi time i walk back hous depress go',\n       'make issu heterosexu go look statist depress suicid amongst gai transgend show inequ reason',\n       'good try well done paint wai',\n       'dude i woman depress no care the fuck gender anyth',\n       'glad hear sweeti been rough dai im feel much better thank',\n       'enjoi nice f weather sf watch angel vs giant i wish i camera tho httptwitpiccomikx',\n       'depress ever hit bat sudden',\n       'you might look get someth like httpwwwelectronicwarrantycom next time around',\n       'mistak no that secret messag real torchwood',\n       'summer depress girl red',\n       'not much join twitter follow promis itll fun luv lot shout out dc',\n       'follow follow awai help',\n       'todai would perfect dai wed happi wed dai',\n       'i got wifi connect name crippl depress', 'late work againbut',\n       'i depress go awai next dai wai',\n       'for stress depress caus i suggest lighter fluid match then roast marshmallow flame eat smore',\n       'why peopl alwai sai hit bottom go ummm sorri there depth far lower bottom trust ask depress it know',\n       'hahahaha blast know type girl your danger p',\n       'total el emerg leav leav ton paperworkdatelin work issu ruin entir life put job riski situationstuck major critic depress behaviourwil accept anyth happen critic dai',\n       'if anger see christian whose father presid lead homophob org afa bleat depress hashtag tv christian collect get ambassador youth help board cry religi freedom bulli ppl suicid',\n       'thank much', 'lol i bet station hear alot let hope singl red hot',\n       'haha try ps like itss gorgeouuss',\n       'you cant hurt me depress got me alreadi',\n       'i borrow georg httpblipfmkpxr', 'depress slowli creep back',\n       '@ sushi tei mum grace charl hahaha httptweetsg',\n       'congrat dude pint order',\n       'watch episod leah anxieti attacksi yell tv gari downsiz feel like hope leah didnt i felt painmi daughter diagnos depress anxieti it easi got',\n       'readi cheer boot camp start hopefulli wont kick ass bad haha',\n       'chri idea give thor new look ye not chri idea make thor depress ptsd alcohol punch line everi bad joke thor mock everi time came screen idk person know chri wouldnt degrad thor like',\n       'studi social media usag link teen depress breitbart httpdratefnetp',\n       'you wit nigga done grew depress', 'watch depress cure shrek',\n       'me well tweep slight curt would sai',\n       'besid im exhaust i work lot depress kick ass it realli noth person',\n       'she cure depress pictwittercommdwmmqinxi',\n       'like idk feel like depress such fuck like infect brain touch everyth i everyth i feel everyth i see even like dull emot fuck scari sometim like thefuck',\n       'make docuseri chef tabl style depress cook',\n       'it honestli fuck funni peopl fake depress get attent peopl fuck wrong shouldnt toler',\n       'oh ill follow along blog i like',\n       'tumblr fun writer block i dont post much haha claudyraztumblrcom follow imma follow',\n       'like father ws stellar polici you mean nearli took us depress reck middl east you joke',\n       'luckili notmi mom dad doesnt much',\n       'back missouri it long drive back ga', 'thank i appreci much',\n       'thi walk famili break societi thought unless i aim loka kalyan individu mean selfish live idea lead mental imbal depress psychic issu',\n       'depress at almost whole pint pistachio ic cream last night tummi hurti ever sinc',\n       'start dai earli let see god plan todai no foolish i hope',\n       'my depress brain like would old pictur sai your live long joke depress i wont even pictur i hate current',\n       'panic attack plu depress seriou i realli dont think peopl mental health seriou enough',\n       'im overwhelm act exist depress',\n       'eh she pretti bad her tom cruiseesqu reject mental health realli danger have ever known someon post partum depress',\n       'man great sens humour venki pachad', 'you depress nap',\n       'not even capricorn the queen isol depress pictwittercommmchbpdz',\n       'i think depress watch son debut movi which supper flop dont write depress dont worri get anoth chanc expiri date film line',\n       'order van shoe book cant wait read look like ru go seattl shoot tamp',\n       'church blare dalla green voic car',\n       'i desper need motiv i suffer depress anxieti iv heard mani peopl hit gym best thing i feel like im lazi im go procrastin',\n       'trauma tuesdai part traumat event after initi shock respons traumat event irrit sudden dramat mood chang anxieti nervous anger denial depress pictwittercomlsjqut',\n       'pm depress go', 'thx advic we wait petosin kick',\n       'i need help or i afraid i life i depress sinc prepar entranc exam famili dont understand depress blame ignor feel misunderstand i feel helpless pleas somebodi help i need comfort pleas',\n       'yeah im audit next week eeeekd',\n       'there jacuzzi bath place swear cure depress mayb wine talk',\n       'tweet dream', 'run errand work',\n       'exic dir thomashoman consid beat rep jessgarcia dure hear drjudyho clinic psych sai detain kid high risk depress suicid thought get olderposs ptsd function difficulti adult wors physic prob',\n       'i think perhap floor would smoke i walk i show microsoft event sorri',\n       'thi depress eat', 'ahaha your funni',\n       'thi deepest fear iv becom bore depress ruin life',\n       'peopl indiana think move chicago need cure depress like guess your probabl gon depress anywher long keep think xanax person',\n       'depress suck lai bed never fall asleep',\n       'oh fuck bar whatev hahah thank trace get point', 'yai shoppp',\n       'here show how to spot a digit addict in your famili episod no filter millenni generationz anxietydisord mentalhealth depress digitaltransform',\n       'sever depress playthrough persona ignor game text spend free time bed sleep',\n       'ok seri claim creat convers depress suicid creator seri expect depress suicid peopl watch make sure convers isnt insult',\n       'keemstar talk depress pictwittercomhpxxbubz',\n       'visit christina starbuck those natali drink jussss keeddeerr httpmypictmejui',\n       'my american visa approv yai',\n       'or get part remov cure depress replac len friend made lab',\n       'wen psychot depress let switch back regular depress emogirlthought',\n       'i mean dad half brother i side fuck my depress didnt hit hard colleg i basic lost twenti and grappl high school not fair',\n       'she aint stop flexin sinc pussi cure depress',\n       'thi like show thor feel like fail depress fine pleas without eras charact develop i promis possibl',\n       'even awar i still dont think peopl understand individu suffer depress',\n       'think saw sure',\n       'did you get anoth textttttttt aahahaa goin send everi hourr ringg',\n       'we tend think depress affect individu but myrna weissman psychiatri professor columbia univers sai depress famili affair mentalhealth famili',\n       'no good deed todai', 'hi thei eurotunnel coach thing',\n       'awww laker amp magic yayyyi dwight',\n       'bubba got bdub i smell depress steroid chicken',\n       'httptwitpiccombiim bobbi ritz amp miu miu @ butter',\n       'head ft wayn drop kid inlaw week'], dtype=object)"
     },
     "metadata": {}
    }
   ]
  },
  {
   "cell_type": "code",
   "metadata": {
    "tags": [],
    "cell_id": "00049-48326e6f-75ec-437c-b3ed-18270520f9b6",
    "deepnote_to_be_reexecuted": false,
    "source_hash": "77b934fe",
    "execution_start": 1638466045820,
    "execution_millis": 6,
    "deepnote_output_heights": [
     21.1875
    ],
    "deepnote_cell_type": "code"
   },
   "source": "test_tfidf.shape",
   "execution_count": null,
   "outputs": [
    {
     "output_type": "execute_result",
     "execution_count": 131,
     "data": {
      "text/plain": "(927, 7372)"
     },
     "metadata": {}
    }
   ]
  },
  {
   "cell_type": "code",
   "metadata": {
    "tags": [],
    "cell_id": "00049-781028b6-5919-4ddb-a23a-8250f961a79c",
    "deepnote_to_be_reexecuted": false,
    "source_hash": "7a286822",
    "execution_start": 1638466094369,
    "execution_millis": 5,
    "deepnote_output_heights": [
     21.1875
    ],
    "deepnote_cell_type": "code"
   },
   "source": "xgb_model.predict(x_train_tokenized)",
   "execution_count": null,
   "outputs": [
    {
     "output_type": "execute_result",
     "execution_count": 132,
     "data": {
      "text/plain": "array([0.])"
     },
     "metadata": {}
    }
   ]
  },
  {
   "cell_type": "markdown",
   "source": "## Train Word Embeddings",
   "metadata": {
    "tags": [],
    "cell_id": "00012-96612d7d-9c29-46b9-8f48-5d64de83b58e",
    "deepnote_cell_type": "markdown"
   }
  },
  {
   "cell_type": "code",
   "metadata": {
    "tags": [],
    "cell_id": "00012-d4e78963-17ba-44dd-8b4d-7ba7eb8670b5",
    "deepnote_to_be_reexecuted": false,
    "source_hash": "25873d76",
    "execution_start": 1638449733092,
    "execution_millis": 79,
    "deepnote_cell_type": "code"
   },
   "source": "from gensim.utils import simple_preprocess\n\nx_train_tokenized = [simple_preprocess(sentence, deacc=True) for sentence in x_train] \nprint(x_train_tokenized[:3])",
   "execution_count": null,
   "outputs": [
    {
     "name": "stdout",
     "text": "[['statesboro', 'fun', 'see', 'greenjacket', 'augusta', 'tonight'], ['love', 'pleas', 'visit', 'philippin'], ['depress', 'anxieti', 'patient', 'lung', 'cancer', 'lungcanc']]\n",
     "output_type": "stream"
    }
   ]
  },
  {
   "cell_type": "code",
   "metadata": {
    "tags": [],
    "cell_id": "00024-e312aef6-f9a3-4422-b10f-d16b283001b5",
    "deepnote_to_be_reexecuted": true,
    "source_hash": "47a02016",
    "execution_start": 1638080299455,
    "execution_millis": 0,
    "deepnote_cell_type": "code"
   },
   "source": "# from gensim.parsing.porter import PorterStemmer\n# porter_stemmer = PorterStemmer()\n# # Get the stemmed_tokens\n# x_train_stemmed = [[porter_stemmer.stem(word) for word in tokens] for tokens in x_train_tokenized ]\n# print(x_train_stemmed[:3])",
   "execution_count": null,
   "outputs": []
  },
  {
   "cell_type": "code",
   "metadata": {
    "tags": [],
    "cell_id": "00013-a9d32555-78e8-44f5-8dde-3c1f14f7d5f8",
    "deepnote_to_be_reexecuted": false,
    "source_hash": "ced2a3e2",
    "execution_start": 1638449803646,
    "execution_millis": 535,
    "deepnote_cell_type": "code"
   },
   "source": "from gensim.models import Word2Vec\nimport time\n\nsize = 300\nmin_count = 1\n\nstart_time = time.time()\nstemmed_tokens = x_train_tokenized\n# Train the Word2Vec Model\nw2v_model = Word2Vec(stemmed_tokens, min_count = min_count, vector_size = size, window = 4)\nprint(\"Time taken to train word2vec model: \" + str(time.time() - start_time))",
   "execution_count": null,
   "outputs": [
    {
     "name": "stdout",
     "text": "Time taken to train word2vec model: 0.548851490020752\n",
     "output_type": "stream"
    }
   ]
  },
  {
   "cell_type": "code",
   "metadata": {
    "tags": [],
    "cell_id": "00027-fe7d94d8-1a29-49a7-9055-8c564a4bbce3",
    "deepnote_to_be_reexecuted": false,
    "source_hash": "a0cf9bbe",
    "execution_start": 1638451997929,
    "execution_millis": 133,
    "deepnote_cell_type": "code"
   },
   "source": "embeddings_train = []\n\nfor sentence_tokens in x_train_tokenized:\n    if len(sentence_tokens) != 0:\n        num_rep_1 = [w2v_model.wv[token] for token in sentence_tokens]\n\n        num_rep = np.mean(num_rep_1, axis = 0).tolist()\n    else:\n        num_rep = [0] * size\n    embeddings_train.append(num_rep)",
   "execution_count": null,
   "outputs": []
  },
  {
   "cell_type": "code",
   "metadata": {
    "tags": [],
    "cell_id": "00045-c0efccab-d321-46f2-90ff-b6092434acfb",
    "deepnote_to_be_reexecuted": false,
    "source_hash": "4436212e",
    "execution_start": 1638452071862,
    "execution_millis": 3,
    "deepnote_output_heights": [
     21.1875
    ],
    "deepnote_cell_type": "code"
   },
   "source": "min([len(x) for x in embeddings_train])",
   "execution_count": null,
   "outputs": [
    {
     "output_type": "execute_result",
     "execution_count": 51,
     "data": {
      "text/plain": "300"
     },
     "metadata": {}
    }
   ]
  },
  {
   "cell_type": "code",
   "metadata": {
    "tags": [],
    "cell_id": "00024-6a0a586f-065a-48df-9b0e-2c33ce56652a",
    "deepnote_to_be_reexecuted": true,
    "source_hash": "5cc072ee",
    "execution_start": 1636835959920,
    "execution_millis": 2,
    "deepnote_cell_type": "code"
   },
   "source": "# x_train_tokenized[]",
   "execution_count": null,
   "outputs": []
  },
  {
   "cell_type": "code",
   "metadata": {
    "tags": [],
    "cell_id": "00028-50739719-2668-4991-a6ec-a87e743fc2c5",
    "deepnote_to_be_reexecuted": false,
    "source_hash": "a96e78ec",
    "execution_start": 1638449814016,
    "execution_millis": 310,
    "deepnote_cell_type": "code"
   },
   "source": "x_test_tokenized = [simple_preprocess(sentence, deacc=True) for sentence in x_test] \nprint(x_test_tokenized[:3])",
   "execution_count": null,
   "outputs": [
    {
     "name": "stdout",
     "text": "[['good', 'thing', 'amp', 'job'], ['sinc', 'doe', 'get', 'eyebal', 'surgeri', 'help', 'depress'], ['hang', 'matter', 'scene', 'gai', 'straight', 'woman', 'educ', 'ignor', 'bad', 'bougi', 'much', 'know', 'fear', 'onli', 'fear', 'accept', 'defeat', 'fear', 'anxieti', 'overcom', 'depress']]\n",
     "output_type": "stream"
    }
   ]
  },
  {
   "cell_type": "code",
   "metadata": {
    "tags": [],
    "cell_id": "00029-8f00adb4-0e2a-4250-9372-e36e529e8542",
    "deepnote_to_be_reexecuted": false,
    "source_hash": "f43d049a",
    "execution_start": 1638449817783,
    "execution_millis": 4,
    "deepnote_cell_type": "code"
   },
   "source": "train_words = list(w2v_model.wv.key_to_index.keys())",
   "execution_count": null,
   "outputs": []
  },
  {
   "cell_type": "code",
   "metadata": {
    "tags": [],
    "cell_id": "00029-a067e720-3ab8-41ea-a9f1-fd7414af3fd5",
    "deepnote_to_be_reexecuted": false,
    "source_hash": "57ab9ba5",
    "execution_start": 1638465445915,
    "execution_millis": 894,
    "deepnote_output_heights": [
     193.875
    ],
    "deepnote_cell_type": "code"
   },
   "source": "embeddings_test = []\n\nfor sentence_tokens in x_test_tokenized:\n    count += 1\n    if len(sentence_tokens) != 0:\n        words = filter(lambda x: x in train_words, sentence_tokens)\n        num_rep_1 = [w2v_model.wv[token] for token in words]\n        \n        if len(num_rep_1) == 0:\n            num_rep = [0] * size\n        else:\n            num_rep = np.mean(num_rep_1, axis = 0).tolist()\n    else:\n        num_rep = [0] * size\n    embeddings_test.append(num_rep)",
   "execution_count": null,
   "outputs": [
    {
     "output_type": "error",
     "ename": "NameError",
     "evalue": "name 'x_test_tokenized' is not defined",
     "traceback": [
      "\u001b[0;31m---------------------------------------------------------------------------\u001b[0m",
      "\u001b[0;31mNameError\u001b[0m                                 Traceback (most recent call last)",
      "\u001b[0;32m<ipython-input-98-2de6249f567a>\u001b[0m in \u001b[0;36m<module>\u001b[0;34m\u001b[0m\n\u001b[1;32m      1\u001b[0m \u001b[0membeddings_test\u001b[0m \u001b[0;34m=\u001b[0m \u001b[0;34m[\u001b[0m\u001b[0;34m]\u001b[0m\u001b[0;34m\u001b[0m\u001b[0;34m\u001b[0m\u001b[0m\n\u001b[1;32m      2\u001b[0m \u001b[0;34m\u001b[0m\u001b[0m\n\u001b[0;32m----> 3\u001b[0;31m \u001b[0;32mfor\u001b[0m \u001b[0msentence_tokens\u001b[0m \u001b[0;32min\u001b[0m \u001b[0mx_test_tokenized\u001b[0m\u001b[0;34m:\u001b[0m\u001b[0;34m\u001b[0m\u001b[0;34m\u001b[0m\u001b[0m\n\u001b[0m\u001b[1;32m      4\u001b[0m     \u001b[0mcount\u001b[0m \u001b[0;34m+=\u001b[0m \u001b[0;36m1\u001b[0m\u001b[0;34m\u001b[0m\u001b[0;34m\u001b[0m\u001b[0m\n\u001b[1;32m      5\u001b[0m     \u001b[0;32mif\u001b[0m \u001b[0mlen\u001b[0m\u001b[0;34m(\u001b[0m\u001b[0msentence_tokens\u001b[0m\u001b[0;34m)\u001b[0m \u001b[0;34m!=\u001b[0m \u001b[0;36m0\u001b[0m\u001b[0;34m:\u001b[0m\u001b[0;34m\u001b[0m\u001b[0;34m\u001b[0m\u001b[0m\n",
      "\u001b[0;31mNameError\u001b[0m: name 'x_test_tokenized' is not defined"
     ]
    }
   ]
  },
  {
   "cell_type": "markdown",
   "source": "## Model",
   "metadata": {
    "tags": [],
    "cell_id": "00022-92043447-5982-4e6c-a506-232c2b6b5e93",
    "deepnote_cell_type": "markdown"
   }
  },
  {
   "cell_type": "code",
   "metadata": {
    "tags": [],
    "cell_id": "00025-cf326809-cf81-4c28-b970-b641c0de5b69",
    "deepnote_to_be_reexecuted": false,
    "source_hash": "bb571e01",
    "execution_start": 1638452978965,
    "execution_millis": 1761,
    "deepnote_cell_type": "code"
   },
   "source": "start = time.time() \n\nsvm_classifier = SVC()\n# svm_classifier.fit(embeddings_train, y_prep_train)\nsvm_classifier.fit(embeddings_train, y_train)\n\nend = time.time()\nprocess = round(end-start,2)\nprint(\"Support Vector Machine Classifier has fitted, this process took {} seconds\".format(process))",
   "execution_count": null,
   "outputs": [
    {
     "name": "stdout",
     "text": "Support Vector Machine Classifier has fitted, this process took 1.86 seconds\n",
     "output_type": "stream"
    }
   ]
  },
  {
   "cell_type": "code",
   "metadata": {
    "tags": [],
    "cell_id": "00032-9d821889-95d5-4f3c-894c-5223fb067a36",
    "deepnote_to_be_reexecuted": false,
    "source_hash": "8e23c10f",
    "execution_start": 1638465433162,
    "execution_millis": 610,
    "deepnote_cell_type": "code"
   },
   "source": "predictions = svm_classifier.predict(embeddings_test)\n\nprint('The Accuracy is ', f\"{accuracy_score(predictions,y_test):.2%}\")",
   "execution_count": null,
   "outputs": [
    {
     "output_type": "error",
     "ename": "NameError",
     "evalue": "name 'svm_classifier' is not defined",
     "traceback": [
      "\u001b[0;31m---------------------------------------------------------------------------\u001b[0m",
      "\u001b[0;31mNameError\u001b[0m                                 Traceback (most recent call last)",
      "\u001b[0;32m<ipython-input-97-82314dfe3bfc>\u001b[0m in \u001b[0;36m<module>\u001b[0;34m\u001b[0m\n\u001b[0;32m----> 1\u001b[0;31m \u001b[0mpredictions\u001b[0m \u001b[0;34m=\u001b[0m \u001b[0msvm_classifier\u001b[0m\u001b[0;34m.\u001b[0m\u001b[0mpredict\u001b[0m\u001b[0;34m(\u001b[0m\u001b[0membeddings_test\u001b[0m\u001b[0;34m)\u001b[0m\u001b[0;34m\u001b[0m\u001b[0;34m\u001b[0m\u001b[0m\n\u001b[0m\u001b[1;32m      2\u001b[0m \u001b[0;34m\u001b[0m\u001b[0m\n\u001b[1;32m      3\u001b[0m \u001b[0mprint\u001b[0m\u001b[0;34m(\u001b[0m\u001b[0;34m'The Accuracy is '\u001b[0m\u001b[0;34m,\u001b[0m \u001b[0;34mf\"{accuracy_score(predictions,y_test):.2%}\"\u001b[0m\u001b[0;34m)\u001b[0m\u001b[0;34m\u001b[0m\u001b[0;34m\u001b[0m\u001b[0m\n",
      "\u001b[0;31mNameError\u001b[0m: name 'svm_classifier' is not defined"
     ]
    }
   ]
  },
  {
   "cell_type": "code",
   "metadata": {
    "tags": [],
    "cell_id": "00053-ff8a2f81-c4b4-4780-903e-9f5ab07bfb80",
    "deepnote_to_be_reexecuted": false,
    "source_hash": "80599885",
    "execution_start": 1638458681416,
    "execution_millis": 167,
    "deepnote_cell_type": "code"
   },
   "source": "xgb_model_1 = xgb.XGBClassifier(objective=\"binary:logistic\", random_state=42)\n# xgb_model.fit(train_tfidf, y_prep_train)\nxgb_model_1.fit(embeddings_train, y_train)\n\npredictions = xgb_model_1.predict(embeddings_test)\n# print('The Accuracy is ', f\"{accuracy_score(predictions,y_prep_test):.2%}\")\nprint('The Accuracy is ', f\"{accuracy_score(predictions,y_test):.2%}\")",
   "execution_count": null,
   "outputs": [
    {
     "output_type": "error",
     "ename": "NameError",
     "evalue": "name 'xgb' is not defined",
     "traceback": [
      "\u001b[0;31m---------------------------------------------------------------------------\u001b[0m",
      "\u001b[0;31mNameError\u001b[0m                                 Traceback (most recent call last)",
      "\u001b[0;32m<ipython-input-1-8ba6e214ab73>\u001b[0m in \u001b[0;36m<module>\u001b[0;34m\u001b[0m\n\u001b[0;32m----> 1\u001b[0;31m \u001b[0mxgb_model_1\u001b[0m \u001b[0;34m=\u001b[0m \u001b[0mxgb\u001b[0m\u001b[0;34m.\u001b[0m\u001b[0mXGBClassifier\u001b[0m\u001b[0;34m(\u001b[0m\u001b[0mobjective\u001b[0m\u001b[0;34m=\u001b[0m\u001b[0;34m\"binary:logistic\"\u001b[0m\u001b[0;34m,\u001b[0m \u001b[0mrandom_state\u001b[0m\u001b[0;34m=\u001b[0m\u001b[0;36m42\u001b[0m\u001b[0;34m)\u001b[0m\u001b[0;34m\u001b[0m\u001b[0;34m\u001b[0m\u001b[0m\n\u001b[0m\u001b[1;32m      2\u001b[0m \u001b[0;31m# xgb_model.fit(train_tfidf, y_prep_train)\u001b[0m\u001b[0;34m\u001b[0m\u001b[0;34m\u001b[0m\u001b[0;34m\u001b[0m\u001b[0m\n\u001b[1;32m      3\u001b[0m \u001b[0mxgb_model_1\u001b[0m\u001b[0;34m.\u001b[0m\u001b[0mfit\u001b[0m\u001b[0;34m(\u001b[0m\u001b[0membeddings_train\u001b[0m\u001b[0;34m,\u001b[0m \u001b[0my_train\u001b[0m\u001b[0;34m)\u001b[0m\u001b[0;34m\u001b[0m\u001b[0;34m\u001b[0m\u001b[0m\n\u001b[1;32m      4\u001b[0m \u001b[0;34m\u001b[0m\u001b[0m\n\u001b[1;32m      5\u001b[0m \u001b[0mpredictions\u001b[0m \u001b[0;34m=\u001b[0m \u001b[0mxgb_model_1\u001b[0m\u001b[0;34m.\u001b[0m\u001b[0mpredict\u001b[0m\u001b[0;34m(\u001b[0m\u001b[0membeddings_test\u001b[0m\u001b[0;34m)\u001b[0m\u001b[0;34m\u001b[0m\u001b[0;34m\u001b[0m\u001b[0m\n",
      "\u001b[0;31mNameError\u001b[0m: name 'xgb' is not defined"
     ]
    }
   ]
  },
  {
   "cell_type": "code",
   "metadata": {
    "tags": [],
    "cell_id": "00043-663aeab5-5206-464f-9758-c822fb1d62cc",
    "deepnote_to_be_reexecuted": false,
    "source_hash": "d15445e7",
    "execution_start": 1639180944629,
    "execution_millis": 818,
    "deepnote_cell_type": "code"
   },
   "source": "\npickle.dump(xgb_model, open('depressive_xgb_DATD.pickle', 'wb'))",
   "execution_count": null,
   "outputs": []
  },
  {
   "cell_type": "code",
   "metadata": {
    "tags": [],
    "cell_id": "00062-c8124f25-5292-4fa0-93b6-92bb9aa26417",
    "deepnote_to_be_reexecuted": false,
    "source_hash": "57dba6c1",
    "execution_start": 1638662957039,
    "execution_millis": 8,
    "deepnote_output_heights": [
     174.6875
    ],
    "deepnote_cell_type": "code"
   },
   "source": "vectorizer = pickle.load(open(\"vectorizer.pickle\", \"rb\"))",
   "execution_count": null,
   "outputs": []
  },
  {
   "cell_type": "code",
   "metadata": {
    "tags": [],
    "cell_id": "00073-db70dd0f-b881-4edd-8e1c-6141425681ec",
    "deepnote_to_be_reexecuted": false,
    "source_hash": "549066d0",
    "execution_start": 1638662953392,
    "execution_millis": 5,
    "deepnote_cell_type": "code"
   },
   "source": "import pickle",
   "execution_count": null,
   "outputs": []
  },
  {
   "cell_type": "code",
   "metadata": {
    "tags": [],
    "cell_id": "00065-71d83d0c-cf72-4b7c-836a-3479b82bf4ed",
    "deepnote_to_be_reexecuted": false,
    "source_hash": "d499ef89",
    "execution_start": 1638662959477,
    "execution_millis": 16,
    "deepnote_cell_type": "code"
   },
   "source": "depressive = pickle.load(open('depressive_xgb.pickle', 'rb'))",
   "execution_count": null,
   "outputs": []
  },
  {
   "cell_type": "code",
   "metadata": {
    "tags": [],
    "cell_id": "00064-0716399e-ce9c-4fd3-b8ca-ff71b34ae197",
    "deepnote_to_be_reexecuted": false,
    "source_hash": "d7b1f62a",
    "execution_start": 1638666281305,
    "execution_millis": 565,
    "deepnote_output_heights": [
     21.1875
    ],
    "deepnote_cell_type": "code"
   },
   "source": "tweet = 'this is a depressive tweet'\nprocessed_punc = re.sub(r'[^@a-zA-Z ]', '', tweet)\nprocessed = re.sub('https:\\S+|@\\S+|\\b\\w{,1}\\b', '', processed_punc)\ntokens = word_tokenize(processed)\ntokens_sw = [token for token in tokens if not token in stopwords.words()]\nsentence = ' '.join(tokens_sw)\nstemmed_sentence = p.stem_sentence(sentence)\nx_train_tokenized = vectorizer.transform([stemmed_sentence])\n\nprediction = depressive.predict_proba(x_train_tokenized)\nprediction",
   "execution_count": null,
   "outputs": [
    {
     "output_type": "error",
     "ename": "NameError",
     "evalue": "name 're' is not defined",
     "traceback": [
      "\u001b[0;31m---------------------------------------------------------------------------\u001b[0m",
      "\u001b[0;31mNameError\u001b[0m                                 Traceback (most recent call last)",
      "\u001b[0;32m<ipython-input-1-7596842f966f>\u001b[0m in \u001b[0;36m<module>\u001b[0;34m\u001b[0m\n\u001b[1;32m      1\u001b[0m \u001b[0mtweet\u001b[0m \u001b[0;34m=\u001b[0m \u001b[0;34m'this is a depressive tweet'\u001b[0m\u001b[0;34m\u001b[0m\u001b[0;34m\u001b[0m\u001b[0m\n\u001b[0;32m----> 2\u001b[0;31m \u001b[0mprocessed_punc\u001b[0m \u001b[0;34m=\u001b[0m \u001b[0mre\u001b[0m\u001b[0;34m.\u001b[0m\u001b[0msub\u001b[0m\u001b[0;34m(\u001b[0m\u001b[0;34mr'[^@a-zA-Z ]'\u001b[0m\u001b[0;34m,\u001b[0m \u001b[0;34m''\u001b[0m\u001b[0;34m,\u001b[0m \u001b[0mtweet\u001b[0m\u001b[0;34m)\u001b[0m\u001b[0;34m\u001b[0m\u001b[0;34m\u001b[0m\u001b[0m\n\u001b[0m\u001b[1;32m      3\u001b[0m \u001b[0mprocessed\u001b[0m \u001b[0;34m=\u001b[0m \u001b[0mre\u001b[0m\u001b[0;34m.\u001b[0m\u001b[0msub\u001b[0m\u001b[0;34m(\u001b[0m\u001b[0;34m'https:\\S+|@\\S+|\\b\\w{,1}\\b'\u001b[0m\u001b[0;34m,\u001b[0m \u001b[0;34m''\u001b[0m\u001b[0;34m,\u001b[0m \u001b[0mprocessed_punc\u001b[0m\u001b[0;34m)\u001b[0m\u001b[0;34m\u001b[0m\u001b[0;34m\u001b[0m\u001b[0m\n\u001b[1;32m      4\u001b[0m \u001b[0mtokens\u001b[0m \u001b[0;34m=\u001b[0m \u001b[0mword_tokenize\u001b[0m\u001b[0;34m(\u001b[0m\u001b[0mprocessed\u001b[0m\u001b[0;34m)\u001b[0m\u001b[0;34m\u001b[0m\u001b[0;34m\u001b[0m\u001b[0m\n\u001b[1;32m      5\u001b[0m \u001b[0mtokens_sw\u001b[0m \u001b[0;34m=\u001b[0m \u001b[0;34m[\u001b[0m\u001b[0mtoken\u001b[0m \u001b[0;32mfor\u001b[0m \u001b[0mtoken\u001b[0m \u001b[0;32min\u001b[0m \u001b[0mtokens\u001b[0m \u001b[0;32mif\u001b[0m \u001b[0;32mnot\u001b[0m \u001b[0mtoken\u001b[0m \u001b[0;32min\u001b[0m \u001b[0mstopwords\u001b[0m\u001b[0;34m.\u001b[0m\u001b[0mwords\u001b[0m\u001b[0;34m(\u001b[0m\u001b[0;34m)\u001b[0m\u001b[0;34m]\u001b[0m\u001b[0;34m\u001b[0m\u001b[0;34m\u001b[0m\u001b[0m\n",
      "\u001b[0;31mNameError\u001b[0m: name 're' is not defined"
     ]
    }
   ]
  },
  {
   "cell_type": "code",
   "metadata": {
    "tags": [],
    "cell_id": "00068-0a994acf-f175-4906-9d2c-7a662f503360",
    "deepnote_to_be_reexecuted": false,
    "source_hash": "6ca562e5",
    "execution_start": 1638662690037,
    "execution_millis": 2,
    "deepnote_output_heights": [
     21.1875
    ],
    "deepnote_cell_type": "code"
   },
   "source": "prediction[0][1]",
   "execution_count": null,
   "outputs": [
    {
     "output_type": "execute_result",
     "execution_count": 78,
     "data": {
      "text/plain": "0.8106259"
     },
     "metadata": {}
    }
   ]
  },
  {
   "cell_type": "markdown",
   "source": "<a style='text-decoration:none;line-height:16px;display:flex;color:#5B5B62;padding:10px;justify-content:end;' href='https://deepnote.com?utm_source=created-in-deepnote-cell&projectId=c5daf6a9-77df-4bf6-8e7c-d9e1b1f200d4' target=\"_blank\">\n<img alt='Created in deepnote.com' style='display:inline;max-height:16px;margin:0px;margin-right:7.5px;' src='data:image/svg+xml;base64,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' > </img>\nCreated in <span style='font-weight:600;margin-left:4px;'>Deepnote</span></a>",
   "metadata": {
    "tags": [],
    "created_in_deepnote_cell": true,
    "deepnote_cell_type": "markdown"
   }
  }
 ],
 "nbformat": 4,
 "nbformat_minor": 2,
 "metadata": {
  "deepnoteSessionId": "dea8a0f5-35e3-4468-94eb-804ff5fc7baa",
  "kernelspec": {
   "display_name": "Python 3",
   "language": "python",
   "name": "python3"
  },
  "language_info": {
   "codemirror_mode": {
    "name": "ipython",
    "version": 3
   },
   "file_extension": ".py",
   "mimetype": "text/x-python",
   "name": "python",
   "nbconvert_exporter": "python",
   "pygments_lexer": "ipython3",
   "version": "3.7.5"
  },
  "deepnote_execution_queue": [],
  "deepnote_notebook_id": "0f460af1-1872-4aa4-804e-36716dbf15fd",
  "deepnote": {}
 }
}